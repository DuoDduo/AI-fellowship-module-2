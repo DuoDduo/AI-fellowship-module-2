{
 "cells": [
  {
   "cell_type": "markdown",
   "id": "c2498f04",
   "metadata": {},
   "source": []
  },
  {
   "cell_type": "markdown",
   "id": "eef41f84",
   "metadata": {},
   "source": [
    "### **`Understanding Numpy`**"
   ]
  },
  {
   "cell_type": "markdown",
   "id": "d30d6b68",
   "metadata": {
    "vscode": {
     "languageId": "markdown"
    }
   },
   "source": [
    "- Numpy (Numerical Python) is the foundation library for scientific computing in Python.\n",
    "- It provides a N-dimensional array object and tools for working with these arrays.\n",
    "\n",
    "- Think of Numpy as the engine that powers most data science libraries- pandas uses Numpy arrays internally, scikit-learn expects Numpy arrays for machine learning and matplotlib uses Numpy for plotting.\n",
    "\n",
    "- Numpy operations are implemented in C, making them 10-100x faster than pure python\n",
    "- NumPy arrays store data more compactly than python lists.\n",
    "- It perform operations on entire arrays without writing loops (Vectorization).\n",
    "- Foundation for pandas, scikit-learn, matplotlib, and more."
   ]
  },
  {
   "cell_type": "code",
   "execution_count": 63,
   "id": "b5944f7c",
   "metadata": {},
   "outputs": [
    {
     "name": "stdout",
     "output_type": "stream",
     "text": [
      "Numpy version: 2.3.2\n"
     ]
    }
   ],
   "source": [
    "# import all necessary libraries\n",
    "\n",
    "import numpy as np\n",
    "import matplotlib.pyplot as plt\n",
    "import time\n",
    "\n",
    "# check numpy version\n",
    "print(f\"Numpy version:\", np.__version__)\n",
    "\n",
    "# Diplay settings for cleaner output\n",
    "np.set_printoptions(precision=1, suppress=True)"
   ]
  },
  {
   "cell_type": "markdown",
   "id": "1dd12a03",
   "metadata": {},
   "source": [
    "**Creating NumPy Arrays**"
   ]
  },
  {
   "cell_type": "code",
   "execution_count": null,
   "id": "445f58fc",
   "metadata": {},
   "outputs": [],
   "source": [
    "# creating arrays from python lists\n",
    "# 1D array: A simple seauence of numbers\n",
    "arr1d = np.array([1, 2, 3, 4, 5])\n",
    "\n",
    "# 2D array: Think of this as a matrix or table with rows and columns\n",
    "arr2d = np.array([[1, 2 ,3],\n",
    "                  [4,5,6]])\n",
    "\n",
    "# 3D array: Like a stack of 2D arrays - useful for images, time series, e.t.c\n",
    "arr3d = np.array([\n",
    "                     [[1, 2], [3, 4]],\n",
    "                     [[5, 6], [7, 8]]\n",
    "                ])\n",
    "\n",
    "print(\"1D array: \", arr1d)\n",
    "print(\"2D array:\\n \", arr2d)\n",
    "print(\"3D array:\\n \", arr3d)\n"
   ]
  },
  {
   "cell_type": "markdown",
   "id": "fb4d99f4",
   "metadata": {},
   "source": [
    "When you pass a nested list to `np.array()`, NumPy automatically determines the dimensions. The 1D array is like a single row, 2D is like a spreadsheet, and 3D is like multiple spreadsheets stacked together."
   ]
  },
  {
   "cell_type": "markdown",
   "id": "49d86ac0",
   "metadata": {},
   "source": [
    "**Creating Special Arrays in Numpy**\n"
   ]
  },
  {
   "cell_type": "code",
   "execution_count": null,
   "id": "04b39649",
   "metadata": {},
   "outputs": [],
   "source": [
    "# creating arrays filled with zeros - useful for initializing arrays\n",
    "# Shape (3, 4) means 3 rows and 4 columns\n",
    "zeros = np.zeros((3,4))\n",
    "\n",
    "# creating arrays filled with ones- often used as starting points\n",
    "ones = np.ones ((2, 3, 4) ) #3D array: 2 layers, 3 rows, 4 columns\n",
    "\n",
    "# Empty array- faster than zeros/ones but contains random values\n",
    "# use when you will immediately fill the array with real data\n",
    "\n",
    "empty= np.empty((2, 3))\n",
    "\n",
    "print(\"Zeros Array (3x4): \\n\", zeros)\n",
    "print(\"Ones array shape:\\n \", ones)\n",
    "print(\"Ones array shape:\\n \", ones.shape)\n",
    "print(\"Empty array (contains random values): \\n\", empty)\n"
   ]
  },
  {
   "cell_type": "markdown",
   "id": "5a6c9946",
   "metadata": {},
   "source": [
    "`zeros()` and `ones()` are memory-efficient ways to create arrays of specific sizes. `empty()` is fastest but contains garbage values, so only use it when you will immediately overwrite the contents."
   ]
  },
  {
   "cell_type": "code",
   "execution_count": 65,
   "id": "3f991e62",
   "metadata": {},
   "outputs": [
    {
     "name": "stdout",
     "output_type": "stream",
     "text": [
      "Range array:  [0 2 4 6 8]\n",
      "Linspace array:  [0.  0.1 0.2 0.3 0.4 0.5 0.6 0.7 0.8 0.9 1.  1.1 1.2 1.3 1.4 1.5 1.6 1.7\n",
      " 1.8 1.9 2.  2.1 2.2 2.3 2.4 2.6 2.7 2.8 2.9 3.  3.1 3.2 3.3 3.4 3.5 3.6\n",
      " 3.7 3.8 3.9 4.  4.1 4.2 4.3 4.4 4.5 4.6 4.7 4.8 4.9 5. ]\n",
      "Logspace array:  [  1.    3.2  10.   31.6 100. ]\n"
     ]
    }
   ],
   "source": [
    "# Range arrays - like Python's range() but more powerful\n",
    "range_arr = np.arange(0, 10, 2) #Start, Stop, Step: [0, 2, 4, 6, 8]\n",
    "print(\"Range array: \", range_arr)\n",
    "\n",
    "# linearly spaced arrays - divide a range into equal parts\n",
    "# From 0 to 1 with exactly 5 points (including endpoints)\n",
    "linspace_arr = np.linspace(0, 5, 50)\n",
    "print(\"Linspace array: \", linspace_arr)\n",
    "\n",
    "# Logarithmically spaced arrays - useful for scientific data\n",
    "# From 10^0 to 10^2 (1 to 100) with 5 points\n",
    "logspace_arr = np.logspace(0, 2, 5)\n",
    "print(\"Logspace array: \", logspace_arr)"
   ]
  }
 ],
 "metadata": {
  "kernelspec": {
   "display_name": "new_file",
   "language": "python",
   "name": "python3"
  },
  "language_info": {
   "codemirror_mode": {
    "name": "ipython",
    "version": 3
   },
   "file_extension": ".py",
   "mimetype": "text/x-python",
   "name": "python",
   "nbconvert_exporter": "python",
   "pygments_lexer": "ipython3",
   "version": "3.13.5"
  }
 },
 "nbformat": 4,
 "nbformat_minor": 5
}
