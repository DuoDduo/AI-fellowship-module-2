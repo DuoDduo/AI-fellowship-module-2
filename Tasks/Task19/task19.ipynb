{
 "cells": [
  {
   "cell_type": "markdown",
   "id": "7c7b25ee",
   "metadata": {},
   "source": [
    "## **Chicago Crime Data Analysis** ##"
   ]
  },
  {
   "cell_type": "code",
   "execution_count": null,
   "id": "6a939738",
   "metadata": {},
   "outputs": [],
   "source": [
    "# Install required packages\n",
    "# %pip install gdown dask pyarrow"
   ]
  },
  {
   "cell_type": "markdown",
   "id": "fe4fb9b5",
   "metadata": {},
   "source": [
    "## **Dataset Setup and Loading**"
   ]
  },
  {
   "cell_type": "code",
   "execution_count": null,
   "id": "da48deb2",
   "metadata": {},
   "outputs": [],
   "source": [
    "# Import the necessary libraries\n",
    "import gdown\n",
    "import zipfile\n",
    "\n",
    "\n",
    "#libraries for data wrangling\n",
    "import pandas as pd\n",
    "import numpy as np\n",
    "\n",
    "#libraries for visualization\n",
    "import matplotlib.pyplot as plt\n",
    "import seaborn as sns\n",
    "\n",
    "\n",
    "# import dask.dataframe as dd"
   ]
  },
  {
   "cell_type": "code",
   "execution_count": null,
   "id": "094def8c",
   "metadata": {},
   "outputs": [],
   "source": [
    "#set up views\n",
    "pd.set_option('display.max_columns', None)\n",
    "pd.set_option(\"display.width\", 1000)"
   ]
  },
  {
   "cell_type": "code",
   "execution_count": null,
   "id": "7c8f4bba",
   "metadata": {},
   "outputs": [],
   "source": [
    "# Download dataset from Google Drive\n",
    "# rawlink= \"https://drive.google.com/file/d/1ib1PWK_3oaaSfThqfnfSoPZq7vA1g33X/view?usp=sharing\"\n",
    "# file_id = \"1ib1PWK_3oaaSfThqfnfSoPZq7vA1g33X\"\n",
    "# output = \"crime.zip\"\n",
    "# gdown.download(f\"https://drive.google.com/uc?id={file_id}\", output, quiet=False)"
   ]
  },
  {
   "cell_type": "code",
   "execution_count": null,
   "id": "460e6123",
   "metadata": {},
   "outputs": [],
   "source": [
    "# with zipfile.ZipFile(output, \"r\") as z:\n",
    "#     # List files\n",
    "#     print(z.namelist())\n",
    "#     z.extractall(\"crime_data\")"
   ]
  },
  {
   "cell_type": "code",
   "execution_count": null,
   "id": "77f840f6",
   "metadata": {},
   "outputs": [],
   "source": [
    "# Explicitly defining data types for each column in the Crimes dataset to reduce memory usage\n",
    "dtypes_dict = {\n",
    "    'ID': 'Int32',                 \n",
    "    'Case Number': 'string',        \n",
    "    'Block': 'string',              \n",
    "    'IUCR': 'string',              \n",
    "    'Primary Type': 'category',    \n",
    "    'Description': 'category',      \n",
    "    'Location Description': 'category', \n",
    "    'Arrest': 'boolean',              \n",
    "    'Domestic': 'boolean',             \n",
    "    'Beat': 'Int16',                \n",
    "    'District': 'Int8',             \n",
    "    'Ward': 'Int8',                \n",
    "    'Community Area': 'Int8',      \n",
    "    'FBI Code': 'category',         \n",
    "    'X Coordinate': 'float32',      \n",
    "    'Y Coordinate': 'float32',     \n",
    "    'Year': 'float64',             \n",
    "    'Latitude': 'float32',         \n",
    "    'Longitude': 'float32',        \n",
    "    'Location': 'string'            \n",
    "}\n",
    "\n",
    "crime_data = pd.read_csv(\n",
    "    \"crime_data/Crimes_-_2001_to_Present.csv\",\n",
    "    dtype=dtypes_dict,\n",
    "    parse_dates=['Date', 'Updated On'],\n",
    "    date_format=\"%m/%d/%Y %I:%M:%S %p\",\n",
    "    keep_default_na=True,\n",
    "    low_memory=False\n",
    ")\n",
    "\n",
    "\n",
    "\n",
    "# Preview the first 5 rows of the dataset\n",
    "crime_data.head()\n"
   ]
  },
  {
   "cell_type": "markdown",
   "id": "f06af761",
   "metadata": {},
   "source": [
    "## **Preliminary Data Analysis**"
   ]
  },
  {
   "cell_type": "code",
   "execution_count": null,
   "id": "8c985a08",
   "metadata": {},
   "outputs": [],
   "source": [
    "# copying the data into a new variable for wrangling\n",
    "crime_data2 = crime_data.copy()\n",
    "crime_data2.head(1)"
   ]
  },
  {
   "cell_type": "code",
   "execution_count": null,
   "id": "ba46f3b7",
   "metadata": {},
   "outputs": [],
   "source": [
    "crime_data2.info()"
   ]
  },
  {
   "cell_type": "code",
   "execution_count": null,
   "id": "8381fd12",
   "metadata": {},
   "outputs": [],
   "source": [
    "# Checking the  data types\n",
    "crime_data2.dtypes"
   ]
  },
  {
   "cell_type": "code",
   "execution_count": null,
   "id": "b9b3b0a0",
   "metadata": {},
   "outputs": [],
   "source": [
    "# Check column names\n",
    "crime_data2.columns"
   ]
  },
  {
   "cell_type": "code",
   "execution_count": null,
   "id": "4a4956d9",
   "metadata": {},
   "outputs": [],
   "source": [
    "# Preview first 5 rows\n",
    "crime_data2.head()\n"
   ]
  },
  {
   "cell_type": "code",
   "execution_count": null,
   "id": "6b499eb2",
   "metadata": {},
   "outputs": [],
   "source": [
    "# Rename all columns to lowercase and replace spaces with underscores\n",
    "crime_data2= crime_data2.rename(columns=lambda x: x.strip().lower().replace(\" \", \"_\"))"
   ]
  },
  {
   "cell_type": "code",
   "execution_count": null,
   "id": "9ec8d869",
   "metadata": {},
   "outputs": [],
   "source": [
    "# Preview updated column names\n",
    "crime_data2.columns"
   ]
  },
  {
   "cell_type": "code",
   "execution_count": null,
   "id": "824633e9",
   "metadata": {},
   "outputs": [],
   "source": [
    "# Converting the date to datetime\n",
    "crime_data2['date'] = pd.to_datetime(crime_data2['date'])"
   ]
  },
  {
   "cell_type": "code",
   "execution_count": null,
   "id": "5d16b104",
   "metadata": {},
   "outputs": [],
   "source": [
    "crime_data_type= crime_data2['date'].dtypes\n",
    "print(\"Data type\\n:\", crime_data_type)"
   ]
  },
  {
   "cell_type": "code",
   "execution_count": null,
   "id": "d0a5938c",
   "metadata": {},
   "outputs": [],
   "source": [
    "crime_data2['updated_on'] = pd.to_datetime(crime_data2['updated_on'])"
   ]
  },
  {
   "cell_type": "code",
   "execution_count": null,
   "id": "b2f33cf3",
   "metadata": {},
   "outputs": [],
   "source": [
    "updated_date_data_type= crime_data2['updated_on'].dtypes\n",
    "print(\"Updated Date Data type\\n:\", updated_date_data_type)"
   ]
  },
  {
   "cell_type": "code",
   "execution_count": null,
   "id": "c1b8c937",
   "metadata": {},
   "outputs": [],
   "source": [
    "crime_data2.head()"
   ]
  },
  {
   "cell_type": "markdown",
   "id": "e290f349",
   "metadata": {},
   "source": [
    "**Analyzing the missing data**"
   ]
  },
  {
   "cell_type": "code",
   "execution_count": null,
   "id": "782c49c8",
   "metadata": {},
   "outputs": [],
   "source": [
    "# Defining a function to analyze the mssing data\n",
    "def missing_data(crime_data2):\n",
    "    \"\"\"Analyzing missing data in the dataset\"\"\"\n",
    "\n",
    "    missing_data = pd.DataFrame({\n",
    "            'Columns': crime_data2.columns,\n",
    "            'Missing_count': crime_data2.isnull().sum(),\n",
    "            'Missing_percentage': (crime_data2.isnull().sum()/ len(crime_data2) * 100),\n",
    "            'Data_type': crime_data2.dtypes\n",
    "    })\n",
    "\n",
    "    missing_data = missing_data[missing_data['Missing_count'] > 0]. sort_values('Missing_percentage', ascending=False)\n",
    "\n",
    "    print('_____________________\\n')\n",
    "    print('Missing DATA ANALYSIS')\n",
    "    print('_____________________')\n",
    "\n",
    "    print(missing_data)\n",
    "    # Visualizing missing data\n",
    "    plt.figure(figsize=(20,10))\n",
    "    plt.bar(missing_data['Columns'], missing_data['Missing_percentage'])\n",
    "    plt.title('Missing data by column')\n",
    "    plt.xlabel('Columns')\n",
    "    plt.ylabel('Missing Percentage (%)')\n",
    "    plt.xticks(rotation=90)\n",
    "    plt.tight_layout()\n",
    "    plt.show()\n",
    "\n",
    "missing_data(crime_data2)"
   ]
  },
  {
   "cell_type": "code",
   "execution_count": null,
   "id": "d652f95a",
   "metadata": {},
   "outputs": [],
   "source": [
    "# checking for missing values\n",
    "crime_data2.isnull().sum()"
   ]
  },
  {
   "cell_type": "code",
   "execution_count": null,
   "id": "520d72e3",
   "metadata": {},
   "outputs": [],
   "source": [
    "# Dropping the missing values\n",
    "crime_data2.dropna(inplace=True)\n"
   ]
  },
  {
   "cell_type": "code",
   "execution_count": null,
   "id": "bbbc68ec",
   "metadata": {},
   "outputs": [],
   "source": [
    "#Check for missing values in each column\n",
    "crime_data.isna().sum()"
   ]
  },
  {
   "cell_type": "code",
   "execution_count": null,
   "id": "66dc13bc",
   "metadata": {},
   "outputs": [],
   "source": [
    "# checking for duplicate values\n",
    "crime_data2.duplicated().sum()"
   ]
  },
  {
   "cell_type": "code",
   "execution_count": null,
   "id": "bbff0734",
   "metadata": {},
   "outputs": [],
   "source": [
    "\n",
    "# checking for empty values\n",
    "crime_data2.empty"
   ]
  },
  {
   "cell_type": "markdown",
   "id": "c3b1876f",
   "metadata": {},
   "source": [
    "## **Exploratory Data Analysis**"
   ]
  },
  {
   "cell_type": "code",
   "execution_count": null,
   "id": "bc1e707f",
   "metadata": {},
   "outputs": [],
   "source": [
    "# checking the number of years of the data and converting the year column to Integer\n",
    "crime_data2[\"year\"] = crime_data2[\"year\"].astype(\"int\").astype(\"int\")"
   ]
  },
  {
   "cell_type": "code",
   "execution_count": null,
   "id": "e2cc6c5c",
   "metadata": {},
   "outputs": [],
   "source": [
    "# checking the years in the dataset\n",
    "crime_data_years= crime_data2[\"year\"].unique()\n",
    "print(f\"The years in the dataset are\\n{crime_data_years}\")"
   ]
  },
  {
   "cell_type": "code",
   "execution_count": null,
   "id": "25c39453",
   "metadata": {},
   "outputs": [],
   "source": [
    "# checking the number of unique years in the data\n",
    "crime_data_years_no= crime_data2[\"year\"].nunique()\n",
    "print(f\"Chicago crime dataset for {crime_data_years_no} years\\n\")"
   ]
  },
  {
   "cell_type": "code",
   "execution_count": null,
   "id": "18a4b260",
   "metadata": {},
   "outputs": [],
   "source": [
    "# Checking the size of the dataset\n",
    "crime_data2.shape"
   ]
  },
  {
   "cell_type": "code",
   "execution_count": null,
   "id": "bfe1fd9c",
   "metadata": {},
   "outputs": [],
   "source": [
    "crime_data2.info"
   ]
  },
  {
   "cell_type": "markdown",
   "id": "24344c61",
   "metadata": {},
   "source": [
    "## Descriptive Analysis (Numerical variables)\n",
    "- Using the .describe() function."
   ]
  },
  {
   "cell_type": "code",
   "execution_count": null,
   "id": "2ce3a848",
   "metadata": {},
   "outputs": [],
   "source": [
    "# Select numeric columns only \n",
    "numeric_cols = crime_data.select_dtypes(include=[\"number\"]).columns\n",
    "\n",
    "# checking the statistical summary of the data\n",
    "numeric_summary = crime_data[numeric_cols].astype(\"float64\").describe()\n",
    "\n",
    "print(\"Numeric Summary\",numeric_summary)\n",
    "\n"
   ]
  },
  {
   "cell_type": "code",
   "execution_count": null,
   "id": "7c09a39d",
   "metadata": {},
   "outputs": [],
   "source": [
    "# # extracting the year, month, week, day, hour, quarter and weekends from the dataset \n",
    "crime_data2[\"year\"]= crime_data2['date'].dt.year\n",
    "crime_data2[\"month\"] = crime_data2[\"date\"].dt.month_name()\n",
    "crime_data2['day'] = crime_data2['date'].dt.day\n",
    "crime_data2['hour'] = crime_data2['date'].dt.hour\n",
    "crime_data2['day_of_week'] = crime_data2['date'].dt.dayofweek  # 0=Monday, 6=Sunday\n",
    "crime_data2['day_name'] = crime_data2['date'].dt.day_name()\n",
    "crime_data2['month_name'] = crime_data2['date'].dt.month_name()\n",
    "crime_data2['quarter'] = crime_data2['date'].dt.quarter\n",
    "crime_data2['weekend'] = crime_data2['day_of_week'].isin([5, 6])#Saturday and Sunday\n",
    "\n",
    "# Time periods\n",
    "crime_data2['time_period'] = pd.cut(crime_data2['hour'], \n",
    "                              bins=[0, 6, 12, 18, 24], \n",
    "                              labels=['Night', 'Morning', 'Afternoon', 'Evening'],\n",
    "                              include_lowest=True)\n",
    "\n",
    "# Applying the new date features to the dataset\n",
    "print(\"Data Extracted Successfully,New Columns added\\n\")\n",
    "crime_data2.head()"
   ]
  },
  {
   "cell_type": "code",
   "execution_count": null,
   "id": "cf006aba",
   "metadata": {},
   "outputs": [],
   "source": [
    "# checking the columns in the dataset for the new columns added\n",
    "crime_data2.columns"
   ]
  },
  {
   "cell_type": "markdown",
   "id": "ed39b912",
   "metadata": {},
   "source": [
    "# Certain Crimes in the last ten years"
   ]
  },
  {
   "cell_type": "code",
   "execution_count": null,
   "id": "acad5d18",
   "metadata": {},
   "outputs": [],
   "source": [
    "# Filter the dataset for the last 10 years (2013–2023)\n",
    "crime_ten_yrs = crime_data2[crime_data2[\"year\"] >= 2013]\n",
    "crime_ten_yrs.tail(1000)"
   ]
  },
  {
   "cell_type": "code",
   "execution_count": null,
   "id": "65d93f5f",
   "metadata": {},
   "outputs": [],
   "source": [
    "# Setting 'primary_type' as the index\n",
    "# crime_ten_yrs = crime_ten_yrs.set_index(\"primary_type\")"
   ]
  },
  {
   "cell_type": "code",
   "execution_count": null,
   "id": "e3869bf1",
   "metadata": {},
   "outputs": [],
   "source": [
    "\n",
    "# Count how many unique crime types exist in the last 10years\n",
    "unique_crime_ten_yrs = crime_ten_yrs[\"primary_type\"].nunique()\n",
    "print(\"\\nThe Number of unique crime types recorded in (2013–2023):\", unique_crime_ten_yrs)\n"
   ]
  },
  {
   "cell_type": "code",
   "execution_count": null,
   "id": "560a6a29",
   "metadata": {},
   "outputs": [],
   "source": [
    "# Get the unique crime types within the last 10 years\n",
    "unique_crime_types_ten_yrs = crime_ten_yrs[\"primary_type\"].unique()\n",
    "print(\"The Unique crime types recorded from 2013–2023:\\n\", unique_crime_types_ten_yrs)"
   ]
  },
  {
   "cell_type": "code",
   "execution_count": null,
   "id": "3fec9a61",
   "metadata": {},
   "outputs": [],
   "source": [
    "\n",
    "# Getting the number of counts of each crime type in the last 10 years\n",
    "crime_type_counts_10 = crime_ten_yrs[\"primary_type\"].value_counts()\n",
    "print(\"\\nCrime type counts (2013–2023):\\n\", crime_type_counts_10)"
   ]
  },
  {
   "cell_type": "markdown",
   "id": "2d1000d9",
   "metadata": {},
   "source": [
    "# Data Visualization for all the crimes recorded in the last ten years"
   ]
  },
  {
   "cell_type": "code",
   "execution_count": null,
   "id": "7f0d97d3",
   "metadata": {},
   "outputs": [],
   "source": [
    "# Plotting a barchart for the crimes committed in the last ten years\n",
    "plt.figure(figsize=(20,10))\n",
    "bars = plt.bar(crime_ten_yrs.index, crime_ten_yrs.values, color='red')\n",
    "plt.xlabel('Crimes', fontsize=12)\n",
    "plt.ylabel('Frequency', fontsize=12)\n",
    "plt.title(\"Crimes committed in the last ten Years(2013-2023)\", weight='bold')\n",
    "plt.xticks(rotation=90)\n",
    "plt.bar_label(bars, fmt='%.0f', padding=3, fontsize=6)\n",
    "plt.show()"
   ]
  },
  {
   "cell_type": "code",
   "execution_count": null,
   "id": "2a8b72f9",
   "metadata": {},
   "outputs": [],
   "source": [
    "# top \n",
    "# Count all crime types from the index\n",
    "crime_type_counts = crime_ten_yrs.index.value_counts()\n",
    "print(\"\\nCrime type counts (2013–2023):\\n\", crime_type_counts)"
   ]
  },
  {
   "cell_type": "code",
   "execution_count": null,
   "id": "3b4fb462",
   "metadata": {},
   "outputs": [],
   "source": [
    "# Create vertical bar chart\n",
    "plt.figure(figsize=(20,10))\n",
    "bars = plt.bar(crime_type_counts.index, crime_type_counts.values, color=\"#1f77b4\")\n",
    "\n",
    "# Add chart title and labels\n",
    "plt.title(\"All Crime Types Recorded (2013–2023)\", fontsize=16, weight=\"bold\")\n",
    "plt.xlabel(\"Crime Type\", fontsize=12)\n",
    "plt.ylabel(\"Number of Records\", fontsize=12)\n",
    "\n",
    "# Rotate x labels for readability\n",
    "plt.xticks(rotation=75, ha=\"right\")\n",
    "\n",
    "# Add labels on top of bars\n",
    "plt.bar_label(bars, fmt=\"%.0f\", padding=3)\n",
    "\n",
    "# Show chart\n",
    "plt.tight_layout()\n",
    "plt.show()# "
   ]
  },
  {
   "cell_type": "markdown",
   "id": "a01b201b",
   "metadata": {},
   "source": [
    "# Top Ten Crimes in the Last Ten Years (2013-2023)"
   ]
  },
  {
   "cell_type": "code",
   "execution_count": null,
   "id": "065ac033",
   "metadata": {},
   "outputs": [],
   "source": [
    "# Sort crime counts and take Top 10\n",
    "top_crimes = crime_ten_yrs['primary_type'].value_counts().sort_values(ascending=False).head(10)\n",
    "print(\"Top ten crimes in the last ten years\\n\",top_crimes)"
   ]
  },
  {
   "cell_type": "code",
   "execution_count": null,
   "id": "ff1a2dcd",
   "metadata": {},
   "outputs": [],
   "source": [
    "# Create vertical bar chart\n",
    "plt.figure(figsize=(10,6))\n",
    "bars = plt.bar(top_crimes.index, top_crimes.values, color=\"#47b41f\")\n",
    "\n",
    "# Add chart title and labels\n",
    "plt.title(\"Top 10 Crime Types Recorded (2013–2023)\", fontsize=16, weight=\"bold\")\n",
    "plt.xlabel(\"Crime Type\", fontsize=12)\n",
    "plt.ylabel(\"Number of Records\", fontsize=12)\n",
    "\n",
    "# Rotate x labels\n",
    "plt.xticks(rotation=45, ha=\"right\")\n",
    "\n",
    "# Add value labels on top of bars\n",
    "plt.bar_label(bars, fmt=\"%.0f\", padding=3)\n",
    "\n",
    "# displaying chart\n",
    "plt.show()"
   ]
  },
  {
   "cell_type": "markdown",
   "id": "0988a66a",
   "metadata": {},
   "source": [
    "**Theft (2013-2023)**"
   ]
  },
  {
   "cell_type": "code",
   "execution_count": null,
   "id": "5462325e",
   "metadata": {},
   "outputs": [],
   "source": [
    "# selecting the theft in the last ten years\n",
    "theft = top_crimes.loc[\"THEFT\"]"
   ]
  },
  {
   "cell_type": "code",
   "execution_count": null,
   "id": "c73ba652",
   "metadata": {},
   "outputs": [],
   "source": [
    "# Getting the number of counts of each crime theft in the last 10 years\n",
    "theft_ten_yrs = crime_ten_yrs[crime_ten_yrs[\"primary_type\"] == \"THEFT\"].value_counts()\n",
    "print(\"\\nTheft recorded from (2013–2023):\\n\", theft_ten_yrs)"
   ]
  },
  {
   "cell_type": "code",
   "execution_count": null,
   "id": "a1eb6b33",
   "metadata": {},
   "outputs": [],
   "source": [
    "# grouping the theft by year\n",
    "theft_grouped_by_10yr = theft_ten_yrs.groupby(\"year\").sum().sort_values(ascending= True)\n",
    "print(\"Theft by Year:\\n\",theft_grouped_by_10yr)"
   ]
  },
  {
   "cell_type": "code",
   "execution_count": null,
   "id": "459bef41",
   "metadata": {},
   "outputs": [],
   "source": [
    "#Grouping by year and count\n",
    "theft_by_year = theft.groupby(\"year\").size()\n",
    "\n",
    "# Plotting the line chart\n",
    "plt.figure(figsize=(10,6))\n",
    "sns.lineplot(x=theft_by_year.index, y=theft_by_year.values, \n",
    "             marker=\"o\", color=\"crimson\", linewidth=2)\n",
    "\n",
    "# Adding the chart details\n",
    "plt.title(\"Theft Cases Recorded (2013–2023)\", fontsize=16, weight=\"bold\")\n",
    "plt.xlabel(\"Year\", fontsize=12)\n",
    "plt.ylabel(\"Number of Thefts\", fontsize=12)\n",
    "\n",
    "# Add grid \n",
    "plt.grid(True, linestyle=\"--\", alpha=0.6)\n",
    "\n",
    "plt.show()"
   ]
  },
  {
   "cell_type": "markdown",
   "id": "4f3b40f3",
   "metadata": {},
   "source": [
    "**BATTERY (2013-2023)**"
   ]
  },
  {
   "cell_type": "code",
   "execution_count": null,
   "metadata": {},
   "outputs": [],
   "source": [
    "# Checking the Battery in the last ten years\n",
    "battery = top_crimes.loc['BATTERY']\n",
    "print(f\"Total BATTERY crime recorded: {battery}\\n\")# \n",
    "\n",
    "# Checking the battery in the last ten years\n",
    "battery_ten_yrs = crime_ten_yrs[crime_ten_yrs['primary_type']=='BATTERY'].value_counts(ascending=True)\n",
    "print(f\"Battery recorded from 2013-2023\\n {battery_ten_yrs}\\n\")\n",
    "\n",
    "# Grouping the Battery by Year\n",
    "battery_grouped_by_10years = battery_ten_yrs.groupby('year').sum().sort_values(ascending=True)\n",
    "print(\"Battery by Year:\\n\",battery_grouped_by_10years)"
   ]
  },
  {
   "cell_type": "markdown",
   "id": "d908b462",
   "metadata": {},
   "source": [
    "**CRIMINAL DAMAGE (2013-2023)**"
   ]
  },
  {
   "cell_type": "code",
   "execution_count": null,
   "id": "708431ad",
   "metadata": {},
   "outputs": [],
   "source": [
    "# Checking the criminal_damagein the last ten years\n",
    "criminal_damage = top_crimes.loc['CRIMINAL DAMAGE']\n",
    "print(f\"Total Criminal damage recorded: {criminal_damage}\\n\")\n",
    "\n",
    "# Checking the criminal_damage in the last ten years\n",
    "criminal_damage_ten_yrs = crime_ten_yrs[crime_ten_yrs['primary_type']=='CRIMINAL DAMAGE'].value_counts(ascending=True)\n",
    "print(f\"Criminal damage recorded from 2013-2023\\n {criminal_damage_ten_yrs}\\n\")\n",
    "\n",
    "# Grouping the criminal_damage by Year\n",
    "criminal_damage_grouped_by_10years = criminal_damage_ten_yrs.groupby('year').sum().sort_values(ascending=True)\n",
    "print(\"Criminal damage by Year:\\n\",criminal_damage_grouped_by_10years)"
   ]
  },
  {
   "cell_type": "markdown",
   "id": "29d00afb",
   "metadata": {},
   "source": [
    "**ASSAULT (2013-2023)**"
   ]
  },
  {
   "cell_type": "code",
   "execution_count": null,
   "id": "db59ceea",
   "metadata": {},
   "outputs": [],
   "source": [
    "# Checking the Assault in the last ten years\n",
    "assault =top_crimes.loc['ASSAULT']\n",
    "print(f\"Total Assault recorded: {assault}\\n\")\n",
    "\n",
    "# Checking the Assault in the last ten years\n",
    "assault_ten_yrs = crime_ten_yrs[crime_ten_yrs['primary_type']=='ASSAULT'].value_counts(ascending=True)\n",
    "print(f\"Assault recorded from 2013-2023\\n {assault_ten_yrs}\\n\")\n",
    "\n",
    "# Grouping the Assault by Year\n",
    "assault_grouped_by_10years = assault_ten_yrs.groupby('year').sum().sort_values(ascending=True)\n",
    "print(\"Assault by Year:\\n\",assault_grouped_by_10years)"
   ]
  },
  {
   "cell_type": "markdown",
   "id": "657651bb",
   "metadata": {},
   "source": [
    "**OTHER OFFENSE (2013-2023)**"
   ]
  },
  {
   "cell_type": "code",
   "execution_count": null,
   "id": "213ae842",
   "metadata": {},
   "outputs": [],
   "source": [
    "# Checking the other offence in the last ten years\n",
    "other_offence = top_crimes.loc['ASSAULT']\n",
    "print(f\"Total other offences recorded: {other_offence}\\n\")\n",
    "\n",
    "# Checking the other offence  in the last ten years\n",
    "other_off_ten_yrs = crime_ten_yrs[crime_ten_yrs['primary_type']=='ASSAULT'].value_counts(ascending=True)\n",
    "print(f\"Other offence  recorded from 2013-2023\\n {other_off_ten_yrs}\\n\")\n",
    "\n",
    "other_off_grouped_by_10years = assault_ten_yrs.groupby('year').sum().sort_values(ascending=True)\n",
    "print(\"Other offence  by Year:\\n\", other_off_grouped_by_10years)"
   ]
  },
  {
   "cell_type": "markdown",
   "id": "509ea364",
   "metadata": {},
   "source": [
    "**DECEPTIVE PRACTICE (2013-2023)**"
   ]
  },
  {
   "cell_type": "code",
   "execution_count": null,
   "id": "7303400c",
   "metadata": {},
   "outputs": [],
   "source": [
    "# Checking the Deceptive Practice in the last ten years\n",
    "decep_practice = top_crimes.loc['ASSAULT']\n",
    "print(f\"Total Deceptive Practice recorded: {decep_practice }\\n\")\n",
    "\n",
    "# Checking the other offence  in the last ten years\n",
    "decep_practice_ten_yrs = crime_ten_yrs[crime_ten_yrs['primary_type']=='ASSAULT'].value_counts(ascending=True)\n",
    "print(f\"Deceptive Practice recorded from 2013-2023\\n {decep_practice_ten_yrs}\\n\")\n",
    "\n",
    "decep_practice_grouped_by_10years = assault_ten_yrs.groupby('year').sum().sort_values(ascending=True)\n",
    "print(\"Deceptive Practice  by Year:\\n\", decep_practice_grouped_by_10years)"
   ]
  },
  {
   "cell_type": "code",
   "execution_count": null,
   "id": "c81306b1",
   "metadata": {},
   "outputs": [],
   "source": [
    "# Plotting all the top ten crimes recorded over the last ten years using matplolib\n",
    "def create_crime_visualizations(crime_ten_yrs):\n",
    "    \n",
    "    \"\"\" create visualizations\"\"\"\n",
    "    import matplotlib.pyplot as plt\n",
    "    plt.style.use('seaborn-v0_8')\n",
    "    fig, axes = plt.subplots(2, 3, figsize=(18, 12))\n",
    "    fig.suptitle('Chicago Crime Data Analysis Dashboard', fontsize=16, fontweight='bold')\n",
    "\n",
    "    # 1. Theft recorded over ten years\n",
    "    theft_grouped_by_10yr.plot(kind='bar', ax=axes[0,0], color='red')\n",
    "    axes[0,0].set_title('Theft over ten years')\n",
    "    axes[0,0].set_xlabel('Theft by Year')\n",
    "    axes[0,0].set_ylabel('Frequency')\n",
    "    axes[0,0].grid(True, alpha=0.3)\n",
    "\n",
    "    # 2. Battery recorded over ten years\n",
    "    battery_grouped_by_10years.plot(kind='barh', ax=axes[0,1], color='black')\n",
    "    axes[0,1].set_title('Battery over ten years')\n",
    "    axes[0,1].set_xlabel('Battery by Year')\n",
    "    axes[0,1].set_ylabel('Frequency')\n",
    "    axes[0,1].grid(True, alpha=0.3)\n",
    "\n",
    "    # 3. Criminal damage recorded over ten years\n",
    "    criminal_damage_grouped_by_10years.plot(kind='barh', ax=axes[0,2], color='orange')\n",
    "    axes[0,2].set_title('Criminal damage over ten years')\n",
    "    axes[0,2].set_xlabel('Criminal damage by Year')\n",
    "    axes[0,2].set_ylabel('Frequency')\n",
    "    axes[0,2].grid(True, alpha=0.3)\n",
    "    \n",
    "    # 4. Assault recorded over ten years\n",
    "    assault_grouped_by_10years.plot(kind='barh', ax=axes[1,0], color='blue')\n",
    "    axes[1,0].set_title('Assault damage over ten years')\n",
    "    axes[1,0].set_xlabel('Assault damage by Year')\n",
    "    axes[1,0].set_ylabel('Frequency')\n",
    "    axes[1,0].grid(True, alpha=0.3)\n",
    "\n",
    "    # 5. Othher Offence recorded over ten years\n",
    "    other_off_grouped_by_10years.plot(kind='barh', ax=axes[1,1], color='green')\n",
    "    axes[1,1].set_title('Other Offence over ten years')\n",
    "    axes[1,1].set_xlabel('Other Offence by Year')\n",
    "    axes[1,1].set_ylabel('Frequency')\n",
    "    axes[1,1].grid(True, alpha=0.3)\n",
    "\n",
    "    # 6. Deceptive Practice recorded over ten years\n",
    "    decep_practice_grouped_by_10years.plot(kind='barh', ax=axes[1,2], color='maroon')\n",
    "    axes[1,2].set_title('Deceptive Practice over ten years')\n",
    "    axes[1,2].set_xlabel('Deceptive Practice by Year')\n",
    "    axes[1,2].set_ylabel('Frequency')\n",
    "    axes[1,2].grid(True, alpha=0.3)\n",
    "\n",
    "    plt.tight_layout()\n",
    "    plt.show()"
   ]
  },
  {
   "cell_type": "code",
   "execution_count": null,
   "id": "b8775e6e",
   "metadata": {},
   "outputs": [],
   "source": [
    "create_crime_visualizations(crime_ten_yrs)"
   ]
  }
 ],
 "metadata": {
  "kernelspec": {
   "display_name": "my_venv (3.13.5)",
   "language": "python",
   "name": "python3"
  },
  "language_info": {
   "codemirror_mode": {
    "name": "ipython",
    "version": 3
   },
   "file_extension": ".py",
   "mimetype": "text/x-python",
   "name": "python",
   "nbconvert_exporter": "python",
   "pygments_lexer": "ipython3",
   "version": "3.13.5"
  }
 },
 "nbformat": 4,
 "nbformat_minor": 5
}
