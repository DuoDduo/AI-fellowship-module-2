{
 "cells": [
  {
   "cell_type": "markdown",
   "id": "0fca8608",
   "metadata": {},
   "source": [
    "## **Mean, Median & Mode** ##\n"
   ]
  },
  {
   "cell_type": "markdown",
   "id": "186f7c89",
   "metadata": {},
   "source": [
    "## **Question 1: Class Test Scores**\n",
    "\n",
    "- The following are the Mathematics test scores (out of 20) for a class of 15 students:\n",
    "\n",
    "   `5, 8, 10, 12, 12, 12, 13, 14, 14, 15, 16, 18, 18, 20, 20`\n",
    "- Find the mean, median, and mode of the scores.\n",
    "\n",
    "\n",
    "- If the lowest score (5) was wrongly recorded and should have been 10, how would the mean change?  \n",
    "- Would the median or mode change? Explain.\n"
   ]
  },
  {
   "cell_type": "markdown",
   "id": "51ae7426",
   "metadata": {},
   "source": [
    "**Finding the Mean**\n",
    "\n",
    "  `student_score = 5, 8, 10, 12, 12, 12, 13, 14, 14, 15, 16, 18, 18, 20, 20`\n",
    "  \n",
    "  `number of students = 15`\n",
    "  ```\n",
    "     mean of student scores (μ) = sum of scores / number of students\n",
    "                            (μ) = (5 + 8 + 10 + 12 + 12 + 12 + 13 + 14 + 14 + 15 + 16 + 18 + 18 + 20 + 20)/ 15\n",
    "                                = 207 / 15\n",
    "                            (μ) = 13.8 \n",
    "```  \n",
    "\n"
   ]
  },
  {
   "cell_type": "markdown",
   "id": "5fc1f73a",
   "metadata": {},
   "source": [
    "**Finding the Median**\n",
    "\n",
    "  `student_score = 5, 8, 10, 12, 12, 12, 13, 14, 14, 15, 16, 18, 18, 20, 20`\n",
    "  \n",
    "  `number of students = 15`\n",
    "  ```\n",
    "    Step 1: Sorting the data in ascending order: \n",
    "            (5, 8, 10, 12, 12, 12, 13, 14, 14, 15, 16, 18, 18, 20, 20)\n",
    "\n",
    "    Step 2: Finding the middle number: 14\n",
    "             Median of Test Scores = 14\n",
    "    \n",
    "  ```  "
   ]
  },
  {
   "cell_type": "markdown",
   "id": "b761ed46",
   "metadata": {},
   "source": [
    "**Finding the Mode**\n",
    "\n",
    "  `student_score = 5, 8, 10, 12, 12, 12, 13, 14, 14, 15, 16, 18, 18, 20, 20`\n",
    "  \n",
    "  ```\n",
    "    Check for the most common value in the dataset: \n",
    "            Most frequent data in the dataset = 12\n",
    "            Mode of Test Scores = 12\n",
    "  ```\n",
    "   \n",
    "\n"
   ]
  },
  {
   "cell_type": "markdown",
   "id": "9915af48",
   "metadata": {},
   "source": [
    "**If the lowest score (5) was wrongly recorded and should have been 10, how would the mean change?**  \n",
    "- Would the median or mode change? Explain.\n",
    "\n",
    "- Assuming lowest score of 5 was wrongly recorded\n",
    "\n",
    "  `student_score = 5, 8, 10, 12, 12, 12, 13, 14, 14, 15, 16, 18, 18, 20, 20`\n",
    "  `new_student_score: = 10, 8, 10, 12, 12, 12, 13, 14, 14, 15, 16, 18, 18, 20, 20`\n",
    "\n",
    "- New Mean\n",
    "\n",
    "   ```\n",
    "    New mean of student scores (μ) = sum of scores / number of students\n",
    "                          (μ) = (10 + 8 + 10 + 12 + 12 + 12 + 13 + 14 + 14 + 15 + 16 + 18 + 18 + 20 + 20)/ 15\n",
    "                              = 212/ 15\n",
    "                          (μ) = 14.13 \n",
    "    The new mean of the student scores is 14.13 \n",
    "\n",
    "  The mean of the student score changed after replacing one of the test scores because the mean uses all values in the dataset, the mean is sensitive to extreme values and there is only one unique mean for a dataset.\n",
    "- New Median\n",
    "    ```\n",
    "      Step 1: Sorting the data in ascending order: \n",
    "              old_order = 5, 8, 10, 12, 12, 12, 13, 14, 14, 15, 16, 18, 18, 20, 20\n",
    "              new_order = 8, 10, 10, 12, 12, 12, 13, 14, 14, 15, 16, 18, 18, 20, 20\n",
    "\n",
    "      Step 2: Finding the middle number: 14\n",
    "              Median of Test Scores = 14\n",
    "       \n",
    "    The median of the new student score after updating and sorting the dataset remains the same because median is not affected by extreme values (outliers) and the total number of students remain unchanged.\n",
    "\n",
    "- New Mode\n",
    "  ```\n",
    "\n",
    "   student_score = 5, 8, 10, 12, 12, 12, 13, 14, 14, 15, 16, 18, 18, 20, 20\n",
    "   new_student_score: = 10, 8, 10, 12, 12, 12, 13, 14, 14, 15, 16, 18, 18, 20, 20\n",
    "  \n",
    "    Check for the most common value in the dataset: \n",
    "            Most frequent data in the dataset = 12\n",
    "            Mode of Test Scores = 12\n",
    "  \n",
    "    The mode of the student score stays the same as the newly replaced score doesn't occur most frequently in the data set. \n"
   ]
  },
  {
   "cell_type": "markdown",
   "id": "775e15a4",
   "metadata": {},
   "source": [
    "## **Question 2: Daily Commute Times**\n",
    "A group of 9 students reported the time (in minutes) it takes them to get to school each day:\n",
    "\n",
    " `15, 20, 20, 25, 25, 30, 60, 65, 120`\n",
    "- Find the mean, median, and mode of the data.\n",
    "\n",
    "\n",
    "- Which measure (mean, median, or mode) do you think best represents the “typical” time it takes   students to get to school? Why?\n",
    "- (Hint: Think about the effect of the student who takes 120 minutes.)\n"
   ]
  },
  {
   "cell_type": "markdown",
   "id": "6587b1e8",
   "metadata": {},
   "source": [
    "**Finding the Mean**\n",
    "\n",
    "  `commute_times = 15, 20, 20, 25, 25, 30, 60, 65, 120`\n",
    "  \n",
    "  `number of students = 9`\n",
    "  ```\n",
    "     mean of student daily commute times (μ) = sum of commute times / number of students\n",
    "                            (μ) = (15 + 20 + 20 + 25 + 25 + 30 + 60 + 65 + 120)/ 9\n",
    "                                = 380 / 9\n",
    "                            (μ) = 42.2\n",
    "```  \n",
    "\n"
   ]
  },
  {
   "cell_type": "markdown",
   "id": "9effba0e",
   "metadata": {},
   "source": [
    "**Finding the Median**\n",
    "\n",
    "`commute_times = 15, 20, 20, 25, 25, 30, 60, 65, 120`\n",
    "  \n",
    "  `number of students = 19`\n",
    "  ```\n",
    "    Step 1: Sorting the data in ascending order: \n",
    "             15, 20, 20, 25, 25, 30, 60, 65, 120\n",
    "\n",
    "    Step 2: Finding the middle number: 25\n",
    "             Median of Student Commute times = 25\n",
    "    \n",
    "  ```  "
   ]
  },
  {
   "cell_type": "markdown",
   "id": "d552deb6",
   "metadata": {},
   "source": [
    "**Finding the Mode**\n",
    "\n",
    " `commute_times = 15, 20, 20, 25, 25, 30, 60, 65, 120`\n",
    "  \n",
    "  ```\n",
    "    Check for the most common value in the dataset: \n",
    "            Most frequent data in the dataset = 20 and 25\n",
    "            Mode of Students Commute Times = 20 and 25 (bimodal; both occur twice)\n",
    "  ```\n",
    "   \n",
    "\n"
   ]
  },
  {
   "cell_type": "markdown",
   "id": "7aba58cf",
   "metadata": {},
   "source": [
    "- Which measure (mean, median, or mode) do you think best represents the “typical” time it takes   students to get to school? Why?\n",
    "\n",
    "- Answer\n",
    "   - The median best represents the typical time it takes for a students to get to school because at least 50% of the students commute time is less than or equal to the median which is 25. Mean doesn't represents the typical time as it is sensitive to extreme values (outliers) and the dataset contains an outlier which is 120.\n",
    "\n"
   ]
  },
  {
   "cell_type": "markdown",
   "id": "dd3e5aac",
   "metadata": {},
   "source": [
    "## **Question 3: Shoe Sizes**\n",
    "The shoe sizes of students in a class are:\n",
    "\n",
    " `38, 39, 38, 40, 41, 42, 39, 39, 40, 38, 37, 39, 40, 41, 42`\n",
    "- Find the mode of the data.\n",
    "\n",
    "\n",
    "- If a shoe company wants to donate free shoes, which size should they produce most of? Why?\n",
    "\n",
    "\n",
    "- What if they only want to produce one size that would fit the \"average\" student? Should they use mean, median, or mode? \n",
    "- Defend your answer.\n",
    "\n",
    "\n"
   ]
  },
  {
   "cell_type": "markdown",
   "id": "e89d6dbf",
   "metadata": {},
   "source": [
    "**Finding the Mode**\n",
    "\n",
    "`shoe_sizes = 38, 39, 38, 40, 41, 42, 39, 39, 40, 38, 37, 39, 40, 41, 42`\n",
    "  \n",
    "  ```\n",
    "    Check for the most common value in the dataset:\n",
    "            shoe_sizes = 37, 38, 38, 38, 39, 39, 39, 39, 40, 40, 40, 41, 41, 42, 42 \n",
    "            Most frequent data in the dataset = 39 (appeared 4 times)\n",
    "            Mode of Students Shoe Sizes = 39 (unimodal)\n",
    "  ```\n",
    "   \n",
    "The Mode of Students Shoe Sizes = 39 (unimodal)\n"
   ]
  },
  {
   "cell_type": "markdown",
   "id": "6ff58de9",
   "metadata": {},
   "source": [
    "\n",
    "- If a shoe company wants to donate free shoes, which size should they produce most of? Why?\n",
    "    - Answer\n",
    "\n",
    "        If a shoe company wants to donate free shoes to the school, they will produce more of `size 39`becuase the most frequent size worn  by the students is `size 39` ."
   ]
  },
  {
   "cell_type": "markdown",
   "id": "e912ce94",
   "metadata": {},
   "source": [
    "What if they only want to produce one size that would fit the \"average\" student? Should they use mean, median, or mode? Defend your answer.\n",
    "\n",
    "- Finding the Mean\n",
    "\n",
    "  `shoe_sizes = 38, 39, 38, 40, 41, 42, 39, 39, 40, 38, 37, 39, 40, 41, 42`\n",
    "  \n",
    "  `number of students = 15`\n",
    "  ```\n",
    "     mean of student shoe sizes (μ) = sum of student shoe sizes / number of students\n",
    "                            (μ) = (38 + 39 + 38 + 40 + 41 + 42 + 39 + 39 + 40 + 38 + 37 + 39 + 40 + 41 + 42)/ 15\n",
    "                                = 593 / 15\n",
    "                            (μ) = 39.53\n",
    "\n",
    "\n",
    " The mean of student shoe sizes is 39.53    \n",
    "\n",
    " \n",
    "- Finding the Median\n",
    "``` \n",
    "shoe_sizes = 38, 39, 38, 40, 41, 42, 39, 39, 40, 38, 37, 39, 40, 41, 42\n",
    "  \n",
    "  number of students = 15\n",
    "      ```\n",
    "        Step 1: Sorting the data in ascending order: \n",
    "                37, 38, 38, 38, 39, 39, 39, 39, 40, 40, 40, 41, 41, 42, 42 \n",
    "\n",
    "        Step 2: Finding the middle number: 39\n",
    "                Median of Student Commute times = 39\n",
    "\n",
    "  The Median of student shoe sizes is 39 \n",
    "\n",
    "\n",
    "- If the company wants to produce only one size that would fit the average students, they will use the mode as it represents the most frequently occurring shoe size in the dataset, which would fit the largest number of students. An average "
   ]
  }
 ],
 "metadata": {
  "kernelspec": {
   "display_name": "my_venv (3.13.5)",
   "language": "python",
   "name": "python3"
  },
  "language_info": {
   "codemirror_mode": {
    "name": "ipython",
    "version": 3
   },
   "file_extension": ".py",
   "mimetype": "text/x-python",
   "name": "python",
   "nbconvert_exporter": "python",
   "pygments_lexer": "ipython3",
   "version": "3.13.5"
  }
 },
 "nbformat": 4,
 "nbformat_minor": 5
}
