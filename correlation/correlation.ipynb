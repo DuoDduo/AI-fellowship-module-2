{
 "cells": [
  {
   "cell_type": "markdown",
   "id": "524f1096",
   "metadata": {},
   "source": [
    "## **Correlation**"
   ]
  },
  {
   "cell_type": "markdown",
   "id": "76288ac9",
   "metadata": {},
   "source": [
    "**Correlation in Codes**"
   ]
  },
  {
   "cell_type": "code",
   "execution_count": 1,
   "id": "08cff4bf",
   "metadata": {},
   "outputs": [],
   "source": [
    "# importing neccessary llibraries\n",
    "import pandas as pd\n",
    "import numpy as np\n",
    "import matplotlib.pyplot as plt\n",
    "import seaborn as sns\n",
    "\n",
    "# setting seed for reproducibility\n",
    "np.random.seed(234)"
   ]
  },
  {
   "cell_type": "code",
   "execution_count": 2,
   "id": "2737d13f",
   "metadata": {},
   "outputs": [],
   "source": [
    "# creating a synthetic dataset\n",
    "\n",
    "students = 40\n",
    "study_hours = np.random.randint(1, 10, students) # 1 to 9hours study\n",
    "job_hours = np.random.randint(0, 15, students) # 0 to 14hours job\n",
    "sleep_hours = np.random.randint(4, 9, students) # 4 to 8 hours sleep\n",
    "extra_curricular = np.random.randint(0, 6, students) # 0 to 5hrs activities\n",
    "\n",
    "\n",
    "# Exam score: positively influenced by study & sleep, negatively by job & extra activities\n",
    "exam_score = (40 \n",
    "              + 5 * study_hours # strong positive\n",
    "              + 2 * sleep_hours # mild positive\n",
    "              - 3 * job_hours   # strong negative\n",
    "              - 1 * extra_curricular # mild negative\n",
    "              + np.random.randint(-5, 5, students))\n",
    "\n",
    "\n",
    "data = pd.DataFrame(\n",
    "    {\n",
    "        \"study_hours\": study_hours,\n",
    "        \"job_hours\": job_hours,\n",
    "        \"sleep_hours\": sleep_hours,\n",
    "        \"extra_curricular_hours\": extra_curricular,\n",
    "        \"exam_score\": exam_score\n",
    "    })"
   ]
  },
  {
   "cell_type": "code",
   "execution_count": 3,
   "id": "abfe0a9c",
   "metadata": {},
   "outputs": [
    {
     "data": {
      "text/html": [
       "<div>\n",
       "<style scoped>\n",
       "    .dataframe tbody tr th:only-of-type {\n",
       "        vertical-align: middle;\n",
       "    }\n",
       "\n",
       "    .dataframe tbody tr th {\n",
       "        vertical-align: top;\n",
       "    }\n",
       "\n",
       "    .dataframe thead th {\n",
       "        text-align: right;\n",
       "    }\n",
       "</style>\n",
       "<table border=\"1\" class=\"dataframe\">\n",
       "  <thead>\n",
       "    <tr style=\"text-align: right;\">\n",
       "      <th></th>\n",
       "      <th>study_hours</th>\n",
       "      <th>job_hours</th>\n",
       "      <th>sleep_hours</th>\n",
       "      <th>extra_curricular_hours</th>\n",
       "      <th>exam_score</th>\n",
       "    </tr>\n",
       "  </thead>\n",
       "  <tbody>\n",
       "    <tr>\n",
       "      <th>0</th>\n",
       "      <td>9</td>\n",
       "      <td>10</td>\n",
       "      <td>4</td>\n",
       "      <td>2</td>\n",
       "      <td>56</td>\n",
       "    </tr>\n",
       "    <tr>\n",
       "      <th>1</th>\n",
       "      <td>5</td>\n",
       "      <td>9</td>\n",
       "      <td>5</td>\n",
       "      <td>1</td>\n",
       "      <td>46</td>\n",
       "    </tr>\n",
       "    <tr>\n",
       "      <th>2</th>\n",
       "      <td>2</td>\n",
       "      <td>0</td>\n",
       "      <td>6</td>\n",
       "      <td>3</td>\n",
       "      <td>57</td>\n",
       "    </tr>\n",
       "    <tr>\n",
       "      <th>3</th>\n",
       "      <td>4</td>\n",
       "      <td>10</td>\n",
       "      <td>6</td>\n",
       "      <td>5</td>\n",
       "      <td>37</td>\n",
       "    </tr>\n",
       "    <tr>\n",
       "      <th>4</th>\n",
       "      <td>8</td>\n",
       "      <td>8</td>\n",
       "      <td>7</td>\n",
       "      <td>1</td>\n",
       "      <td>69</td>\n",
       "    </tr>\n",
       "  </tbody>\n",
       "</table>\n",
       "</div>"
      ],
      "text/plain": [
       "   study_hours  job_hours  sleep_hours  extra_curricular_hours  exam_score\n",
       "0            9         10            4                       2          56\n",
       "1            5          9            5                       1          46\n",
       "2            2          0            6                       3          57\n",
       "3            4         10            6                       5          37\n",
       "4            8          8            7                       1          69"
      ]
     },
     "execution_count": 3,
     "metadata": {},
     "output_type": "execute_result"
    }
   ],
   "source": [
    "# previewing the first 5 rows\n",
    "data.head()"
   ]
  },
  {
   "cell_type": "code",
   "execution_count": 4,
   "id": "3483d6c6",
   "metadata": {},
   "outputs": [
    {
     "data": {
      "text/html": [
       "<div>\n",
       "<style scoped>\n",
       "    .dataframe tbody tr th:only-of-type {\n",
       "        vertical-align: middle;\n",
       "    }\n",
       "\n",
       "    .dataframe tbody tr th {\n",
       "        vertical-align: top;\n",
       "    }\n",
       "\n",
       "    .dataframe thead th {\n",
       "        text-align: right;\n",
       "    }\n",
       "</style>\n",
       "<table border=\"1\" class=\"dataframe\">\n",
       "  <thead>\n",
       "    <tr style=\"text-align: right;\">\n",
       "      <th></th>\n",
       "      <th>study_hours</th>\n",
       "      <th>job_hours</th>\n",
       "      <th>sleep_hours</th>\n",
       "      <th>extra_curricular_hours</th>\n",
       "      <th>exam_score</th>\n",
       "    </tr>\n",
       "  </thead>\n",
       "  <tbody>\n",
       "    <tr>\n",
       "      <th>study_hours</th>\n",
       "      <td>1.000000</td>\n",
       "      <td>-0.136551</td>\n",
       "      <td>-0.006383</td>\n",
       "      <td>-0.114442</td>\n",
       "      <td>0.694048</td>\n",
       "    </tr>\n",
       "    <tr>\n",
       "      <th>job_hours</th>\n",
       "      <td>-0.136551</td>\n",
       "      <td>1.000000</td>\n",
       "      <td>0.188992</td>\n",
       "      <td>0.209991</td>\n",
       "      <td>-0.782525</td>\n",
       "    </tr>\n",
       "    <tr>\n",
       "      <th>sleep_hours</th>\n",
       "      <td>-0.006383</td>\n",
       "      <td>0.188992</td>\n",
       "      <td>1.000000</td>\n",
       "      <td>0.158029</td>\n",
       "      <td>-0.035653</td>\n",
       "    </tr>\n",
       "    <tr>\n",
       "      <th>extra_curricular_hours</th>\n",
       "      <td>-0.114442</td>\n",
       "      <td>0.209991</td>\n",
       "      <td>0.158029</td>\n",
       "      <td>1.000000</td>\n",
       "      <td>-0.276837</td>\n",
       "    </tr>\n",
       "    <tr>\n",
       "      <th>exam_score</th>\n",
       "      <td>0.694048</td>\n",
       "      <td>-0.782525</td>\n",
       "      <td>-0.035653</td>\n",
       "      <td>-0.276837</td>\n",
       "      <td>1.000000</td>\n",
       "    </tr>\n",
       "  </tbody>\n",
       "</table>\n",
       "</div>"
      ],
      "text/plain": [
       "                        study_hours  job_hours  sleep_hours  \\\n",
       "study_hours                1.000000  -0.136551    -0.006383   \n",
       "job_hours                 -0.136551   1.000000     0.188992   \n",
       "sleep_hours               -0.006383   0.188992     1.000000   \n",
       "extra_curricular_hours    -0.114442   0.209991     0.158029   \n",
       "exam_score                 0.694048  -0.782525    -0.035653   \n",
       "\n",
       "                        extra_curricular_hours  exam_score  \n",
       "study_hours                          -0.114442    0.694048  \n",
       "job_hours                             0.209991   -0.782525  \n",
       "sleep_hours                           0.158029   -0.035653  \n",
       "extra_curricular_hours                1.000000   -0.276837  \n",
       "exam_score                           -0.276837    1.000000  "
      ]
     },
     "execution_count": 4,
     "metadata": {},
     "output_type": "execute_result"
    }
   ],
   "source": [
    "# computing the correlation coefficient for each date feature\n",
    "corr_coefficients = data.corr()\n",
    "corr_coefficients"
   ]
  },
  {
   "cell_type": "code",
   "execution_count": 5,
   "id": "03c39b53",
   "metadata": {},
   "outputs": [
    {
     "data": {
      "text/plain": [
       "Index(['study_hours', 'job_hours', 'sleep_hours', 'extra_curricular_hours',\n",
       "       'exam_score'],\n",
       "      dtype='object')"
      ]
     },
     "execution_count": 5,
     "metadata": {},
     "output_type": "execute_result"
    }
   ],
   "source": [
    "data.columns"
   ]
  },
  {
   "cell_type": "markdown",
   "id": "0b232e82",
   "metadata": {},
   "source": [
    "### **Plotting the relationship on a scatter plot**"
   ]
  },
  {
   "cell_type": "code",
   "execution_count": 6,
   "id": "71f1ec1e",
   "metadata": {},
   "outputs": [
    {
     "data": {
      "image/png": "[encoded data removed]",
      "text/plain": [
       "<Figure size 1200x500 with 2 Axes>"
      ]
     },
     "metadata": {},
     "output_type": "display_data"
    }
   ],
   "source": [
    "# plotting positive and negative examples\n",
    "plt.figure(figsize = (12, 5))\n",
    "\n",
    "# positive correlations: Study VS Score\n",
    "plt.subplot(1, 2, 1)\n",
    "sns.scatterplot(x= \"study_hours\", y= \"exam_score\", data = data, color =\"blue\")\n",
    "plt.title(\"Positive Correlation: \\n Study Hours vs Exam Score\", fontsize = 14)\n",
    "plt.xlabel(\"Study Hours\")\n",
    "plt.ylabel(\"Exam Score\")\n",
    "plt.text(2, max(data['exam_score'])-5, f\"r = {corr_coefficients.loc['study_hours','exam_score']:.2f}\",\n",
    "         fontsize=12, color=\"darkred\", bbox=dict(facecolor='white', edgecolor='red'))\n",
    "plt.grid(True, linestyle = \"--\", alpha = 0.6)\n",
    "\n",
    "# Negative correlation: Job vs Score\n",
    "plt.subplot(1,2,2)\n",
    "sns.scatterplot(x=\"job_hours\", y=\"exam_score\", data = data, color = \"green\")\n",
    "plt.title(\"Negative Correlation:\\n Job Hours vs Exam Score\", fontsize = 14)\n",
    "plt.xlabel(\"Part-Time Job Hours\")\n",
    "plt.ylabel(\"Exam Score\")\n",
    "plt.text(5, max(data['exam_score'])-5, f\"r = {corr_coefficients.loc['job_hours','exam_score']:.2f}\",\n",
    "         fontsize=12, color=\"darkred\", bbox=dict(facecolor='white', edgecolor='red'))\n",
    "plt.grid(True, linestyle=\"--\", alpha=0.6)\n",
    "\n",
    "plt.tight_layout()\n",
    "plt.show()"
   ]
  },
  {
   "cell_type": "code",
   "execution_count": null,
   "id": "5203fa4c",
   "metadata": {},
   "outputs": [],
   "source": []
  },
  {
   "cell_type": "markdown",
   "id": "e1b65256",
   "metadata": {},
   "source": [
    "### **Regression**"
   ]
  },
  {
   "cell_type": "markdown",
   "id": "fd858e77",
   "metadata": {},
   "source": [
    "Correlation shows whether variables move together while regression explains how much and how significantly they move together.\n",
    "\n",
    "Regression analysis is a statistical method used to:\n",
    "\n",
    "1. Quantify the relationship between a dependent variable (the outcome) and one or more independent variables (the predictors).\n",
    "\n",
    "2. Predict the value of the dependent variable based on the values of the independent variables.\n",
    "\n",
    "- Mathematically, it is about finding the best-fitting line through data points.\n",
    "\n",
    "```python\n",
    "Y = β0 +  β1x + ε\n",
    "\n",
    "```\n",
    "Y is dependent (outcome) variable (e.g., exam score)\n",
    "\n",
    "X is independent (predictor) variable (e.g., study hours)\n",
    "\n",
    "β₀ is intercept (value of Y when X = 0)\n",
    "\n",
    "β₁ is slope or coefficient (how much Y changes when X increases by 1 unit) in simple terms it measure how much Y changes with X.\n",
    "\n",
    "ε is error term (random noise not explained by X)\n",
    "\n",
    "Regression doesn't just say \"studying and scores are related\" (that's correlation). It says \"each hour of studying is associated with a 5-point increase in scores\" – giving you actionable, quantified insights.\n"
   ]
  },
  {
   "cell_type": "markdown",
   "id": "4adb7306",
   "metadata": {},
   "source": [
    "Lets put it in plain English\n",
    "\n",
    "If we plot students’ study hours vs exam scores:\n",
    "\n",
    "_We may see that as study hours increase, exam scores increase._\n",
    "\n",
    "- Regression fits a line through the data points that best describes this upward trend.\n",
    "\n",
    "- The slope (β₁) tells us how strong the relationship is in actual units (not just direction like correlation).\n",
    "\n",
    "- The slope says: \"For each extra hour studied, scores increase by 5 points\" (precise units)"
   ]
  },
  {
   "cell_type": "markdown",
   "id": "066c00ea",
   "metadata": {},
   "source": [
    "| Component | Name | What it means | Example |\n",
    "|-----------|------|---------------|---------|\n",
    "| **Y** | Dependent variable | The outcome you're trying to predict | Exam score |\n",
    "| **X** | Independent variable | The factor you think affects the outcome | Study hours |\n",
    "| **β₀** | Intercept | Starting value of Y when X = 0 | Your baseline score with zero study |\n",
    "| **β₁** | Slope (coefficient) | How much Y changes for each 1-unit increase in X | \"Each hour of study increases score by 5 points\" |\n",
    "| **ε** | Error term | Random variation not explained by X | Natural day-to-day fluctuations |"
   ]
  },
  {
   "cell_type": "markdown",
   "id": "607ef85d",
   "metadata": {},
   "source": [
    "**Types of Regression**\n",
    "1. Simple Linear Regression  - One independent variable\n",
    "\n",
    " - `Y = β0 ​+ β1​X + ε`\n",
    "\n",
    "2. Multiple Linear Regression - Two or more independent variables\n",
    " - `Y =β0 ​+ β1​X1 ​+ β2​X2​ + ⋯ + ε`\n"
   ]
  },
  {
   "cell_type": "markdown",
   "id": "782a80ab",
   "metadata": {},
   "source": [
    "**OLS (Ordinary Least Squares)**"
   ]
  },
  {
   "cell_type": "markdown",
   "id": "7ed5782e",
   "metadata": {},
   "source": [
    "\n",
    "\n",
    "OLS finds the best-fit line by minimizing the sum of squared errors, it is said to be The Engine Behind Regression.\n",
    "\n",
    "It is computed as;\n",
    "\n",
    "`Residual or error =(𝑌actual −𝑌predicted)**2`\n",
    "\n",
    "\n",
    "- It ensures the line we draw is the one with the smallest total deviation from all the data points."
   ]
  },
  {
   "cell_type": "markdown",
   "id": "cea9b769",
   "metadata": {},
   "source": [
    "**Interpreting Regression Results**"
   ]
  },
  {
   "cell_type": "markdown",
   "id": "4d7272e5",
   "metadata": {},
   "source": [
    "| Column                  | Meaning                                                             | How to Explain                                        |\n",
    "| ----------------------- | ------------------------------------------------------------------- | ----------------------------------------------------- |\n",
    "| **Coefficient (β)**     | Average change in Y when X increases by 1 (holding others constant) | “Every extra study hour increases score by 5 points.” |\n",
    "| **Std. Error**          | How uncertain our coefficient estimate is                           | Smaller = more precise                                |\n",
    "| **t-Statistic**         | Coefficient ÷ Std. Error                                            | Large t = stronger evidence the effect is real        |\n",
    "| **p-Value**             | Probability that the effect is due to chance                        | p < 0.05 = statistically significant                  |\n",
    "| **Confidence Interval** | Range where the true coefficient likely lies                        | Narrow = more confidence                              |\n",
    "| **R-squared**           | % of variation in Y explained by Xs                                 | Closer to 1 = better model                            |\n"
   ]
  },
  {
   "cell_type": "markdown",
   "id": "f0cc1baa",
   "metadata": {},
   "source": [
    "**Simple Linear Regression (SLR)**"
   ]
  },
  {
   "cell_type": "markdown",
   "id": "042f7453",
   "metadata": {},
   "source": [
    "We want to see how study hours affect exam scores using Simple Linear Regression."
   ]
  },
  {
   "cell_type": "markdown",
   "id": "948252fa",
   "metadata": {},
   "source": [
    "### **Regression**"
   ]
  },
  {
   "cell_type": "markdown",
   "id": "1a55ddf0",
   "metadata": {},
   "source": []
  },
  {
   "cell_type": "code",
   "execution_count": 7,
   "id": "7a57b591",
   "metadata": {},
   "outputs": [
    {
     "name": "stdout",
     "output_type": "stream",
     "text": [
      "Requirement already satisfied: statsmodels in c:\\users\\shopinverse\\desktop\\ai-fellowship-module-2\\my_venv\\lib\\site-packages (0.14.5)\n",
      "Requirement already satisfied: numpy<3,>=1.22.3 in c:\\users\\shopinverse\\desktop\\ai-fellowship-module-2\\my_venv\\lib\\site-packages (from statsmodels) (2.3.3)\n",
      "Requirement already satisfied: scipy!=1.9.2,>=1.8 in c:\\users\\shopinverse\\desktop\\ai-fellowship-module-2\\my_venv\\lib\\site-packages (from statsmodels) (1.16.2)\n",
      "Requirement already satisfied: pandas!=2.1.0,>=1.4 in c:\\users\\shopinverse\\desktop\\ai-fellowship-module-2\\my_venv\\lib\\site-packages (from statsmodels) (2.3.2)\n",
      "Requirement already satisfied: patsy>=0.5.6 in c:\\users\\shopinverse\\desktop\\ai-fellowship-module-2\\my_venv\\lib\\site-packages (from statsmodels) (1.0.1)\n",
      "Requirement already satisfied: packaging>=21.3 in c:\\users\\shopinverse\\desktop\\ai-fellowship-module-2\\my_venv\\lib\\site-packages (from statsmodels) (25.0)\n",
      "Requirement already satisfied: python-dateutil>=2.8.2 in c:\\users\\shopinverse\\desktop\\ai-fellowship-module-2\\my_venv\\lib\\site-packages (from pandas!=2.1.0,>=1.4->statsmodels) (2.9.0.post0)\n",
      "Requirement already satisfied: pytz>=2020.1 in c:\\users\\shopinverse\\desktop\\ai-fellowship-module-2\\my_venv\\lib\\site-packages (from pandas!=2.1.0,>=1.4->statsmodels) (2025.2)\n",
      "Requirement already satisfied: tzdata>=2022.7 in c:\\users\\shopinverse\\desktop\\ai-fellowship-module-2\\my_venv\\lib\\site-packages (from pandas!=2.1.0,>=1.4->statsmodels) (2025.2)\n",
      "Requirement already satisfied: six>=1.5 in c:\\users\\shopinverse\\desktop\\ai-fellowship-module-2\\my_venv\\lib\\site-packages (from python-dateutil>=2.8.2->pandas!=2.1.0,>=1.4->statsmodels) (1.17.0)\n",
      "Note: you may need to restart the kernel to use updated packages.\n"
     ]
    }
   ],
   "source": [
    "%pip install statsmodels"
   ]
  },
  {
   "cell_type": "code",
   "execution_count": 8,
   "id": "b080966a",
   "metadata": {},
   "outputs": [
    {
     "data": {
      "text/html": [
       "<div>\n",
       "<style scoped>\n",
       "    .dataframe tbody tr th:only-of-type {\n",
       "        vertical-align: middle;\n",
       "    }\n",
       "\n",
       "    .dataframe tbody tr th {\n",
       "        vertical-align: top;\n",
       "    }\n",
       "\n",
       "    .dataframe thead th {\n",
       "        text-align: right;\n",
       "    }\n",
       "</style>\n",
       "<table border=\"1\" class=\"dataframe\">\n",
       "  <thead>\n",
       "    <tr style=\"text-align: right;\">\n",
       "      <th></th>\n",
       "      <th>study_hours</th>\n",
       "      <th>job_hours</th>\n",
       "      <th>sleep_hours</th>\n",
       "      <th>extra_curricular_hours</th>\n",
       "      <th>exam_score</th>\n",
       "    </tr>\n",
       "  </thead>\n",
       "  <tbody>\n",
       "    <tr>\n",
       "      <th>0</th>\n",
       "      <td>9</td>\n",
       "      <td>10</td>\n",
       "      <td>4</td>\n",
       "      <td>2</td>\n",
       "      <td>56</td>\n",
       "    </tr>\n",
       "    <tr>\n",
       "      <th>1</th>\n",
       "      <td>5</td>\n",
       "      <td>9</td>\n",
       "      <td>5</td>\n",
       "      <td>1</td>\n",
       "      <td>46</td>\n",
       "    </tr>\n",
       "    <tr>\n",
       "      <th>2</th>\n",
       "      <td>2</td>\n",
       "      <td>0</td>\n",
       "      <td>6</td>\n",
       "      <td>3</td>\n",
       "      <td>57</td>\n",
       "    </tr>\n",
       "    <tr>\n",
       "      <th>3</th>\n",
       "      <td>4</td>\n",
       "      <td>10</td>\n",
       "      <td>6</td>\n",
       "      <td>5</td>\n",
       "      <td>37</td>\n",
       "    </tr>\n",
       "    <tr>\n",
       "      <th>4</th>\n",
       "      <td>8</td>\n",
       "      <td>8</td>\n",
       "      <td>7</td>\n",
       "      <td>1</td>\n",
       "      <td>69</td>\n",
       "    </tr>\n",
       "  </tbody>\n",
       "</table>\n",
       "</div>"
      ],
      "text/plain": [
       "   study_hours  job_hours  sleep_hours  extra_curricular_hours  exam_score\n",
       "0            9         10            4                       2          56\n",
       "1            5          9            5                       1          46\n",
       "2            2          0            6                       3          57\n",
       "3            4         10            6                       5          37\n",
       "4            8          8            7                       1          69"
      ]
     },
     "execution_count": 8,
     "metadata": {},
     "output_type": "execute_result"
    }
   ],
   "source": [
    "# previewing the first 5 rowa\n",
    "data.head()"
   ]
  },
  {
   "cell_type": "code",
   "execution_count": 9,
   "id": "bb7692d6",
   "metadata": {},
   "outputs": [],
   "source": [
    "# importing the stats model library\n",
    "import statsmodels.api as sm"
   ]
  },
  {
   "cell_type": "code",
   "execution_count": 10,
   "id": "938358dc",
   "metadata": {},
   "outputs": [],
   "source": [
    "X = data[\"study_hours\"]\n",
    "Y = data[\"exam_score\"]"
   ]
  },
  {
   "cell_type": "code",
   "execution_count": 16,
   "id": "019bfa6f",
   "metadata": {},
   "outputs": [],
   "source": [
    "# Add intercept (constant term)\n",
    "X = sm.add_constant(X)"
   ]
  },
  {
   "cell_type": "code",
   "execution_count": 18,
   "id": "77a4eadf",
   "metadata": {},
   "outputs": [
    {
     "data": {
      "text/html": [
       "<div>\n",
       "<style scoped>\n",
       "    .dataframe tbody tr th:only-of-type {\n",
       "        vertical-align: middle;\n",
       "    }\n",
       "\n",
       "    .dataframe tbody tr th {\n",
       "        vertical-align: top;\n",
       "    }\n",
       "\n",
       "    .dataframe thead th {\n",
       "        text-align: right;\n",
       "    }\n",
       "</style>\n",
       "<table border=\"1\" class=\"dataframe\">\n",
       "  <thead>\n",
       "    <tr style=\"text-align: right;\">\n",
       "      <th></th>\n",
       "      <th>const</th>\n",
       "      <th>study_hours</th>\n",
       "    </tr>\n",
       "  </thead>\n",
       "  <tbody>\n",
       "    <tr>\n",
       "      <th>0</th>\n",
       "      <td>1.0</td>\n",
       "      <td>9</td>\n",
       "    </tr>\n",
       "    <tr>\n",
       "      <th>1</th>\n",
       "      <td>1.0</td>\n",
       "      <td>5</td>\n",
       "    </tr>\n",
       "    <tr>\n",
       "      <th>2</th>\n",
       "      <td>1.0</td>\n",
       "      <td>2</td>\n",
       "    </tr>\n",
       "    <tr>\n",
       "      <th>3</th>\n",
       "      <td>1.0</td>\n",
       "      <td>4</td>\n",
       "    </tr>\n",
       "    <tr>\n",
       "      <th>4</th>\n",
       "      <td>1.0</td>\n",
       "      <td>8</td>\n",
       "    </tr>\n",
       "  </tbody>\n",
       "</table>\n",
       "</div>"
      ],
      "text/plain": [
       "   const  study_hours\n",
       "0    1.0            9\n",
       "1    1.0            5\n",
       "2    1.0            2\n",
       "3    1.0            4\n",
       "4    1.0            8"
      ]
     },
     "execution_count": 18,
     "metadata": {},
     "output_type": "execute_result"
    }
   ],
   "source": [
    "X.head()"
   ]
  },
  {
   "cell_type": "code",
   "execution_count": 19,
   "id": "6b9adb84",
   "metadata": {},
   "outputs": [],
   "source": [
    "# Fit model using OLS (Ordinary Least Squares)\n",
    "model  = sm.OLS(Y, X).fit()"
   ]
  },
  {
   "cell_type": "code",
   "execution_count": 21,
   "id": "c5698129",
   "metadata": {},
   "outputs": [
    {
     "name": "stdout",
     "output_type": "stream",
     "text": [
      "                            OLS Regression Results                            \n",
      "==============================================================================\n",
      "Dep. Variable:             exam_score   R-squared:                       0.482\n",
      "Model:                            OLS   Adj. R-squared:                  0.468\n",
      "Method:                 Least Squares   F-statistic:                     35.32\n",
      "Date:                Mon, 06 Oct 2025   Prob (F-statistic):           6.82e-07\n",
      "Time:                        23:13:12   Log-Likelihood:                -161.99\n",
      "No. Observations:                  40   AIC:                             328.0\n",
      "Df Residuals:                      38   BIC:                             331.4\n",
      "Df Model:                           1                                         \n",
      "Covariance Type:            nonrobust                                         \n",
      "===============================================================================\n",
      "                  coef    std err          t      P>|t|      [0.025      0.975]\n",
      "-------------------------------------------------------------------------------\n",
      "const          24.6404      5.476      4.500      0.000      13.556      35.725\n",
      "study_hours     5.4672      0.920      5.943      0.000       3.605       7.330\n",
      "==============================================================================\n",
      "Omnibus:                        6.602   Durbin-Watson:                   1.738\n",
      "Prob(Omnibus):                  0.037   Jarque-Bera (JB):                2.695\n",
      "Skew:                           0.316   Prob(JB):                        0.260\n",
      "Kurtosis:                       1.896   Cond. No.                         14.8\n",
      "==============================================================================\n",
      "\n",
      "Notes:\n",
      "[1] Standard Errors assume that the covariance matrix of the errors is correctly specified.\n"
     ]
    }
   ],
   "source": [
    "# display summmary\n",
    "print(model.summary())"
   ]
  },
  {
   "cell_type": "code",
   "execution_count": 22,
   "id": "c2ec4760",
   "metadata": {},
   "outputs": [
    {
     "name": "stderr",
     "output_type": "stream",
     "text": [
      "C:\\Users\\SHOPINVERSE\\AppData\\Local\\Temp\\ipykernel_5972\\2362201240.py:10: FutureWarning: Series.__getitem__ treating keys as positions is deprecated. In a future version, integer keys will always be treated as labels (consistent with DataFrame behavior). To access a value by position, use `ser.iloc[pos]`\n",
      "  plt.text(2, max(data['exam_score'])-5, f'Y = {model.params[0]:.2f} + {model.params[1]:.2f}X', color='red', fontsize=12)\n"
     ]
    },
    {
     "data": {
      "image/png": "[encoded data removed]",
      "text/plain": [
       "<Figure size 800x600 with 1 Axes>"
      ]
     },
     "metadata": {},
     "output_type": "display_data"
    }
   ],
   "source": [
    "# lets have the regression plot using  regression line and scatter plot\n",
    "plt.figure(figsize=(8,6))\n",
    "plt.scatter(data['study_hours'], data['exam_score'], color='skyblue', label='Actual Scores')\n",
    "plt.plot(data['study_hours'], model.predict(X), color='red', label='Regression Line')\n",
    "\n",
    "# Annotate\n",
    "plt.title('Simple Linear Regression: Study Hours vs Exam Score', fontsize=14, weight='bold')\n",
    "plt.xlabel('study_hours')\n",
    "plt.ylabel('exam_score')\n",
    "plt.text(2, max(data['exam_score'])-5, f'Y = {model.params[0]:.2f} + {model.params[1]:.2f}X', color='red', fontsize=12)\n",
    "plt.legend()\n",
    "plt.grid(alpha=0.3)\n",
    "plt.show()\n"
   ]
  }
 ],
 "metadata": {
  "kernelspec": {
   "display_name": "my_venv",
   "language": "python",
   "name": "python3"
  },
  "language_info": {
   "codemirror_mode": {
    "name": "ipython",
    "version": 3
   },
   "file_extension": ".py",
   "mimetype": "text/x-python",
   "name": "python",
   "nbconvert_exporter": "python",
   "pygments_lexer": "ipython3",
   "version": "3.12.1"
  }
 },
 "nbformat": 4,
 "nbformat_minor": 5
}
