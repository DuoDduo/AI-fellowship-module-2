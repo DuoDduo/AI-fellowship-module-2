{
 "cells": [
  {
   "cell_type": "markdown",
   "id": "c994165e",
   "metadata": {},
   "source": [
    "## **Class Task 2** ##"
   ]
  },
  {
   "cell_type": "markdown",
   "id": "60464999",
   "metadata": {},
   "source": [
    "**Given the following matrices**\n",
    "\n",
    "``` \n",
    "A = 2  -1  3\n",
    "    0   4  1\n",
    "```\n",
    "\n",
    "\n",
    "``` \n",
    "B = 1    2\n",
    "   -2    0\n",
    "    5   -3\n",
    "```\n",
    "\n"
   ]
  },
  {
   "cell_type": "markdown",
   "id": "ef77f4d7",
   "metadata": {},
   "source": [
    "**A. Identify the number of rows and columns in each matrix.**\n",
    "\n",
    "- A = (2 rows, 3 columns) # 2 x 3 matrix\n",
    "- B = (3 rows, 2 columns) # 3 X 2 matrix"
   ]
  },
  {
   "cell_type": "markdown",
   "id": "c1a04849",
   "metadata": {},
   "source": [
    "**B. Determine whether the matrices can be multiplied.If so, specify whether it's (AB), (BA), or both.**\n",
    "\n",
    "- **A(2, 3) * B(3, 2)**\n",
    "\n",
    "     The matrices A and B can be multiplied to give AB\n",
    "\n",
    "     This is  because the number of columns in A matches the number of rows in B.\n",
    "\n",
    "\n",
    "- **AB is a (2 x 2) matrix**\n",
    "    ```\n",
    "      AB = 19  -5\n",
    "            3  -3\n",
    "    ```  \n",
    "\n",
    "\n",
    "- **B(3, 2) * A(2, 3)**\n",
    "\n",
    "    The matrices B and A can be multiplied to give BA\n",
    "\n",
    "    This is  because the number of columns in B matches the number of rows in A\n",
    "\n",
    "\n",
    "- **BA is a (3 x 3) matrix**\n",
    "    ```\n",
    "      BA = 2   7   3\n",
    "          -4   2   -6\n",
    "          10  -17  12\n",
    "    ```   \n",
    "\n",
    "- **Conclusion**\n",
    "\n",
    "   Both AB and  BA can be multiplied   "
   ]
  },
  {
   "cell_type": "markdown",
   "id": "c3d50de5",
   "metadata": {},
   "source": [
    "**C. If the multiplication is defined, compute the resulting matrix using numpy**"
   ]
  },
  {
   "cell_type": "code",
   "execution_count": 2,
   "id": "6808a500",
   "metadata": {},
   "outputs": [
    {
     "name": "stdout",
     "output_type": "stream",
     "text": [
      "The result of  A(2, 3) * B(3, 2) is:\n",
      " [[19 -5]\n",
      " [-3 -3]]\n",
      " AB (2,2) matrix\n",
      "The result of  B(3, 2) * B(2, 3) is:\n",
      " [[  2   7   5]\n",
      " [ -4   2  -6]\n",
      " [ 10 -17  12]]\n",
      " AB (3,3) matrix\n"
     ]
    }
   ],
   "source": [
    "# computing the resulting matrix using numpy\n",
    "\n",
    "import numpy as np\n",
    "\n",
    "a= np.array([[2, -1, 3],[0, 4, 1 ]])\n",
    "b= np.array([[1, 2], [-2, 0], [5, -3]])\n",
    "\n",
    "# multiplying matrices in numpy using standard matrix product .dot()\n",
    "ab= np.dot(a,b)\n",
    "ba =np.dot(b,a)\n",
    "\n",
    "\n",
    "print(f\"The result of  A(2, 3) * B(3, 2) is:\\n {ab}\\n AB (2,2) matrix\")\n",
    "print(f\"The result of  B(3, 2) * B(2, 3) is:\\n {ba}\\n AB (3,3) matrix\")"
   ]
  },
  {
   "cell_type": "code",
   "execution_count": null,
   "id": "9f103195",
   "metadata": {},
   "outputs": [],
   "source": []
  }
 ],
 "metadata": {
  "kernelspec": {
   "display_name": "my_venv (3.13.5)",
   "language": "python",
   "name": "python3"
  },
  "language_info": {
   "codemirror_mode": {
    "name": "ipython",
    "version": 3
   },
   "file_extension": ".py",
   "mimetype": "text/x-python",
   "name": "python",
   "nbconvert_exporter": "python",
   "pygments_lexer": "ipython3",
   "version": "3.13.5"
  }
 },
 "nbformat": 4,
 "nbformat_minor": 5
}
