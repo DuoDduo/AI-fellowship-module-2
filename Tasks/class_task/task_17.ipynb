{
 "cells": [
  {
   "cell_type": "markdown",
   "id": "cda2a34b",
   "metadata": {},
   "source": [
    "## **Case Study: Student Performance Analysis with Linear Algebra**"
   ]
  },
  {
   "cell_type": "markdown",
   "id": "e299b4de",
   "metadata": {},
   "source": [
    "## Step-by-step Analysis"
   ]
  },
  {
   "cell_type": "markdown",
   "id": "8c3c608b",
   "metadata": {},
   "source": [
    "## **3.1 Representing the data as a Matrix**\n",
    "```\n",
    "rows = students, columns = subjects\n",
    "student_scores = (4 X 3) matrix \n",
    "student_scores= [\n",
    "                  [80,70,90],\n",
    "                  [60,85,75],\n",
    "                  [95,88,92],               \n",
    "                  [70,60,65]\n",
    "                ]"
   ]
  },
  {
   "cell_type": "code",
   "execution_count": 2,
   "id": "1cbb4427",
   "metadata": {},
   "outputs": [
    {
     "data": {
      "text/plain": [
       "array([[80, 70, 90],\n",
       "       [60, 85, 75],\n",
       "       [95, 88, 92],\n",
       "       [70, 60, 65]])"
      ]
     },
     "execution_count": 2,
     "metadata": {},
     "output_type": "execute_result"
    }
   ],
   "source": [
    "# representing the data as a matrix\n",
    "import numpy as np\n",
    "student_scores = np.array([[80,70,90],\n",
    "                           [60,85,75],\n",
    "                           [95,88,92],\n",
    "                           [70,60,65]])\n",
    "student_scores"
   ]
  },
  {
   "cell_type": "markdown",
   "id": "447e21c6",
   "metadata": {},
   "source": [
    "## **3.2. Computing Total Score per Student (Vector Addition)**\n",
    "```\n",
    "student_scores= [\n",
    "                  [80,70,90],\n",
    "                  [60,85,75],\n",
    "                  [95,88,92],               \n",
    "                  [70,60,65]\n",
    "                ]\n",
    "```                \n",
    "- Total score for each student by summing across the row vector.\n",
    "\n",
    "        - Total score for each student:\n",
    "            student_one = (80 + 70 + 90)\n",
    "                student_one = 240\n",
    "            student_two = (60 + 85 + 75)\n",
    "                student_two = 220\n",
    "            student_three = (95 + 88 + 92)\n",
    "                student_three = 275\n",
    "            student_four = (70 + 60 + 65)\n",
    "                student_four = 195\n",
    "\n",
    "```\n",
    "    total_score_array = [240 220 275 195]                \n"
   ]
  },
  {
   "cell_type": "code",
   "execution_count": 3,
   "id": "f0e95541",
   "metadata": {},
   "outputs": [
    {
     "name": "stdout",
     "output_type": "stream",
     "text": [
      "The total score array of each student is:  [240 220 275 195]\n"
     ]
    }
   ],
   "source": [
    "# computing total score for each student by summing across the row  using numpy.\n",
    "student_scores = np.array([[80,70,90],\n",
    "                           [60,85,75],\n",
    "                           [95,88,92],\n",
    "                           [70,60,65]])\n",
    "\n",
    "# calculating the scores across the row for each student, \n",
    "# rows = students, columns = subjects\n",
    "total_scores_array = np.sum(student_scores, axis = 1)\n",
    "print(\"The total score array of each student is: \", total_scores_array)"
   ]
  },
  {
   "cell_type": "markdown",
   "id": "619be4bc",
   "metadata": {},
   "source": [
    "## **3.3 Applying Weights (Scalar Multiplication)**\n",
    "\n",
    "- Representing all students maths score in an array\n",
    "```\n",
    "    math_scores = [80, 60, 95, 70]\n",
    "```\n",
    "- Math is twice as important as others, `scalar m = 2`   \n",
    "\n",
    "- Scalar multiplictaion to apply weight on the math subject:\n",
    "   ```\n",
    "     weighted_math_score = 2(math_scores)\n",
    "     2(math_scores) => 2([80, 60, 95, 70])\n",
    "                        [(2 x 80), (2 X 60), (2 X 95), (2 X 70)]\n",
    "                        [160 120 190 140]\n",
    "\n",
    "    weighted_math_score = [160  120 190 140]\n"
   ]
  },
  {
   "cell_type": "code",
   "execution_count": 4,
   "id": "9f8d0b9d",
   "metadata": {},
   "outputs": [
    {
     "name": "stdout",
     "output_type": "stream",
     "text": [
      "The weighted math score for each student is:  [160 120 190 140]\n"
     ]
    }
   ],
   "source": [
    "# representing all students maths score in an array\n",
    "math_scores = np.array(student_scores[:,0])\n",
    "\n",
    "# scalar value\n",
    "scalar_m = 2\n",
    "weighted_math_score = scalar_m * math_scores\n",
    "\n",
    "print(\"The weighted math score for each student is: \", weighted_math_score)\n"
   ]
  },
  {
   "cell_type": "markdown",
   "id": "6dac383f",
   "metadata": {},
   "source": [
    "## **3.4 Average Score per Subject  (Matrix Operations)**\n",
    "\n",
    "- Representing each subject score in an array\n",
    "```\n",
    "    math_scores = [80, 60, 95, 70]\n",
    "    english_scores = [70, 85, 88, 60]\n",
    "    science_scores = [90, 75, 92,65]\n",
    "    total_students = 4\n",
    "```\n",
    "        math_scores_avg = sum of math_scores / total_students\n",
    "                        = (80 + 60 + 95 + 70) / 4\n",
    "                                        = 305 / 4\n",
    "                                        = 76.25\n",
    "                        math_scores_avg = 76.25                           \n",
    "\n",
    "```\n",
    "        english_scores_avg = sum of english_scores / total_students\n",
    "                                = (70 + 85 + 88 + 60) / 4\n",
    "                                                = 303 / 4\n",
    "                                                = 75.75\n",
    "                                english_scores_avg = 75.75 \n",
    "\n",
    "```\n",
    "        science_scores_avg = sum of science_scores / total_students\n",
    "                                = (90 + 75 + 92 + 65) / 4\n",
    "                                                = 322 / 4\n",
    "                                                = 80.5\n",
    "                                science_scores_avg = 80.5                          \n"
   ]
  },
  {
   "cell_type": "code",
   "execution_count": 5,
   "id": "ebae1c75",
   "metadata": {},
   "outputs": [
    {
     "name": "stdout",
     "output_type": "stream",
     "text": [
      "The Average of all the student scores in Mathematics is:  76.25\n",
      "The Average of all the student scores in English is:  75.75\n",
      "The Average of all the student scores in Science is:  80.5\n"
     ]
    }
   ],
   "source": [
    "# representing all students subject score in an array\n",
    "math_scores = np.array(student_scores[:,0])\n",
    "english_scores = np.array(student_scores[:,1])\n",
    "science_scores = np.array(student_scores[:,2])\n",
    "\n",
    "# calculating the mean of the students scores in each subject\n",
    "math_scores_avg = np.mean(math_scores, axis=0)\n",
    "english_scores_avg = np.mean(english_scores, axis=0)\n",
    "science_scores_avg = np.mean(science_scores, axis=0)\n",
    "\n",
    "print(\"The Average of all the student scores in Mathematics is: \", math_scores_avg)\n",
    "print(\"The Average of all the student scores in English is: \", english_scores_avg)\n",
    "print(\"The Average of all the student scores in Science is: \", science_scores_avg)"
   ]
  },
  {
   "cell_type": "markdown",
   "id": "3967da7c",
   "metadata": {},
   "source": [
    "## **3.5 Final Grades Using Matrix Multiplication**\n",
    "\n",
    "- Representing each subject score in an array\n",
    "```\n",
    "    student_scores= [\n",
    "                  [80,70,90],\n",
    "                  [60,85,75],\n",
    "                  [95,88,92],               \n",
    "                  [70,60,65]\n",
    "                ]\n",
    "  student_scores(4 X 3)\n",
    "\n",
    "```\n",
    "        weight_vector = [ 40% = 0.4 = maths,\n",
    "                          40% = 0.4 = english,\n",
    "                          20% = 0.2 = science\n",
    "                        ]\n",
    "       weight_vector (3 X 1)\n",
    "```\n",
    " - final_grade(4 X 1) = (student_scores X weight_vector)\n",
    "                         \n",
    "                          student_1_grade = [(80 X 0.4), (70 x 0.4),  (90 X 0.2)]\n",
    "                          student_2_grade = [(60 X 0.4), (85 x 0.4),  (75 X 0.2)]\n",
    "                          student_3_grade = [(95 X 0.4), (88 x 0.4),  (92 X 0.2)]\n",
    "                          student_4_grade = [(70 X 0.4), (60 x 0.4),  (65 X 0.2)]\n",
    " - final_grade\n",
    "\n",
    "                          student_1_grade = [32     28     18]\n",
    "                          student_2_grade = [24     34     15]\n",
    "                          student_3_grade = [38   35.2   18.4]\n",
    "                          student_4_grade = [28     24      13]\n",
    "\n",
    "  - Total final grade for each student:\n",
    "  ```\n",
    "                          student_1_final = (32 + 28 + 18)\n",
    "                              student_1_final = 78\n",
    "\n",
    "                          student_2_final = (24 + 34 + 15)\n",
    "                              student_2_final = 73\n",
    "\n",
    "                          student_3_final = (38 + 35.2 + 18.4)\n",
    "                              student_3_final = 91.6\n",
    "                              \n",
    "                          student_4_final = (28 + 24 + 13)\n",
    "                              student_4_final = 65\n",
    "\n",
    "```\n",
    "```\n",
    "- Grades\n",
    "    - A = 75 - 100\n",
    "    - B = 65 - 74\n",
    "    - C = 64 - 55\n",
    "    - D = 54 - 45\n",
    "    - E = 44 - 40\n",
    "    - F = 39 - 0\n",
    "\n",
    "\n",
    "    \\begin{bmatrix}\n",
    "    Students & Scores &Grades\\\\\n",
    "    Student_1 & 78 & A\\\\\n",
    "    Student_2 & 73 & B\\\\\n",
    "    Student_3 & 91.6 & A\\\\\n",
    "    Student_4 & 65 & B\\\\\n",
    "    \\end{bmatrix}                   \n",
    "                         "
   ]
  },
  {
   "cell_type": "code",
   "execution_count": 6,
   "id": "23fddb8d",
   "metadata": {},
   "outputs": [
    {
     "name": "stdout",
     "output_type": "stream",
     "text": [
      "Student 1 Final Grade is:  78.0 %\n",
      "Student 2 Final Grade is:  73.0 %\n",
      "Student 3 Final Grade is:  91.60000000000001 %\n",
      "Student 4 Final Grade is:  65.0 %\n"
     ]
    }
   ],
   "source": [
    "# representing all subject weight vector in an array\n",
    "weight_vector = [0.4, 0.4, 0.2]\n",
    "\n",
    "student_1 = np.array(student_scores[0, :])\n",
    "student_2= np.array(student_scores[1, :])\n",
    "student_3 = np.array(student_scores[2, :])\n",
    "student_4 = np.array(student_scores[3, :])\n",
    "\n",
    "# calculating the sum of the students scores in each subject\n",
    "student_1_final = np.sum(student_1 * weight_vector)\n",
    "student_2_final= np.sum(student_2 * weight_vector)\n",
    "student_3_final = np.sum(student_3 * weight_vector)\n",
    "student_4_final = np.sum(student_4 * weight_vector)\n",
    "\n",
    "# adding the final grade for each student\n",
    "print(\"Student 1 Final Grade is: \", student_1_final ,\"%\")\n",
    "print(\"Student 2 Final Grade is: \", student_2_final,\"%\")\n",
    "print(\"Student 3 Final Grade is: \", student_3_final,\"%\")\n",
    "print(\"Student 4 Final Grade is: \", student_4_final,\"%\")\n",
    "\n"
   ]
  },
  {
   "cell_type": "markdown",
   "id": "0d583f8b",
   "metadata": {},
   "source": [
    "## **3.6 Comparing Students (Vector Subtraction)**\n",
    "\n",
    "- comparing two students performnances by subtracting their score vectors\n",
    "  - Total final grade for each student:\n",
    "  ```\n",
    "                                 student 1 grade = [80,70,90],\n",
    "                                  student 2 grade = [60,85,75]\n",
    "                          \n",
    "- Student performance comparison by subtracting their score vector:\n",
    "```\n",
    "                        performance_comparison = [(80 -60), (70 - 85), (90 - 75)]\n",
    "                                               =  [20   -15   15]\n",
    "                                             \n",
    "```                                                       \n",
    "                         "
   ]
  },
  {
   "cell_type": "code",
   "execution_count": 16,
   "id": "7121fd1d",
   "metadata": {},
   "outputs": [
    {
     "name": "stdout",
     "output_type": "stream",
     "text": [
      "The difference between the performance of Students 2 and Student 1 is:  [ 20 -15  15] % hence; student 1 performed better\n"
     ]
    }
   ],
   "source": [
    "student_scores = np.array([[80,70,90],\n",
    "                           [60,85,75],\n",
    "                           [95,88,92],\n",
    "                           [70,60,65]])\n",
    "student_1 = np.array(student_scores[0, :])\n",
    "student_2 = np.array(student_scores[1, :])\n",
    "# Student performance comparison by subtracting their score vector:\n",
    "performance_comparison = student_1 - student_2\n",
    "performance_comparison\n",
    "print(\"The difference between the performance of Students 2 and Student 1 is: \", performance_comparison,\"%\", \"hence; student 1 performed better\")"
   ]
  },
  {
   "cell_type": "markdown",
   "id": "ae89988f",
   "metadata": {},
   "source": [
    "## Add-on Exercises"
   ]
  },
  {
   "cell_type": "markdown",
   "id": "f92f6229",
   "metadata": {},
   "source": [
    "- Create a new 5×4 matrix of scores (5 students, 4 subjects). \n",
    "- Compute each student’s total score and the average per subject. \n",
    "\n",
    "```\n",
    "rows = students, columns = subjects\n",
    "student_scores = (5 X 4) matrix \n",
    "student_scores_2 = [\n",
    "                    [90, 74, 63, 86],\n",
    "                    [96, 51, 85, 97],\n",
    "                    [78, 99, 99, 99],\n",
    "                    [51, 66, 75, 84],\n",
    "                    [82, 92, 82, 70]\n",
    "                    ]\n",
    "```                    "
   ]
  },
  {
   "cell_type": "code",
   "execution_count": 8,
   "id": "e881e411",
   "metadata": {},
   "outputs": [],
   "source": [
    "# a 5 x 4 matrix of scores(5 students, 4 subjects)\n",
    "student_scores_2= np.random.randint(50, 100, (5, 4))\n",
    "student_scores_2 = np.array([\n",
    "       [90, 74, 63, 86],\n",
    "       [96, 51, 85, 97],\n",
    "       [78, 99, 99,82],\n",
    "       [51, 66, 75, 84],\n",
    "       [82, 92, 82, 70]])"
   ]
  },
  {
   "cell_type": "markdown",
   "id": "c31326a8",
   "metadata": {},
   "source": [
    "                \n",
    "- Total score for each student by summing across the row vector.\n",
    "```\n",
    "       - student_scores_2 = [\n",
    "                            [90, 74, 63, 86],\n",
    "                            [96, 51, 85, 97],\n",
    "                            [78, 99, 99, 99],\n",
    "                            [51, 66, 75, 84],\n",
    "                            [82, 92, 82, 70]\n",
    "                            ]\n",
    "\n",
    "        - Total score for each student:\n",
    "                student_one = (90 + 74 + 63 + 86)\n",
    "                    student_one = 313\n",
    "                student_two = (96 + 51 + 85 + 97)\n",
    "                    student_two = 329\n",
    "                student_three = (78 + 99 + 99 + 82)\n",
    "                    student_three = 358\n",
    "                student_four = (51 + 66 + 75 + 84)\n",
    "                    student_four = 276\n",
    "                student_five = (82 + 92 + 82 + 70)\n",
    "                student_five = 326\n",
    "\n",
    "```\n",
    "    total scores of each student = [313 329 358 276 326]  \n",
    "\n",
    "Stuents_record =\n",
    "\\begin{bmatrix}\n",
    "Students & Total Score \\\\\n",
    "Student 1 & 313 \\\\\n",
    "Student 2 & 329 \\\\\n",
    "Student 3 & 358 \\\\\n",
    "Student 4 & 276 \\\\\n",
    "Student 5 & 326 \\\\\n",
    "\\end{bmatrix}"
   ]
  },
  {
   "cell_type": "code",
   "execution_count": 9,
   "id": "2ddf9584",
   "metadata": {},
   "outputs": [
    {
     "name": "stdout",
     "output_type": "stream",
     "text": [
      "The total score for each student is:  [313 329 358 276 326]\n"
     ]
    }
   ],
   "source": [
    "# computing total score for each student by summing across the row.\n",
    "# rows = students, columns = subjects\n",
    "total_scores = np.sum(student_scores_2, axis = 1)\n",
    "print(\"The total score for each student is: \", total_scores)"
   ]
  },
  {
   "cell_type": "markdown",
   "id": "4f6787b8",
   "metadata": {},
   "source": [
    " **Average Score per Subject**\n",
    "\n",
    "- Representing each subject score in an array\n",
    "```\n",
    "                student_scores_2 = [\n",
    "                                [90, 74, 63, 86],\n",
    "                                [96, 51, 85, 97],\n",
    "                                [78, 99, 99, 99],\n",
    "                                [51, 66, 75, 84],\n",
    "                                [82, 92, 82, 70]\n",
    "                                ]\n",
    "```\n",
    "                math_scores = [90, 96, 78, 51, 82]\n",
    "                english_scores = [74, 51, 99, 66, 92]\n",
    "                science_scores = [63, 85, 99, 75, 82]\n",
    "                agric_scores = [86, 97, 99, 84, 70]\n",
    "                total_students = 5\n",
    "```\n",
    "        math_scores_avg = sum of math_scores / total_students\n",
    "                                = (90 + 96 + 78 + 51 + 82) / 5\n",
    "                                                = 397 / 5\n",
    "                                                = 79.4\n",
    "                                math_scores_avg = 79.4                          \n",
    "\n",
    "```\n",
    "        english_scores_avg = sum of english_scores / total_students\n",
    "                                = (74 + 51 + 99 + 66 + 92) / 5\n",
    "                                                = 382 / 5\n",
    "                                                = 76.4\n",
    "                                english_scores_avg = 76.4\n",
    "\n",
    "```\n",
    "        science_scores_avg = sum of science_scores / total_students\n",
    "                                = (63 + 85 + 99 + 75 + 82) / 5\n",
    "                                                = 404 / 5\n",
    "                                                = 80.8\n",
    "                                science_scores_avg = 80.8 \n",
    "```\n",
    "        agric_scores_avg = sum of agric_scores / total_students\n",
    "                                = (86 + 97 + 99 + 84 + 70) / 5\n",
    "                                                = 436 / 5\n",
    "                                                = 87.2\n",
    "                                agric_scores_avg = 87.2     \n",
    "```\n",
    "Average scores of each student = [79.4  76.4  80.8 87.2]   \n",
    "```\n",
    "Average Scores =\n",
    "\\begin{bmatrix}\n",
    "Subjects & Average Score \\\\\n",
    "Mathematics & 79.4 \\\\\n",
    "English & 76.4 \\\\\n",
    "Science & 80.8 \\\\\n",
    "Agric  & 87.2 \\\\\n",
    "\\end{bmatrix}\n"
   ]
  },
  {
   "cell_type": "code",
   "execution_count": 10,
   "id": "72f6660f",
   "metadata": {},
   "outputs": [
    {
     "name": "stdout",
     "output_type": "stream",
     "text": [
      "The Average of all the Student scores in Mathematics is:  79.4\n",
      "The Average of all the Student scores in English is:  76.4\n",
      "The Average of all the Student scores in Science is:  80.8\n",
      "The Average of all the Student scores in Science is:  83.8\n"
     ]
    }
   ],
   "source": [
    "# representing all students subject score in an array\n",
    "math_scores = np.array(student_scores_2[:,0])\n",
    "english_scores = np.array(student_scores_2[:,1])\n",
    "science_scores = np.array(student_scores_2[:,2])\n",
    "agric_scores = np.array(student_scores_2[:,3])\n",
    "\n",
    "# calculating the average of the students scores in each subject\n",
    "math_scores_avg = np.mean(math_scores, axis=0)\n",
    "english_scores_avg = np.mean(english_scores, axis=0)\n",
    "science_scores_avg = np.mean(science_scores, axis=0)\n",
    "agric_scores_avg = np.mean(agric_scores, axis=0)\n",
    "\n",
    "print(\"The Average of all the Student scores in Mathematics is: \", math_scores_avg)\n",
    "print(\"The Average of all the Student scores in English is: \", english_scores_avg)\n",
    "print(\"The Average of all the Student scores in Science is: \", science_scores_avg)\n",
    "print(\"The Average of all the Student scores in Science is: \", agric_scores_avg)"
   ]
  },
  {
   "cell_type": "markdown",
   "id": "2c8d827b",
   "metadata": {},
   "source": [
    "**Applying Weights (Scalar Multiplication):**\n",
    "Science is 3 times more important than others\n",
    "\n",
    "- Representing all students science score in an array\n",
    "```\n",
    "    science_scores = [63, 85, 99, 75, 82]\n",
    "```\n",
    "- Science is thrice as important as others, `scalar m = 3`   \n",
    "\n",
    "- Scalar multiplication to apply weight on the science subject:\n",
    "   ```\n",
    "     weighted_science_score = 2(science_scores)\n",
    "     3(science_scores) => 3([63, 85, 99, 75, 82])\n",
    "                        [(3 x 63), (3 X 85), (3 X 99), (3 X 75), (3 X 82)]\n",
    "                        [160  120 225 246]\n",
    "\n",
    "    weighted_science_score = [160  120 225 246]\n"
   ]
  },
  {
   "cell_type": "code",
   "execution_count": 11,
   "id": "f60940d4",
   "metadata": {},
   "outputs": [
    {
     "name": "stdout",
     "output_type": "stream",
     "text": [
      "The weighted science score for each student is:\n",
      "  [189 255 297 225 246]\n",
      "The New Total Score for each student is:\n",
      " [[ 90  74 189  86]\n",
      " [ 96  51 255  97]\n",
      " [ 78  99 297  82]\n",
      " [ 51  66 225  84]\n",
      " [ 82  92 246  70]]\n"
     ]
    }
   ],
   "source": [
    "\n",
    "student_scores_2 = np.array([\n",
    "       [90, 74, 63, 86],\n",
    "       [96, 51, 85, 97],\n",
    "       [78, 99, 99, 82],\n",
    "       [51, 66, 75, 84],\n",
    "       [82, 92, 82, 70]])\n",
    "# scalar value\n",
    "scalar_m = 3\n",
    "# applying scalar multiplication\n",
    "weighted_science_score = scalar_m * science_scores\n",
    "\n",
    "print(\"The weighted science score for each student is:\\n \", weighted_science_score)\n",
    "new_score= np.array([\n",
    "                            [90, 74, weighted_science_score[0], 86],\n",
    "                            [96, 51, weighted_science_score[1], 97],\n",
    "                            [78, 99, weighted_science_score[2],82],\n",
    "                            [51, 66, weighted_science_score[3], 84],\n",
    "                            [82, 92, weighted_science_score[4], 70]])\n",
    "\n",
    "print(\"The New Total Score for each student is:\\n\", new_score)"
   ]
  },
  {
   "cell_type": "markdown",
   "id": "a27be87d",
   "metadata": {},
   "source": [
    "   **Total Score after Applying Weights (Scalar Multiplication) on Science Scores**             \n",
    "- Total score for each student by summing across the row vector.\n",
    "```\n",
    "       - new_student_scores_2 = [\n",
    "                            [90, 74, 189, 86],\n",
    "                            [96, 51, 255, 97],\n",
    "                            [78, 99, 297, 82],\n",
    "                            [51, 66, 225, 84],\n",
    "                            [82, 92, 246, 70]\n",
    "                            ]\n",
    "\n",
    "        - Total score for each student:\n",
    "                student_one = (90 + 74 + 189 + 86)\n",
    "                    student_one = 439\n",
    "                student_two = (96 + 51 + 255 + 97)\n",
    "                    student_two = 499\n",
    "                student_three = (78 + 99 + 297 + 82)\n",
    "                    student_three = 573\n",
    "                student_four = (51 + 66 + 225 + 84)\n",
    "                    student_four = 426\n",
    "                student_five = (82 + 92 + 246 + 70)\n",
    "                student_five = 490\n",
    "\n",
    "```\n",
    "    new total scores of each student = [439 499 573 426 490] \n",
    "\n",
    "New Students Record =\n",
    "\\begin{bmatrix}\n",
    "Students & Total Score \\\\\n",
    "Student 1 & 439 \\\\\n",
    "Student 2 & 499 \\\\\n",
    "Student 3 & 573 \\\\\n",
    "Student 4 & 426 \\\\\n",
    "Student 5 & 490 \\\\\n",
    "\\end{bmatrix}"
   ]
  },
  {
   "cell_type": "code",
   "execution_count": 12,
   "id": "d992519b",
   "metadata": {},
   "outputs": [
    {
     "name": "stdout",
     "output_type": "stream",
     "text": [
      "The total score for each student is:  [439 499 573 426 490]\n"
     ]
    }
   ],
   "source": [
    "# resetting the array after applying weight on science subject\n",
    "new_student_scores_2 = np.array([\n",
    "                            [90, 74, 189, 86],\n",
    "                            [96, 51, 255, 97],\n",
    "                            [78, 99, 297, 99],\n",
    "                            [51, 66, 225, 84],\n",
    "                            [82, 92, 246, 70]\n",
    "                            ])\n",
    "# the total score\n",
    "new_total_score = np.sum(new_student_scores_2, axis = 1)\n",
    "print(\"The total score for each student is: \", new_total_score)"
   ]
  },
  {
   "cell_type": "markdown",
   "id": "e9594500",
   "metadata": {},
   "source": [
    "## **3.5 Final Grades Using Matrix Multiplication**\n",
    "\n",
    "- Representing each subject score in an array\n",
    "  student_scores_2 = [\n",
    "                                [90, 74, 63, 86],\n",
    "                                [96, 51, 85, 97],\n",
    "                                [78, 99, 99, 82],\n",
    "                                [51, 66, 75, 84],\n",
    "                                [82, 92, 82, 70]\n",
    "                                ]\n",
    "  student_scores_2(5 X 4)\n",
    "\n",
    "```\n",
    "        weight_vector = [ 30% = 0.3 = maths,\n",
    "                          20% = 0.2 = english,\n",
    "                          40% = 0.4 = science,\n",
    "                          10% = 0.1 = agric,\n",
    "                        ]\n",
    "       weight_vector(4 X 1)\n",
    "```\n",
    " - final_grade(5 X 1) = (student_scores X weight_vector)\n",
    "                         \n",
    "                          student_1_grade = [(90 X 0.3), (74 x 0.2),  (63 X 0.4), (86 X 0.1)]\n",
    "                          student_2_grade = [(96 X 0.3), (51 x 0.2),  (85 X 0.4), (97 X 0.1)]\n",
    "                          student_3_grade = [(78 X 0.3), (99 x 0.2),  (99 X 0.4), (82 X 0.1)]\n",
    "                          student_4_grade = [(51 X 0.3), (66 x 0.2),  (75 X 0.4), (84 X 0.1)]\n",
    "                          student_5_grade = [(82 X 0.3), (92 x 0.2),  (82 X 0.4), (70 X 0.1)]\n",
    " - final_grade\n",
    "\n",
    "                          student_1_grade =   [27.  14.8 25.2  8.6]\n",
    "                          student_2_grade =   [28.8 10.2 34.   9.7]\n",
    "                          student_3_grade =   [23.4 19.8 39.6  8.2]\n",
    "                          student_4_grade =   [15.3 13.2 30.   8.4]\n",
    "                          student_5_grade =   [24.6 18.4 32.8  7. ]\n",
    "\n",
    "  - Total final grade for each student:\n",
    "  ```\n",
    "                          student_1_final = (27. + 14.8 + 25.2 +  8.6)\n",
    "                              student_1_final = 75.6 %\n",
    "\n",
    "                          student_2_final = (28.8 + 10.2 + 34. + 9.7)\n",
    "                              student_2_final = 82.7 %\n",
    "\n",
    "                          student_3_final = (23.4  + 9.8 + 39.6 + 8.2)\n",
    "                              student_3_final = 91.6%\n",
    "\n",
    "                         student_4_final = (15.3 + 13.2 + 30. +  8.4)\n",
    "                              student_4_final = 66.9%\n",
    "\n",
    "                          student_5_final = (24.6 + 18.4 + 32.8 + 7. )\n",
    "                              student_5_final = 82.8%\n",
    "\n",
    "```\n",
    "```\n",
    "- Grades\n",
    "    - A = 75 - 100\n",
    "    - B = 65 - 74\n",
    "    - C = 64 - 55\n",
    "    - D = 54 - 45\n",
    "    - E = 44 - 40\n",
    "    - F = 39 - 0\n",
    "\n",
    "Student Performance =\n",
    "\\begin{bmatrix}\n",
    "Students & Scores &Grades\\\\\n",
    "Student_1 & 75.6% & A\\\\\n",
    "Student_2 & 82.7% & A\\\\\n",
    "Student_3 & 91.6 & A\\\\\n",
    "Student_4 & 66.9% & B\\\\\n",
    "Student_4 & 82.8% & A\\\\\n",
    "\\end{bmatrix}                   \n",
    "                        "
   ]
  },
  {
   "cell_type": "code",
   "execution_count": 13,
   "id": "a0efcb49",
   "metadata": {},
   "outputs": [
    {
     "name": "stdout",
     "output_type": "stream",
     "text": [
      "Student 1 Final Grade is:  75.6 %\n",
      "Student 2 Final Grade is:  82.7 %\n",
      "Student 3 Final Grade is:  91.00000000000001 %\n",
      "Student 4 Final Grade is:  66.9 %\n",
      "Student 5 Final Grade is:  82.80000000000001 %\n",
      "Student 1 Final Grade is:  [27.  14.8 25.2  8.6] %\n",
      "Student 2 Final Grade is:  [28.8 10.2 34.   9.7] %\n",
      "Student 3 Final Grade is:  [23.4 19.8 39.6  8.2] %\n",
      "Student 4 Final Grade is:  [15.3 13.2 30.   8.4] %\n",
      "Student 5 Final Grade is:  [24.6 18.4 32.8  7. ] %\n"
     ]
    }
   ],
   "source": [
    "# representing all subject weight vector in an array\n",
    "weight_vector = [0.3, 0.2, 0.4, 0.1]\n",
    "\n",
    "student_1 = np.array(student_scores_2[0, :])\n",
    "student_2= np.array(student_scores_2[1, :])\n",
    "student_3 = np.array(student_scores_2[2, :])\n",
    "student_4 = np.array(student_scores_2[3, :])\n",
    "student_5 = np.array(student_scores_2[4, :])\n",
    "\n",
    "# calculating the sum of the students scores in each subject\n",
    "student_1_final = np.sum(student_1 * weight_vector)\n",
    "student_2_final= np.sum(student_2 * weight_vector)\n",
    "student_3_final = np.sum(student_3 * weight_vector)\n",
    "student_4_final = np.sum(student_4 * weight_vector)\n",
    "student_5_final = np.sum(student_5 * weight_vector)\n",
    "\n",
    "# adding the final grade for each student\n",
    "print(\"Student 1 Final Grade is: \", student_1_final ,\"%\")\n",
    "print(\"Student 2 Final Grade is: \", student_2_final,\"%\")\n",
    "print(\"Student 3 Final Grade is: \", student_3_final,\"%\")\n",
    "print(\"Student 4 Final Grade is: \", student_4_final,\"%\")\n",
    "print(\"Student 5 Final Grade is: \", student_5_final,\"%\")\n",
    "\n",
    "student_1_score = student_1 * weight_vector\n",
    "student_2_score= student_2 * weight_vector\n",
    "student_3_score = student_3 * weight_vector\n",
    "student_4_score = student_4 * weight_vector\n",
    "student_5_score = student_5 * weight_vector\n",
    "# adding the final grade for each student\n",
    "print(\"Student 1 Final Grade is: \", student_1_score ,\"%\")\n",
    "print(\"Student 2 Final Grade is: \", student_2_score,\"%\")\n",
    "print(\"Student 3 Final Grade is: \", student_3_score,\"%\")\n",
    "print(\"Student 4 Final Grade is: \", student_4_score,\"%\")\n",
    "print(\"Student 5 Final Grade is: \", student_5_score,\"%\")\n",
    "\n",
    "\n"
   ]
  },
  {
   "cell_type": "markdown",
   "id": "8e018254",
   "metadata": {},
   "source": [
    "## **Comparing Students (Vector Subtraction)**\n",
    "\n",
    "- comparing Student 3 and Student 3 performnances by subtracting their score vectors\n",
    "  - Total final grade for each student:\n",
    "  ```\n",
    "                           student_3_final = (23.4  + 9.8 + 39.6 + 8.2)\n",
    "                              student_3_final = 91.6%\n",
    "\n",
    "                         student_4_final = (15.3 + 13.2 + 30. +  8.4)\n",
    "                              student_4_final = 66.9%\n",
    "- Student performance comparison by subtracting their score vector:\n",
    "```\n",
    "                        performance_comparison = -student_4_final + student_3_final\n",
    "                                               =  -66.9 + 91.6\n",
    "                                               =   24.1% \n",
    "```  \n",
    "- The difference between the performance of Students 4 and Student 3 is 24.1%, Hence; Student 3 performed better                                                       \n",
    "                         "
   ]
  },
  {
   "cell_type": "code",
   "execution_count": 14,
   "id": "3c050996",
   "metadata": {},
   "outputs": [
    {
     "name": "stdout",
     "output_type": "stream",
     "text": [
      "The difference between the performance of Students 4 and Student 3 is:  24.10000000000001 % hence; student 3 performed better\n"
     ]
    }
   ],
   "source": [
    "# Student performance comparison by subtracting their score vector:\n",
    "performance_comparison = (- student_4_final) + student_3_final \n",
    "performance_comparison\n",
    "print(\"The difference between the performance of Students 4 and Student 3 is: \", performance_comparison,\"%\", \"hence; student 3 performed better\")"
   ]
  }
 ],
 "metadata": {
  "kernelspec": {
   "display_name": "my_venv (3.13.5)",
   "language": "python",
   "name": "python3"
  },
  "language_info": {
   "codemirror_mode": {
    "name": "ipython",
    "version": 3
   },
   "file_extension": ".py",
   "mimetype": "text/x-python",
   "name": "python",
   "nbconvert_exporter": "python",
   "pygments_lexer": "ipython3",
   "version": "3.13.5"
  }
 },
 "nbformat": 4,
 "nbformat_minor": 5
}
