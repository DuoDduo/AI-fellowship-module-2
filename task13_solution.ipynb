{
 "cells": [
  {
   "cell_type": "markdown",
   "id": "163c7513",
   "metadata": {},
   "source": [
    "## **Task 13 Solution** ##\n"
   ]
  },
  {
   "cell_type": "markdown",
   "id": "8a9390e8",
   "metadata": {},
   "source": [
    "**Question 1**\n",
    "- Create a 6x6 NumPy array with random integers between 1 and 50. \n",
    "- Display the array."
   ]
  },
  {
   "cell_type": "code",
   "execution_count": null,
   "id": "0c499071",
   "metadata": {},
   "outputs": [
    {
     "name": "stdout",
     "output_type": "stream",
     "text": [
      "A 6x6 Numpy Array\n",
      " [[48 37 28 49  7 24]\n",
      " [19 10 40 20  5 24]\n",
      " [47 30 24  4 36 37]\n",
      " [37 37 11 17 48  1]\n",
      " [14 32 49 36 30 12]\n",
      " [30 49  9 47 12 45]]\n"
     ]
    },
    {
     "data": {
      "text/plain": [
       "array([[ 8, 26, 41, 30, 37, 47],\n",
       "       [48, 26, 29, 40, 32, 44],\n",
       "       [ 2, 24, 28, 38, 42, 25],\n",
       "       [43,  3, 25, 43, 22, 29],\n",
       "       [12, 18, 10, 49,  2, 36],\n",
       "       [29, 19, 25,  5, 44, 28]])"
      ]
     },
     "execution_count": 126,
     "metadata": {},
     "output_type": "execute_result"
    }
   ],
   "source": [
    "\n",
    "# importing numpy library\n",
    "import numpy as np\n",
    "\n",
    "# method 2 to generate random integer numbers\n",
    "rng = np.random.default_rng()\n",
    "\n",
    "# printing random integer numbers using random and randint\n",
    "arr_6 = np.random.randint(1,50, [6, 6])\n",
    "\n",
    "# printing the 6x6 numpy array\n",
    "print(\"A 6x6 Numpy Array\\n\", arr_6)\n",
    "rng.integers(1,51, size=(6, 6))\n",
    "\n",
    "\n"
   ]
  },
  {
   "cell_type": "markdown",
   "id": "02b28004",
   "metadata": {},
   "source": [
    "**Question 2**\n",
    "Extract the following from the array you created in Question 1: \n",
    "- The first two rows. \n",
    "- The last three columns. \n",
    "- All even numbers in the array."
   ]
  },
  {
   "cell_type": "code",
   "execution_count": 130,
   "id": "93017c21",
   "metadata": {},
   "outputs": [
    {
     "name": "stdout",
     "output_type": "stream",
     "text": [
      "First two rows in the array\n",
      " [[48 37 28 49  7 24]\n",
      " [19 10 40 20  5 24]]\n",
      "The last three columns in the array\n",
      " [[49  7 24]\n",
      " [20  5 24]\n",
      " [ 4 36 37]\n",
      " [17 48  1]\n",
      " [36 30 12]\n",
      " [47 12 45]]\n",
      "This is the list of even numbers within the array\n",
      " [48 28 24 10 40 20 24 30 24  4 36 48 14 32 36 30 12 30 12]\n"
     ]
    }
   ],
   "source": [
    "\n",
    "# Extracting the first two rows\n",
    "print(\"First two rows in the array\\n\" , arr_6[0:2])\n",
    "\n",
    "# Extracting the last three columns\n",
    "print(\"The last three columns in the array\\n\" , arr_6[:, 3:])\n",
    "\n",
    "# Extracting all even numbers in the array\n",
    "even_arrays = arr_6[arr_6%2 == 0]\n",
    "print(\"This is the list of even numbers within the array\\n\", even_arrays)\n"
   ]
  },
  {
   "cell_type": "markdown",
   "id": "f087f64b",
   "metadata": {},
   "source": [
    "**Question 3**\n",
    " Perform the following array transformations:\n",
    "- Reshape the array into a 3D (3, 2, 6) array. \n",
    "-  Flatten the reshaped array back to 1D.\n"
   ]
  },
  {
   "cell_type": "code",
   "execution_count": 131,
   "id": "c724f1cd",
   "metadata": {},
   "outputs": [
    {
     "name": "stdout",
     "output_type": "stream",
     "text": [
      "Reshaped to 3x2x6: \n",
      "\n",
      " [[[48 37 28 49  7 24]\n",
      "  [19 10 40 20  5 24]]\n",
      "\n",
      " [[47 30 24  4 36 37]\n",
      "  [37 37 11 17 48  1]]\n",
      "\n",
      " [[14 32 49 36 30 12]\n",
      "  [30 49  9 47 12 45]]]\n",
      "\n",
      "Flattened the reshaped array back to 1D\n",
      " [48 37 28 49  7 24 19 10 40 20  5 24 47 30 24  4 36 37 37 37 11 17 48  1\n",
      " 14 32 49 36 30 12 30 49  9 47 12 45]\n"
     ]
    }
   ],
   "source": [
    "\n",
    "# Reshaping the array to a 3D array\n",
    "reshape_3d = arr_6.reshape(3,2,6)\n",
    "print(\"Reshaped to 3x2x6: \\n\\n\", reshape_3d)\n",
    "\n",
    "#  Flatten the reshaped array back to 1D.\n",
    "flattened = reshape_3d.flatten()\n",
    "print(\"\\nFlattened the reshaped array back to 1D\\n\", flattened)"
   ]
  },
  {
   "cell_type": "markdown",
   "id": "f2c72fd4",
   "metadata": {},
   "source": [
    "**Question 4**\n",
    "-  Generate a 4x4 identity matrix and replace the diagonal with numbers from 10 to 40, with a step of 10."
   ]
  },
  {
   "cell_type": "code",
   "execution_count": 133,
   "id": "4449d1ef",
   "metadata": {},
   "outputs": [
    {
     "name": "stdout",
     "output_type": "stream",
     "text": [
      "[[10.  0.  0.  0.]\n",
      " [ 0. 20.  0.  0.]\n",
      " [ 0.  0. 30.  0.]\n",
      " [ 0.  0.  0. 40.]]\n"
     ]
    }
   ],
   "source": [
    "# generating a 4x4 identity matrix\n",
    "identity_matrix = np.eye(4)\n",
    "\n",
    "# setting values to replace the identity matrix diagonal\n",
    "diagonal_numbers = np.arange(10, 41,10)\n",
    "\n",
    "# setting the identity diagonal numbers\n",
    "np.fill_diagonal(identity_matrix, diagonal_numbers)\n",
    "\n",
    "# displaying the matrix\n",
    "print(identity_matrix)\n",
    "\n"
   ]
  },
  {
   "cell_type": "markdown",
   "id": "6aa5d3c1",
   "metadata": {},
   "source": [
    "**Question 5**\n",
    "- Perform matrix multiplication between: A 3x4 matrix of random integers (1-10) A 4x3 matrix of random integers (1-10)"
   ]
  },
  {
   "cell_type": "code",
   "execution_count": null,
   "id": "5cde8367",
   "metadata": {},
   "outputs": [
    {
     "name": "stdout",
     "output_type": "stream",
     "text": [
      "A 3x4 matrix\n",
      " [[2 5 6 3]\n",
      " [4 3 7 4]\n",
      " [8 5 6 2]]\n",
      "A 4x3 matrix\n",
      " [[ 1  4  4]\n",
      " [ 4  6 10]\n",
      " [ 5  2  5]\n",
      " [ 3  2  7]]\n",
      "Reshaped to 3x4: \n",
      "\n",
      " [[ 1  4  4  4]\n",
      " [ 6 10  5  2]\n",
      " [ 5  3  2  7]]\n",
      "This multiplies matrix1 by matrix2: \n",
      "\n",
      " [[ 2 20 24 12]\n",
      " [24 30 35  8]\n",
      " [40 15 12 14]]\n"
     ]
    }
   ],
   "source": [
    "# A 3x4 matrix of random integers\n",
    "matrix1 = np.random.randint(1,11, [3, 4])\n",
    "print(\"A 3x4 matrix\\n\", matrix1)\n",
    "\n",
    "# A 4x3 matrix of random integers\n",
    "matrix2 = np.random.randint(1,11, [4, 3])\n",
    "print(\"A 4x3 matrix\\n\", matrix2)\n",
    "\n",
    "# Reshaping matrix2 array to a 3x4 array\n",
    "reshaped_array = matrix2.reshape(3,4)\n",
    "print(\"Reshaped to 3x4: \\n\\n\", reshaped_array)\n",
    "\n",
    "# multiplying the matrix\n",
    "multiplied_array = matrix1 * reshaped_array\n",
    "\n",
    "# printing output\n",
    "print(\"This multiplies matrix1 by matrix2: \\n\\n\", multiplied_array)\n"
   ]
  },
  {
   "cell_type": "markdown",
   "id": "20b2e11e",
   "metadata": {},
   "source": [
    "**Question 6**\n",
    "-  Create a function that takes a 2D NumPy array as input and returns a new array where:\n",
    "-  All even numbers are squared. \n",
    "- All odd numbers are replaced by -1."
   ]
  },
  {
   "cell_type": "code",
   "execution_count": 128,
   "id": "2071dd5b",
   "metadata": {},
   "outputs": [
    {
     "name": "stdout",
     "output_type": "stream",
     "text": [
      "Performing operations on 2D NumPy array\n",
      "[[  0  -1   4  -1  16  -1]\n",
      " [ 36  -1  64  -1 100  -1]\n",
      " [144  -1 196  -1 256  -1]\n",
      " [324  -1 400  -1 484  -1]]\n"
     ]
    }
   ],
   "source": [
    "# function to create the 2D numpy array\n",
    "def array_input():\n",
    "   \n",
    "    print(\"Performing operations on 2D NumPy array\")\n",
    "    \n",
    "    # taking number of row inputs\n",
    "    array_rows= np.array(int(input(\"Enter number of rows for the 2D array: \")))\n",
    "\n",
    "    # taking number of columns input\n",
    "    array_cols= np.array(int(input(\"Enter number of columns for the 2D array: \")))\n",
    "\n",
    "    # shaping the 2D array and putting the range of numbers\n",
    "    array_2d = np.arange(array_cols * array_rows).reshape(array_rows, array_cols)\n",
    "\n",
    "    # Ensuring all even numbers are squared and all odd numbers are replaced by -1.\n",
    "    new_array = np.where(array_2d % 2 == 0, array_2d**2, -1)\n",
    "    \n",
    "    # returning the 2D array\n",
    "    return new_array\n",
    "\n",
    "# printing the function\n",
    "print(array_input())\n",
    "\n"
   ]
  },
  {
   "cell_type": "code",
   "execution_count": null,
   "id": "847bf59e",
   "metadata": {},
   "outputs": [],
   "source": []
  },
  {
   "cell_type": "code",
   "execution_count": null,
   "id": "e046967e",
   "metadata": {},
   "outputs": [],
   "source": []
  }
 ],
 "metadata": {
  "kernelspec": {
   "display_name": "new_file",
   "language": "python",
   "name": "python3"
  },
  "language_info": {
   "codemirror_mode": {
    "name": "ipython",
    "version": 3
   },
   "file_extension": ".py",
   "mimetype": "text/x-python",
   "name": "python",
   "nbconvert_exporter": "python",
   "pygments_lexer": "ipython3",
   "version": "3.13.5"
  }
 },
 "nbformat": 4,
 "nbformat_minor": 5
}
