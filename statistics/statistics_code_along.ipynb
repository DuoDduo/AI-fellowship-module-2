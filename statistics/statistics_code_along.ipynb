{
 "cells": [
  {
   "cell_type": "markdown",
   "id": "a42e9184",
   "metadata": {},
   "source": [
    "### **Statistics**"
   ]
  },
  {
   "cell_type": "markdown",
   "id": "3e3f1352",
   "metadata": {},
   "source": [
    "- Statistics is the science of **collecting**, **organizing**, **analyzing**, **interpreting**, and **presenting data** to make **informed decisions**. \n",
    "\n",
    "- Lets think of it as a toolkit that helps us make sense of numbers and discover patterns in the world around us."
   ]
  },
  {
   "cell_type": "markdown",
   "id": "dd403cb7",
   "metadata": {},
   "source": [
    "**There are two main branches**\n",
    "\n",
    "1. **Descriptive Statistics**\n",
    "\n",
    "- Deals with summarizing, organizing, and presenting data we already have.\n",
    "\n",
    "- Uses measures like mean (average), median, mode, range, variance, and standard deviation to describe a dataset.\n",
    "\n",
    "- Also involves graphs, charts, and tables for easy visualization.\n",
    "\n",
    "- For example calculating the average coding hours of AI engineering students.\n",
    "\n",
    "2. **Inferential Statistics**\n",
    "\n",
    "- Uses data from a sample to make conclusions or predictions about a larger population.\n",
    "\n",
    "- Involves methods like correlation, regression, hypothesis testing, chi-square tests, t-tests, and ANOVA.\n",
    "\n",
    "- Helps in data-driven decision making by testing ideas and estimating outcomes with a level of certainty.\n",
    "\n",
    "- Foundation of predictive analysis, guiding policymakers and organizations in making strategic decisions.\n",
    "\n",
    "- For example, uing a survey of 1,000 people to predict how millions will vote in a presidential election."
   ]
  },
  {
   "cell_type": "markdown",
   "id": "7fedbb4a",
   "metadata": {},
   "source": [
    "**Why Statistics**\n",
    "- Beyond the confusing formulas and outrageous numbers, statistics will help us answer questions like;\n",
    "\n",
    "   - What's typical? (measures of center)\n",
    "   - How much variation is there?(measures of spread)\n",
    "   - Is this pattern real or just coincidence? (hypothesis testing)\n",
    "   - Can we predict future outcomes?(regression)"
   ]
  },
  {
   "cell_type": "markdown",
   "id": "a1ae9494",
   "metadata": {},
   "source": [
    "**Understanding statistics concepts with codes**"
   ]
  },
  {
   "cell_type": "code",
   "execution_count": 16,
   "id": "0c3cf77a",
   "metadata": {},
   "outputs": [],
   "source": [
    "import numpy as np\n",
    "import pandas as pd\n",
    "import matplotlib.pyplot as plt\n",
    "import scipy.stats as stats"
   ]
  },
  {
   "cell_type": "code",
   "execution_count": 44,
   "id": "3d9c0d2f",
   "metadata": {},
   "outputs": [],
   "source": [
    "# setting random seed for reproducibility\n",
    "np.random.seed(40)"
   ]
  },
  {
   "cell_type": "code",
   "execution_count": null,
   "id": "def08a27",
   "metadata": {},
   "outputs": [
    {
     "data": {
      "text/plain": [
       "array([ 87.15923732,  70.43250214,  78.66763734,  89.27973866,\n",
       "        80.77793708,  85.02291695,  89.7131645 ,  95.66031395,\n",
       "        72.46346869,  60.40820454,  82.67671681,  60.02987887,\n",
       "        75.37652351,  81.66922793,  93.67561015,  90.40899235,\n",
       "        68.69690819, 104.42824559,  54.52407514,  80.40072209,\n",
       "        62.4943163 ,  57.2790668 ,  68.77558302,  74.78937089,\n",
       "        98.41225467,  79.41717259,  63.28440871,  79.25170238,\n",
       "        67.33258968,  72.03937915,  68.86553843,  71.0382253 ,\n",
       "        57.59787308,  74.7122058 ,  40.05315747,  70.25776064,\n",
       "        82.16099481,  53.05976933,  40.63266623,  83.30965498,\n",
       "        89.51163619,  82.98475059,  67.61919259,  73.5372882 ,\n",
       "        79.96729413,  61.25685047,  74.49746265,  79.22350236,\n",
       "        44.87987472,  73.56476563,  80.20139073,  69.8442207 ,\n",
       "        71.9513029 ,  65.26711906,  55.41536415,  64.49358776,\n",
       "        79.22291681,  87.90829148,  80.48711319,  84.87389833,\n",
       "        69.17282845,  63.2433886 ,  73.19657846,  98.46664735,\n",
       "        68.02682856,  80.29990584,  56.97121722,  54.92470423,\n",
       "        85.75232417,  69.40266848,  85.0397909 ,  65.86684489,\n",
       "        79.16261502,  69.51043773,  87.09326693,  57.55455312,\n",
       "        54.29422031,  71.35771064,  56.62500482,  85.63399827,\n",
       "        74.98099162,  62.77335469,  82.7311196 ,  71.46862397,\n",
       "        92.37733813,  76.84274032,  74.82201165,  92.89172684,\n",
       "        79.93707132,  65.13792242,  76.48496955,  55.03043163,\n",
       "        94.10347259, 102.24262859,  72.19698579,  73.47757972,\n",
       "        85.49577843,  76.24199949,  86.31824544,  77.34164862])"
      ]
     },
     "execution_count": 45,
     "metadata": {},
     "output_type": "execute_result"
    }
   ],
   "source": [
    "# simulating a dataset for AI Engineering students\n",
    "# Traditional Learning - Classroom based\n",
    "\n",
    "# creating a 25hours/week and standard deviation of 5hrs\n",
    "traditional_study_hours = np.random.normal(25, 5, 100)\n",
    "\n",
    "# accelerated learning(project-based and hands-on style)\n",
    "\n",
    "# at 35hours/week and a standard deviation of 8hours\n",
    "accelerated_study_hours = np.random.normal(35, 8, 100) \n",
    "# 35=mean(loc), 8=standard deviation(scale), 100=one dimensional array of 100 numbers size() \n",
    "\n",
    "# scores correlating with study hours but has some randomness\n",
    "traditional_scores = np.random.normal(75, 12, 100) #mean of 75, std of 12\n",
    "accelerated_scores = np.random.normal(82, 15, 100)\n",
    "\n",
    "# generating project completion counts\n",
    "traditional_projects = np.random.poisson(8, 10) # average 8 projects\n",
    "accelerated_projects = np.random.poisson(12, 100) # average 12 projects\n",
    "\n",
    "\n",
    "traditional_scores\n",
    "# 79.29344832"
   ]
  },
  {
   "cell_type": "code",
   "execution_count": null,
   "id": "ef4e83a2",
   "metadata": {},
   "outputs": [],
   "source": [
    "\n",
    "\n",
    "\n",
    "\n",
    "\n",
    "\n",
    "\n"
   ]
  }
 ],
 "metadata": {
  "kernelspec": {
   "display_name": "my_venv (3.13.5)",
   "language": "python",
   "name": "python3"
  },
  "language_info": {
   "codemirror_mode": {
    "name": "ipython",
    "version": 3
   },
   "file_extension": ".py",
   "mimetype": "text/x-python",
   "name": "python",
   "nbconvert_exporter": "python",
   "pygments_lexer": "ipython3",
   "version": "3.13.5"
  }
 },
 "nbformat": 4,
 "nbformat_minor": 5
}
