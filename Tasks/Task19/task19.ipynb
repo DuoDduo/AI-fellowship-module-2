{
 "cells": [
  {
   "cell_type": "markdown",
   "id": "7c7b25ee",
   "metadata": {},
   "source": [
    "## **Chicago Crime Data Analysis** ##"
   ]
  },
  {
   "cell_type": "code",
   "execution_count": 7,
   "id": "6a939738",
   "metadata": {},
   "outputs": [],
   "source": [
    "# Install required packages\n",
    "# %pip install gdown dask pyarrow"
   ]
  },
  {
   "cell_type": "markdown",
   "id": "fe4fb9b5",
   "metadata": {},
   "source": [
    "## **Dataset Setup and Loading**"
   ]
  },
  {
   "cell_type": "code",
   "execution_count": 8,
   "id": "da48deb2",
   "metadata": {},
   "outputs": [],
   "source": [
    "# Import the necessary libraries\n",
    "import gdown\n",
    "import zipfile\n",
    "\n",
    "\n",
    "#libraries for data wrangling\n",
    "import pandas as pd\n",
    "import numpy as np\n",
    "\n",
    "#libraries for visualization\n",
    "import matplotlib.pyplot as plt\n",
    "import seaborn as sns\n",
    "\n",
    "\n",
    "# import dask.dataframe as dd"
   ]
  },
  {
   "cell_type": "code",
   "execution_count": 9,
   "id": "094def8c",
   "metadata": {},
   "outputs": [],
   "source": [
    "#set up views\n",
    "pd.set_option('display.max_columns', None)\n",
    "pd.set_option(\"display.width\", 1000)"
   ]
  },
  {
   "cell_type": "code",
   "execution_count": 10,
   "id": "7c8f4bba",
   "metadata": {},
   "outputs": [],
   "source": [
    "# Download dataset from Google Drive\n",
    "# rawlink= \"https://drive.google.com/file/d/1ib1PWK_3oaaSfThqfnfSoPZq7vA1g33X/view?usp=sharing\"\n",
    "# file_id = \"1ib1PWK_3oaaSfThqfnfSoPZq7vA1g33X\"\n",
    "# output = \"crime.zip\"\n",
    "# gdown.download(f\"https://drive.google.com/uc?id={file_id}\", output, quiet=False)"
   ]
  },
  {
   "cell_type": "code",
   "execution_count": 11,
   "id": "460e6123",
   "metadata": {},
   "outputs": [],
   "source": [
    "# with zipfile.ZipFile(output, \"r\") as z:\n",
    "#     # List files\n",
    "#     print(z.namelist())\n",
    "#     z.extractall(\"crime_data\")"
   ]
  },
  {
   "cell_type": "code",
   "execution_count": null,
   "id": "77f840f6",
   "metadata": {},
   "outputs": [],
   "source": [
    "# Explicitly defining data types for each column in the Crimes dataset to reduce memory usage\n",
    "dtypes_dict = {\n",
    "    'ID': 'Int32',                 \n",
    "    'Case Number': 'string',        \n",
    "    'Block': 'string',              \n",
    "    'IUCR': 'string',              \n",
    "    'Primary Type': 'category',    \n",
    "    'Description': 'category',      \n",
    "    'Location Description': 'category', \n",
    "    'Arrest': 'boolean',              \n",
    "    'Domestic': 'boolean',             \n",
    "    'Beat': 'Int16',                \n",
    "    'District': 'Int8',             \n",
    "    'Ward': 'Int8',                \n",
    "    'Community Area': 'Int8',      \n",
    "    'FBI Code': 'category',         \n",
    "    'X Coordinate': 'float32',      \n",
    "    'Y Coordinate': 'float32',     \n",
    "    'Year': 'float64',             \n",
    "    'Latitude': 'float32',         \n",
    "    'Longitude': 'float32',        \n",
    "    'Location': 'string'            \n",
    "}\n",
    "\n",
    "crime_data = pd.read_csv(\n",
    "    \"crime_data/Crimes_-_2001_to_Present.csv\",\n",
    "    dtype=dtypes_dict,\n",
    "    parse_dates=['Date', 'Updated On'],\n",
    "    date_format=\"%m/%d/%Y %I:%M:%S %p\",\n",
    "    keep_default_na=True,\n",
    "    low_memory=False\n",
    ")\n",
    "\n",
    "\n",
    "\n",
    "# Preview the first 5 rows of the dataset\n",
    "crime_data.head()\n"
   ]
  },
  {
   "cell_type": "markdown",
   "id": "f06af761",
   "metadata": {},
   "source": [
    "## **Preliminary Data Analysis**"
   ]
  },
  {
   "cell_type": "code",
   "execution_count": null,
   "id": "8c985a08",
   "metadata": {},
   "outputs": [],
   "source": [
    "# copying the data into a new variable for wrangling\n",
    "crime_data2 = crime_data.copy()\n",
    "crime_data2.head(1)"
   ]
  },
  {
   "cell_type": "code",
   "execution_count": null,
   "id": "ba46f3b7",
   "metadata": {},
   "outputs": [],
   "source": [
    "crime_data2.info()"
   ]
  },
  {
   "cell_type": "code",
   "execution_count": null,
   "id": "8381fd12",
   "metadata": {},
   "outputs": [],
   "source": [
    "# Checking the  data types\n",
    "crime_data2.dtypes\n",
    "\n",
    "\n"
   ]
  },
  {
   "cell_type": "code",
   "execution_count": null,
   "id": "b9b3b0a0",
   "metadata": {},
   "outputs": [],
   "source": [
    "# Check column names\n",
    "crime_data2.columns"
   ]
  },
  {
   "cell_type": "code",
   "execution_count": null,
   "id": "4a4956d9",
   "metadata": {},
   "outputs": [],
   "source": [
    "# Preview first 5 rows\n",
    "crime_data2.head()\n"
   ]
  },
  {
   "cell_type": "code",
   "execution_count": null,
   "id": "6b499eb2",
   "metadata": {},
   "outputs": [],
   "source": [
    "# Rename all columns to lowercase and replace spaces with underscores\n",
    "crime_data2= crime_data2.rename(columns=lambda x: x.strip().lower().replace(\" \", \"_\"))"
   ]
  },
  {
   "cell_type": "code",
   "execution_count": null,
   "id": "9ec8d869",
   "metadata": {},
   "outputs": [],
   "source": [
    "# Preview updated column names\n",
    "crime_data2.columns"
   ]
  },
  {
   "cell_type": "code",
   "execution_count": null,
   "id": "c1b8c937",
   "metadata": {},
   "outputs": [],
   "source": [
    "crime_data2.head()"
   ]
  },
  {
   "cell_type": "code",
   "execution_count": null,
   "id": "fa9509d9",
   "metadata": {},
   "outputs": [],
   "source": [
    "#Check for missing values in each column\n",
    "crime_data.isnull().sum()\n"
   ]
  },
  {
   "cell_type": "code",
   "execution_count": null,
   "id": "bbbc68ec",
   "metadata": {},
   "outputs": [],
   "source": [
    "#Check for missing values in each column\n",
    "crime_data.isna().sum()"
   ]
  },
  {
   "cell_type": "code",
   "execution_count": null,
   "id": "66dc13bc",
   "metadata": {},
   "outputs": [],
   "source": [
    "# checking for duplicate values\n",
    "crime_data2.duplicated().sum()"
   ]
  },
  {
   "cell_type": "code",
   "execution_count": null,
   "id": "bbff0734",
   "metadata": {},
   "outputs": [],
   "source": [
    "\n",
    "# checking for empty values\n",
    "crime_data2.empty"
   ]
  },
  {
   "cell_type": "markdown",
   "id": "c3b1876f",
   "metadata": {},
   "source": [
    "## **Exploratory Data Analysis**"
   ]
  },
  {
   "cell_type": "code",
   "execution_count": null,
   "id": "bc1e707f",
   "metadata": {},
   "outputs": [],
   "source": [
    "# checking the number of years of the data\n",
    "crime_data2[\"year\"] = crime_data2[\"year\"].astype(\"int\").astype(\"int\")\n",
    "crime_data2[\"year\"].unique()"
   ]
  },
  {
   "cell_type": "code",
   "execution_count": null,
   "id": "25c39453",
   "metadata": {},
   "outputs": [],
   "source": [
    "# checking the number of unique years\n",
    "crime_data2[\"year\"].nunique()"
   ]
  },
  {
   "cell_type": "markdown",
   "id": "24344c61",
   "metadata": {},
   "source": [
    "## Descriptive Analysis (Numerical variables)\n",
    "- Using the .describe() function."
   ]
  },
  {
   "cell_type": "code",
   "execution_count": null,
   "id": "2ce3a848",
   "metadata": {},
   "outputs": [],
   "source": [
    "# Select numeric columns only \n",
    "numeric_cols = crime_data.select_dtypes(include=[\"number\"]).columns\n",
    "numeric_summary = crime_data[numeric_cols].astype(\"float64\").describe()\n",
    "\n",
    "print(numeric_summary)\n",
    "# numeric_cols.describe()\n"
   ]
  },
  {
   "cell_type": "code",
   "execution_count": null,
   "id": "83610cc4",
   "metadata": {},
   "outputs": [],
   "source": [
    "crime_data2.shape"
   ]
  },
  {
   "cell_type": "code",
   "execution_count": null,
   "id": "7c09a39d",
   "metadata": {},
   "outputs": [],
   "source": [
    "# # extracting the month and year from the date column\n",
    "crime_data2[\"year\"]= crime_data2['date'].dt.year\n",
    "crime_data2[\"month\"] = crime_data2[\"date\"].dt.month_name()\n",
    "crime_data2['day'] = crime_data2['date'].dt.day\n",
    "crime_data2['hour'] = crime_data2['date'].dt.hour\n",
    "crime_data2['day_of_week'] = crime_data2['date'].dt.dayofweek  # 0=Monday, 6=Sunday\n",
    "crime_data2['day_name'] = crime_data2['date'].dt.day_name()\n",
    "crime_data2['month_name'] = crime_data2['date'].dt.month_name()\n",
    "crime_data2['quarter'] = crime_data2['date'].dt.quarter\n",
    "crime_data2['is_weekend'] = crime_data2['day_of_week'].isin([5, 6])\n",
    "\n",
    "\n",
    "\n",
    "# Time periods\n",
    "crime_data2['time_period'] = pd.cut(crime_data2['hour'], \n",
    "                              bins=[0, 6, 12, 18, 24], \n",
    "                              labels=['Night', 'Morning', 'Afternoon', 'Evening'],\n",
    "                              include_lowest=True)\n",
    "print(\"Data Extracted Successfully,New Columns added\\n\")\n",
    "crime_data2.head()"
   ]
  },
  {
   "cell_type": "code",
   "execution_count": null,
   "id": "fff02dbc",
   "metadata": {},
   "outputs": [],
   "source": [
    "crime_data2.year"
   ]
  },
  {
   "cell_type": "code",
   "execution_count": null,
   "id": "cf006aba",
   "metadata": {},
   "outputs": [],
   "source": [
    "# checking the columns in the dataset for the new columns added\n",
    "crime_data2.columns()"
   ]
  },
  {
   "cell_type": "code",
   "execution_count": null,
   "id": "0c688e98",
   "metadata": {},
   "outputs": [],
   "source": []
  },
  {
   "cell_type": "markdown",
   "id": "ed39b912",
   "metadata": {},
   "source": [
    "# Certain Crimes in the last ten years"
   ]
  },
  {
   "cell_type": "code",
   "execution_count": null,
   "id": "acad5d18",
   "metadata": {},
   "outputs": [],
   "source": [
    "# Filter the dataset for the last 10 years (2013–2023)\n",
    "crime_ten_yrs = crime_data2[crime_data2[\"year\"] >= 2013]\n",
    "crime_ten_yrs.tail(1000)"
   ]
  },
  {
   "cell_type": "code",
   "execution_count": null,
   "id": "65d93f5f",
   "metadata": {},
   "outputs": [],
   "source": [
    "# Setting 'primary_type' as the index\n",
    "# crime_ten_yrs = crime_ten_yrs.set_index(\"primary_type\")"
   ]
  },
  {
   "cell_type": "code",
   "execution_count": null,
   "id": "e3869bf1",
   "metadata": {},
   "outputs": [],
   "source": [
    "\n",
    "# Count how many unique crime types exist in the last 10years\n",
    "unique_count = crime_ten_yrs[\"primary_type\"].nunique()\n",
    "print(\"\\nThe Number of unique crime types recorded in (2013–2023):\", unique_count)\n"
   ]
  },
  {
   "cell_type": "code",
   "execution_count": null,
   "id": "560a6a29",
   "metadata": {},
   "outputs": [],
   "source": [
    "# Get the unique crime types within the last 10 years\n",
    "unique_crime_types = crime_ten_yrs[\"primary_type\"].unique()\n",
    "print(\"The Unique crime types recorded from 2013–2023:\\n\", unique_crime_types)\n"
   ]
  },
  {
   "cell_type": "code",
   "execution_count": null,
   "id": "3fec9a61",
   "metadata": {},
   "outputs": [],
   "source": [
    "\n",
    "# Getting the number of counts of each crime type in the last 10 years\n",
    "crime_type_counts = crime_ten_yrs[\"primary_type\"].value_counts()\n",
    "print(\"\\nCrime type counts (2013–2023):\\n\", crime_type_counts)"
   ]
  },
  {
   "cell_type": "markdown",
   "id": "2d1000d9",
   "metadata": {},
   "source": [
    "# Data Visualization for all the crimes recorded in the dataset"
   ]
  },
  {
   "cell_type": "code",
   "execution_count": null,
   "id": "2a8b72f9",
   "metadata": {},
   "outputs": [],
   "source": [
    "# top \n",
    "# Count all crime types from the index\n",
    "crime_type_counts = crime_ten_yrs.index.value_counts()\n",
    "print(\"\\nCrime type counts (2013–2023):\\n\", crime_type_counts)"
   ]
  },
  {
   "cell_type": "code",
   "execution_count": null,
   "id": "3b4fb462",
   "metadata": {},
   "outputs": [],
   "source": [
    "# Create vertical bar chart\n",
    "plt.figure(figsize=(20,10))\n",
    "bars = plt.bar(crime_type_counts.index, crime_type_counts.values, color=\"#1f77b4\")\n",
    "\n",
    "# Add chart title and labels\n",
    "plt.title(\"All Crime Types Recorded (2013–2023)\", fontsize=16, weight=\"bold\")\n",
    "plt.xlabel(\"Crime Type\", fontsize=12)\n",
    "plt.ylabel(\"Number of Records\", fontsize=12)\n",
    "\n",
    "# Rotate x labels for readability\n",
    "plt.xticks(rotation=75, ha=\"right\")\n",
    "\n",
    "# Add labels on top of bars\n",
    "plt.bar_label(bars, fmt=\"%.0f\", padding=3)\n",
    "\n",
    "# Show chart\n",
    "plt.tight_layout()\n",
    "plt.show()# "
   ]
  },
  {
   "cell_type": "markdown",
   "id": "a01b201b",
   "metadata": {},
   "source": [
    "# Top Ten Crimes in the Last Ten Years (2013-2023)"
   ]
  },
  {
   "cell_type": "code",
   "execution_count": null,
   "id": "065ac033",
   "metadata": {},
   "outputs": [],
   "source": [
    "# Sort crime counts and take Top 10\n",
    "top_crimes = crime_ten_yrs['primary_type'].value_counts().sort_values(ascending=False).head(10)\n",
    "print(\"Top ten crimes in the last ten years\\n\",top_crimes)"
   ]
  },
  {
   "cell_type": "code",
   "execution_count": null,
   "id": "5ca39a3b",
   "metadata": {},
   "outputs": [],
   "source": [
    "top_crimes = crime_ten_yrs['primary_type'].value"
   ]
  },
  {
   "cell_type": "code",
   "execution_count": null,
   "id": "ff1a2dcd",
   "metadata": {},
   "outputs": [],
   "source": [
    "# Create vertical bar chart\n",
    "plt.figure(figsize=(10,6))\n",
    "bars = plt.bar(top_crimes.index, top_crimes.values, color=\"#47b41f\")\n",
    "\n",
    "# Add chart title and labels\n",
    "plt.title(\"Top 10 Crime Types Recorded (2013–2023)\", fontsize=16, weight=\"bold\")\n",
    "plt.xlabel(\"Crime Type\", fontsize=12)\n",
    "plt.ylabel(\"Number of Records\", fontsize=12)\n",
    "\n",
    "# Rotate x labels\n",
    "plt.xticks(rotation=45, ha=\"right\")\n",
    "\n",
    "# Add value labels on top of bars\n",
    "plt.bar_label(bars, fmt=\"%.0f\", padding=3)\n",
    "\n",
    "# displaying chart\n",
    "plt.show()"
   ]
  },
  {
   "cell_type": "markdown",
   "id": "0988a66a",
   "metadata": {},
   "source": [
    "**Theft (2013-2023)**"
   ]
  },
  {
   "cell_type": "code",
   "execution_count": null,
   "id": "5462325e",
   "metadata": {},
   "outputs": [],
   "source": [
    "# selecting the theft in the last ten years\n",
    "theft = crime_ten_yrs.loc[\"THEFT\"]"
   ]
  },
  {
   "cell_type": "code",
   "execution_count": null,
   "id": "c73ba652",
   "metadata": {},
   "outputs": [],
   "source": [
    "# Getting the number of counts of each crime type in the last 10 years\n",
    "theft_ten_yrs = crime_ten_yrs[crime_ten_yrs[\"primary_type\"] == \"THEFT\"].value_counts()\n",
    "print(\"\\nTheft recorded from (2013–2023):\\n\", theft_ten_yrs)"
   ]
  },
  {
   "cell_type": "code",
   "execution_count": null,
   "id": "a1eb6b33",
   "metadata": {},
   "outputs": [],
   "source": [
    "# brouping the theft by year\n",
    "theft_grouped_by_10yr = theft_ten_yrs.groupby(\"year\").sum().sort_values(ascending= True)\n",
    "theft_grouped_by_10yr"
   ]
  },
  {
   "cell_type": "code",
   "execution_count": null,
   "id": "816f28c0",
   "metadata": {},
   "outputs": [],
   "source": []
  },
  {
   "cell_type": "code",
   "execution_count": null,
   "id": "1c7c4993",
   "metadata": {},
   "outputs": [],
   "source": [
    "#Select only the THEFT crimes\n",
    "# theft_crime = crime_ten_yrs.loc[\"THEFT\"]"
   ]
  },
  {
   "cell_type": "code",
   "execution_count": null,
   "id": "459bef41",
   "metadata": {},
   "outputs": [],
   "source": [
    "# #Grouping by year and count\n",
    "# theft_by_year = theft_crime.groupby(\"year\").size()\n",
    "\n",
    "# # Plotting the line chart\n",
    "# plt.figure(figsize=(10,6))\n",
    "# sns.lineplot(x=theft_by_year.index, y=theft_by_year.values, \n",
    "#              marker=\"o\", color=\"crimson\", linewidth=2)\n",
    "\n",
    "# # Adding the chart details\n",
    "# plt.title(\"Theft Cases Recorded (2013–2023)\", fontsize=16, weight=\"bold\")\n",
    "# plt.xlabel(\"Year\", fontsize=12)\n",
    "# plt.ylabel(\"Number of Thefts\", fontsize=12)\n",
    "\n",
    "# # Add grid \n",
    "# plt.grid(True, linestyle=\"--\", alpha=0.6)\n",
    "\n",
    "# plt.show()"
   ]
  }
 ],
 "metadata": {
  "kernelspec": {
   "display_name": "my_venv",
   "language": "python",
   "name": "python3"
  },
  "language_info": {
   "codemirror_mode": {
    "name": "ipython",
    "version": 3
   },
   "file_extension": ".py",
   "mimetype": "text/x-python",
   "name": "python",
   "nbconvert_exporter": "python",
   "pygments_lexer": "ipython3",
   "version": "3.12.1"
  }
 },
 "nbformat": 4,
 "nbformat_minor": 5
}
