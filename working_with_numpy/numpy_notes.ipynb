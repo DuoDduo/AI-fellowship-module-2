{
 "cells": [
  {
   "cell_type": "markdown",
   "id": "c2498f04",
   "metadata": {},
   "source": []
  },
  {
   "cell_type": "markdown",
   "id": "eef41f84",
   "metadata": {},
   "source": [
    "### **`Understanding Numpy`**"
   ]
  },
  {
   "cell_type": "markdown",
   "id": "d30d6b68",
   "metadata": {
    "vscode": {
     "languageId": "markdown"
    }
   },
   "source": [
    "- Numpy (Numerical Python) is the foundation library for scientific computing in Python.\n",
    "- It provides a N-dimensional array object and tools for working with these arrays.\n",
    "\n",
    "- Think of Numpy as the engine that powers most data science libraries- pandas uses Numpy arrays internally, scikit-learn expects Numpy arrays for machine learning and matplotlib uses Numpy for plotting.\n",
    "\n",
    "- Numpy operations are implemented in C, making them 10-100x faster than pure python\n",
    "- NumPy arrays store data more compactly than python lists.\n",
    "- It perform operations on entire arrays without writing loops (Vectorization).\n",
    "- Foundation for pandas, scikit-learn, matplotlib, and more."
   ]
  },
  {
   "cell_type": "code",
   "execution_count": 2,
   "id": "b5944f7c",
   "metadata": {},
   "outputs": [
    {
     "name": "stdout",
     "output_type": "stream",
     "text": [
      "Numpy version: 2.3.3\n"
     ]
    }
   ],
   "source": [
    "# import all necessary libraries\n",
    "\n",
    "import numpy as np\n",
    "import matplotlib.pyplot as plt\n",
    "import time\n",
    "\n",
    "# check numpy version\n",
    "print(f\"Numpy version:\", np.__version__)\n",
    "\n",
    "# Diplay settings for cleaner output\n",
    "np.set_printoptions(precision=1, suppress=True)"
   ]
  },
  {
   "cell_type": "markdown",
   "id": "1dd12a03",
   "metadata": {},
   "source": [
    "**Creating NumPy Arrays**"
   ]
  },
  {
   "cell_type": "code",
   "execution_count": 3,
   "id": "445f58fc",
   "metadata": {},
   "outputs": [
    {
     "name": "stdout",
     "output_type": "stream",
     "text": [
      "1D array:  [1 2 3 4 5]\n",
      "2D array:\n",
      "  [[1 2 3]\n",
      " [4 5 6]]\n",
      "3D array:\n",
      "  [[[1 2]\n",
      "  [3 4]]\n",
      "\n",
      " [[5 6]\n",
      "  [7 8]]]\n"
     ]
    }
   ],
   "source": [
    "# creating arrays from python lists\n",
    "# 1D array: A simple seauence of numbers\n",
    "arr1d = np.array([1, 2, 3, 4, 5])\n",
    "\n",
    "# 2D array: Think of this as a matrix or table with rows and columns\n",
    "arr2d = np.array([[1, 2 ,3],\n",
    "                  [4,5,6]])\n",
    "\n",
    "# 3D array: Like a stack of 2D arrays - useful for images, time series, e.t.c\n",
    "arr3d = np.array([\n",
    "                     [[1, 2], [3, 4]],\n",
    "                     [[5, 6], [7, 8]]\n",
    "                ])\n",
    "\n",
    "print(\"1D array: \", arr1d)\n",
    "print(\"2D array:\\n \", arr2d)\n",
    "print(\"3D array:\\n \", arr3d)\n"
   ]
  },
  {
   "cell_type": "markdown",
   "id": "fb4d99f4",
   "metadata": {},
   "source": [
    "When you pass a nested list to `np.array()`, NumPy automatically determines the dimensions. The 1D array is like a single row, 2D is like a spreadsheet, and 3D is like multiple spreadsheets stacked together."
   ]
  },
  {
   "cell_type": "markdown",
   "id": "49d86ac0",
   "metadata": {},
   "source": [
    "**Creating Special Arrays in Numpy**\n"
   ]
  },
  {
   "cell_type": "code",
   "execution_count": 4,
   "id": "04b39649",
   "metadata": {},
   "outputs": [
    {
     "name": "stdout",
     "output_type": "stream",
     "text": [
      "Zeros Array (3x4): \n",
      " [[0. 0. 0. 0.]\n",
      " [0. 0. 0. 0.]\n",
      " [0. 0. 0. 0.]]\n",
      "Ones array shape:\n",
      "  [[[1. 1. 1. 1.]\n",
      "  [1. 1. 1. 1.]\n",
      "  [1. 1. 1. 1.]]\n",
      "\n",
      " [[1. 1. 1. 1.]\n",
      "  [1. 1. 1. 1.]\n",
      "  [1. 1. 1. 1.]]]\n",
      "Ones array shape:\n",
      "  (2, 3, 4)\n",
      "Empty array (contains random values): \n",
      " [[-0. -0.  0.]\n",
      " [ 0.  0.  0.]]\n"
     ]
    }
   ],
   "source": [
    "# creating arrays filled with zeros - useful for initializing arrays\n",
    "# Shape (3, 4) means 3 rows and 4 columns\n",
    "zeros = np.zeros((3,4))\n",
    "\n",
    "# creating arrays filled with ones- often used as starting points\n",
    "ones = np.ones ((2, 3, 4) ) #3D array: 2 layers, 3 rows, 4 columns\n",
    "\n",
    "# Empty array- faster than zeros/ones but contains random values\n",
    "# use when you will immediately fill the array with real data\n",
    "\n",
    "empty= np.empty((2, 3))\n",
    "\n",
    "print(\"Zeros Array (3x4): \\n\", zeros)\n",
    "print(\"Ones array shape:\\n \", ones)\n",
    "print(\"Ones array shape:\\n \", ones.shape)\n",
    "print(\"Empty array (contains random values): \\n\", empty)\n"
   ]
  },
  {
   "cell_type": "markdown",
   "id": "5a6c9946",
   "metadata": {},
   "source": [
    "`zeros()` and `ones()` are memory-efficient ways to create arrays of specific sizes. `empty()` is fastest but contains garbage values, so only use it when you will immediately overwrite the contents."
   ]
  },
  {
   "cell_type": "code",
   "execution_count": 5,
   "id": "3f991e62",
   "metadata": {},
   "outputs": [
    {
     "name": "stdout",
     "output_type": "stream",
     "text": [
      "Range array:  [0 2 4 6 8]\n",
      "Linspace array:  [0.  0.1 0.2 0.3 0.4 0.5 0.6 0.7 0.8 0.9 1.  1.1 1.2 1.3 1.4 1.5 1.6 1.7\n",
      " 1.8 1.9 2.  2.1 2.2 2.3 2.4 2.6 2.7 2.8 2.9 3.  3.1 3.2 3.3 3.4 3.5 3.6\n",
      " 3.7 3.8 3.9 4.  4.1 4.2 4.3 4.4 4.5 4.6 4.7 4.8 4.9 5. ]\n",
      "Logspace array:  [  1.    3.2  10.   31.6 100. ]\n"
     ]
    }
   ],
   "source": [
    "# Range arrays - like Python's range() but more powerful\n",
    "range_arr = np.arange(0, 10, 2) #Start, Stop, Step: [0, 2, 4, 6, 8]\n",
    "print(\"Range array: \", range_arr)\n",
    "\n",
    "# linearly spaced arrays - divide a range into equal parts\n",
    "# From 0 to 1 with exactly 5 points (including endpoints)\n",
    "linspace_arr = np.linspace(0, 5, 50)\n",
    "print(\"Linspace array: \", linspace_arr)\n",
    "\n",
    "# Logarithmically spaced arrays - useful for scientific data\n",
    "# From 10^0 to 10^2 (1 to 100) with 5 points\n",
    "logspace_arr = np.logspace(0, 2, 5)\n",
    "print(\"Logspace array: \", logspace_arr)"
   ]
  },
  {
   "cell_type": "code",
   "execution_count": 6,
   "id": "5a6857fa",
   "metadata": {},
   "outputs": [
    {
     "name": "stdout",
     "output_type": "stream",
     "text": [
      "Identity matrix: \n",
      " [[1. 0. 0. 0.]\n",
      " [0. 1. 0. 0.]\n",
      " [0. 0. 1. 0.]\n",
      " [0. 0. 0. 1.]]\n",
      "\n",
      "Diagonal matrix: \n",
      " [[1 0 0 0 0]\n",
      " [0 2 0 0 0]\n",
      " [0 0 3 0 0]\n",
      " [0 0 0 4 0]\n",
      " [0 0 0 0 5]]\n",
      "\n",
      "Full array (filled with 7):\n",
      " [[7 7 7]\n",
      " [7 7 7]\n",
      " [7 7 7]]\n"
     ]
    }
   ],
   "source": [
    "# Identity matrix - diagonal of ones, zeros elsewhere\n",
    "# Essential for linear algebra operations\n",
    "\n",
    "identity = np.eye(4) # 4x4 identity matrix\n",
    "\n",
    "# diagonal matrix- put values in the diagonal\n",
    "diagonal = np.diag([1, 2, 3, 4, 5])\n",
    "\n",
    "# array filled with a specific value\n",
    "full_arr = np.full((3, 3), 7) # 3 x 3 array filled with 7\n",
    "\n",
    "print(\"Identity matrix: \\n\", identity)\n",
    "print(\"\\nDiagonal matrix: \\n\", diagonal)\n",
    "print (\"\\nFull array (filled with 7):\\n\", full_arr)"
   ]
  },
  {
   "cell_type": "markdown",
   "id": "7d12b084",
   "metadata": {},
   "source": [
    "**Numpy Data Types**\n",
    "- Understanding data types is crucial for memory efficiency and numerical precision"
   ]
  },
  {
   "cell_type": "code",
   "execution_count": 7,
   "id": "226f3a25",
   "metadata": {},
   "outputs": [
    {
     "name": "stdout",
     "output_type": "stream",
     "text": [
      "Integer array dtype:  int32\n",
      "float array dtype:  float64\n",
      "Boolean array dtype:  [ True False  True]\n",
      "Converted array dtype:  float32\n",
      "int32 uses 4 bytes per element\n",
      "float64 uses 8 bytes per element\n"
     ]
    }
   ],
   "source": [
    "# Explicit data types- control memory usage and precision\n",
    "int_arr = np.array([1, 2, 3], dtype= np.int32) #32-bit integers\n",
    "float_arr = np.array ([1, 2, 3], dtype=np.float64) #64-bit floats (double precision)\n",
    "bool_arr = np.array([True, False, True], dtype= np.bool_) #boolean values\n",
    "\n",
    "# Type conversion- change dtype of existing array\n",
    "converted = int_arr.astype(np.float32) #convert to 32-bit float\n",
    "\n",
    "print(\"Integer array dtype: \", int_arr.dtype)\n",
    "print(\"float array dtype: \", float_arr.dtype) \n",
    "print(\"Boolean array dtype: \", bool_arr)\n",
    "print(\"Converted array dtype: \", converted.dtype)\n",
    "\n",
    "# Memory usage comparison\n",
    "print(f\"int32 uses {int_arr.itemsize} bytes per element\")\n",
    "print(f\"float64 uses {float_arr.itemsize} bytes per element\")"
   ]
  },
  {
   "cell_type": "markdown",
   "id": "80c01456",
   "metadata": {},
   "source": [
    "- int8: 1 byte, range -128 to 127\n",
    "- int32: 4 bytes, range ±2 billion\n",
    "- float32: 4 bytes, ~7 decimal digits precision\n",
    "- float64: 8 bytes, ~15 decimal digits precision\n",
    "\n",
    "- Choose smaller types to save memory, larger types for precision"
   ]
  },
  {
   "cell_type": "markdown",
   "id": "2405a43a",
   "metadata": {},
   "source": [
    "**Array Properties & Attributes**\n",
    "\n",
    "- Understanding array properties helps you work effectively with your data and debug issue"
   ]
  },
  {
   "cell_type": "code",
   "execution_count": 8,
   "id": "fe29efb5",
   "metadata": {},
   "outputs": [
    {
     "name": "stdout",
     "output_type": "stream",
     "text": [
      "[[[-0.2 -0.4  0.7 -0.7  1.5]\n",
      "  [-0.4  0.   0.1  0.6 -0.2]\n",
      "  [ 1.4  1.   0.3 -0.5  0.6]\n",
      "  [ 0.6  0.3  0.4  0.4  0.5]]\n",
      "\n",
      " [[ 0.4 -0.6 -1.   0.2 -0.4]\n",
      "  [ 0.9  1.2  0.2  2.  -0.5]\n",
      "  [-0.7  0.6  0.2 -0.5 -0.3]\n",
      "  [-0.1  0.1 -1.9  0.8  0.8]]\n",
      "\n",
      " [[ 0.8  0.1 -2.3  0.5 -1. ]\n",
      "  [-0.6  0.1  1.   0.5 -0.5]\n",
      "  [-2.5  0.4  0.5 -0.6  1.1]\n",
      "  [ 0.7 -0.1 -0.9 -0.2 -0.3]]]\n",
      "Shape: (3, 4, 5)\n",
      "Size: 60\n",
      "Ndim: 3\n",
      "Dtype: float64\n",
      "Itemsize: 8\n",
      "Memory usage: 480 bytes\n",
      "Memory usage: 0.46875 KB\n"
     ]
    }
   ],
   "source": [
    "# Create a sample 3D array for demonstration\n",
    "# Think of this as 3 layers, each with 4 rows and 5 columns\n",
    "arr = np.random.randn(3, 4, 5)\n",
    "print(arr)\n",
    "# Shape: The dimensions of the array (layers, rows, columns)\n",
    "print(\"Shape:\", arr.shape)           # Output: (3, 4, 5)\n",
    "\n",
    "# Size: Total number of elements (3 × 4 × 5 = 60)\n",
    "print(\"Size:\", arr.size)             \n",
    "\n",
    "# Ndim: Number of dimensions (3D in this case)\n",
    "print(\"Ndim:\", arr.ndim)             \n",
    "\n",
    "# Dtype: Data type of elements\n",
    "print(\"Dtype:\", arr.dtype)           # Usually float64 for random numbers\n",
    "\n",
    "# Itemsize: Memory size of each element in bytes\n",
    "print(\"Itemsize:\", arr.itemsize)     # 8 bytes for float64\n",
    "\n",
    "# Total memory usage in bytes\n",
    "print(\"Memory usage:\", arr.nbytes, \"bytes\")  # size × itemsize\n",
    "print(\"Memory usage:\", arr.nbytes / 1024, \"KB\")  # Convert to KB"
   ]
  },
  {
   "cell_type": "markdown",
   "id": "ec8ffb3c",
   "metadata": {},
   "source": [
    "**Array Indexing & Slicing**"
   ]
  },
  {
   "cell_type": "markdown",
   "id": "33dbbb67",
   "metadata": {},
   "source": [
    " **Basic Indexing - Accessing Individual Elements**\n",
    "\n",
    "- NumPy indexing is similar to Python lists but more powerful for multi-dimensional arrays"
   ]
  },
  {
   "cell_type": "code",
   "execution_count": 9,
   "id": "94cd48d2",
   "metadata": {},
   "outputs": [
    {
     "name": "stdout",
     "output_type": "stream",
     "text": [
      "First element: 10\n",
      "Last element: 50\n",
      "Slice [1:4]: [20 30 40]\n",
      "Every 2nd element: [10 30 50]\n"
     ]
    }
   ],
   "source": [
    "# 1D array indexing- similar to Python lists\n",
    "arr1d = np.array([10,20,30, 40, 50])\n",
    "\n",
    "print(\"First element:\", arr1d[0])     # Index 0: 10\n",
    "print(\"Last element:\", arr1d[-1])     # Negative indexing: 50  \n",
    "print(\"Slice [1:4]:\", arr1d[1:4])     # Elements 1, 2, 3: [20, 30, 40]\n",
    "print(\"Every 2nd element:\", arr1d[::2])  # Step of 2: [10, 30, 50]\n"
   ]
  },
  {
   "cell_type": "markdown",
   "id": "2f1976a8",
   "metadata": {},
   "source": [
    "Negative indices count from the end (-1 is last element). Slicing uses [start:stop:step] where stop is exclusive."
   ]
  },
  {
   "cell_type": "code",
   "execution_count": 10,
   "id": "0b68e627",
   "metadata": {},
   "outputs": [
    {
     "name": "stdout",
     "output_type": "stream",
     "text": [
      "Element at row 1, column 2:  7\n",
      "First row:  [1 2 3 4]\n",
      "Second Column:  [ 4  8 12]\n",
      "Subarray (rows 1-2, cols 1-2):\n",
      " [[ 6  7]\n",
      " [10 11]]\n"
     ]
    }
   ],
   "source": [
    "# 2D array indexing - row and column access\n",
    "arr2d = np.array([[1, 2, 3, 4],\n",
    "                  [5, 6, 7, 8],\n",
    "                  [9, 10, 11, 12]])\n",
    "\n",
    "# Access specific element : [row, column]\n",
    "print(\"Element at row 1, column 2: \", arr2d[1, 2])\n",
    "\n",
    "# access entire rows or columns\n",
    "print(\"First row: \", arr2d[0,:]) #all columns of row 0\n",
    "print(\"Second Column: \", arr2d[:,-1]) #all rows of column 1\n",
    "\n",
    "# Subarray slicing: [row_start:row_end, col_start:col_end]\n",
    "print(\"Subarray (rows 1-2, cols 1-2):\\n\", arr2d[1:3, 1:3])\n"
   ]
  },
  {
   "cell_type": "markdown",
   "id": "be28a44e",
   "metadata": {},
   "source": [
    "The comma separates dimensions. : means \"all elements along this dimension\". Slicing creates views of the original data when possible, not copies."
   ]
  },
  {
   "cell_type": "markdown",
   "id": "3f1989d8",
   "metadata": {},
   "source": [
    "**Advanced Indexing - Powerful Selection Methods**"
   ]
  },
  {
   "cell_type": "code",
   "execution_count": 11,
   "id": "39b68440",
   "metadata": {},
   "outputs": [
    {
     "name": "stdout",
     "output_type": "stream",
     "text": [
      "Fancy indexing: [10 30 50]\n",
      "Random order: [50 20 40 20]\n"
     ]
    }
   ],
   "source": [
    "# Fancy indexing - use arrays of indices to select elements\n",
    "arr = np.array([10, 20, 30, 40, 50])\n",
    "indices = np.array([0, 2, 4])  # Select elements at positions 0, 2, 4\n",
    "print(\"Fancy indexing:\", arr[indices])         # [10, 30, 50]\n",
    "\n",
    "# This is much more flexible than simple slicing\n",
    "random_indices = np.array([4, 1, 3, 1])  # Can repeat and reorder\n",
    "print(\"Random order:\", arr[random_indices])   # [50, 20, 40, 20]"
   ]
  },
  {
   "cell_type": "markdown",
   "id": "30ae39cc",
   "metadata": {},
   "source": [
    "Fancy indexing lets you select elements in any order, repeat elements, and select non-contiguous elements. Very useful for data sampling and reordering."
   ]
  },
  {
   "cell_type": "code",
   "execution_count": 12,
   "id": "70330f6e",
   "metadata": {},
   "outputs": [
    {
     "name": "stdout",
     "output_type": "stream",
     "text": [
      "Original 2D array:\n",
      " [[ 0  1  2  3]\n",
      " [ 4  5  6  7]\n",
      " [ 8  9 10 11]]\n",
      "Elements at (0,1) and (2,3): [ 1 11]\n",
      "Selected rows:\n",
      " [[ 0  1  2  3]\n",
      " [ 8  9 10 11]]\n"
     ]
    }
   ],
   "source": [
    "# 2D fancy indexing - select specific row/column combinations\n",
    "arr2d = np.arange(12).reshape(3, 4)  # 3x4 array: [[0,1,2,3], [4,5,6,7], [8,9,10,11]]\n",
    "print(\"Original 2D array:\\n\", arr2d)\n",
    "\n",
    "# Select elements at (row, col) pairs: (0,1) and (2,3)\n",
    "rows = np.array([0, 2])\n",
    "cols = np.array([1, 3])\n",
    "print(\"Elements at (0,1) and (2,3):\", arr2d[rows, cols])  # [1, 11]\n",
    "\n",
    "# Select entire rows using fancy indexing\n",
    "selected_rows = arr2d[[0, 2], :]  # Rows 0 and 2, all columns\n",
    "print(\"Selected rows:\\n\", selected_rows)"
   ]
  },
  {
   "cell_type": "markdown",
   "id": "3d9085b9",
   "metadata": {},
   "source": [
    "When you provide arrays for both dimensions, NumPy pairs them element-wise. This is different from slicing, which creates a rectangular subarray."
   ]
  },
  {
   "cell_type": "markdown",
   "id": "6c2dfa60",
   "metadata": {},
   "source": [
    "**Array Reshaping & Manipulation**\n",
    "\n",
    "- Reshaping changes how the same data is organized in memory without changing the actual values.\n"
   ]
  },
  {
   "cell_type": "code",
   "execution_count": 13,
   "id": "ecee838d",
   "metadata": {},
   "outputs": [
    {
     "name": "stdout",
     "output_type": "stream",
     "text": [
      "Original 1D array: [ 0  1  2  3  4  5  6  7  8  9 10 11]\n",
      "Reshaped to 3x4:\n",
      " [[ 0  1  2  3]\n",
      " [ 4  5  6  7]\n",
      " [ 8  9 10 11]]\n",
      "Reshaped to 2x2x3:\n",
      " [[[ 0  1  2]\n",
      "  [ 3  4  5]]\n",
      "\n",
      " [[ 6  7  8]\n",
      "  [ 9 10 11]]]\n",
      "Auto-reshaped to 4x?:\n",
      " [[ 0  1  2]\n",
      " [ 3  4  5]\n",
      " [ 6  7  8]\n",
      " [ 9 10 11]]\n"
     ]
    }
   ],
   "source": [
    "# Start with a 1D array\n",
    "arr = np.arange(12)  # [0, 1, 2, 3, 4, 5, 6, 7, 8, 9, 10, 11]\n",
    "print(\"Original 1D array:\", arr)\n",
    "\n",
    "# Reshape to 2D: 3 rows × 4 columns\n",
    "reshaped_2d = arr.reshape(3, 4)\n",
    "print(\"Reshaped to 3x4:\\n\", reshaped_2d)\n",
    "\n",
    "# Reshape to 3D: 2 layers × 2 rows × 3 columns  \n",
    "reshaped_3d = arr.reshape(2, 2, 3)\n",
    "print(\"Reshaped to 2x2x3:\\n\", reshaped_3d)\n",
    "\n",
    "# Use -1 to let NumPy calculate one dimension automatically\n",
    "auto_reshape = arr.reshape(4, -1)  # 4 rows, NumPy calculates columns\n",
    "print(\"Auto-reshaped to 4x?:\\n\", auto_reshape)"
   ]
  },
  {
   "cell_type": "markdown",
   "id": "a4599266",
   "metadata": {},
   "source": [
    "The total number of elements must remain the same (12 in this case). Using -1 tells NumPy to calculate that dimension automatically. Reshaping creates a view when possible, not a copy"
   ]
  },
  {
   "cell_type": "code",
   "execution_count": 14,
   "id": "8ee6bcba",
   "metadata": {},
   "outputs": [
    {
     "name": "stdout",
     "output_type": "stream",
     "text": [
      "Flattened (copy): [1 2 3 4 5 6]\n",
      "Ravel (view if possible): [1 2 3 4 5 6]\n",
      "After modifying original:\n",
      "Flattened (unchanged): [1 2 3 4 5 6]\n",
      "Ravel (changed): [999   2   3   4   5   6]\n"
     ]
    }
   ],
   "source": [
    "# Flattening - convert multi-dimensional array to 1D\n",
    "arr2d = np.array([[1, 2, 3], [4, 5, 6]])\n",
    "\n",
    "# flatten() always returns a copy\n",
    "flattened = arr2d.flatten()                 \n",
    "print(\"Flattened (copy):\", flattened)\n",
    "\n",
    "# ravel() returns a view if possible (faster, memory efficient)\n",
    "ravel = arr2d.ravel()                       \n",
    "print(\"Ravel (view if possible):\", ravel)\n",
    "\n",
    "# Demonstrate the difference\n",
    "arr2d[0, 0] = 999\n",
    "print(\"After modifying original:\")\n",
    "print(\"Flattened (unchanged):\", flattened)  # Copy is independent\n",
    "print(\"Ravel (changed):\", ravel)            # View reflects changes"
   ]
  },
  {
   "cell_type": "markdown",
   "id": "6150fcb3",
   "metadata": {},
   "source": [
    "Use ravel() when you don't need to modify the flattened array independently. Use flatten() when you need a separate copy that won't be affected by changes to the original."
   ]
  },
  {
   "cell_type": "markdown",
   "id": "65a27e69",
   "metadata": {},
   "source": [
    "**Transposing and Swapping Axes**\n",
    "\n",
    " - Transposing is essential for matrix operations and changing data orientation"
   ]
  },
  {
   "cell_type": "code",
   "execution_count": 15,
   "id": "32fb73eb",
   "metadata": {},
   "outputs": [
    {
     "name": "stdout",
     "output_type": "stream",
     "text": [
      "Oirginal shape: (2, 3)\n",
      "Original: \n",
      " [[1 2 3]\n",
      " [4 5 6]]\n",
      "Transposed shape:  (3, 2)\n",
      "Transposed:\n",
      "  [[1 4]\n",
      " [2 5]\n",
      " [3 6]]\n",
      "\n",
      "Transpose method:\n",
      " [[1 4]\n",
      " [2 5]\n",
      " [3 6]]\n"
     ]
    }
   ],
   "source": [
    "# 2D transposition- flip rows and columns\n",
    "arr2d = np.array([\n",
    "    [1, 2, 3],\n",
    "    [4, 5, 6]\n",
    "])\n",
    "\n",
    "print('Oirginal shape:', arr2d.shape) # (2,3)\n",
    "print(\"Original: \\n\", arr2d)\n",
    "\n",
    "print(\"Transposed shape: \", arr2d.T.shape)\n",
    "print(\"Transposed:\\n \", arr2d.T)\n",
    "\n",
    "# Alternative transpose methods\n",
    "print(\"\\nTranspose method:\\n\", arr2d.transpose())"
   ]
  },
  {
   "cell_type": "markdown",
   "id": "b1f9c23c",
   "metadata": {},
   "source": [
    "Transposing swaps rows and columns. This is crucial for matrix multiplication and when you need to change data orientation (e.g., from samples×features to features×samples)"
   ]
  },
  {
   "cell_type": "code",
   "execution_count": 16,
   "id": "1b3ecd44",
   "metadata": {},
   "outputs": [
    {
     "name": "stdout",
     "output_type": "stream",
     "text": [
      "Original 3D shape:\n",
      " [[[ 0  1  2  3]\n",
      "  [ 4  5  6  7]\n",
      "  [ 8  9 10 11]]\n",
      "\n",
      " [[12 13 14 15]\n",
      "  [16 17 18 19]\n",
      "  [20 21 22 23]]]\n",
      "Transposed to 3D shape:\n",
      " (4, 2, 3)\n",
      "Moveaxis result shape:  (3, 4, 2)\n"
     ]
    }
   ],
   "source": [
    "# Higher-dimensional transposition\n",
    "arr3d = np.arange(24).reshape(2, 3, 4)  # 2 layers, 3 rows, 4 columns\n",
    "print(\"Original 3D shape:\\n\", arr3d)\n",
    "\n",
    "# specify new axis order: (axis0, axis 1, axis 2) -> (axis2, axis0, axis1)\n",
    "transposed_3d = arr3d.transpose(2,0,1)\n",
    "print(\"Transposed to 3D shape:\\n\", transposed_3d.shape)\n",
    "\n",
    "# another method to reaarange axes\n",
    "moved = np.moveaxis(arr3d, 0, -1)\n",
    "print(\"Moveaxis result shape: \", moved.shape)"
   ]
  },
  {
   "cell_type": "markdown",
   "id": "5ab1ad81",
   "metadata": {},
   "source": [
    " For 3D+ arrays, you specify the new order of axes. This is useful for reshaping data for different algorithms or visualization requirements."
   ]
  },
  {
   "cell_type": "markdown",
   "id": "469202ee",
   "metadata": {},
   "source": [
    "**Concatenating and Splitting Arrays**\n",
    "\n",
    "- Combining and dividing arrays is fundamental for data manipulation"
   ]
  },
  {
   "cell_type": "code",
   "execution_count": 17,
   "id": "8421a441",
   "metadata": {},
   "outputs": [
    {
     "name": "stdout",
     "output_type": "stream",
     "text": [
      "Original arrays:\n",
      "Array 1:\n",
      " [[1 2]\n",
      " [3 4]]\n",
      "Array 2:\n",
      " [[5 6]\n",
      " [7 8]]\n",
      "Concatenated vertically (axis=0):\n",
      " [[1 2]\n",
      " [3 4]\n",
      " [5 6]\n",
      " [7 8]]\n",
      "Concatenated horizontally (axis=1):\n",
      " [[1 2 5 6]\n",
      " [3 4 7 8]]\n"
     ]
    }
   ],
   "source": [
    "# concatenation -joining arrays along existing axes\n",
    "arr1 =np.array([[1, 2], [3, 4]])\n",
    "arr2 = np.array([[5, 6], [7, 8]])\n",
    "\n",
    "concat_rows = np.concatenate([arr1, arr2], axis = 0) #stack vertically (add rows)\n",
    "concat_cols = np.concatenate ([arr1, arr2], axis= 1) #stack horizointally\n",
    "\n",
    "print(\"Original arrays:\")\n",
    "print(\"Array 1:\\n\", arr1)\n",
    "print(\"Array 2:\\n\", arr2)\n",
    "print(\"Concatenated vertically (axis=0):\\n\", concat_rows)\n",
    "print(\"Concatenated horizontally (axis=1):\\n\", concat_cols)\n"
   ]
  },
  {
   "cell_type": "markdown",
   "id": "753addc3",
   "metadata": {},
   "source": [
    "`axis=0` means along rows (vertical stacking), `axis=1` means along columns (horizontal stacking). Arrays must have compatible shapes along the non-concatenated dimensions."
   ]
  },
  {
   "cell_type": "code",
   "execution_count": 18,
   "id": "91cca5f0",
   "metadata": {},
   "outputs": [
    {
     "name": "stdout",
     "output_type": "stream",
     "text": [
      "vstack (vertical):\n",
      " [[1 2]\n",
      " [3 4]\n",
      " [5 6]\n",
      " [7 8]]\n",
      "hstack (horizontal):\n",
      " [[1 2 5 6]\n",
      " [3 4 7 8]]\n",
      "dstack shape: (2, 2, 2)\n",
      "Original array for splitting: \n",
      " [[ 0  1  2  3]\n",
      " [ 4  5  6  7]\n",
      " [ 8  9 10 11]]\n",
      "Split into 3 parts along rows: \n",
      "Part0: \n",
      " [[0 1 2 3]]\n",
      "Part1: \n",
      " [[4 5 6 7]]\n",
      "Part2: \n",
      " [[ 8  9 10 11]]\n"
     ]
    }
   ],
   "source": [
    "# convenient stacking functiom\n",
    "vstack_result = np.vstack([arr1,arr2]) # same as concatenate with axis = 0\n",
    "hstack_result = np.hstack([arr1, arr2])   # same as concatenate with axia =1\n",
    "dstack_result = np.dstack([arr1, arr2])   # satck along depth (3rd dimension)\n",
    "\n",
    "print(\"vstack (vertical):\\n\", vstack_result)\n",
    "print(\"hstack (horizontal):\\n\", hstack_result)\n",
    "print(\"dstack shape:\", dstack_result.shape)  # Creates 3D array\n",
    "\n",
    "# splitting arrays - opposite of concatenation\n",
    "arr = np.arange(12).reshape(3, 4)\n",
    "split_arrays = np.split(arr, 3, axis = 0)\n",
    "\n",
    "print(\"Original array for splitting: \\n\", arr)\n",
    "print(\"Split into 3 parts along rows: \")\n",
    "\n",
    "for i, split_part in enumerate (split_arrays):\n",
    "    print(f\"Part{i}: \\n\", split_part)"
   ]
  },
  {
   "cell_type": "markdown",
   "id": "8977b3d5",
   "metadata": {},
   "source": [
    "Stacking functions are shortcuts for concatenation. Splitting divides an array into equal parts - useful for creating training/validation sets or processing data in chunks."
   ]
  },
  {
   "cell_type": "markdown",
   "id": "89edf6ed",
   "metadata": {},
   "source": [
    "**Mathematical Operations**\n"
   ]
  },
  {
   "cell_type": "markdown",
   "id": "f50ad357",
   "metadata": {},
   "source": [
    "**Element-wise Operations - The Power of Vectorization**\n",
    "\n",
    "- NumPy's biggest advantage is performing operations on entire arrays without writing loop"
   ]
  },
  {
   "cell_type": "code",
   "execution_count": 19,
   "id": "feef0462",
   "metadata": {},
   "outputs": [
    {
     "name": "stdout",
     "output_type": "stream",
     "text": [
      "Array 1: [1 2 3 4]\n",
      "Array 2: [10 20 30 40]\n",
      "Addition: [11 22 33 44]\n",
      "Subtraction: [ 9 18 27 36]\n",
      "Multiplication: [ 10  40  90 160]\n",
      "Division: [10. 10. 10. 10.]\n",
      "Power: [ 1  4  9 16]\n",
      "Modulo: [1 2 0 1]\n"
     ]
    }
   ],
   "source": [
    "# Basic arithmetic operations work element-by-element\n",
    "arr1 = np.array([1, 2, 3, 4])\n",
    "arr2 = np.array([10, 20, 30, 40])\n",
    "\n",
    "print(\"Array 1:\", arr1)\n",
    "print(\"Array 2:\", arr2)\n",
    "\n",
    "# All operations happen element-wise automatically\n",
    "print(\"Addition:\", arr1 + arr2)               # [11, 22, 33, 44]\n",
    "print(\"Subtraction:\", arr2 - arr1)            # [9, 18, 27, 36]\n",
    "print(\"Multiplication:\", arr1 * arr2)         # [10, 40, 90, 160]\n",
    "print(\"Division:\", arr2 / arr1)               # [10, 10, 10, 10]\n",
    "print(\"Power:\", arr1 ** 2)                    # [1, 4, 9, 16]\n",
    "print(\"Modulo:\", arr2 % 3)                    # [1, 2, 0, 1]"
   ]
  },
  {
   "cell_type": "markdown",
   "id": "811e409c",
   "metadata": {},
   "source": [
    " This vectorization is much faster than Python loops because the operations are implemented in optimized C code. Each operation applies to corresponding elements."
   ]
  },
  {
   "cell_type": "code",
   "execution_count": 20,
   "id": "3065916b",
   "metadata": {},
   "outputs": [
    {
     "name": "stdout",
     "output_type": "stream",
     "text": [
      "Scalar Operations: \n",
      "Add 10 to all elemements: [11 12 13 14]\n",
      "Multiply all by 3: [ 3  6  9 12]\n",
      "Divide all by 2: [0.5 1.  1.5 2. ]\n",
      "Compound operation (arr1 + 5) * 2 - 1: [11 13 15 17]\n"
     ]
    }
   ],
   "source": [
    "# operations with scalars- broadcasting in action\n",
    "print(\"Scalar Operations: \")\n",
    "print(\"Add 10 to all elemements:\", arr1 + 10)\n",
    "print(\"Multiply all by 3:\", arr1 * 3)               # [3, 6, 9, 12]\n",
    "print(\"Divide all by 2:\", arr1 / 2)                 # [0.5, 1, 1.5, 2]\n",
    "\n",
    "# Compound operations\n",
    "result = (arr1 + 5) * 2 - 1                         # ((arr1 + 5) * 2) - 1\n",
    "print(\"Compound operation (arr1 + 5) * 2 - 1:\", result)"
   ]
  },
  {
   "cell_type": "markdown",
   "id": "65212f08",
   "metadata": {},
   "source": [
    "When you operate on arrays with scalars, the scalar is automatically \"broadcast\" to match the array shape. This is much more readable and efficient than manual loops"
   ]
  },
  {
   "cell_type": "markdown",
   "id": "3ce022bb",
   "metadata": {},
   "source": [
    "**Mathematical Functions - Beyond Basic Arithmetic**\n",
    "\n",
    "- NumPy provides vectorized versions of most mathematical function"
   ]
  },
  {
   "cell_type": "code",
   "execution_count": 21,
   "id": "f03f1a57",
   "metadata": {},
   "outputs": [
    {
     "name": "stdout",
     "output_type": "stream",
     "text": [
      "Original array: [ 1  4  9 16 25]\n",
      "Square root: \n",
      "Square:  [  1  16  81 256 625]\n",
      "Cube root: \n",
      "Exponential: [ 2.7  7.4 20.1]\n",
      "Natural  log: [0.  1.4 2.2 2.8 3.2]\n",
      "Log base 10: [0.  0.6 1.  1.2 1.4]\n",
      "Log base 2: [0.  2.  3.2 4.  4.6]\n"
     ]
    }
   ],
   "source": [
    "arr = np.array([1, 4, 9, 16, 25])\n",
    "print(\"Original array:\", arr)\n",
    "\n",
    "# square roots and powers\n",
    "print(\"Square root: \"), np.sqrt(arr)\n",
    "print(\"Square: \", np.square(arr))\n",
    "print(\"Cube root: \"), np.cbrt(arr)\n",
    "\n",
    "# Exponential and logarithmic functions\n",
    "small_arr = np.array([1, 2, 3])\n",
    "print(\"Exponential:\", np.exp(small_arr))\n",
    "print(\"Natural  log:\", np.log(arr))\n",
    "print(\"Log base 10:\", np.log10(arr))\n",
    "print(\"Log base 2:\", np.log2(arr))"
   ]
  },
  {
   "cell_type": "markdown",
   "id": "2a9473ba",
   "metadata": {},
   "source": [
    "These functions are much faster than applying Python's math functions in a loop. They also handle edge cases (like log of zero) more gracefully."
   ]
  },
  {
   "cell_type": "code",
   "execution_count": 22,
   "id": "4dd44c69",
   "metadata": {},
   "outputs": [
    {
     "name": "stdout",
     "output_type": "stream",
     "text": [
      "Angles (radians): [0.  0.8 1.6 3.1]\n",
      "Sine: [0.  0.7 1.  0. ]\n",
      "Cosine: [ 1.   0.7  0.  -1. ]\n",
      "Tangent: [ 0.0e+00  1.0e+00  1.6e+16 -1.2e-16]\n",
      "Degrees to radians: [0.  0.8 1.6 3.1]\n",
      "Radians to degree: [  0.  45.  90. 180.]\n"
     ]
    }
   ],
   "source": [
    "# trigonometric functions - essential for signal processsin and geometry\n",
    "angles = np.array([0, np.pi/4, np.pi/2, np.pi])\n",
    "print(\"Angles (radians):\", angles)\n",
    "print(\"Sine:\", np.sin(angles))\n",
    "print(\"Cosine:\", np.cos(angles))\n",
    "print(\"Tangent:\", np.tan(angles))\n",
    "\n",
    "# convert degreses to radians\n",
    "degrees = np.array ([0, 45, 90, 180])\n",
    "radians = np.deg2rad(degrees)\n",
    "degree = np.rad2deg(radians)\n",
    "print(\"Degrees to radians:\", radians)\n",
    "print(\"Radians to degree:\", degree)"
   ]
  },
  {
   "cell_type": "markdown",
   "id": "0195d0b0",
   "metadata": {},
   "source": [
    "Trigonometric functions expect angles in radians. Use `deg2rad()` and `rad2deg()` for conversions. These functions are essential for signal processing, computer graphics, and physics simulations."
   ]
  },
  {
   "cell_type": "code",
   "execution_count": 23,
   "id": "6b665a0a",
   "metadata": {},
   "outputs": [
    {
     "name": "stdout",
     "output_type": "stream",
     "text": [
      "Original decimals:  [ 1.2  5.7 10.  -2.3]\n",
      "Round to 2 places:  [ 1.2  5.7 10.  -2.4]\n",
      "Floor (round down):  [ 1.  5.  9. -3.]\n",
      "Ceiling (round up): [ 2.  6. 10. -2.]\n",
      "Truncate (toward zero): [ 1.  5.  9. -2.]\n",
      "Absolute values: [ 1.2  5.7 10.   2.3]\n",
      "sign (-1, 0, or 1):  [ 1.  1.  1. -1.]\n"
     ]
    }
   ],
   "source": [
    "# rounding and comparison functions\n",
    "\n",
    "decimals = np.array([1.234, 5.678, 9.999, -2.345])\n",
    "print(\"Original decimals: \", decimals)\n",
    "print(\"Round to 2 places: \", np.round(decimals, 2))\n",
    "print(\"Floor (round down): \", np.floor(decimals))\n",
    "print(\"Ceiling (round up):\", np.ceil(decimals))      # [2, 6, 10, -2]\n",
    "print(\"Truncate (toward zero):\", np.trunc(decimals))\n",
    "\n",
    "# absolute values and sign\n",
    "print(\"Absolute values:\", np.abs(decimals))\n",
    "print(\"sign (-1, 0, or 1): \", np.sign(decimals))"
   ]
  },
  {
   "cell_type": "markdown",
   "id": "43583c03",
   "metadata": {},
   "source": [
    "Different rounding functions serve different purposes. `floor()` always rounds down, `ceil()` always rounds up, `trunc()` removes the decimal part, and `round()` rounds to nearest value."
   ]
  },
  {
   "cell_type": "markdown",
   "id": "880eb4f2",
   "metadata": {},
   "source": [
    "**Aggregate Functions - Summarizing Your Data**\n",
    "\n",
    "    - Aggregate functions reduce arrays to summary statistics"
   ]
  },
  {
   "cell_type": "code",
   "execution_count": 24,
   "id": "186f033d",
   "metadata": {},
   "outputs": [
    {
     "name": "stdout",
     "output_type": "stream",
     "text": [
      "sample array: \n",
      " [[1 2 3]\n",
      " [4 5 6]\n",
      " [7 8 9]]\n",
      "Sum of all elements: 45\n",
      "Mean of all elements: 5.0\n",
      "Standard deviation: 2.581988897471611\n",
      "Minimum value: 1\n",
      "Maximum value: 9\n"
     ]
    }
   ],
   "source": [
    "# # create a 2D array for demonstration\n",
    "arr = np.array([[1, 2, 3],\n",
    "                [4, 5, 6],\n",
    "                [7, 8, 9]])\n",
    "print(\"sample array: \\n\", arr)\n",
    "\n",
    "# Aggregation across entire array\n",
    "print(\"Sum of all elements:\", np.sum(arr))        # 45\n",
    "print(\"Mean of all elements:\", np.mean(arr))      # 5.0\n",
    "print(\"Standard deviation:\", np.std(arr))         # 2.58\n",
    "print(\"Minimum value:\", np.min(arr))              # 1\n",
    "print(\"Maximum value:\", np.max(arr))              # 9\n"
   ]
  },
  {
   "cell_type": "markdown",
   "id": "2d5fa800",
   "metadata": {},
   "source": [
    "When you don't specify an axis, these functions operate on the flattened array, giving you a single summary value for the entire dataset."
   ]
  },
  {
   "cell_type": "code",
   "execution_count": null,
   "id": "af30005f",
   "metadata": {},
   "outputs": [
    {
     "name": "stdout",
     "output_type": "stream",
     "text": [
      "Sum along axis 0 (columns): 45\n",
      "Sum along axis 0 (columns): [12 15 18]\n",
      "Sum along axis 1 (rows): [ 6 15 24]\n",
      "Mean along axis 0: [4. 5. 6.]\n",
      "Mean along axis 1: [2. 5. 8.]\n",
      "Position of max (flattened): 8\n",
      "Position of max along axis 0: [2 2 2]\n",
      "Position of max along axis 1: [2 2 2]\n"
     ]
    }
   ],
   "source": [
    "# Axis-specific aggregation\n",
    "\n",
    "print(\"Sum along axis 0 (columns):\", np.sum(arr, axis=0))  # [12, 15, 18]\n",
    "print(\"Sum along axis 1 (rows):\", np.sum(arr, axis=1))     # [6, 15, 24]\n",
    "\n",
    "print(\"Mean along axis 0:\", np.mean(arr, axis=0))          # [4, 5, 6]\n",
    "print(\"Mean along axis 1:\", np.mean(arr, axis=1))          # [2, 5, 8]\n",
    "\n",
    "# Finding positions of extreme values\n",
    "print(\"Position of max (flattened):\", np.argmax(arr))      # 8 (element 9 at position 8)\n",
    "print(\"Position of max along axis 0:\", np.argmax(arr, axis=0))  # [2, 2, 2]\n",
    "print(\"Position of max along axis 1:\", np.argmax(arr, axis=1))  # [2, 2, 2]"
   ]
  },
  {
   "cell_type": "markdown",
   "id": "86789a9e",
   "metadata": {},
   "source": [
    "- `axis=0`: Operations go \"down\" the rows (result has same number of columns)\n",
    "- `axis=1`: Operations go \"across\" the columns (result has same number of rows)\n",
    "- `argmax/argmin` return indices, not values"
   ]
  },
  {
   "cell_type": "markdown",
   "id": "587024d3",
   "metadata": {},
   "source": [
    "**Broadcasting**\n",
    "- Broadcasting is NumPy's way of performing operations on arrays with different shapes without explicitly reshaping them. This is one of NumPy's most powerful features"
   ]
  },
  {
   "cell_type": "code",
   "execution_count": 28,
   "id": "0d5aebc8",
   "metadata": {},
   "outputs": [
    {
     "name": "stdout",
     "output_type": "stream",
     "text": [
      "Scalar: 5\n",
      "1D array: [1 2 3 4]\n",
      "2D array (column vector):\n",
      " [[10]\n",
      " [20]\n",
      " [30]]\n",
      "Scalar + 1D array: [6 7 8 9]\n",
      "2D + 1D broadcasting:\n",
      " [[11 12 13 14]\n",
      " [21 22 23 24]\n",
      " [31 32 33 34]]\n"
     ]
    }
   ],
   "source": [
    "# Broadcasting examples - automatic expansion of arrays for element-wise operations\n",
    "scalar = 5\n",
    "arr1d = np.array([1, 2, 3, 4])\n",
    "arr2d = np.array([[10], [20], [30]])  # Column vector\n",
    "\n",
    "print(\"Scalar:\", scalar)\n",
    "print(\"1D array:\", arr1d)  \n",
    "print(\"2D array (column vector):\\n\", arr2d)\n",
    "\n",
    "# Scalar broadcasts to any shape\n",
    "result1 = scalar + arr1d\n",
    "print(\"Scalar + 1D array:\", result1)         # [6, 7, 8, 9]\n",
    "\n",
    "# 2D + 1D broadcasting\n",
    "result2 = arr2d + arr1d\n",
    "print(\"2D + 1D broadcasting:\\n\", result2)"
   ]
  },
  {
   "cell_type": "markdown",
   "id": "f7019b29",
   "metadata": {},
   "source": [
    "- Broadcasting follows these rules:\n",
    "\n",
    " - Start from the trailing (rightmost) dimensions\n",
    " - Dimensions are compatible if they're equal or one is 1\n",
    " - Missing dimensions are assumed to be 1"
   ]
  },
  {
   "cell_type": "code",
   "execution_count": 30,
   "id": "aebd7ec5",
   "metadata": {},
   "outputs": [
    {
     "name": "stdout",
     "output_type": "stream",
     "text": [
      "Array a (4x1):\n",
      " [[0]\n",
      " [1]\n",
      " [2]\n",
      " [3]]\n",
      "Array b (1x5):\n",
      " [[0 1 2 3 4]]\n",
      "Broadcasted result (4x5):\n",
      " [[0 1 2 3 4]\n",
      " [1 2 3 4 5]\n",
      " [2 3 4 5 6]\n",
      " [3 4 5 6 7]]\n",
      "Shape of broadcasted result: (4, 5)\n"
     ]
    }
   ],
   "source": [
    "# visualizing broadcasting step by step\n",
    "a = np.arange(4).reshape(4, 1)\n",
    "b= np.arange(5).reshape(1, 5)\n",
    "\n",
    "print(\"Array a (4x1):\\n\", a)\n",
    "print(\"Array b (1x5):\\n\", b)\n",
    "\n",
    "# broadcasting to create a 4 x 5 array\n",
    "broadcasted = a + b\n",
    "print(\"Broadcasted result (4x5):\\n\", broadcasted)\n",
    "print(\"Shape of broadcasted result:\", broadcasted.shape)\n"
   ]
  },
  {
   "cell_type": "markdown",
   "id": "701ea947",
   "metadata": {},
   "source": [
    " Array `a` gets broadcast horizontally, array `b` gets broadcast vertically. This creates all pairwise combinations without storing redundant data."
   ]
  },
  {
   "cell_type": "code",
   "execution_count": 38,
   "id": "60439319",
   "metadata": {},
   "outputs": [
    {
     "name": "stdout",
     "output_type": "stream",
     "text": [
      "Original Shape: (3,)\n",
      "Column vector shape: (3, 1)\n",
      "Column vector:\n",
      " [[1]\n",
      " [2]\n",
      " [3]]\n",
      "Row vector shape: (1, 3)\n",
      "row vector:\n",
      " [[1 2 3]]\n"
     ]
    }
   ],
   "source": [
    "arr = np.array([1, 2, 3])\n",
    "\n",
    "# print(arr.reshape(-1, 1))\n",
    "print(\"Original Shape:\", arr.shape)\n",
    "\n",
    "column_vector = arr[ : , np.newaxis]  # Same as arr.reshape(-1, 1)\n",
    "print(\"Column vector shape:\", column_vector.shape)   # (3, 1)\n",
    "print(\"Column vector:\\n\", column_vector)\n",
    "\n",
    "# Convert to row vector (usually not needed - 1D arrays broadcast as rows)\n",
    "row_vector = arr[np.newaxis, :]                     # Same as arr.reshape(1, -1)\n",
    "print(\"Row vector shape:\", row_vector.shape)        # (1, 3)\n",
    "print(\"row vector:\\n\", row_vector)"
   ]
  },
  {
   "cell_type": "markdown",
   "id": "795ebf41",
   "metadata": {},
   "source": [
    "`np.newaxis` is an alias for None and adds a new axis of length 1. This gives you explicit control over broadcasting behavior"
   ]
  },
  {
   "cell_type": "markdown",
   "id": "17d0778d",
   "metadata": {},
   "source": [
    "**Common Broadcasting Patterns**"
   ]
  },
  {
   "cell_type": "code",
   "execution_count": 47,
   "id": "3bef2a75",
   "metadata": {},
   "outputs": [
    {
     "name": "stdout",
     "output_type": "stream",
     "text": [
      "Original data shape: (5, 3)\n",
      "Original data:\n",
      " [[ 0.1  1.8  1. ]\n",
      " [ 0.9 -1.3 -0.9]\n",
      " [-0.8 -0.8 -0.2]\n",
      " [-0.6  0.   0.7]\n",
      " [-0.3 -0.2 -0.5]]\n",
      "Column means: [-0.1 -0.1  0. ]\n",
      "Centered data:\n",
      " [[ 0.2  1.9  1. ]\n",
      " [ 1.1 -1.2 -1. ]\n",
      " [-0.7 -0.7 -0.2]\n",
      " [-0.5  0.1  0.7]\n",
      " [-0.1 -0.1 -0.5]]\n",
      "New column means (should be ~0): [0. 0. 0.]\n"
     ]
    }
   ],
   "source": [
    "data = np.random.randn(5, 3)  # 5 samples, 3 features\n",
    "print(\"Original data shape:\", data.shape)\n",
    "print(\"Original data:\\n\", data)\n",
    "\n",
    "# calculating mean for each column\n",
    "column_mean = np.mean(data, axis = 0)\n",
    "print(\"Column means:\", column_mean)\n",
    "\n",
    "# Subtract mean from each column (broadcasting!)\n",
    "centered_data = data - column_mean\n",
    "print(\"Centered data:\\n\", centered_data)\n",
    "print(\"New column means (should be ~0):\", np.mean(centered_data, axis=0))\n",
    "   "
   ]
  },
  {
   "cell_type": "markdown",
   "id": "a2cfdee2",
   "metadata": {},
   "source": [
    "This is a common preprocessing step in machine learning. The column means broadcast across all rows automatically."
   ]
  },
  {
   "cell_type": "code",
   "execution_count": 54,
   "id": "19c0239a",
   "metadata": {},
   "outputs": [
    {
     "name": "stdout",
     "output_type": "stream",
     "text": [
      "Random data:\n",
      " [[0.1 0.1 0.8]\n",
      " [0.1 0.1 0.6]\n",
      " [0.6 0.7 0.3]\n",
      " [0.8 0.5 0.5]]\n",
      "Row sums shape: (4, 1)\n",
      "Column sums shape: (1, 3)\n",
      "Row sums:\n",
      " [[1.1]\n",
      " [0.9]\n",
      " [1.5]\n",
      " [1.8]]\n",
      "Column sums:\n",
      " [[1.6 1.5 2.1]]\n"
     ]
    }
   ],
   "source": [
    "# Pattern 2: Normalizing by row sums (useful for probabilities)\n",
    "data = np.random.rand(4, 3)  # Random data\n",
    "print(\"Random data:\\n\", data)\n",
    "\n",
    "#  Calculate row sums\n",
    "row_sums = np.sum(data, axis=1, keepdims=True) \n",
    "column_sums = np.sum(data, axis=0, keepdims=True) \n",
    "# Shape: (4, 1)\n",
    "print(\"Row sums shape:\", row_sums.shape)\n",
    "print(\"Column sums shape:\", column_sums.shape)\n",
    "\n",
    "print(\"Row sums:\\n\", row_sums)\n",
    "\n",
    "print(\"Column sums:\\n\", column_sums)\n"
   ]
  },
  {
   "cell_type": "markdown",
   "id": "4119d9c9",
   "metadata": {},
   "source": [
    "`keepdims=True` preserves the dimension as size 1, making broadcasting explicit and avoiding shape errors."
   ]
  }
 ],
 "metadata": {
  "kernelspec": {
   "display_name": "my_venv",
   "language": "python",
   "name": "python3"
  },
  "language_info": {
   "codemirror_mode": {
    "name": "ipython",
    "version": 3
   },
   "file_extension": ".py",
   "mimetype": "text/x-python",
   "name": "python",
   "nbconvert_exporter": "python",
   "pygments_lexer": "ipython3",
   "version": "3.12.1"
  }
 },
 "nbformat": 4,
 "nbformat_minor": 5
}
