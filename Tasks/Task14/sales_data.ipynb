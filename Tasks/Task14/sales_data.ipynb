{
 "cells": [
  {
   "cell_type": "markdown",
   "id": "8dd70bdc",
   "metadata": {},
   "source": [
    "## **Data Analysis for Electronic Sales** ##"
   ]
  },
  {
   "cell_type": "code",
   "execution_count": 5,
   "id": "d2128375",
   "metadata": {},
   "outputs": [],
   "source": [
    "import pandas as pd\n",
    "import numpy as np\n",
    "import matplotlib.pyplot as plt\n",
    "import seaborn as sns\n",
    "import openpyxl as op\n"
   ]
  },
  {
   "cell_type": "code",
   "execution_count": null,
   "id": "239a03d4",
   "metadata": {},
   "outputs": [],
   "source": [
    "# Loading the data set fron the excel sheet\n",
    "sales= pd.read_excel(\"electronic_sales.xlsx\")"
   ]
  },
  {
   "cell_type": "code",
   "execution_count": null,
   "id": "201cdb1b",
   "metadata": {},
   "outputs": [],
   "source": [
    "# viewing the dataset\n"
   ]
  }
 ],
 "metadata": {
  "kernelspec": {
   "display_name": "my_venv",
   "language": "python",
   "name": "python3"
  },
  "language_info": {
   "codemirror_mode": {
    "name": "ipython",
    "version": 3
   },
   "file_extension": ".py",
   "mimetype": "text/x-python",
   "name": "python",
   "nbconvert_exporter": "python",
   "pygments_lexer": "ipython3",
   "version": "3.12.1"
  }
 },
 "nbformat": 4,
 "nbformat_minor": 5
}
