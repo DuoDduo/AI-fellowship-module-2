{
 "cells": [
  {
   "cell_type": "markdown",
   "id": "d8e95833",
   "metadata": {},
   "source": [
    "## **Linear Algebra with Numpy** ##"
   ]
  },
  {
   "cell_type": "markdown",
   "id": "28191e10",
   "metadata": {},
   "source": [
    "**What is Linear Algebra?**\n",
    "Linear Algebra is the branch of mathematics that deals with vectors and matrices — the main tools for handling data in machine learning.\n",
    "\n",
    "- **Why it matters in ML**\n",
    "   - A dataset = matrix (rows = samples, columns = features).\n",
    "\n",
    "   - An image = matrix of pixel values.\n",
    "\n",
    "   - Predictions, weights, activations = all use vectors/matrices"
   ]
  },
  {
   "cell_type": "markdown",
   "id": "fd670204",
   "metadata": {},
   "source": [
    "**Key Applications in ML**\n",
    "\n",
    "- Feature representation (data points as vectors)\n",
    "- Transformations and dimensionality reduction\n",
    "- Neural network operations\n",
    "- Optimization algorithms"
   ]
  },
  {
   "cell_type": "code",
   "execution_count": null,
   "id": "c53a242f",
   "metadata": {},
   "outputs": [],
   "source": [
    "import numpy as np"
   ]
  }
 ],
 "metadata": {
  "language_info": {
   "name": "python"
  }
 },
 "nbformat": 4,
 "nbformat_minor": 5
}
