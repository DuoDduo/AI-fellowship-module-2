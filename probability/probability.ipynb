{
 "cells": [
  {
   "cell_type": "code",
   "execution_count": 2,
   "id": "9b67320b",
   "metadata": {},
   "outputs": [
    {
     "name": "stdout",
     "output_type": "stream",
     "text": [
      "Collecting kagglehub\n",
      "  Using cached kagglehub-0.3.13-py3-none-any.whl.metadata (38 kB)\n",
      "Requirement already satisfied: packaging in c:\\users\\ncc\\desktop\\ai_fellowship_module_two\\ai-fellowship-module-2\\my_venv\\lib\\site-packages (from kagglehub) (25.0)\n",
      "Requirement already satisfied: pyyaml in c:\\users\\ncc\\desktop\\ai_fellowship_module_two\\ai-fellowship-module-2\\my_venv\\lib\\site-packages (from kagglehub) (6.0.3)\n",
      "Requirement already satisfied: requests in c:\\users\\ncc\\desktop\\ai_fellowship_module_two\\ai-fellowship-module-2\\my_venv\\lib\\site-packages (from kagglehub) (2.32.5)\n",
      "Requirement already satisfied: tqdm in c:\\users\\ncc\\desktop\\ai_fellowship_module_two\\ai-fellowship-module-2\\my_venv\\lib\\site-packages (from kagglehub) (4.67.1)\n",
      "Requirement already satisfied: charset_normalizer<4,>=2 in c:\\users\\ncc\\desktop\\ai_fellowship_module_two\\ai-fellowship-module-2\\my_venv\\lib\\site-packages (from requests->kagglehub) (3.4.3)\n",
      "Requirement already satisfied: idna<4,>=2.5 in c:\\users\\ncc\\desktop\\ai_fellowship_module_two\\ai-fellowship-module-2\\my_venv\\lib\\site-packages (from requests->kagglehub) (3.10)\n",
      "Requirement already satisfied: urllib3<3,>=1.21.1 in c:\\users\\ncc\\desktop\\ai_fellowship_module_two\\ai-fellowship-module-2\\my_venv\\lib\\site-packages (from requests->kagglehub) (2.5.0)\n",
      "Requirement already satisfied: certifi>=2017.4.17 in c:\\users\\ncc\\desktop\\ai_fellowship_module_two\\ai-fellowship-module-2\\my_venv\\lib\\site-packages (from requests->kagglehub) (2025.8.3)\n",
      "Requirement already satisfied: colorama in c:\\users\\ncc\\desktop\\ai_fellowship_module_two\\ai-fellowship-module-2\\my_venv\\lib\\site-packages (from tqdm->kagglehub) (0.4.6)\n",
      "Using cached kagglehub-0.3.13-py3-none-any.whl (68 kB)\n",
      "Installing collected packages: kagglehub\n",
      "Successfully installed kagglehub-0.3.13\n",
      "Note: you may need to restart the kernel to use updated packages.\n"
     ]
    }
   ],
   "source": [
    "%pip install kagglehub"
   ]
  },
  {
   "cell_type": "code",
   "execution_count": 23,
   "id": "c407ded2",
   "metadata": {},
   "outputs": [],
   "source": [
    "#Load libraries \n",
    "import numpy as np\n",
    "import matplotlib.pyplot as plt\n",
    "import pandas as pd\n",
    "import seaborn as sns\n",
    "from zipfile import ZipFile \n",
    "import kagglehub\n",
    "import os\n",
    "# from scipy.stats import norm, skew, kurtosis"
   ]
  },
  {
   "cell_type": "code",
   "execution_count": 22,
   "id": "dcad3a08",
   "metadata": {},
   "outputs": [],
   "source": [
    "# downloading the dataset from kaggle\n",
    "path = kagglehub.dataset_download(\"olistbr/brazilian-ecommerce\")\n",
    "\n",
    "path = r\"C:\\Users\\ncc\\Downloads\\archive.zip\"\n",
    "\n",
    "extracted_files = \"brazil_files\"\n"
   ]
  },
  {
   "cell_type": "code",
   "execution_count": 21,
   "id": "79575027",
   "metadata": {},
   "outputs": [],
   "source": [
    "# extracting the zip file from the archive\n",
    "with ZipFile(path, \"r\") as f:\n",
    "    f.extractall(\"brazil_files\")"
   ]
  },
  {
   "cell_type": "code",
   "execution_count": 24,
   "id": "2f62f712",
   "metadata": {},
   "outputs": [],
   "source": [
    "data_frames = {}\n",
    " \n",
    "for file in os.listdir(extracted_files):\n",
    "    if file.endswith(\"csv\"):\n",
    "     file_path = os.path.join(extracted_files, file)\n",
    "     data_frames[file] = pd.read_csv(file_path)\n",
    "   "
   ]
  },
  {
   "cell_type": "code",
   "execution_count": 25,
   "id": "39102e2f",
   "metadata": {},
   "outputs": [
    {
     "name": "stdout",
     "output_type": "stream",
     "text": [
      "olist_customers_dataset.csv\n",
      "olist_geolocation_dataset.csv\n",
      "olist_orders_dataset.csv\n",
      "olist_order_items_dataset.csv\n",
      "olist_order_payments_dataset.csv\n",
      "olist_order_reviews_dataset.csv\n",
      "olist_products_dataset.csv\n",
      "olist_sellers_dataset.csv\n",
      "product_category_name_translation.csv\n"
     ]
    }
   ],
   "source": [
    "for name, df in data_frames.items():\n",
    "    print(f\"{name}\")"
   ]
  }
 ],
 "metadata": {
  "kernelspec": {
   "display_name": "my_venv (3.13.5)",
   "language": "python",
   "name": "python3"
  },
  "language_info": {
   "codemirror_mode": {
    "name": "ipython",
    "version": 3
   },
   "file_extension": ".py",
   "mimetype": "text/x-python",
   "name": "python",
   "nbconvert_exporter": "python",
   "pygments_lexer": "ipython3",
   "version": "3.13.5"
  }
 },
 "nbformat": 4,
 "nbformat_minor": 5
}
