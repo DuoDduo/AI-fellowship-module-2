{
 "cells": [
  {
   "cell_type": "markdown",
   "id": "471baee9",
   "metadata": {},
   "source": [
    "## **Variance**"
   ]
  },
  {
   "cell_type": "markdown",
   "id": "ce5473fd",
   "metadata": {},
   "source": [
    "Calculate the Variance of the data points given\n",
    "\n",
    "`data = ([4, 8, 6, 5, 3])`\n",
    "`n = 5`\n",
    "\n",
    "`Varinace (σ²) = Σ(xᵢ - μ)² / n`\n",
    "\n",
    "```\n",
    "     mean of data (μ) = sum of data / n\n",
    "              (μ) = (4 + 8 + 6 + 5 + 3)/ 5\n",
    "                  = 26 / 5\n",
    "              (μ) = 5.2  \n",
    "```  \n",
    "    Σ(xᵢ - μ)² = (4 - 5.2)² + (8 - 5.2)² + (6 - 5.2)²  + (3 - 5.2)²\n",
    "               = 1.44 + 7.84 + 0.64 + 0.04 + 4.84 \n",
    "               =  14. 8    \n",
    "\n",
    "    (σ²) = Σ(xᵢ - μ)² / n\n",
    "         =  14.8/5\n",
    "         = 2.96                "
   ]
  }
 ],
 "metadata": {
  "language_info": {
   "name": "python"
  }
 },
 "nbformat": 4,
 "nbformat_minor": 5
}
