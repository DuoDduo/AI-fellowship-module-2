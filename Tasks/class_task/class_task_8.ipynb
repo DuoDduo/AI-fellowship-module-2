{
 "cells": [
  {
   "cell_type": "markdown",
   "id": "a104d683",
   "metadata": {},
   "source": [
    "## CLASS TASK 8\n",
    "\n",
    "**Types of Hypothesis Testing**\n",
    "\n",
    "- Chi-square test (for categorical data),\n",
    "- ANOVA (for comparing more than two means),\n",
    "- Two Tailed Tests\n",
    "- Proportion Tests\n"
   ]
  },
  {
   "cell_type": "markdown",
   "id": "67681bca",
   "metadata": {},
   "source": [
    "**Chi-square Test**\n",
    "\n",
    "The Chi-Square test is a statistical method used to determine if there's a significant difference between observed and expected frequencies in categorical data, or if a relationship exists between two categorical variables, rather than the differences being due to chance. \n",
    "\n",
    "It's a non-parametric test essential for analyzing categorical data, which, unlike numerical data, consists of categories (nominal or ordinal) and thus doesn't follow a normal distribution. The test calculates a Chi-Square statistic using the formula\n",
    "\n",
    "\n",
    "Chi-Square Test Formula\n",
    "\n",
    " χ² = Σ [(Oᵢ - Eᵢ)² / Eᵢ]\n",
    "\n",
    "where\n",
    "\n",
    "c = Degrees of freedom\n",
    "\n",
    "O = Observed Value\n",
    "\n",
    "E = Expected Value\n",
    "\n",
    "The degrees of freedom are also crucial for the test's statistical validity, representing the number of variables that can vary in the calculation.\n",
    "\n",
    "**What a Chi-Square (χ2) Statistic Can Tell You**\n",
    "\n",
    "There are two main kinds of chi-square tests that will provide different information:\n",
    "\n",
    "- The test of independence, which asks a question of relationship, such as, “Is there a relationship between student gender and course choice?”\n",
    "- The goodness-of-fit test, which asks a theoretical question such as, “How well does the coin in my hand match a theoretically fair coin?"
   ]
  },
  {
   "cell_type": "markdown",
   "id": "ac5ea0dd",
   "metadata": {},
   "source": []
  }
 ],
 "metadata": {
  "language_info": {
   "name": "python"
  }
 },
 "nbformat": 4,
 "nbformat_minor": 5
}
