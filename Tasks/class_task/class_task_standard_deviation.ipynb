{
 "cells": [
  {
   "cell_type": "markdown",
   "id": "6fe02c95",
   "metadata": {},
   "source": [
    "## **Standard Deviation**\n",
    "\n"
   ]
  },
  {
   "cell_type": "markdown",
   "id": "70c0292b",
   "metadata": {},
   "source": [
    "- What is the Standard Deviation of the data points given? \n",
    "\n",
    "\n",
    "`data = ([4, 8, 6, 5, 3])`\n",
    "\n",
    "`number_of_data = 5`\n",
    "\n",
    "`Varinace (σ²) = Σ(xᵢ - μ)² / n`\n",
    "\n",
    "`standard Deviation (σ) = √[ Σ(xᵢ - μ)² / N ]`\n",
    "\n",
    "```\n",
    " Where: xᵢ = each observation,\n",
    " μ = mean of the dataset, \n",
    " n = total number of values n \n",
    "\n",
    "```\n",
    "                    mean of data (μ) = sum of data / number of data\n",
    "                            (μ) = (4 + 8 + 6 + 5 + 3)/ 5\n",
    "                                = 26 / 5\n",
    "                            (μ) = 5.2 \n",
    "\n",
    "    Mean = 5.2          \n",
    "```  \n",
    "                    Σ(xᵢ - μ)² = (4 - 5.2)² + (8 - 5.2)² + (6 - 5.2)²  + (3 - 5.2)²\n",
    "                            = 1.44 + 7.84 + 0.64 + 0.04 + 4.84 \n",
    "                            =  14. 8    \n",
    "\n",
    "                    (σ²) = Σ(xᵢ - μ)² / n\n",
    "                        =  14.8/5\n",
    "                        = 2.96 \n",
    "\n",
    "Variance = 2.96   \n",
    "\n",
    "```\n",
    "                Standard Deviation (σ) = √[ Σ(xᵢ - μ)² / N ]\n",
    "                                = √  2.96\n",
    "                                = 1.72\n",
    "```\n",
    "Standard deviation = 1.72                   "
   ]
  },
  {
   "cell_type": "markdown",
   "id": "fcd60cc8",
   "metadata": {},
   "source": [
    "**Question 2:**  \n",
    "- What is the interpretation of the results of your variance and std results?\n",
    "\n",
    "**Solution**\n",
    "- The value of the stadard deviation `(1.72)` is low which indicates that the data points `[4, 8, 6, 5, 3]` are closer to the mean `(5.2)`.\n",
    "\n",
    "- The value of the variance `(2.96)` is low which indicates that the data points `[4, 8, 6, 5, 3]` is close to the mean `(5.2)`"
   ]
  }
 ],
 "metadata": {
  "language_info": {
   "name": "python"
  }
 },
 "nbformat": 4,
 "nbformat_minor": 5
}
