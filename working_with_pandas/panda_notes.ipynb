{
 "cells": [
  {
   "cell_type": "markdown",
   "id": "4cf90c15",
   "metadata": {},
   "source": [
    "### A. Creating Series and DataFrames\n"
   ]
  },
  {
   "cell_type": "code",
   "execution_count": null,
   "id": "045ec1d4",
   "metadata": {},
   "outputs": [
    {
     "name": "stdout",
     "output_type": "stream",
     "text": [
      "0     1\n",
      "1     2\n",
      "2     3\n",
      "3     4\n",
      "4     5\n",
      "5     6\n",
      "6     7\n",
      "7     8\n",
      "8     9\n",
      "9    10\n",
      "dtype: int64\n"
     ]
    },
    {
     "data": {
      "text/plain": [
       "0     1\n",
       "1     2\n",
       "2     3\n",
       "3     4\n",
       "4     5\n",
       "5     6\n",
       "6     7\n",
       "7     8\n",
       "8     9\n",
       "9    10\n",
       "dtype: int64"
      ]
     },
     "execution_count": 14,
     "metadata": {},
     "output_type": "execute_result"
    }
   ],
   "source": [
    "# step 1: import panda package\n",
    "import pandas as pd\n",
    "\n",
    "# step 2 : Define a list\n",
    "data = [1, 2, 3, 4, 5, 6, 7 ,8, 9, 10]\n",
    "\n",
    "# step 3: create the series\n",
    "series = pd.Series(data)\n",
    "\n",
    "# view the created series\n",
    "series.head(10)\n",
    "\n"
   ]
  },
  {
   "cell_type": "code",
   "execution_count": 15,
   "id": "fb4498f4",
   "metadata": {},
   "outputs": [
    {
     "data": {
      "text/plain": [
       "pandas.core.series.Series"
      ]
     },
     "execution_count": 15,
     "metadata": {},
     "output_type": "execute_result"
    }
   ],
   "source": [
    "# confirming we created a pandas series\n",
    "type(series)"
   ]
  },
  {
   "cell_type": "code",
   "execution_count": null,
   "id": "6f79f73f",
   "metadata": {},
   "outputs": [
    {
     "data": {
      "text/plain": [
       "f     6\n",
       "g     7\n",
       "h     8\n",
       "i     9\n",
       "j    10\n",
       "dtype: int64"
      ]
     },
     "execution_count": 19,
     "metadata": {},
     "output_type": "execute_result"
    }
   ],
   "source": [
    "# creating a series using the same list, but  adding custom serial numbers\n",
    "series2 = pd.Series(data, index= [\"a\", \"b\", \"c\", \"d\", \"e\", \"f\", \"g\", \"h\", \"i\", \"j\"])\n",
    "series2.head()"
   ]
  },
  {
   "cell_type": "code",
   "execution_count": null,
   "id": "2dcbc578",
   "metadata": {},
   "outputs": [
    {
     "data": {
      "text/plain": [
       "Name    Age\n",
       "b        20\n",
       "c        30\n",
       "dtype: object"
      ]
     },
     "execution_count": 23,
     "metadata": {},
     "output_type": "execute_result"
    }
   ],
   "source": [
    "# creating a series using python dictionary \n",
    "data2 = {\"a\": 10, \"b\": 20, \"c\": 30}\n",
    "\n",
    "# creating the series\n",
    "series3= pd.Series(data2)\n",
    "series.head()\n"
   ]
  },
  {
   "cell_type": "markdown",
   "id": "1a692cf6",
   "metadata": {},
   "source": [
    "\n",
    "**Hands on practice**:\n",
    "1. Create a bucket list of 6 items. Convert the list to pandas series and define index for it using alphabets.\n",
    "2. Create a simple python dictionary of your biodata with 5 keys and their corresponding values. Convert the dictionary into a pandas series."
   ]
  },
  {
   "cell_type": "markdown",
   "id": "0f2a118b",
   "metadata": {},
   "source": [
    "Question 1"
   ]
  },
  {
   "cell_type": "code",
   "execution_count": 24,
   "id": "386957e7",
   "metadata": {},
   "outputs": [
    {
     "data": {
      "text/plain": [
       "a      shoe\n",
       "b       bag\n",
       "c     stone\n",
       "d      fish\n",
       "e    cheese\n",
       "f    cherry\n",
       "dtype: object"
      ]
     },
     "execution_count": 24,
     "metadata": {},
     "output_type": "execute_result"
    }
   ],
   "source": [
    "# bucket list of 6 items\n",
    "item_list =[\"shoe\", \"bag\", \"stone\", \"fish\", \"cheese\", \"cherry\"]\n",
    "\n",
    "# converting the bucket list to panda series and defining alphabets as the index\n",
    "items_series = pd.Series(item_list, index= [\"a\", \"b\", \"c\", \"d\", \"e\", \"f\"])\n",
    "\n",
    "items_series.head(6)\n"
   ]
  },
  {
   "cell_type": "markdown",
   "id": "ccc86a2a",
   "metadata": {},
   "source": [
    "Question 2"
   ]
  },
  {
   "cell_type": "code",
   "execution_count": 27,
   "id": "4c98a0ca",
   "metadata": {},
   "outputs": [
    {
     "data": {
      "text/plain": [
       "Name      Dominion James\n",
       "Track     AI Engineering\n",
       "Age                   90\n",
       "Gender            Female\n",
       "School            Aptech\n",
       "dtype: object"
      ]
     },
     "execution_count": 27,
     "metadata": {},
     "output_type": "execute_result"
    }
   ],
   "source": [
    "# creating the python dictionary of  biodta with 5keys\n",
    "bio_data= {\"Name\": \"Dominion James\", \"Track\":\"AI Engineering\", \"Age\": 90, \"Gender\":\"Female\", \"School\": \"Aptech\"}\n",
    "\n",
    "# converting the biodata dictionary to panda series\n",
    "bio_data_series = pd.Series(bio_data)\n",
    "\n",
    "\n",
    "bio_data_series.head()"
   ]
  },
  {
   "cell_type": "markdown",
   "id": "83f70f79",
   "metadata": {},
   "source": [
    "**Creating a DataFrame**\n",
    "\n"
   ]
  },
  {
   "cell_type": "code",
   "execution_count": 32,
   "id": "2f5cc1c1",
   "metadata": {},
   "outputs": [
    {
     "data": {
      "text/html": [
       "<div>\n",
       "<style scoped>\n",
       "    .dataframe tbody tr th:only-of-type {\n",
       "        vertical-align: middle;\n",
       "    }\n",
       "\n",
       "    .dataframe tbody tr th {\n",
       "        vertical-align: top;\n",
       "    }\n",
       "\n",
       "    .dataframe thead th {\n",
       "        text-align: right;\n",
       "    }\n",
       "</style>\n",
       "<table border=\"1\" class=\"dataframe\">\n",
       "  <thead>\n",
       "    <tr style=\"text-align: right;\">\n",
       "      <th></th>\n",
       "      <th>Name</th>\n",
       "      <th>Age</th>\n",
       "      <th>Home_Town</th>\n",
       "    </tr>\n",
       "  </thead>\n",
       "  <tbody>\n",
       "    <tr>\n",
       "      <th>1</th>\n",
       "      <td>Chris</td>\n",
       "      <td>26</td>\n",
       "      <td>Benin</td>\n",
       "    </tr>\n",
       "    <tr>\n",
       "      <th>2</th>\n",
       "      <td>Ayo</td>\n",
       "      <td>24</td>\n",
       "      <td>Ibadan</td>\n",
       "    </tr>\n",
       "    <tr>\n",
       "      <th>3</th>\n",
       "      <td>Chisom</td>\n",
       "      <td>22</td>\n",
       "      <td>Enugu</td>\n",
       "    </tr>\n",
       "  </tbody>\n",
       "</table>\n",
       "</div>"
      ],
      "text/plain": [
       "     Name  Age Home_Town\n",
       "1   Chris   26     Benin\n",
       "2     Ayo   24    Ibadan\n",
       "3  Chisom   22     Enugu"
      ]
     },
     "execution_count": 32,
     "metadata": {},
     "output_type": "execute_result"
    }
   ],
   "source": [
    "# creating a data frame\n",
    "\n",
    "# step1: import pandas\n",
    "\n",
    "import pandas as pd\n",
    "\n",
    "# define the data using dictionary that is having values as a list\n",
    "\n",
    "data = {\n",
    "    \"Name\": [\"Chris\", \"Ayo\", \"Chisom\"],\n",
    "    \"Age\": [26, 24, 22],\n",
    "    \"Home_Town\": [\"Benin\", \"Ibadan\", \"Enugu\"]\n",
    "}\n",
    "\n",
    "# creating the dataframe using \"df\" as short for dataframe\n",
    "df= pd.DataFrame(data, index=[1, 2, 3])\n",
    "df.head()\n"
   ]
  },
  {
   "cell_type": "code",
   "execution_count": null,
   "id": "a2924305",
   "metadata": {},
   "outputs": [
    {
     "data": {
      "text/html": [
       "<div>\n",
       "<style scoped>\n",
       "    .dataframe tbody tr th:only-of-type {\n",
       "        vertical-align: middle;\n",
       "    }\n",
       "\n",
       "    .dataframe tbody tr th {\n",
       "        vertical-align: top;\n",
       "    }\n",
       "\n",
       "    .dataframe thead th {\n",
       "        text-align: right;\n",
       "    }\n",
       "</style>\n",
       "<table border=\"1\" class=\"dataframe\">\n",
       "  <thead>\n",
       "    <tr style=\"text-align: right;\">\n",
       "      <th></th>\n",
       "      <th>Name</th>\n",
       "      <th>Age</th>\n",
       "      <th>Home Town</th>\n",
       "    </tr>\n",
       "  </thead>\n",
       "  <tbody>\n",
       "    <tr>\n",
       "      <th>1</th>\n",
       "      <td>Chris</td>\n",
       "      <td>26</td>\n",
       "      <td>Benin</td>\n",
       "    </tr>\n",
       "    <tr>\n",
       "      <th>2</th>\n",
       "      <td>Ayo</td>\n",
       "      <td>24</td>\n",
       "      <td>Ibaan</td>\n",
       "    </tr>\n",
       "    <tr>\n",
       "      <th>3</th>\n",
       "      <td>Chisom</td>\n",
       "      <td>22</td>\n",
       "      <td>Enugu</td>\n",
       "    </tr>\n",
       "  </tbody>\n",
       "</table>\n",
       "</div>"
      ],
      "text/plain": [
       "     Name  Age Home Town\n",
       "1   Chris   26     Benin\n",
       "2     Ayo   24     Ibaan\n",
       "3  Chisom   22     Enugu"
      ]
     },
     "execution_count": 35,
     "metadata": {},
     "output_type": "execute_result"
    }
   ],
   "source": [
    "# using list of dictionaries\n",
    "data2 =[\n",
    "    {\"Name\": \"Chris\", \"Age\": 26, \"Home Town\": \"Benin\"},\n",
    "    {\"Name\": \"Ayo\", \"Age\": 24, \"Home Town\": \"Ibadan\"},\n",
    "    {\"Name\": \"Chisom\", \"Age\": 22, \"Home Town\": \"Enugu\"}\n",
    "]\n",
    "df2 = pd.DataFrame(data2, index=[1, 2, 3])\n",
    "df2.head()"
   ]
  },
  {
   "cell_type": "code",
   "execution_count": 39,
   "id": "8067a430",
   "metadata": {},
   "outputs": [
    {
     "data": {
      "text/html": [
       "<div>\n",
       "<style scoped>\n",
       "    .dataframe tbody tr th:only-of-type {\n",
       "        vertical-align: middle;\n",
       "    }\n",
       "\n",
       "    .dataframe tbody tr th {\n",
       "        vertical-align: top;\n",
       "    }\n",
       "\n",
       "    .dataframe thead th {\n",
       "        text-align: right;\n",
       "    }\n",
       "</style>\n",
       "<table border=\"1\" class=\"dataframe\">\n",
       "  <thead>\n",
       "    <tr style=\"text-align: right;\">\n",
       "      <th></th>\n",
       "      <th>Name</th>\n",
       "      <th>Age</th>\n",
       "      <th>Home Town</th>\n",
       "    </tr>\n",
       "  </thead>\n",
       "  <tbody>\n",
       "    <tr>\n",
       "      <th>1</th>\n",
       "      <td>Chris</td>\n",
       "      <td>26</td>\n",
       "      <td>Benin</td>\n",
       "    </tr>\n",
       "    <tr>\n",
       "      <th>2</th>\n",
       "      <td>Ayo</td>\n",
       "      <td>24</td>\n",
       "      <td>Ibadan</td>\n",
       "    </tr>\n",
       "    <tr>\n",
       "      <th>3</th>\n",
       "      <td>Chisom</td>\n",
       "      <td>22</td>\n",
       "      <td>Enugu</td>\n",
       "    </tr>\n",
       "  </tbody>\n",
       "</table>\n",
       "</div>"
      ],
      "text/plain": [
       "     Name  Age Home Town\n",
       "1   Chris   26     Benin\n",
       "2     Ayo   24    Ibadan\n",
       "3  Chisom   22     Enugu"
      ]
     },
     "execution_count": 39,
     "metadata": {},
     "output_type": "execute_result"
    }
   ],
   "source": [
    "# using list of list\n",
    "data3 =[\n",
    "       [\"Chris\", 26, \"Benin\"],\n",
    "       [\"Ayo\", 24, \"Ibadan\"],\n",
    "       [\"Chisom\", 22, \"Enugu\"]\n",
    "]\n",
    "\n",
    "df3 = pd.DataFrame(data3, columns=[\"Name\", \"Age\", \"Home Town\"], index=[1, 2, 3])\n",
    "df3.head()"
   ]
  },
  {
   "cell_type": "code",
   "execution_count": 38,
   "id": "a9fc780d",
   "metadata": {},
   "outputs": [
    {
     "name": "stdout",
     "output_type": "stream",
     "text": [
      "<class 'pandas.core.frame.DataFrame'>\n",
      "<class 'pandas.core.frame.DataFrame'>\n",
      "<class 'pandas.core.frame.DataFrame'>\n"
     ]
    }
   ],
   "source": [
    "# printing the types to be sure we have defined dataframes\n",
    "print(type(df))\n",
    "print(type(df2))\n",
    "print(type(df3))"
   ]
  },
  {
   "cell_type": "markdown",
   "id": "78724490",
   "metadata": {},
   "source": [
    "**Data Input and Output**"
   ]
  },
  {
   "cell_type": "code",
   "execution_count": null,
   "id": "33272417",
   "metadata": {},
   "outputs": [],
   "source": [
    "import pandas as pd\n",
    "import csv\n",
    "\n",
    "# To read in dataset (csv) we use\n",
    "df = pd.read_csv(\"bio_data.csv\")\n",
    "\n",
    "\n",
    "\n"
   ]
  },
  {
   "cell_type": "markdown",
   "id": "89c452cc",
   "metadata": {},
   "source": [
    "**Data Inspection and Exploration**"
   ]
  },
  {
   "cell_type": "code",
   "execution_count": 14,
   "id": "0924587c",
   "metadata": {},
   "outputs": [
    {
     "name": "stdout",
     "output_type": "stream",
     "text": [
      "<class 'pandas.core.frame.DataFrame'>\n",
      "RangeIndex: 34 entries, 0 to 33\n",
      "Data columns (total 10 columns):\n",
      " #   Column        Non-Null Count  Dtype \n",
      "---  ------        --------------  ----- \n",
      " 0   Timestamp     34 non-null     object\n",
      " 1   First Name    34 non-null     object\n",
      " 2   Last Name     34 non-null     object\n",
      " 3   Course Track  34 non-null     object\n",
      " 4   City          34 non-null     object\n",
      " 5   Gender        34 non-null     object\n",
      " 6   Seat Number   34 non-null     object\n",
      " 7   PC-Make       34 non-null     object\n",
      " 8   PC - OS       34 non-null     object\n",
      " 9   Feedback      34 non-null     object\n",
      "dtypes: object(10)\n",
      "memory usage: 2.8+ KB\n"
     ]
    }
   ],
   "source": [
    "# To view the first 5 rows\n",
    "df.head()\n",
    "\n",
    "# To view the last 5 rows\n",
    "df.tail()\n",
    "\n",
    "# To check the information about the data\n",
    "df.info()\n",
    "\n"
   ]
  },
  {
   "cell_type": "code",
   "execution_count": null,
   "id": "f0344326",
   "metadata": {},
   "outputs": [
    {
     "data": {
      "text/plain": [
       "Index(['Timestamp', 'First Name', 'Last Name', 'Course Track', 'City',\n",
       "       'Gender', 'Seat Number', 'PC-Make', 'PC - OS', 'Feedback'],\n",
       "      dtype='object')"
      ]
     },
     "execution_count": 19,
     "metadata": {},
     "output_type": "execute_result"
    }
   ],
   "source": [
    "# To show the statistical summary\n",
    "df.describe()\n",
    "\n",
    "# To check the dimension of the dataset\n",
    "df.shape\n",
    "\n",
    "# To check the column names\n",
    "df.columns\n",
    "\n",
    "# This calls all the data in the dataset\n",
    "df"
   ]
  }
 ],
 "metadata": {
  "kernelspec": {
   "display_name": "new_file",
   "language": "python",
   "name": "python3"
  },
  "language_info": {
   "codemirror_mode": {
    "name": "ipython",
    "version": 3
   },
   "file_extension": ".py",
   "mimetype": "text/x-python",
   "name": "python",
   "nbconvert_exporter": "python",
   "pygments_lexer": "ipython3",
   "version": "3.13.5"
  }
 },
 "nbformat": 4,
 "nbformat_minor": 5
}
