{
 "cells": [
  {
   "cell_type": "markdown",
   "id": "cda2a34b",
   "metadata": {},
   "source": [
    "## **Case Study: Student Performance Analysis with Linear Algebra**"
   ]
  },
  {
   "cell_type": "markdown",
   "id": "e299b4de",
   "metadata": {},
   "source": [
    "## Step-by-step Analysis"
   ]
  },
  {
   "cell_type": "markdown",
   "id": "8c3c608b",
   "metadata": {},
   "source": [
    "**3.1 Representing the data as a Matrix**\n",
    "```\n",
    "rows = students, columns = subjects\n",
    "student_scores = (4 X 3) matrix \n",
    "student_scores= [\n",
    "                  [80,70,90],\n",
    "                  [60,85,75],\n",
    "                  [95,88,92],               \n",
    "                  [70,60,65]\n",
    "                ]"
   ]
  },
  {
   "cell_type": "code",
   "execution_count": 2,
   "id": "1cbb4427",
   "metadata": {},
   "outputs": [
    {
     "data": {
      "text/plain": [
       "array([[80, 70, 90],\n",
       "       [60, 85, 75],\n",
       "       [95, 88, 92],\n",
       "       [70, 60, 65]])"
      ]
     },
     "execution_count": 2,
     "metadata": {},
     "output_type": "execute_result"
    }
   ],
   "source": [
    "# representing the data as a matrix\n",
    "import numpy as np\n",
    "student_scores = np.array([[80,70,90],\n",
    "                           [60,85,75],\n",
    "                           [95,88,92],\n",
    "                           [70,60,65]])\n",
    "student_scores"
   ]
  },
  {
   "cell_type": "markdown",
   "id": "447e21c6",
   "metadata": {},
   "source": [
    "**3.2. Computing Total Score per Student (Vector Addition)**\n",
    "```\n",
    "student_scores= [\n",
    "                  [80,70,90],\n",
    "                  [60,85,75],\n",
    "                  [95,88,92],               \n",
    "                  [70,60,65]\n",
    "                ]\n",
    "```                \n",
    "- Total score for each student by summing across the row vector.\n",
    "\n",
    "        - Total score for each student:\n",
    "            student_one = (80 + 70 + 90)\n",
    "                student_one = 240\n",
    "            student_two = (60 + 85 + 75)\n",
    "                student_two = 220\n",
    "            student_three = (95 + 88 + 92)\n",
    "                student_three = 275\n",
    "            student_four = (70 + 60 + 65)\n",
    "                student_four = 195\n",
    "\n",
    "```\n",
    "    total_score_array = [240 220 275 195]                \n"
   ]
  },
  {
   "cell_type": "code",
   "execution_count": 3,
   "id": "f0e95541",
   "metadata": {},
   "outputs": [
    {
     "name": "stdout",
     "output_type": "stream",
     "text": [
      "The total score array of each student is:  [240 220 275 195]\n"
     ]
    }
   ],
   "source": [
    "# computing total score for each student by summing across the row  using numpy.\n",
    "student_scores = np.array([[80,70,90],\n",
    "                           [60,85,75],\n",
    "                           [95,88,92],\n",
    "                           [70,60,65]])\n",
    "# calculating the scores across the row for each student, \n",
    "# rows = students, columns = subjects\n",
    "total_scores_array = np.sum(student_scores, axis = 1)\n",
    "print(\"The total score array of each student is: \", total_scores_array)"
   ]
  },
  {
   "cell_type": "markdown",
   "id": "619be4bc",
   "metadata": {},
   "source": [
    "**3.3 Applying Weights (Scalar Multiplication)**\n",
    "\n",
    "- Representing all students maths score in an array\n",
    "```\n",
    "    math_scores = [80, 60, 95, 70]\n",
    "```\n",
    "- Math is twice as important as others, `scalar m = 2`   \n",
    "\n",
    "- Scalar multiplictaion to apply weight on the math subject:\n",
    "   ```\n",
    "     weighted_math_score = 2(math_scores)\n",
    "     2(math_scores) => 2([80, 60, 95, 70])\n",
    "                        [(2 x 80), (2 X 60), (2 X 95), (2 X 70)]\n",
    "                        [160 120 190 140]\n",
    "\n",
    "    weighted_math_score = [160  120 190 140]\n"
   ]
  },
  {
   "cell_type": "code",
   "execution_count": 10,
   "id": "9f8d0b9d",
   "metadata": {},
   "outputs": [
    {
     "name": "stdout",
     "output_type": "stream",
     "text": [
      "The weighted math score for each student is:  [160 120 190 140]\n"
     ]
    }
   ],
   "source": [
    "# representing all students maths score in an array\n",
    "math_scores = np.array(student_scores[:,0])\n",
    "\n",
    "# scalar value\n",
    "scalar_m = 2\n",
    "weighted_math_score = scalar_m * math_scores\n",
    "\n",
    "print(\"The weighted math score for each student is: \", weighted_math_score)\n"
   ]
  },
  {
   "cell_type": "markdown",
   "id": "6dac383f",
   "metadata": {},
   "source": [
    "**3.3 Average Score per  (Matrix Operations)**\n",
    "\n",
    "- Representing each subject score in an array\n",
    "```\n",
    "    math_scores = [80, 60, 95, 70]\n",
    "    english_scores = [70, 85, 88, 60]\n",
    "    science_scores = [90, 75, 92,65]\n",
    "    total_students = 4\n",
    "```\n",
    "        math_scores_avg = sum of math_scores / total_students\n",
    "                        = (80 + 60 + 95 + 70) / 4\n",
    "                                        = 305 / 4\n",
    "                                        = 76.25\n",
    "                        math_scores_avg = 76.25                           \n",
    "\n",
    "```\n",
    "        english_scores_avg = sum of english_scores / total_students\n",
    "                                = (70 + 85 + 88 + 60) / 4\n",
    "                                                = 303 / 4\n",
    "                                                = 75.75\n",
    "                                english_scores_avg = 75.75 \n",
    "\n",
    "```\n",
    "        science_scores_avg = sum of science_scores / total_students\n",
    "                                = (90 + 75 + 92 + 65) / 4\n",
    "                                                = 322 / 4\n",
    "                                                = 80.5\n",
    "                                science_scores_avg = 80.5                          \n"
   ]
  },
  {
   "cell_type": "code",
   "execution_count": 5,
   "id": "ebae1c75",
   "metadata": {},
   "outputs": [
    {
     "name": "stdout",
     "output_type": "stream",
     "text": [
      "The mean of all the student scores in Mathematics is:  76.25\n",
      "The mean of all the student scores in English is:  75.75\n",
      "The mean of all the student scores in Science is:  80.5\n"
     ]
    }
   ],
   "source": [
    "# representing all students subject score in an array\n",
    "math_scores = np.array(student_scores[:,0])\n",
    "english_scores = np.array(student_scores[:,1])\n",
    "science_scores = np.array(student_scores[:,2])\n",
    "\n",
    "# calculating the mean of the students scores in each subject\n",
    "math_scores_avg = np.mean(math_scores, axis=0)\n",
    "english_scores_avg = np.mean(english_scores, axis=0)\n",
    "science_scores_avg = np.mean(science_scores, axis=0)\n",
    "\n",
    "print(\"The mean of all the student scores in Mathematics is: \", math_scores_avg)\n",
    "print(\"The mean of all the student scores in English is: \", english_scores_avg)\n",
    "print(\"The mean of all the student scores in Science is: \", science_scores_avg)"
   ]
  },
  {
   "cell_type": "markdown",
   "id": "3967da7c",
   "metadata": {},
   "source": [
    "**3.5 Final Grades Using Matrix Multiplication**\n",
    "\n",
    "- Representing each subject score in an array\n",
    "```\n",
    "    student_scores= [\n",
    "                  [80,70,90],\n",
    "                  [60,85,75],\n",
    "                  [95,88,92],               \n",
    "                  [70,60,65]\n",
    "                ]\n",
    "  student_scores(4 X 3)\n",
    "\n",
    "```\n",
    "        weight_vector = [ 40% = 0.4 = maths,\n",
    "                          40% = 0.4 = english,\n",
    "                          20% = 0.2 = science\n",
    "                        ]\n",
    "       weight_vector (3 X 1)\n",
    "```\n",
    " - final_grade(4 X 1) = (student_scores X weight_vector)\n",
    "                         \n",
    "                          student_1_grade = [(80 X 0.4), (70 x 0.4),  (90 X 0.2)]\n",
    "                          student_2_grade = [(60 X 0.4), (85 x 0.4),  (75 X 0.2)]\n",
    "                          student_3_grade = [(95 X 0.4), (88 x 0.4),  (92 X 0.2)]\n",
    "                          student_4_grade = [(70 X 0.4), (60 x 0.4),  (65 X 0.2)]\n",
    " - final_grade\n",
    "\n",
    "                          student_1_grade = [32     28     18]\n",
    "                          student_2_grade = [24     34     15]\n",
    "                          student_3_grade = [38   35.2   18.4]\n",
    "                          student_4_grade = [28     24      13]\n",
    "\n",
    "  - Total final grade for each student:\n",
    "  ```\n",
    "                          student_1_final = (32 + 28 + 18)\n",
    "                              student_1_final = 78\n",
    "\n",
    "                          student_2_final = (24 + 34 + 15)\n",
    "                              student_2_final = 73\n",
    "\n",
    "                          student_3_final = (38 + 35.2 + 18.4)\n",
    "                              student_3_final = 91.6\n",
    "                              \n",
    "                          student_4_final = (28 + 24 + 13)\n",
    "                              student_4_final = 65\n",
    "\n",
    "```\n",
    "- Grades\n",
    "    - A = 75 - 100\n",
    "    - B = 65 - 74\n",
    "    - C = 64 - 55\n",
    "    - D = 54 - 45\n",
    "    - E = 44 - 40\n",
    "    - F = 39 - 0\n",
    "\n",
    "       \\begin{bmatrix}\n",
    "        Students & Scores &Grades\\\\\n",
    "        Student_1 & 78 & A\\\\\n",
    "        Student_2 & 73 & B\\\\\n",
    "        Student_3 & 91.6 & A\\\\\n",
    "        Student_4 & 65 & B\\\\\n",
    "      \\end{bmatrix}                   \n",
    "                         "
   ]
  },
  {
   "cell_type": "code",
   "execution_count": 9,
   "id": "23fddb8d",
   "metadata": {},
   "outputs": [
    {
     "name": "stdout",
     "output_type": "stream",
     "text": [
      "Student 1 Final Grade is:  78.0\n",
      "Student 2 Final Grade is:  73.0\n",
      "Student 3 Final Grade is:  91.60000000000001\n",
      "Student 4 Final Grade is:  65.0\n"
     ]
    },
    {
     "data": {
      "text/plain": [
       "range(75, 101)"
      ]
     },
     "execution_count": 9,
     "metadata": {},
     "output_type": "execute_result"
    }
   ],
   "source": [
    "# representing all subject weight vector in an array\n",
    "weight_vector = [0.4, 0.4, 0.2]\n",
    "\n",
    "student_1 = np.array(student_scores[0, :])\n",
    "student_2= np.array(student_scores[1, :])\n",
    "student_3 = np.array(student_scores[2, :])\n",
    "student_4 = np.array(student_scores[3, :])\n",
    "\n",
    "# calculating the sum of the students scores in each subject\n",
    "student_1_final = np.sum(student_1 * weight_vector)\n",
    "student_2_final= np.sum(student_2 * weight_vector)\n",
    "student_3_final = np.sum(student_3 * weight_vector)\n",
    "student_4_final = np.sum(student_4 * weight_vector)\n",
    "\n",
    "grades= {\n",
    "    \"A\": range(75, 101),\n",
    "    \"B\": \"65 - 74\",\n",
    "    \"C\": \"64 - 55\",\n",
    "    \"D\": \"54 - 45\",\n",
    "    \"E\": \"44 - 40\",\n",
    "    \"E\": \"39 - 40\",\n",
    "    }\n",
    "# adding the final grade for each student\n",
    "print(\"Student 1 Final Grade is: \", student_1_final)\n",
    "print(\"Student 2 Final Grade is: \", student_2_final)\n",
    "print(\"Student 3 Final Grade is: \", student_3_final)\n",
    "print(\"Student 4 Final Grade is: \", student_4_final)\n",
    "\n",
    "grades.get(\"A\")"
   ]
  },
  {
   "cell_type": "markdown",
   "id": "0d583f8b",
   "metadata": {},
   "source": [
    "**3.5 Comparing Students (Vector Subtraction)**\n",
    "\n",
    "- comparing two students performnances by subtracting their score vectors\n",
    "\n",
    "\n",
    "                          \n",
    "                         "
   ]
  }
 ],
 "metadata": {
  "kernelspec": {
   "display_name": "my_venv (3.13.5)",
   "language": "python",
   "name": "python3"
  },
  "language_info": {
   "codemirror_mode": {
    "name": "ipython",
    "version": 3
   },
   "file_extension": ".py",
   "mimetype": "text/x-python",
   "name": "python",
   "nbconvert_exporter": "python",
   "pygments_lexer": "ipython3",
   "version": "3.13.5"
  }
 },
 "nbformat": 4,
 "nbformat_minor": 5
}
