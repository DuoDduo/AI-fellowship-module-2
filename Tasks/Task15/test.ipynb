{
 "cells": [
  {
   "cell_type": "markdown",
   "id": "cad92103",
   "metadata": {},
   "source": [
    "## Data Ingestion"
   ]
  },
  {
   "cell_type": "code",
   "execution_count": 1,
   "id": "96b3b1d9",
   "metadata": {},
   "outputs": [],
   "source": [
    "# importing all necessary libraries\n",
    "import numpy as np\n",
    "import pandas as pd"
   ]
  },
  {
   "cell_type": "code",
   "execution_count": 2,
   "id": "06366ebe",
   "metadata": {},
   "outputs": [],
   "source": [
    "# loading the dataset\n",
    "sales = pd.read_csv(\"sales_data.xls\")"
   ]
  },
  {
   "cell_type": "code",
   "execution_count": 3,
   "id": "ff8b0cc3",
   "metadata": {},
   "outputs": [
    {
     "data": {
      "text/html": [
       "<div>\n",
       "<style scoped>\n",
       "    .dataframe tbody tr th:only-of-type {\n",
       "        vertical-align: middle;\n",
       "    }\n",
       "\n",
       "    .dataframe tbody tr th {\n",
       "        vertical-align: top;\n",
       "    }\n",
       "\n",
       "    .dataframe thead th {\n",
       "        text-align: right;\n",
       "    }\n",
       "</style>\n",
       "<table border=\"1\" class=\"dataframe\">\n",
       "  <thead>\n",
       "    <tr style=\"text-align: right;\">\n",
       "      <th></th>\n",
       "      <th>customer_id</th>\n",
       "      <th>device_id</th>\n",
       "      <th>item_id</th>\n",
       "      <th>line_item_id</th>\n",
       "      <th>order_id</th>\n",
       "      <th>event_id</th>\n",
       "      <th>event_timestamp</th>\n",
       "      <th>quantity</th>\n",
       "      <th>currency</th>\n",
       "      <th>checked_out_at</th>\n",
       "      <th>status</th>\n",
       "      <th>location</th>\n",
       "    </tr>\n",
       "  </thead>\n",
       "  <tbody>\n",
       "    <tr>\n",
       "      <th>0</th>\n",
       "      <td>cda7bec0-7cbf-4145-baf9-e049bab94504</td>\n",
       "      <td>33b485de-7338-4997-b1d0-b988ba17b245</td>\n",
       "      <td>4</td>\n",
       "      <td>3201</td>\n",
       "      <td>9e950ce3-2e12-479c-a051-493c1a497d49</td>\n",
       "      <td>14786</td>\n",
       "      <td>2024-03-26 22:05:58.863661</td>\n",
       "      <td>2</td>\n",
       "      <td>NGN</td>\n",
       "      <td>2024-03-30 04:19:10.406794</td>\n",
       "      <td>success</td>\n",
       "      <td>Saint Helena</td>\n",
       "    </tr>\n",
       "    <tr>\n",
       "      <th>1</th>\n",
       "      <td>cda7bec0-7cbf-4145-baf9-e049bab94504</td>\n",
       "      <td>33b485de-7338-4997-b1d0-b988ba17b245</td>\n",
       "      <td>5</td>\n",
       "      <td>3202</td>\n",
       "      <td>9e950ce3-2e12-479c-a051-493c1a497d49</td>\n",
       "      <td>14786</td>\n",
       "      <td>2024-03-26 22:05:58.863661</td>\n",
       "      <td>4</td>\n",
       "      <td>NGN</td>\n",
       "      <td>2024-03-30 04:19:10.406794</td>\n",
       "      <td>success</td>\n",
       "      <td>Saint Helena</td>\n",
       "    </tr>\n",
       "    <tr>\n",
       "      <th>2</th>\n",
       "      <td>cda7bec0-7cbf-4145-baf9-e049bab94504</td>\n",
       "      <td>33b485de-7338-4997-b1d0-b988ba17b245</td>\n",
       "      <td>9</td>\n",
       "      <td>3203</td>\n",
       "      <td>9e950ce3-2e12-479c-a051-493c1a497d49</td>\n",
       "      <td>14786</td>\n",
       "      <td>2024-03-26 22:05:58.863661</td>\n",
       "      <td>5</td>\n",
       "      <td>NGN</td>\n",
       "      <td>2024-03-30 04:19:10.406794</td>\n",
       "      <td>success</td>\n",
       "      <td>Saint Helena</td>\n",
       "    </tr>\n",
       "    <tr>\n",
       "      <th>3</th>\n",
       "      <td>cda7bec0-7cbf-4145-baf9-e049bab94504</td>\n",
       "      <td>33b485de-7338-4997-b1d0-b988ba17b245</td>\n",
       "      <td>12</td>\n",
       "      <td>3204</td>\n",
       "      <td>9e950ce3-2e12-479c-a051-493c1a497d49</td>\n",
       "      <td>14786</td>\n",
       "      <td>2024-03-26 22:05:58.863661</td>\n",
       "      <td>1</td>\n",
       "      <td>NGN</td>\n",
       "      <td>2024-03-30 04:19:10.406794</td>\n",
       "      <td>success</td>\n",
       "      <td>Saint Helena</td>\n",
       "    </tr>\n",
       "    <tr>\n",
       "      <th>4</th>\n",
       "      <td>cda7bec0-7cbf-4145-baf9-e049bab94504</td>\n",
       "      <td>33b485de-7338-4997-b1d0-b988ba17b245</td>\n",
       "      <td>6</td>\n",
       "      <td>3205</td>\n",
       "      <td>9e950ce3-2e12-479c-a051-493c1a497d49</td>\n",
       "      <td>14786</td>\n",
       "      <td>2024-03-26 22:05:58.863661</td>\n",
       "      <td>2</td>\n",
       "      <td>NGN</td>\n",
       "      <td>2024-03-30 04:19:10.406794</td>\n",
       "      <td>success</td>\n",
       "      <td>Saint Helena</td>\n",
       "    </tr>\n",
       "  </tbody>\n",
       "</table>\n",
       "</div>"
      ],
      "text/plain": [
       "                            customer_id                             device_id  \\\n",
       "0  cda7bec0-7cbf-4145-baf9-e049bab94504  33b485de-7338-4997-b1d0-b988ba17b245   \n",
       "1  cda7bec0-7cbf-4145-baf9-e049bab94504  33b485de-7338-4997-b1d0-b988ba17b245   \n",
       "2  cda7bec0-7cbf-4145-baf9-e049bab94504  33b485de-7338-4997-b1d0-b988ba17b245   \n",
       "3  cda7bec0-7cbf-4145-baf9-e049bab94504  33b485de-7338-4997-b1d0-b988ba17b245   \n",
       "4  cda7bec0-7cbf-4145-baf9-e049bab94504  33b485de-7338-4997-b1d0-b988ba17b245   \n",
       "\n",
       "   item_id  line_item_id                              order_id  event_id  \\\n",
       "0        4          3201  9e950ce3-2e12-479c-a051-493c1a497d49     14786   \n",
       "1        5          3202  9e950ce3-2e12-479c-a051-493c1a497d49     14786   \n",
       "2        9          3203  9e950ce3-2e12-479c-a051-493c1a497d49     14786   \n",
       "3       12          3204  9e950ce3-2e12-479c-a051-493c1a497d49     14786   \n",
       "4        6          3205  9e950ce3-2e12-479c-a051-493c1a497d49     14786   \n",
       "\n",
       "              event_timestamp  quantity currency              checked_out_at  \\\n",
       "0  2024-03-26 22:05:58.863661         2      NGN  2024-03-30 04:19:10.406794   \n",
       "1  2024-03-26 22:05:58.863661         4      NGN  2024-03-30 04:19:10.406794   \n",
       "2  2024-03-26 22:05:58.863661         5      NGN  2024-03-30 04:19:10.406794   \n",
       "3  2024-03-26 22:05:58.863661         1      NGN  2024-03-30 04:19:10.406794   \n",
       "4  2024-03-26 22:05:58.863661         2      NGN  2024-03-30 04:19:10.406794   \n",
       "\n",
       "    status      location  \n",
       "0  success  Saint Helena  \n",
       "1  success  Saint Helena  \n",
       "2  success  Saint Helena  \n",
       "3  success  Saint Helena  \n",
       "4  success  Saint Helena  "
      ]
     },
     "execution_count": 3,
     "metadata": {},
     "output_type": "execute_result"
    }
   ],
   "source": [
    "# previewing the first 5 rows as the data\n",
    "sales.head()"
   ]
  },
  {
   "cell_type": "code",
   "execution_count": 4,
   "id": "052bdbac",
   "metadata": {},
   "outputs": [
    {
     "data": {
      "text/html": [
       "<div>\n",
       "<style scoped>\n",
       "    .dataframe tbody tr th:only-of-type {\n",
       "        vertical-align: middle;\n",
       "    }\n",
       "\n",
       "    .dataframe tbody tr th {\n",
       "        vertical-align: top;\n",
       "    }\n",
       "\n",
       "    .dataframe thead th {\n",
       "        text-align: right;\n",
       "    }\n",
       "</style>\n",
       "<table border=\"1\" class=\"dataframe\">\n",
       "  <thead>\n",
       "    <tr style=\"text-align: right;\">\n",
       "      <th></th>\n",
       "      <th>customer_id</th>\n",
       "      <th>device_id</th>\n",
       "      <th>item_id</th>\n",
       "      <th>line_item_id</th>\n",
       "      <th>order_id</th>\n",
       "      <th>event_id</th>\n",
       "      <th>event_timestamp</th>\n",
       "      <th>quantity</th>\n",
       "      <th>currency</th>\n",
       "      <th>checked_out_at</th>\n",
       "      <th>status</th>\n",
       "      <th>location</th>\n",
       "    </tr>\n",
       "  </thead>\n",
       "  <tbody>\n",
       "    <tr>\n",
       "      <th>578315</th>\n",
       "      <td>ef15a7b3-326c-405f-9eef-3dbf43c85a9d</td>\n",
       "      <td>74bb4936-9890-421b-a62a-ee544191fa1e</td>\n",
       "      <td>1</td>\n",
       "      <td>34941</td>\n",
       "      <td>ad73a2a0-354a-40bf-81cd-ff017ac859d5</td>\n",
       "      <td>161958</td>\n",
       "      <td>2024-03-30 04:03:18.224196</td>\n",
       "      <td>3</td>\n",
       "      <td>USD</td>\n",
       "      <td>2024-03-30 04:14:18.224200</td>\n",
       "      <td>failed</td>\n",
       "      <td>Christmas Island</td>\n",
       "    </tr>\n",
       "    <tr>\n",
       "      <th>578316</th>\n",
       "      <td>ef15a7b3-326c-405f-9eef-3dbf43c85a9d</td>\n",
       "      <td>74bb4936-9890-421b-a62a-ee544191fa1e</td>\n",
       "      <td>4</td>\n",
       "      <td>34940</td>\n",
       "      <td>ad73a2a0-354a-40bf-81cd-ff017ac859d5</td>\n",
       "      <td>161959</td>\n",
       "      <td>2024-03-30 04:03:18.224198</td>\n",
       "      <td>3</td>\n",
       "      <td>USD</td>\n",
       "      <td>2024-03-30 04:14:18.224200</td>\n",
       "      <td>failed</td>\n",
       "      <td>Christmas Island</td>\n",
       "    </tr>\n",
       "    <tr>\n",
       "      <th>578317</th>\n",
       "      <td>ef15a7b3-326c-405f-9eef-3dbf43c85a9d</td>\n",
       "      <td>74bb4936-9890-421b-a62a-ee544191fa1e</td>\n",
       "      <td>1</td>\n",
       "      <td>34941</td>\n",
       "      <td>ad73a2a0-354a-40bf-81cd-ff017ac859d5</td>\n",
       "      <td>161959</td>\n",
       "      <td>2024-03-30 04:03:18.224198</td>\n",
       "      <td>3</td>\n",
       "      <td>USD</td>\n",
       "      <td>2024-03-30 04:14:18.224200</td>\n",
       "      <td>failed</td>\n",
       "      <td>Christmas Island</td>\n",
       "    </tr>\n",
       "    <tr>\n",
       "      <th>578318</th>\n",
       "      <td>ef15a7b3-326c-405f-9eef-3dbf43c85a9d</td>\n",
       "      <td>74bb4936-9890-421b-a62a-ee544191fa1e</td>\n",
       "      <td>4</td>\n",
       "      <td>34940</td>\n",
       "      <td>ad73a2a0-354a-40bf-81cd-ff017ac859d5</td>\n",
       "      <td>161960</td>\n",
       "      <td>2024-03-30 04:14:18.224200</td>\n",
       "      <td>3</td>\n",
       "      <td>USD</td>\n",
       "      <td>2024-03-30 04:14:18.224200</td>\n",
       "      <td>failed</td>\n",
       "      <td>Christmas Island</td>\n",
       "    </tr>\n",
       "    <tr>\n",
       "      <th>578319</th>\n",
       "      <td>ef15a7b3-326c-405f-9eef-3dbf43c85a9d</td>\n",
       "      <td>74bb4936-9890-421b-a62a-ee544191fa1e</td>\n",
       "      <td>1</td>\n",
       "      <td>34941</td>\n",
       "      <td>ad73a2a0-354a-40bf-81cd-ff017ac859d5</td>\n",
       "      <td>161960</td>\n",
       "      <td>2024-03-30 04:14:18.224200</td>\n",
       "      <td>3</td>\n",
       "      <td>USD</td>\n",
       "      <td>2024-03-30 04:14:18.224200</td>\n",
       "      <td>failed</td>\n",
       "      <td>Christmas Island</td>\n",
       "    </tr>\n",
       "  </tbody>\n",
       "</table>\n",
       "</div>"
      ],
      "text/plain": [
       "                                 customer_id  \\\n",
       "578315  ef15a7b3-326c-405f-9eef-3dbf43c85a9d   \n",
       "578316  ef15a7b3-326c-405f-9eef-3dbf43c85a9d   \n",
       "578317  ef15a7b3-326c-405f-9eef-3dbf43c85a9d   \n",
       "578318  ef15a7b3-326c-405f-9eef-3dbf43c85a9d   \n",
       "578319  ef15a7b3-326c-405f-9eef-3dbf43c85a9d   \n",
       "\n",
       "                                   device_id  item_id  line_item_id  \\\n",
       "578315  74bb4936-9890-421b-a62a-ee544191fa1e        1         34941   \n",
       "578316  74bb4936-9890-421b-a62a-ee544191fa1e        4         34940   \n",
       "578317  74bb4936-9890-421b-a62a-ee544191fa1e        1         34941   \n",
       "578318  74bb4936-9890-421b-a62a-ee544191fa1e        4         34940   \n",
       "578319  74bb4936-9890-421b-a62a-ee544191fa1e        1         34941   \n",
       "\n",
       "                                    order_id  event_id  \\\n",
       "578315  ad73a2a0-354a-40bf-81cd-ff017ac859d5    161958   \n",
       "578316  ad73a2a0-354a-40bf-81cd-ff017ac859d5    161959   \n",
       "578317  ad73a2a0-354a-40bf-81cd-ff017ac859d5    161959   \n",
       "578318  ad73a2a0-354a-40bf-81cd-ff017ac859d5    161960   \n",
       "578319  ad73a2a0-354a-40bf-81cd-ff017ac859d5    161960   \n",
       "\n",
       "                   event_timestamp  quantity currency  \\\n",
       "578315  2024-03-30 04:03:18.224196         3      USD   \n",
       "578316  2024-03-30 04:03:18.224198         3      USD   \n",
       "578317  2024-03-30 04:03:18.224198         3      USD   \n",
       "578318  2024-03-30 04:14:18.224200         3      USD   \n",
       "578319  2024-03-30 04:14:18.224200         3      USD   \n",
       "\n",
       "                    checked_out_at  status          location  \n",
       "578315  2024-03-30 04:14:18.224200  failed  Christmas Island  \n",
       "578316  2024-03-30 04:14:18.224200  failed  Christmas Island  \n",
       "578317  2024-03-30 04:14:18.224200  failed  Christmas Island  \n",
       "578318  2024-03-30 04:14:18.224200  failed  Christmas Island  \n",
       "578319  2024-03-30 04:14:18.224200  failed  Christmas Island  "
      ]
     },
     "execution_count": 4,
     "metadata": {},
     "output_type": "execute_result"
    }
   ],
   "source": [
    "# prieviewing the last 5 rows of the data\n",
    "sales.tail()"
   ]
  },
  {
   "cell_type": "markdown",
   "id": "bf967293",
   "metadata": {},
   "source": [
    "## Preliminary Data Analysis"
   ]
  },
  {
   "cell_type": "code",
   "execution_count": 5,
   "id": "c16acab9",
   "metadata": {},
   "outputs": [
    {
     "name": "stdout",
     "output_type": "stream",
     "text": [
      "The shape of the dataset is: (578320, 12)\n"
     ]
    }
   ],
   "source": [
    "# checking the shape of the data\n",
    "data_shape = sales.shape\n",
    "print(f\"The shape of the dataset is: {data_shape}\")"
   ]
  },
  {
   "cell_type": "code",
   "execution_count": 6,
   "id": "4c043bc5",
   "metadata": {},
   "outputs": [
    {
     "name": "stdout",
     "output_type": "stream",
     "text": [
      "The size of the dataset is: 6939840\n"
     ]
    }
   ],
   "source": [
    "# checking the size of the data\n",
    "data_size = sales.size\n",
    "print(f\"The size of the dataset is: {data_size}\")"
   ]
  },
  {
   "cell_type": "code",
   "execution_count": 7,
   "id": "0451afde",
   "metadata": {},
   "outputs": [
    {
     "name": "stdout",
     "output_type": "stream",
     "text": [
      "<class 'pandas.core.frame.DataFrame'>\n",
      "RangeIndex: 578320 entries, 0 to 578319\n",
      "Data columns (total 12 columns):\n",
      " #   Column           Non-Null Count   Dtype \n",
      "---  ------           --------------   ----- \n",
      " 0   customer_id      578320 non-null  object\n",
      " 1   device_id        578320 non-null  object\n",
      " 2   item_id          578320 non-null  int64 \n",
      " 3   line_item_id     578320 non-null  int64 \n",
      " 4   order_id         578320 non-null  object\n",
      " 5   event_id         578320 non-null  int64 \n",
      " 6   event_timestamp  578320 non-null  object\n",
      " 7   quantity         578320 non-null  int64 \n",
      " 8   currency         578320 non-null  object\n",
      " 9   checked_out_at   578320 non-null  object\n",
      " 10  status           578320 non-null  object\n",
      " 11  location         578320 non-null  object\n",
      "dtypes: int64(4), object(8)\n",
      "memory usage: 52.9+ MB\n"
     ]
    }
   ],
   "source": [
    "# checking the structure of our data\n",
    "sales.info()"
   ]
  },
  {
   "cell_type": "code",
   "execution_count": 8,
   "id": "c7320d1c",
   "metadata": {},
   "outputs": [
    {
     "data": {
      "text/plain": [
       "customer_id        object\n",
       "device_id          object\n",
       "item_id             int64\n",
       "line_item_id        int64\n",
       "order_id           object\n",
       "event_id            int64\n",
       "event_timestamp    object\n",
       "quantity            int64\n",
       "currency           object\n",
       "checked_out_at     object\n",
       "status             object\n",
       "location           object\n",
       "dtype: object"
      ]
     },
     "execution_count": 8,
     "metadata": {},
     "output_type": "execute_result"
    }
   ],
   "source": [
    "# checking the datatype of the dataset\n",
    "sales.dtypes"
   ]
  },
  {
   "cell_type": "code",
   "execution_count": 9,
   "id": "d4ea1810",
   "metadata": {},
   "outputs": [
    {
     "data": {
      "text/plain": [
       "customer_id        0\n",
       "device_id          0\n",
       "item_id            0\n",
       "line_item_id       0\n",
       "order_id           0\n",
       "event_id           0\n",
       "event_timestamp    0\n",
       "quantity           0\n",
       "currency           0\n",
       "checked_out_at     0\n",
       "status             0\n",
       "location           0\n",
       "dtype: int64"
      ]
     },
     "execution_count": 9,
     "metadata": {},
     "output_type": "execute_result"
    }
   ],
   "source": [
    "# checking for missing values\n",
    "sales.isna().sum()"
   ]
  },
  {
   "cell_type": "code",
   "execution_count": 10,
   "id": "d484634c",
   "metadata": {},
   "outputs": [
    {
     "name": "stdout",
     "output_type": "stream",
     "text": [
      "The total number of duplicated values in the dataset is: 0\n"
     ]
    }
   ],
   "source": [
    "# checkinng for duplicated values\n",
    "duplicates = sales.duplicated().sum()\n",
    "print(f\"The total number of duplicated values in the dataset is: {duplicates}\")"
   ]
  },
  {
   "cell_type": "markdown",
   "id": "b7c66951",
   "metadata": {},
   "source": [
    "## Data Cleaning"
   ]
  },
  {
   "cell_type": "code",
   "execution_count": 11,
   "id": "ad8a7874",
   "metadata": {},
   "outputs": [
    {
     "data": {
      "text/plain": [
       "Index(['customer_id', 'device_id', 'item_id', 'line_item_id', 'order_id',\n",
       "       'event_id', 'event_timestamp', 'quantity', 'currency', 'checked_out_at',\n",
       "       'status', 'location'],\n",
       "      dtype='object')"
      ]
     },
     "execution_count": 11,
     "metadata": {},
     "output_type": "execute_result"
    }
   ],
   "source": [
    "# checking the columns in the dataset\n",
    "sales.columns"
   ]
  },
  {
   "cell_type": "code",
   "execution_count": 12,
   "id": "bff0221f",
   "metadata": {},
   "outputs": [],
   "source": [
    "# setting the event_timestamp to date_time\n",
    "sales[\"event_timestamp\"] = pd.to_datetime(sales[\"event_timestamp\"])"
   ]
  },
  {
   "cell_type": "code",
   "execution_count": 13,
   "id": "965a61e5",
   "metadata": {},
   "outputs": [
    {
     "data": {
      "text/plain": [
       "0   2024-03-26 22:05:58.863661\n",
       "1   2024-03-26 22:05:58.863661\n",
       "2   2024-03-26 22:05:58.863661\n",
       "3   2024-03-26 22:05:58.863661\n",
       "4   2024-03-26 22:05:58.863661\n",
       "Name: event_timestamp, dtype: datetime64[ns]"
      ]
     },
     "execution_count": 13,
     "metadata": {},
     "output_type": "execute_result"
    }
   ],
   "source": [
    "# checking the first 5 event_timestamp rows\n",
    "sales[\"event_timestamp\"].head()"
   ]
  },
  {
   "cell_type": "code",
   "execution_count": 14,
   "id": "929b29d9",
   "metadata": {},
   "outputs": [
    {
     "data": {
      "text/plain": [
       "dtype('<M8[ns]')"
      ]
     },
     "execution_count": 14,
     "metadata": {},
     "output_type": "execute_result"
    }
   ],
   "source": [
    "sales[\"event_timestamp\"].dtypes"
   ]
  },
  {
   "cell_type": "code",
   "execution_count": 15,
   "id": "f20c34c0",
   "metadata": {},
   "outputs": [],
   "source": [
    "# converting to date_time\n",
    "sales[\"checked_out_at\"]= pd.to_datetime(sales[\"checked_out_at\"])"
   ]
  },
  {
   "cell_type": "code",
   "execution_count": 16,
   "id": "efd7ddf1",
   "metadata": {},
   "outputs": [
    {
     "data": {
      "text/plain": [
       "0   2024-03-30 04:19:10.406794\n",
       "1   2024-03-30 04:19:10.406794\n",
       "2   2024-03-30 04:19:10.406794\n",
       "3   2024-03-30 04:19:10.406794\n",
       "4   2024-03-30 04:19:10.406794\n",
       "Name: checked_out_at, dtype: datetime64[ns]"
      ]
     },
     "execution_count": 16,
     "metadata": {},
     "output_type": "execute_result"
    }
   ],
   "source": [
    "# previewing the first 5\n",
    "sales[\"checked_out_at\"].head()"
   ]
  },
  {
   "cell_type": "code",
   "execution_count": 17,
   "id": "81060182",
   "metadata": {},
   "outputs": [
    {
     "data": {
      "text/plain": [
       "dtype('<M8[ns]')"
      ]
     },
     "execution_count": 17,
     "metadata": {},
     "output_type": "execute_result"
    }
   ],
   "source": [
    "\n",
    "sales[\"checked_out_at\"].dtype"
   ]
  },
  {
   "cell_type": "markdown",
   "id": "acb0cebf",
   "metadata": {},
   "source": [
    "## Exploratory Data Analysis"
   ]
  },
  {
   "cell_type": "code",
   "execution_count": 18,
   "id": "0186497e",
   "metadata": {},
   "outputs": [
    {
     "data": {
      "text/plain": [
       "Index(['customer_id', 'device_id', 'item_id', 'line_item_id', 'order_id',\n",
       "       'event_id', 'event_timestamp', 'quantity', 'currency', 'checked_out_at',\n",
       "       'status', 'location'],\n",
       "      dtype='object')"
      ]
     },
     "execution_count": 18,
     "metadata": {},
     "output_type": "execute_result"
    }
   ],
   "source": [
    "# checking the columns in the dataset\n",
    "sales.columns"
   ]
  },
  {
   "cell_type": "code",
   "execution_count": 19,
   "id": "68f44714",
   "metadata": {},
   "outputs": [],
   "source": [
    "#setting the index to location \n",
    "sales1 = pd.DataFrame(sales, columns = sales.columns, index = sales.set_index(\"location\", inplace =True))"
   ]
  },
  {
   "cell_type": "code",
   "execution_count": 20,
   "id": "ba85b7d8",
   "metadata": {},
   "outputs": [],
   "source": [
    "# sales.set_index(\"location\", inplace=True, ascending =True)"
   ]
  },
  {
   "cell_type": "code",
   "execution_count": 21,
   "id": "37edf591",
   "metadata": {},
   "outputs": [
    {
     "data": {
      "text/html": [
       "<div>\n",
       "<style scoped>\n",
       "    .dataframe tbody tr th:only-of-type {\n",
       "        vertical-align: middle;\n",
       "    }\n",
       "\n",
       "    .dataframe tbody tr th {\n",
       "        vertical-align: top;\n",
       "    }\n",
       "\n",
       "    .dataframe thead th {\n",
       "        text-align: right;\n",
       "    }\n",
       "</style>\n",
       "<table border=\"1\" class=\"dataframe\">\n",
       "  <thead>\n",
       "    <tr style=\"text-align: right;\">\n",
       "      <th></th>\n",
       "      <th>customer_id</th>\n",
       "      <th>device_id</th>\n",
       "      <th>item_id</th>\n",
       "      <th>line_item_id</th>\n",
       "      <th>order_id</th>\n",
       "      <th>event_id</th>\n",
       "      <th>event_timestamp</th>\n",
       "      <th>quantity</th>\n",
       "      <th>currency</th>\n",
       "      <th>checked_out_at</th>\n",
       "      <th>status</th>\n",
       "      <th>location</th>\n",
       "    </tr>\n",
       "    <tr>\n",
       "      <th>location</th>\n",
       "      <th></th>\n",
       "      <th></th>\n",
       "      <th></th>\n",
       "      <th></th>\n",
       "      <th></th>\n",
       "      <th></th>\n",
       "      <th></th>\n",
       "      <th></th>\n",
       "      <th></th>\n",
       "      <th></th>\n",
       "      <th></th>\n",
       "      <th></th>\n",
       "    </tr>\n",
       "  </thead>\n",
       "  <tbody>\n",
       "    <tr>\n",
       "      <th>Saint Helena</th>\n",
       "      <td>cda7bec0-7cbf-4145-baf9-e049bab94504</td>\n",
       "      <td>33b485de-7338-4997-b1d0-b988ba17b245</td>\n",
       "      <td>4</td>\n",
       "      <td>3201</td>\n",
       "      <td>9e950ce3-2e12-479c-a051-493c1a497d49</td>\n",
       "      <td>14786</td>\n",
       "      <td>2024-03-26 22:05:58.863661</td>\n",
       "      <td>2</td>\n",
       "      <td>NGN</td>\n",
       "      <td>2024-03-30 04:19:10.406794</td>\n",
       "      <td>success</td>\n",
       "      <td>NaN</td>\n",
       "    </tr>\n",
       "    <tr>\n",
       "      <th>Saint Helena</th>\n",
       "      <td>cda7bec0-7cbf-4145-baf9-e049bab94504</td>\n",
       "      <td>33b485de-7338-4997-b1d0-b988ba17b245</td>\n",
       "      <td>5</td>\n",
       "      <td>3202</td>\n",
       "      <td>9e950ce3-2e12-479c-a051-493c1a497d49</td>\n",
       "      <td>14786</td>\n",
       "      <td>2024-03-26 22:05:58.863661</td>\n",
       "      <td>4</td>\n",
       "      <td>NGN</td>\n",
       "      <td>2024-03-30 04:19:10.406794</td>\n",
       "      <td>success</td>\n",
       "      <td>NaN</td>\n",
       "    </tr>\n",
       "    <tr>\n",
       "      <th>Saint Helena</th>\n",
       "      <td>cda7bec0-7cbf-4145-baf9-e049bab94504</td>\n",
       "      <td>33b485de-7338-4997-b1d0-b988ba17b245</td>\n",
       "      <td>9</td>\n",
       "      <td>3203</td>\n",
       "      <td>9e950ce3-2e12-479c-a051-493c1a497d49</td>\n",
       "      <td>14786</td>\n",
       "      <td>2024-03-26 22:05:58.863661</td>\n",
       "      <td>5</td>\n",
       "      <td>NGN</td>\n",
       "      <td>2024-03-30 04:19:10.406794</td>\n",
       "      <td>success</td>\n",
       "      <td>NaN</td>\n",
       "    </tr>\n",
       "    <tr>\n",
       "      <th>Saint Helena</th>\n",
       "      <td>cda7bec0-7cbf-4145-baf9-e049bab94504</td>\n",
       "      <td>33b485de-7338-4997-b1d0-b988ba17b245</td>\n",
       "      <td>12</td>\n",
       "      <td>3204</td>\n",
       "      <td>9e950ce3-2e12-479c-a051-493c1a497d49</td>\n",
       "      <td>14786</td>\n",
       "      <td>2024-03-26 22:05:58.863661</td>\n",
       "      <td>1</td>\n",
       "      <td>NGN</td>\n",
       "      <td>2024-03-30 04:19:10.406794</td>\n",
       "      <td>success</td>\n",
       "      <td>NaN</td>\n",
       "    </tr>\n",
       "    <tr>\n",
       "      <th>Saint Helena</th>\n",
       "      <td>cda7bec0-7cbf-4145-baf9-e049bab94504</td>\n",
       "      <td>33b485de-7338-4997-b1d0-b988ba17b245</td>\n",
       "      <td>6</td>\n",
       "      <td>3205</td>\n",
       "      <td>9e950ce3-2e12-479c-a051-493c1a497d49</td>\n",
       "      <td>14786</td>\n",
       "      <td>2024-03-26 22:05:58.863661</td>\n",
       "      <td>2</td>\n",
       "      <td>NGN</td>\n",
       "      <td>2024-03-30 04:19:10.406794</td>\n",
       "      <td>success</td>\n",
       "      <td>NaN</td>\n",
       "    </tr>\n",
       "  </tbody>\n",
       "</table>\n",
       "</div>"
      ],
      "text/plain": [
       "                                       customer_id  \\\n",
       "location                                             \n",
       "Saint Helena  cda7bec0-7cbf-4145-baf9-e049bab94504   \n",
       "Saint Helena  cda7bec0-7cbf-4145-baf9-e049bab94504   \n",
       "Saint Helena  cda7bec0-7cbf-4145-baf9-e049bab94504   \n",
       "Saint Helena  cda7bec0-7cbf-4145-baf9-e049bab94504   \n",
       "Saint Helena  cda7bec0-7cbf-4145-baf9-e049bab94504   \n",
       "\n",
       "                                         device_id  item_id  line_item_id  \\\n",
       "location                                                                    \n",
       "Saint Helena  33b485de-7338-4997-b1d0-b988ba17b245        4          3201   \n",
       "Saint Helena  33b485de-7338-4997-b1d0-b988ba17b245        5          3202   \n",
       "Saint Helena  33b485de-7338-4997-b1d0-b988ba17b245        9          3203   \n",
       "Saint Helena  33b485de-7338-4997-b1d0-b988ba17b245       12          3204   \n",
       "Saint Helena  33b485de-7338-4997-b1d0-b988ba17b245        6          3205   \n",
       "\n",
       "                                          order_id  event_id  \\\n",
       "location                                                       \n",
       "Saint Helena  9e950ce3-2e12-479c-a051-493c1a497d49     14786   \n",
       "Saint Helena  9e950ce3-2e12-479c-a051-493c1a497d49     14786   \n",
       "Saint Helena  9e950ce3-2e12-479c-a051-493c1a497d49     14786   \n",
       "Saint Helena  9e950ce3-2e12-479c-a051-493c1a497d49     14786   \n",
       "Saint Helena  9e950ce3-2e12-479c-a051-493c1a497d49     14786   \n",
       "\n",
       "                        event_timestamp  quantity currency  \\\n",
       "location                                                     \n",
       "Saint Helena 2024-03-26 22:05:58.863661         2      NGN   \n",
       "Saint Helena 2024-03-26 22:05:58.863661         4      NGN   \n",
       "Saint Helena 2024-03-26 22:05:58.863661         5      NGN   \n",
       "Saint Helena 2024-03-26 22:05:58.863661         1      NGN   \n",
       "Saint Helena 2024-03-26 22:05:58.863661         2      NGN   \n",
       "\n",
       "                         checked_out_at   status  location  \n",
       "location                                                    \n",
       "Saint Helena 2024-03-30 04:19:10.406794  success       NaN  \n",
       "Saint Helena 2024-03-30 04:19:10.406794  success       NaN  \n",
       "Saint Helena 2024-03-30 04:19:10.406794  success       NaN  \n",
       "Saint Helena 2024-03-30 04:19:10.406794  success       NaN  \n",
       "Saint Helena 2024-03-30 04:19:10.406794  success       NaN  "
      ]
     },
     "execution_count": 21,
     "metadata": {},
     "output_type": "execute_result"
    }
   ],
   "source": [
    "sales1.head()"
   ]
  },
  {
   "cell_type": "code",
   "execution_count": 22,
   "id": "e1f801d0",
   "metadata": {},
   "outputs": [],
   "source": [
    "# sorting the index\n",
    "sales1.sort_index(ascending=True, inplace=True)"
   ]
  },
  {
   "cell_type": "code",
   "execution_count": 23,
   "id": "825e8214",
   "metadata": {},
   "outputs": [
    {
     "data": {
      "text/html": [
       "<div>\n",
       "<style scoped>\n",
       "    .dataframe tbody tr th:only-of-type {\n",
       "        vertical-align: middle;\n",
       "    }\n",
       "\n",
       "    .dataframe tbody tr th {\n",
       "        vertical-align: top;\n",
       "    }\n",
       "\n",
       "    .dataframe thead th {\n",
       "        text-align: right;\n",
       "    }\n",
       "</style>\n",
       "<table border=\"1\" class=\"dataframe\">\n",
       "  <thead>\n",
       "    <tr style=\"text-align: right;\">\n",
       "      <th></th>\n",
       "      <th>customer_id</th>\n",
       "      <th>device_id</th>\n",
       "      <th>item_id</th>\n",
       "      <th>line_item_id</th>\n",
       "      <th>order_id</th>\n",
       "      <th>event_id</th>\n",
       "      <th>event_timestamp</th>\n",
       "      <th>quantity</th>\n",
       "      <th>currency</th>\n",
       "      <th>checked_out_at</th>\n",
       "      <th>status</th>\n",
       "      <th>location</th>\n",
       "    </tr>\n",
       "    <tr>\n",
       "      <th>location</th>\n",
       "      <th></th>\n",
       "      <th></th>\n",
       "      <th></th>\n",
       "      <th></th>\n",
       "      <th></th>\n",
       "      <th></th>\n",
       "      <th></th>\n",
       "      <th></th>\n",
       "      <th></th>\n",
       "      <th></th>\n",
       "      <th></th>\n",
       "      <th></th>\n",
       "    </tr>\n",
       "  </thead>\n",
       "  <tbody>\n",
       "    <tr>\n",
       "      <th>Afghanistan</th>\n",
       "      <td>70620f47-7786-4c75-a784-e1f584cf0af0</td>\n",
       "      <td>8a105f4c-73e3-49c0-bccb-33660f23ea4d</td>\n",
       "      <td>9</td>\n",
       "      <td>24077</td>\n",
       "      <td>c438565d-ac6a-4653-a602-4c66c92c41ec</td>\n",
       "      <td>111439</td>\n",
       "      <td>2024-03-30 04:03:15.520915</td>\n",
       "      <td>2</td>\n",
       "      <td>NGN</td>\n",
       "      <td>2024-03-30 04:14:15.520920</td>\n",
       "      <td>failed</td>\n",
       "      <td>NaN</td>\n",
       "    </tr>\n",
       "    <tr>\n",
       "      <th>Afghanistan</th>\n",
       "      <td>0ae22f09-2711-4549-a75b-b57f2d447e09</td>\n",
       "      <td>bf34a453-2670-404c-ad22-0804fb3e478b</td>\n",
       "      <td>2</td>\n",
       "      <td>11897</td>\n",
       "      <td>1763d1a7-f047-4e96-84fe-9024453d110e</td>\n",
       "      <td>55146</td>\n",
       "      <td>2024-03-30 04:03:12.580749</td>\n",
       "      <td>1</td>\n",
       "      <td>GBP</td>\n",
       "      <td>2024-03-30 04:17:12.580762</td>\n",
       "      <td>success</td>\n",
       "      <td>NaN</td>\n",
       "    </tr>\n",
       "    <tr>\n",
       "      <th>Afghanistan</th>\n",
       "      <td>0ae22f09-2711-4549-a75b-b57f2d447e09</td>\n",
       "      <td>bf34a453-2670-404c-ad22-0804fb3e478b</td>\n",
       "      <td>10</td>\n",
       "      <td>11898</td>\n",
       "      <td>1763d1a7-f047-4e96-84fe-9024453d110e</td>\n",
       "      <td>55146</td>\n",
       "      <td>2024-03-30 04:03:12.580749</td>\n",
       "      <td>1</td>\n",
       "      <td>GBP</td>\n",
       "      <td>2024-03-30 04:17:12.580762</td>\n",
       "      <td>success</td>\n",
       "      <td>NaN</td>\n",
       "    </tr>\n",
       "    <tr>\n",
       "      <th>Afghanistan</th>\n",
       "      <td>0ae22f09-2711-4549-a75b-b57f2d447e09</td>\n",
       "      <td>bf34a453-2670-404c-ad22-0804fb3e478b</td>\n",
       "      <td>4</td>\n",
       "      <td>11899</td>\n",
       "      <td>1763d1a7-f047-4e96-84fe-9024453d110e</td>\n",
       "      <td>55146</td>\n",
       "      <td>2024-03-30 04:03:12.580749</td>\n",
       "      <td>5</td>\n",
       "      <td>GBP</td>\n",
       "      <td>2024-03-30 04:17:12.580762</td>\n",
       "      <td>success</td>\n",
       "      <td>NaN</td>\n",
       "    </tr>\n",
       "    <tr>\n",
       "      <th>Afghanistan</th>\n",
       "      <td>0ae22f09-2711-4549-a75b-b57f2d447e09</td>\n",
       "      <td>bf34a453-2670-404c-ad22-0804fb3e478b</td>\n",
       "      <td>7</td>\n",
       "      <td>11900</td>\n",
       "      <td>1763d1a7-f047-4e96-84fe-9024453d110e</td>\n",
       "      <td>55146</td>\n",
       "      <td>2024-03-30 04:03:12.580749</td>\n",
       "      <td>3</td>\n",
       "      <td>GBP</td>\n",
       "      <td>2024-03-30 04:17:12.580762</td>\n",
       "      <td>success</td>\n",
       "      <td>NaN</td>\n",
       "    </tr>\n",
       "  </tbody>\n",
       "</table>\n",
       "</div>"
      ],
      "text/plain": [
       "                                      customer_id  \\\n",
       "location                                            \n",
       "Afghanistan  70620f47-7786-4c75-a784-e1f584cf0af0   \n",
       "Afghanistan  0ae22f09-2711-4549-a75b-b57f2d447e09   \n",
       "Afghanistan  0ae22f09-2711-4549-a75b-b57f2d447e09   \n",
       "Afghanistan  0ae22f09-2711-4549-a75b-b57f2d447e09   \n",
       "Afghanistan  0ae22f09-2711-4549-a75b-b57f2d447e09   \n",
       "\n",
       "                                        device_id  item_id  line_item_id  \\\n",
       "location                                                                   \n",
       "Afghanistan  8a105f4c-73e3-49c0-bccb-33660f23ea4d        9         24077   \n",
       "Afghanistan  bf34a453-2670-404c-ad22-0804fb3e478b        2         11897   \n",
       "Afghanistan  bf34a453-2670-404c-ad22-0804fb3e478b       10         11898   \n",
       "Afghanistan  bf34a453-2670-404c-ad22-0804fb3e478b        4         11899   \n",
       "Afghanistan  bf34a453-2670-404c-ad22-0804fb3e478b        7         11900   \n",
       "\n",
       "                                         order_id  event_id  \\\n",
       "location                                                      \n",
       "Afghanistan  c438565d-ac6a-4653-a602-4c66c92c41ec    111439   \n",
       "Afghanistan  1763d1a7-f047-4e96-84fe-9024453d110e     55146   \n",
       "Afghanistan  1763d1a7-f047-4e96-84fe-9024453d110e     55146   \n",
       "Afghanistan  1763d1a7-f047-4e96-84fe-9024453d110e     55146   \n",
       "Afghanistan  1763d1a7-f047-4e96-84fe-9024453d110e     55146   \n",
       "\n",
       "                       event_timestamp  quantity currency  \\\n",
       "location                                                    \n",
       "Afghanistan 2024-03-30 04:03:15.520915         2      NGN   \n",
       "Afghanistan 2024-03-30 04:03:12.580749         1      GBP   \n",
       "Afghanistan 2024-03-30 04:03:12.580749         1      GBP   \n",
       "Afghanistan 2024-03-30 04:03:12.580749         5      GBP   \n",
       "Afghanistan 2024-03-30 04:03:12.580749         3      GBP   \n",
       "\n",
       "                        checked_out_at   status  location  \n",
       "location                                                   \n",
       "Afghanistan 2024-03-30 04:14:15.520920   failed       NaN  \n",
       "Afghanistan 2024-03-30 04:17:12.580762  success       NaN  \n",
       "Afghanistan 2024-03-30 04:17:12.580762  success       NaN  \n",
       "Afghanistan 2024-03-30 04:17:12.580762  success       NaN  \n",
       "Afghanistan 2024-03-30 04:17:12.580762  success       NaN  "
      ]
     },
     "execution_count": 23,
     "metadata": {},
     "output_type": "execute_result"
    }
   ],
   "source": [
    "# displaying the first 5 rows\n",
    "sales1.head()"
   ]
  },
  {
   "cell_type": "code",
   "execution_count": 24,
   "id": "caf94c20",
   "metadata": {},
   "outputs": [
    {
     "data": {
      "text/plain": [
       "Index(['Afghanistan', 'Albania', 'Algeria', 'American Samoa', 'Andorra',\n",
       "       'Angola', 'Anguilla', 'Antarctica (the territory South of 60 deg S)',\n",
       "       'Antigua and Barbuda', 'Argentina',\n",
       "       ...\n",
       "       'Uruguay', 'Uzbekistan', 'Vanuatu', 'Venezuela', 'Vietnam',\n",
       "       'Wallis and Futuna', 'Western Sahara', 'Yemen', 'Zambia', 'Zimbabwe'],\n",
       "      dtype='object', name='location', length=243)"
      ]
     },
     "execution_count": 24,
     "metadata": {},
     "output_type": "execute_result"
    }
   ],
   "source": [
    "# hecking the unique values in the location\n",
    "location = sales1.index.unique()\n",
    "location"
   ]
  },
  {
   "cell_type": "code",
   "execution_count": 25,
   "id": "a5eceecc",
   "metadata": {},
   "outputs": [
    {
     "data": {
      "text/plain": [
       "243"
      ]
     },
     "execution_count": 25,
     "metadata": {},
     "output_type": "execute_result"
    }
   ],
   "source": [
    "no_of_locations = sales1.index.nunique()\n",
    "no_of_locations"
   ]
  },
  {
   "cell_type": "code",
   "execution_count": 26,
   "id": "fc8c4d8d",
   "metadata": {},
   "outputs": [
    {
     "data": {
      "text/plain": [
       "location\n",
       "Korea        6997\n",
       "Argentina    4507\n",
       "Mauritius    4414\n",
       "Jersey       4130\n",
       "Panama       3936\n",
       "             ... \n",
       "Chad         1082\n",
       "Malaysia     1037\n",
       "Austria       921\n",
       "Italy         783\n",
       "Uruguay       734\n",
       "Name: count, Length: 243, dtype: int64"
      ]
     },
     "execution_count": 26,
     "metadata": {},
     "output_type": "execute_result"
    }
   ],
   "source": [
    "sales1.index.value_counts()"
   ]
  },
  {
   "cell_type": "code",
   "execution_count": 27,
   "id": "48a700a1",
   "metadata": {},
   "outputs": [
    {
     "data": {
      "text/plain": [
       "location\n",
       "Korea                          6997\n",
       "Argentina                      4507\n",
       "Mauritius                      4414\n",
       "Jersey                         4130\n",
       "Panama                         3936\n",
       "French Guiana                  3851\n",
       "Guernsey                       3804\n",
       "Guatemala                      3731\n",
       "Albania                        3721\n",
       "Philippines                    3675\n",
       "Mali                           3670\n",
       "Congo                          3642\n",
       "Finland                        3615\n",
       "Cape Verde                     3509\n",
       "Christmas Island               3471\n",
       "China                          3429\n",
       "France                         3425\n",
       "French Southern Territories    3421\n",
       "Poland                         3355\n",
       "Cyprus                         3345\n",
       "Switzerland                    3342\n",
       "British Virgin Islands         3329\n",
       "Bosnia and Herzegovina         3309\n",
       "Niger                          3295\n",
       "Sri Lanka                      3289\n",
       "Name: count, dtype: int64"
      ]
     },
     "execution_count": 27,
     "metadata": {},
     "output_type": "execute_result"
    }
   ],
   "source": [
    "# checking the top 25 countries with the highest sales\n",
    "top_25 = sales1.index.value_counts().head(25)\n",
    "top_25"
   ]
  },
  {
   "cell_type": "code",
   "execution_count": 28,
   "id": "01239275",
   "metadata": {},
   "outputs": [
    {
     "data": {
      "text/plain": [
       "location\n",
       "Namibia                     1522\n",
       "Sierra Leone                1493\n",
       "Jamaica                     1447\n",
       "Sao Tome and Principe       1421\n",
       "Russian Federation          1404\n",
       "Malawi                      1403\n",
       "Djibouti                    1394\n",
       "Botswana                    1390\n",
       "Yemen                       1384\n",
       "Montenegro                  1379\n",
       "Kyrgyz Republic             1370\n",
       "United Arab Emirates        1352\n",
       "Turks and Caicos Islands    1229\n",
       "Azerbaijan                  1225\n",
       "Barbados                    1216\n",
       "Greece                      1214\n",
       "Saint Kitts and Nevis       1201\n",
       "Honduras                    1195\n",
       "Cocos (Keeling) Islands     1168\n",
       "Taiwan                      1122\n",
       "Chad                        1082\n",
       "Malaysia                    1037\n",
       "Austria                      921\n",
       "Italy                        783\n",
       "Uruguay                      734\n",
       "Name: count, dtype: int64"
      ]
     },
     "execution_count": 28,
     "metadata": {},
     "output_type": "execute_result"
    }
   ],
   "source": [
    "# checking the least 25 countries with the highest sales\n",
    "least_25 = sales1.index.value_counts().tail(25)\n",
    "least_25"
   ]
  },
  {
   "cell_type": "code",
   "execution_count": 29,
   "id": "118af84c",
   "metadata": {},
   "outputs": [
    {
     "data": {
      "text/plain": [
       "array(['NGN', 'GBP', 'USD'], dtype=object)"
      ]
     },
     "execution_count": 29,
     "metadata": {},
     "output_type": "execute_result"
    }
   ],
   "source": [
    "# checking the unique currency\n",
    "currency = sales1[\"currency\"].unique()\n",
    "currency"
   ]
  },
  {
   "cell_type": "code",
   "execution_count": 30,
   "id": "a7391d56",
   "metadata": {},
   "outputs": [
    {
     "data": {
      "text/plain": [
       "3"
      ]
     },
     "execution_count": 30,
     "metadata": {},
     "output_type": "execute_result"
    }
   ],
   "source": [
    "# checking the number of unique currency\n",
    "no_of_currency = sales1[\"currency\"].nunique()\n",
    "no_of_currency"
   ]
  },
  {
   "cell_type": "code",
   "execution_count": 31,
   "id": "6843e30d",
   "metadata": {},
   "outputs": [
    {
     "data": {
      "text/plain": [
       "currency\n",
       "USD    198037\n",
       "GBP    191403\n",
       "NGN    188880\n",
       "Name: count, dtype: int64"
      ]
     },
     "execution_count": 31,
     "metadata": {},
     "output_type": "execute_result"
    }
   ],
   "source": [
    "# checking the value count of each currency\n",
    "currency = sales1[\"currency\"].value_counts()\n",
    "currency"
   ]
  },
  {
   "cell_type": "code",
   "execution_count": 32,
   "id": "db382113",
   "metadata": {},
   "outputs": [
    {
     "data": {
      "text/html": [
       "<div>\n",
       "<style scoped>\n",
       "    .dataframe tbody tr th:only-of-type {\n",
       "        vertical-align: middle;\n",
       "    }\n",
       "\n",
       "    .dataframe tbody tr th {\n",
       "        vertical-align: top;\n",
       "    }\n",
       "\n",
       "    .dataframe thead th {\n",
       "        text-align: right;\n",
       "    }\n",
       "</style>\n",
       "<table border=\"1\" class=\"dataframe\">\n",
       "  <thead>\n",
       "    <tr style=\"text-align: right;\">\n",
       "      <th></th>\n",
       "      <th>customer_id</th>\n",
       "      <th>device_id</th>\n",
       "      <th>item_id</th>\n",
       "      <th>line_item_id</th>\n",
       "      <th>order_id</th>\n",
       "      <th>event_id</th>\n",
       "      <th>event_timestamp</th>\n",
       "      <th>quantity</th>\n",
       "      <th>currency</th>\n",
       "      <th>checked_out_at</th>\n",
       "      <th>status</th>\n",
       "      <th>location</th>\n",
       "    </tr>\n",
       "    <tr>\n",
       "      <th>location</th>\n",
       "      <th></th>\n",
       "      <th></th>\n",
       "      <th></th>\n",
       "      <th></th>\n",
       "      <th></th>\n",
       "      <th></th>\n",
       "      <th></th>\n",
       "      <th></th>\n",
       "      <th></th>\n",
       "      <th></th>\n",
       "      <th></th>\n",
       "      <th></th>\n",
       "    </tr>\n",
       "  </thead>\n",
       "  <tbody>\n",
       "    <tr>\n",
       "      <th>Albania</th>\n",
       "      <td>08b02ad4-e8b6-4ba3-9251-649664f6e824</td>\n",
       "      <td>c23a30e9-d242-4c52-b240-24509d233fe8</td>\n",
       "      <td>14</td>\n",
       "      <td>32626</td>\n",
       "      <td>18719662-201e-49d7-99da-ad53c19d511a</td>\n",
       "      <td>151438</td>\n",
       "      <td>2024-03-30 04:03:17.578723</td>\n",
       "      <td>2</td>\n",
       "      <td>USD</td>\n",
       "      <td>2024-03-30 04:15:17.578737</td>\n",
       "      <td>success</td>\n",
       "      <td>NaN</td>\n",
       "    </tr>\n",
       "    <tr>\n",
       "      <th>Albania</th>\n",
       "      <td>08b02ad4-e8b6-4ba3-9251-649664f6e824</td>\n",
       "      <td>c23a30e9-d242-4c52-b240-24509d233fe8</td>\n",
       "      <td>10</td>\n",
       "      <td>32628</td>\n",
       "      <td>18719662-201e-49d7-99da-ad53c19d511a</td>\n",
       "      <td>151437</td>\n",
       "      <td>2024-03-30 04:03:17.578722</td>\n",
       "      <td>1</td>\n",
       "      <td>USD</td>\n",
       "      <td>2024-03-30 04:15:17.578737</td>\n",
       "      <td>success</td>\n",
       "      <td>NaN</td>\n",
       "    </tr>\n",
       "    <tr>\n",
       "      <th>Albania</th>\n",
       "      <td>08b02ad4-e8b6-4ba3-9251-649664f6e824</td>\n",
       "      <td>c23a30e9-d242-4c52-b240-24509d233fe8</td>\n",
       "      <td>8</td>\n",
       "      <td>32630</td>\n",
       "      <td>18719662-201e-49d7-99da-ad53c19d511a</td>\n",
       "      <td>151437</td>\n",
       "      <td>2024-03-30 04:03:17.578722</td>\n",
       "      <td>3</td>\n",
       "      <td>USD</td>\n",
       "      <td>2024-03-30 04:15:17.578737</td>\n",
       "      <td>success</td>\n",
       "      <td>NaN</td>\n",
       "    </tr>\n",
       "    <tr>\n",
       "      <th>Albania</th>\n",
       "      <td>08b02ad4-e8b6-4ba3-9251-649664f6e824</td>\n",
       "      <td>c23a30e9-d242-4c52-b240-24509d233fe8</td>\n",
       "      <td>9</td>\n",
       "      <td>32631</td>\n",
       "      <td>18719662-201e-49d7-99da-ad53c19d511a</td>\n",
       "      <td>151437</td>\n",
       "      <td>2024-03-30 04:03:17.578722</td>\n",
       "      <td>2</td>\n",
       "      <td>USD</td>\n",
       "      <td>2024-03-30 04:15:17.578737</td>\n",
       "      <td>success</td>\n",
       "      <td>NaN</td>\n",
       "    </tr>\n",
       "    <tr>\n",
       "      <th>Albania</th>\n",
       "      <td>08b02ad4-e8b6-4ba3-9251-649664f6e824</td>\n",
       "      <td>c23a30e9-d242-4c52-b240-24509d233fe8</td>\n",
       "      <td>2</td>\n",
       "      <td>32632</td>\n",
       "      <td>18719662-201e-49d7-99da-ad53c19d511a</td>\n",
       "      <td>151437</td>\n",
       "      <td>2024-03-30 04:03:17.578722</td>\n",
       "      <td>1</td>\n",
       "      <td>USD</td>\n",
       "      <td>2024-03-30 04:15:17.578737</td>\n",
       "      <td>success</td>\n",
       "      <td>NaN</td>\n",
       "    </tr>\n",
       "    <tr>\n",
       "      <th>...</th>\n",
       "      <td>...</td>\n",
       "      <td>...</td>\n",
       "      <td>...</td>\n",
       "      <td>...</td>\n",
       "      <td>...</td>\n",
       "      <td>...</td>\n",
       "      <td>...</td>\n",
       "      <td>...</td>\n",
       "      <td>...</td>\n",
       "      <td>...</td>\n",
       "      <td>...</td>\n",
       "      <td>...</td>\n",
       "    </tr>\n",
       "    <tr>\n",
       "      <th>Zimbabwe</th>\n",
       "      <td>db698cb9-ca29-4508-b0f7-832b392306a4</td>\n",
       "      <td>e0c6329e-1e79-4560-8145-81c459670184</td>\n",
       "      <td>10</td>\n",
       "      <td>29861</td>\n",
       "      <td>0e7b92ef-8f50-4445-be28-5a28676d8e4e</td>\n",
       "      <td>138310</td>\n",
       "      <td>2024-03-22 13:20:41.144866</td>\n",
       "      <td>3</td>\n",
       "      <td>GBP</td>\n",
       "      <td>2024-03-30 04:12:16.911586</td>\n",
       "      <td>cancelled</td>\n",
       "      <td>NaN</td>\n",
       "    </tr>\n",
       "    <tr>\n",
       "      <th>Zimbabwe</th>\n",
       "      <td>db698cb9-ca29-4508-b0f7-832b392306a4</td>\n",
       "      <td>e0c6329e-1e79-4560-8145-81c459670184</td>\n",
       "      <td>7</td>\n",
       "      <td>29860</td>\n",
       "      <td>0e7b92ef-8f50-4445-be28-5a28676d8e4e</td>\n",
       "      <td>138310</td>\n",
       "      <td>2024-03-22 13:20:41.144866</td>\n",
       "      <td>5</td>\n",
       "      <td>GBP</td>\n",
       "      <td>2024-03-30 04:12:16.911586</td>\n",
       "      <td>cancelled</td>\n",
       "      <td>NaN</td>\n",
       "    </tr>\n",
       "    <tr>\n",
       "      <th>Zimbabwe</th>\n",
       "      <td>db698cb9-ca29-4508-b0f7-832b392306a4</td>\n",
       "      <td>e0c6329e-1e79-4560-8145-81c459670184</td>\n",
       "      <td>1</td>\n",
       "      <td>29863</td>\n",
       "      <td>0e7b92ef-8f50-4445-be28-5a28676d8e4e</td>\n",
       "      <td>138309</td>\n",
       "      <td>2024-03-28 01:59:47.070999</td>\n",
       "      <td>5</td>\n",
       "      <td>GBP</td>\n",
       "      <td>2024-03-30 04:12:16.911586</td>\n",
       "      <td>cancelled</td>\n",
       "      <td>NaN</td>\n",
       "    </tr>\n",
       "    <tr>\n",
       "      <th>Zimbabwe</th>\n",
       "      <td>db698cb9-ca29-4508-b0f7-832b392306a4</td>\n",
       "      <td>e0c6329e-1e79-4560-8145-81c459670184</td>\n",
       "      <td>1</td>\n",
       "      <td>29863</td>\n",
       "      <td>0e7b92ef-8f50-4445-be28-5a28676d8e4e</td>\n",
       "      <td>138314</td>\n",
       "      <td>2024-03-30 04:03:16.911579</td>\n",
       "      <td>5</td>\n",
       "      <td>GBP</td>\n",
       "      <td>2024-03-30 04:12:16.911586</td>\n",
       "      <td>cancelled</td>\n",
       "      <td>NaN</td>\n",
       "    </tr>\n",
       "    <tr>\n",
       "      <th>Zimbabwe</th>\n",
       "      <td>3f32bd5a-83d1-4d0e-85ba-101602388481</td>\n",
       "      <td>3dda90af-6c74-494d-b240-fc4d8d31759a</td>\n",
       "      <td>3</td>\n",
       "      <td>15897</td>\n",
       "      <td>46a574f4-9044-4653-b2cc-7c1610f68494</td>\n",
       "      <td>74252</td>\n",
       "      <td>2024-03-30 04:03:13.568394</td>\n",
       "      <td>3</td>\n",
       "      <td>NGN</td>\n",
       "      <td>2024-03-30 04:18:13.568459</td>\n",
       "      <td>success</td>\n",
       "      <td>NaN</td>\n",
       "    </tr>\n",
       "  </tbody>\n",
       "</table>\n",
       "<p>574320 rows × 12 columns</p>\n",
       "</div>"
      ],
      "text/plain": [
       "                                   customer_id  \\\n",
       "location                                         \n",
       "Albania   08b02ad4-e8b6-4ba3-9251-649664f6e824   \n",
       "Albania   08b02ad4-e8b6-4ba3-9251-649664f6e824   \n",
       "Albania   08b02ad4-e8b6-4ba3-9251-649664f6e824   \n",
       "Albania   08b02ad4-e8b6-4ba3-9251-649664f6e824   \n",
       "Albania   08b02ad4-e8b6-4ba3-9251-649664f6e824   \n",
       "...                                        ...   \n",
       "Zimbabwe  db698cb9-ca29-4508-b0f7-832b392306a4   \n",
       "Zimbabwe  db698cb9-ca29-4508-b0f7-832b392306a4   \n",
       "Zimbabwe  db698cb9-ca29-4508-b0f7-832b392306a4   \n",
       "Zimbabwe  db698cb9-ca29-4508-b0f7-832b392306a4   \n",
       "Zimbabwe  3f32bd5a-83d1-4d0e-85ba-101602388481   \n",
       "\n",
       "                                     device_id  item_id  line_item_id  \\\n",
       "location                                                                \n",
       "Albania   c23a30e9-d242-4c52-b240-24509d233fe8       14         32626   \n",
       "Albania   c23a30e9-d242-4c52-b240-24509d233fe8       10         32628   \n",
       "Albania   c23a30e9-d242-4c52-b240-24509d233fe8        8         32630   \n",
       "Albania   c23a30e9-d242-4c52-b240-24509d233fe8        9         32631   \n",
       "Albania   c23a30e9-d242-4c52-b240-24509d233fe8        2         32632   \n",
       "...                                        ...      ...           ...   \n",
       "Zimbabwe  e0c6329e-1e79-4560-8145-81c459670184       10         29861   \n",
       "Zimbabwe  e0c6329e-1e79-4560-8145-81c459670184        7         29860   \n",
       "Zimbabwe  e0c6329e-1e79-4560-8145-81c459670184        1         29863   \n",
       "Zimbabwe  e0c6329e-1e79-4560-8145-81c459670184        1         29863   \n",
       "Zimbabwe  3dda90af-6c74-494d-b240-fc4d8d31759a        3         15897   \n",
       "\n",
       "                                      order_id  event_id  \\\n",
       "location                                                   \n",
       "Albania   18719662-201e-49d7-99da-ad53c19d511a    151438   \n",
       "Albania   18719662-201e-49d7-99da-ad53c19d511a    151437   \n",
       "Albania   18719662-201e-49d7-99da-ad53c19d511a    151437   \n",
       "Albania   18719662-201e-49d7-99da-ad53c19d511a    151437   \n",
       "Albania   18719662-201e-49d7-99da-ad53c19d511a    151437   \n",
       "...                                        ...       ...   \n",
       "Zimbabwe  0e7b92ef-8f50-4445-be28-5a28676d8e4e    138310   \n",
       "Zimbabwe  0e7b92ef-8f50-4445-be28-5a28676d8e4e    138310   \n",
       "Zimbabwe  0e7b92ef-8f50-4445-be28-5a28676d8e4e    138309   \n",
       "Zimbabwe  0e7b92ef-8f50-4445-be28-5a28676d8e4e    138314   \n",
       "Zimbabwe  46a574f4-9044-4653-b2cc-7c1610f68494     74252   \n",
       "\n",
       "                    event_timestamp  quantity currency  \\\n",
       "location                                                 \n",
       "Albania  2024-03-30 04:03:17.578723         2      USD   \n",
       "Albania  2024-03-30 04:03:17.578722         1      USD   \n",
       "Albania  2024-03-30 04:03:17.578722         3      USD   \n",
       "Albania  2024-03-30 04:03:17.578722         2      USD   \n",
       "Albania  2024-03-30 04:03:17.578722         1      USD   \n",
       "...                             ...       ...      ...   \n",
       "Zimbabwe 2024-03-22 13:20:41.144866         3      GBP   \n",
       "Zimbabwe 2024-03-22 13:20:41.144866         5      GBP   \n",
       "Zimbabwe 2024-03-28 01:59:47.070999         5      GBP   \n",
       "Zimbabwe 2024-03-30 04:03:16.911579         5      GBP   \n",
       "Zimbabwe 2024-03-30 04:03:13.568394         3      NGN   \n",
       "\n",
       "                     checked_out_at     status  location  \n",
       "location                                                  \n",
       "Albania  2024-03-30 04:15:17.578737    success       NaN  \n",
       "Albania  2024-03-30 04:15:17.578737    success       NaN  \n",
       "Albania  2024-03-30 04:15:17.578737    success       NaN  \n",
       "Albania  2024-03-30 04:15:17.578737    success       NaN  \n",
       "Albania  2024-03-30 04:15:17.578737    success       NaN  \n",
       "...                             ...        ...       ...  \n",
       "Zimbabwe 2024-03-30 04:12:16.911586  cancelled       NaN  \n",
       "Zimbabwe 2024-03-30 04:12:16.911586  cancelled       NaN  \n",
       "Zimbabwe 2024-03-30 04:12:16.911586  cancelled       NaN  \n",
       "Zimbabwe 2024-03-30 04:12:16.911586  cancelled       NaN  \n",
       "Zimbabwe 2024-03-30 04:18:13.568459    success       NaN  \n",
       "\n",
       "[574320 rows x 12 columns]"
      ]
     },
     "execution_count": 32,
     "metadata": {},
     "output_type": "execute_result"
    }
   ],
   "source": [
    "sales1.iloc[4000:]"
   ]
  },
  {
   "cell_type": "code",
   "execution_count": 33,
   "id": "9dc2c3f6",
   "metadata": {},
   "outputs": [],
   "source": [
    "customer_id = sales1[\"customer_id\"]"
   ]
  },
  {
   "cell_type": "code",
   "execution_count": 34,
   "id": "10fc04b4",
   "metadata": {},
   "outputs": [
    {
     "data": {
      "text/plain": [
       "4594"
      ]
     },
     "execution_count": 34,
     "metadata": {},
     "output_type": "execute_result"
    }
   ],
   "source": [
    "# Total nmunbers of customers\n",
    "sales1[\"customer_id\"].nunique()"
   ]
  },
  {
   "cell_type": "code",
   "execution_count": 35,
   "id": "1f85f95b",
   "metadata": {},
   "outputs": [
    {
     "data": {
      "text/plain": [
       "status\n",
       "failed       196383\n",
       "success      192594\n",
       "cancelled    189343\n",
       "Name: count, dtype: int64"
      ]
     },
     "execution_count": 35,
     "metadata": {},
     "output_type": "execute_result"
    }
   ],
   "source": [
    "# checking the staus count\n",
    "status = sales1[\"status\"].value_counts()\n",
    "status"
   ]
  },
  {
   "cell_type": "code",
   "execution_count": 36,
   "id": "13051173",
   "metadata": {},
   "outputs": [
    {
     "data": {
      "text/plain": [
       "customer_id\n",
       "eb7dcb88-073d-403e-bdd4-1e5725fe2338    372\n",
       "a7d9058a-163e-4632-9bde-1f57130130cb    360\n",
       "12e94262-2eaa-47d9-85c9-6f55e434f5c8    360\n",
       "be8ce4e3-c596-43c2-8b70-bdcecada2139    360\n",
       "ebcb2343-be1b-421e-83eb-6f79a321d999    360\n",
       "c391f179-9eb3-418d-9d7b-b261f2dc57a6    360\n",
       "e4431b51-8db8-4b4a-a871-d12e3eaca47d    360\n",
       "ebcea232-0615-44be-8f9e-338100c6b31c    360\n",
       "9ff854ce-3c64-4519-8bc8-4f33713a1457    348\n",
       "abc8403d-526f-443f-8403-cc1402500ac7    348\n",
       "25ca6238-bc27-453a-b5e3-0a478f3f4e22    348\n",
       "64a744f1-f229-4c75-b623-347558d684d9    348\n",
       "82e02b41-5f63-429f-8e92-1787d86a0b66    348\n",
       "5d4624cc-7372-4003-bd9d-9a53704650a1    348\n",
       "23ea9949-0d0f-403f-a141-e8446ce341e2    348\n",
       "2625fe82-4acd-4c33-a262-e437cd52e698    348\n",
       "a68a4174-0109-4469-ab21-d49b48750829    348\n",
       "e73af64f-4c71-417a-94cc-7e0f2379cd3e    348\n",
       "d3cd2a61-03cf-4749-b693-5e5dc4f32b9c    348\n",
       "12b8be6b-be79-4cc2-9666-04852788ab4a    348\n",
       "a8fb3809-f25a-40cc-b0a8-860b40a285fd    336\n",
       "94de20c3-2dc7-441e-a201-527e4cf55f14    336\n",
       "f7f18e06-b6c9-4dd2-a4f4-fff22ca5b8a6    336\n",
       "cb52ac2e-2af2-40a2-bfdc-b00ad17af9b8    336\n",
       "c539401c-8d5d-4e07-b368-dbc0b3157a31    336\n",
       "Name: count, dtype: int64"
      ]
     },
     "execution_count": 36,
     "metadata": {},
     "output_type": "execute_result"
    }
   ],
   "source": [
    "# checking the top 25 cutomers\n",
    "top_25_customers = sales1[\"customer_id\"].value_counts().head(25)\n",
    "top_25_customers"
   ]
  },
  {
   "cell_type": "code",
   "execution_count": 37,
   "id": "db58c827",
   "metadata": {},
   "outputs": [],
   "source": [
    "mask = (sales1['customer_id']== \"c539401c-8d5d-4e07-b368-dbc0b3157a31\")"
   ]
  },
  {
   "cell_type": "code",
   "execution_count": 38,
   "id": "2d9d0033",
   "metadata": {},
   "outputs": [
    {
     "data": {
      "text/html": [
       "<div>\n",
       "<style scoped>\n",
       "    .dataframe tbody tr th:only-of-type {\n",
       "        vertical-align: middle;\n",
       "    }\n",
       "\n",
       "    .dataframe tbody tr th {\n",
       "        vertical-align: top;\n",
       "    }\n",
       "\n",
       "    .dataframe thead th {\n",
       "        text-align: right;\n",
       "    }\n",
       "</style>\n",
       "<table border=\"1\" class=\"dataframe\">\n",
       "  <thead>\n",
       "    <tr style=\"text-align: right;\">\n",
       "      <th></th>\n",
       "      <th>customer_id</th>\n",
       "      <th>device_id</th>\n",
       "      <th>item_id</th>\n",
       "      <th>line_item_id</th>\n",
       "      <th>order_id</th>\n",
       "      <th>event_id</th>\n",
       "      <th>event_timestamp</th>\n",
       "      <th>quantity</th>\n",
       "      <th>currency</th>\n",
       "      <th>checked_out_at</th>\n",
       "      <th>status</th>\n",
       "    </tr>\n",
       "    <tr>\n",
       "      <th>location</th>\n",
       "      <th></th>\n",
       "      <th></th>\n",
       "      <th></th>\n",
       "      <th></th>\n",
       "      <th></th>\n",
       "      <th></th>\n",
       "      <th></th>\n",
       "      <th></th>\n",
       "      <th></th>\n",
       "      <th></th>\n",
       "      <th></th>\n",
       "    </tr>\n",
       "  </thead>\n",
       "  <tbody>\n",
       "    <tr>\n",
       "      <th>Mali</th>\n",
       "      <td>c539401c-8d5d-4e07-b368-dbc0b3157a31</td>\n",
       "      <td>e23ec070-6c71-4f6a-a4e6-c4e2cda34435</td>\n",
       "      <td>5</td>\n",
       "      <td>33725</td>\n",
       "      <td>9fa1dfb2-b890-493c-bdb3-73257b4de812</td>\n",
       "      <td>156660</td>\n",
       "      <td>2024-03-30 04:03:17.950385</td>\n",
       "      <td>1</td>\n",
       "      <td>USD</td>\n",
       "      <td>2024-03-30 04:10:17.950468</td>\n",
       "      <td>cancelled</td>\n",
       "    </tr>\n",
       "    <tr>\n",
       "      <th>Mali</th>\n",
       "      <td>c539401c-8d5d-4e07-b368-dbc0b3157a31</td>\n",
       "      <td>e23ec070-6c71-4f6a-a4e6-c4e2cda34435</td>\n",
       "      <td>4</td>\n",
       "      <td>33726</td>\n",
       "      <td>9fa1dfb2-b890-493c-bdb3-73257b4de812</td>\n",
       "      <td>156660</td>\n",
       "      <td>2024-03-30 04:03:17.950385</td>\n",
       "      <td>2</td>\n",
       "      <td>USD</td>\n",
       "      <td>2024-03-30 04:10:17.950468</td>\n",
       "      <td>cancelled</td>\n",
       "    </tr>\n",
       "    <tr>\n",
       "      <th>Mali</th>\n",
       "      <td>c539401c-8d5d-4e07-b368-dbc0b3157a31</td>\n",
       "      <td>e23ec070-6c71-4f6a-a4e6-c4e2cda34435</td>\n",
       "      <td>1</td>\n",
       "      <td>33727</td>\n",
       "      <td>9fa1dfb2-b890-493c-bdb3-73257b4de812</td>\n",
       "      <td>156660</td>\n",
       "      <td>2024-03-30 04:03:17.950385</td>\n",
       "      <td>3</td>\n",
       "      <td>USD</td>\n",
       "      <td>2024-03-30 04:10:17.950468</td>\n",
       "      <td>cancelled</td>\n",
       "    </tr>\n",
       "    <tr>\n",
       "      <th>Mali</th>\n",
       "      <td>c539401c-8d5d-4e07-b368-dbc0b3157a31</td>\n",
       "      <td>e23ec070-6c71-4f6a-a4e6-c4e2cda34435</td>\n",
       "      <td>6</td>\n",
       "      <td>33728</td>\n",
       "      <td>9fa1dfb2-b890-493c-bdb3-73257b4de812</td>\n",
       "      <td>156660</td>\n",
       "      <td>2024-03-30 04:03:17.950385</td>\n",
       "      <td>1</td>\n",
       "      <td>USD</td>\n",
       "      <td>2024-03-30 04:10:17.950468</td>\n",
       "      <td>cancelled</td>\n",
       "    </tr>\n",
       "    <tr>\n",
       "      <th>Mali</th>\n",
       "      <td>c539401c-8d5d-4e07-b368-dbc0b3157a31</td>\n",
       "      <td>e23ec070-6c71-4f6a-a4e6-c4e2cda34435</td>\n",
       "      <td>11</td>\n",
       "      <td>33729</td>\n",
       "      <td>9fa1dfb2-b890-493c-bdb3-73257b4de812</td>\n",
       "      <td>156660</td>\n",
       "      <td>2024-03-30 04:03:17.950385</td>\n",
       "      <td>3</td>\n",
       "      <td>USD</td>\n",
       "      <td>2024-03-30 04:10:17.950468</td>\n",
       "      <td>cancelled</td>\n",
       "    </tr>\n",
       "    <tr>\n",
       "      <th>...</th>\n",
       "      <td>...</td>\n",
       "      <td>...</td>\n",
       "      <td>...</td>\n",
       "      <td>...</td>\n",
       "      <td>...</td>\n",
       "      <td>...</td>\n",
       "      <td>...</td>\n",
       "      <td>...</td>\n",
       "      <td>...</td>\n",
       "      <td>...</td>\n",
       "      <td>...</td>\n",
       "    </tr>\n",
       "    <tr>\n",
       "      <th>Mali</th>\n",
       "      <td>c539401c-8d5d-4e07-b368-dbc0b3157a31</td>\n",
       "      <td>e23ec070-6c71-4f6a-a4e6-c4e2cda34435</td>\n",
       "      <td>8</td>\n",
       "      <td>33732</td>\n",
       "      <td>9fa1dfb2-b890-493c-bdb3-73257b4de812</td>\n",
       "      <td>156676</td>\n",
       "      <td>2024-03-30 04:03:17.950459</td>\n",
       "      <td>4</td>\n",
       "      <td>USD</td>\n",
       "      <td>2024-03-30 04:10:17.950468</td>\n",
       "      <td>cancelled</td>\n",
       "    </tr>\n",
       "    <tr>\n",
       "      <th>Mali</th>\n",
       "      <td>c539401c-8d5d-4e07-b368-dbc0b3157a31</td>\n",
       "      <td>e23ec070-6c71-4f6a-a4e6-c4e2cda34435</td>\n",
       "      <td>3</td>\n",
       "      <td>33733</td>\n",
       "      <td>9fa1dfb2-b890-493c-bdb3-73257b4de812</td>\n",
       "      <td>156676</td>\n",
       "      <td>2024-03-30 04:03:17.950459</td>\n",
       "      <td>3</td>\n",
       "      <td>USD</td>\n",
       "      <td>2024-03-30 04:10:17.950468</td>\n",
       "      <td>cancelled</td>\n",
       "    </tr>\n",
       "    <tr>\n",
       "      <th>Mali</th>\n",
       "      <td>c539401c-8d5d-4e07-b368-dbc0b3157a31</td>\n",
       "      <td>e23ec070-6c71-4f6a-a4e6-c4e2cda34435</td>\n",
       "      <td>2</td>\n",
       "      <td>33722</td>\n",
       "      <td>9fa1dfb2-b890-493c-bdb3-73257b4de812</td>\n",
       "      <td>156677</td>\n",
       "      <td>2024-03-30 04:03:17.950460</td>\n",
       "      <td>2</td>\n",
       "      <td>USD</td>\n",
       "      <td>2024-03-30 04:10:17.950468</td>\n",
       "      <td>cancelled</td>\n",
       "    </tr>\n",
       "    <tr>\n",
       "      <th>Mali</th>\n",
       "      <td>c539401c-8d5d-4e07-b368-dbc0b3157a31</td>\n",
       "      <td>e23ec070-6c71-4f6a-a4e6-c4e2cda34435</td>\n",
       "      <td>10</td>\n",
       "      <td>33723</td>\n",
       "      <td>9fa1dfb2-b890-493c-bdb3-73257b4de812</td>\n",
       "      <td>156677</td>\n",
       "      <td>2024-03-30 04:03:17.950460</td>\n",
       "      <td>2</td>\n",
       "      <td>USD</td>\n",
       "      <td>2024-03-30 04:10:17.950468</td>\n",
       "      <td>cancelled</td>\n",
       "    </tr>\n",
       "    <tr>\n",
       "      <th>Mali</th>\n",
       "      <td>c539401c-8d5d-4e07-b368-dbc0b3157a31</td>\n",
       "      <td>e23ec070-6c71-4f6a-a4e6-c4e2cda34435</td>\n",
       "      <td>1</td>\n",
       "      <td>33727</td>\n",
       "      <td>9fa1dfb2-b890-493c-bdb3-73257b4de812</td>\n",
       "      <td>156676</td>\n",
       "      <td>2024-03-30 04:03:17.950459</td>\n",
       "      <td>3</td>\n",
       "      <td>USD</td>\n",
       "      <td>2024-03-30 04:10:17.950468</td>\n",
       "      <td>cancelled</td>\n",
       "    </tr>\n",
       "  </tbody>\n",
       "</table>\n",
       "<p>336 rows × 11 columns</p>\n",
       "</div>"
      ],
      "text/plain": [
       "                                   customer_id  \\\n",
       "location                                         \n",
       "Mali      c539401c-8d5d-4e07-b368-dbc0b3157a31   \n",
       "Mali      c539401c-8d5d-4e07-b368-dbc0b3157a31   \n",
       "Mali      c539401c-8d5d-4e07-b368-dbc0b3157a31   \n",
       "Mali      c539401c-8d5d-4e07-b368-dbc0b3157a31   \n",
       "Mali      c539401c-8d5d-4e07-b368-dbc0b3157a31   \n",
       "...                                        ...   \n",
       "Mali      c539401c-8d5d-4e07-b368-dbc0b3157a31   \n",
       "Mali      c539401c-8d5d-4e07-b368-dbc0b3157a31   \n",
       "Mali      c539401c-8d5d-4e07-b368-dbc0b3157a31   \n",
       "Mali      c539401c-8d5d-4e07-b368-dbc0b3157a31   \n",
       "Mali      c539401c-8d5d-4e07-b368-dbc0b3157a31   \n",
       "\n",
       "                                     device_id  item_id  line_item_id  \\\n",
       "location                                                                \n",
       "Mali      e23ec070-6c71-4f6a-a4e6-c4e2cda34435        5         33725   \n",
       "Mali      e23ec070-6c71-4f6a-a4e6-c4e2cda34435        4         33726   \n",
       "Mali      e23ec070-6c71-4f6a-a4e6-c4e2cda34435        1         33727   \n",
       "Mali      e23ec070-6c71-4f6a-a4e6-c4e2cda34435        6         33728   \n",
       "Mali      e23ec070-6c71-4f6a-a4e6-c4e2cda34435       11         33729   \n",
       "...                                        ...      ...           ...   \n",
       "Mali      e23ec070-6c71-4f6a-a4e6-c4e2cda34435        8         33732   \n",
       "Mali      e23ec070-6c71-4f6a-a4e6-c4e2cda34435        3         33733   \n",
       "Mali      e23ec070-6c71-4f6a-a4e6-c4e2cda34435        2         33722   \n",
       "Mali      e23ec070-6c71-4f6a-a4e6-c4e2cda34435       10         33723   \n",
       "Mali      e23ec070-6c71-4f6a-a4e6-c4e2cda34435        1         33727   \n",
       "\n",
       "                                      order_id  event_id  \\\n",
       "location                                                   \n",
       "Mali      9fa1dfb2-b890-493c-bdb3-73257b4de812    156660   \n",
       "Mali      9fa1dfb2-b890-493c-bdb3-73257b4de812    156660   \n",
       "Mali      9fa1dfb2-b890-493c-bdb3-73257b4de812    156660   \n",
       "Mali      9fa1dfb2-b890-493c-bdb3-73257b4de812    156660   \n",
       "Mali      9fa1dfb2-b890-493c-bdb3-73257b4de812    156660   \n",
       "...                                        ...       ...   \n",
       "Mali      9fa1dfb2-b890-493c-bdb3-73257b4de812    156676   \n",
       "Mali      9fa1dfb2-b890-493c-bdb3-73257b4de812    156676   \n",
       "Mali      9fa1dfb2-b890-493c-bdb3-73257b4de812    156677   \n",
       "Mali      9fa1dfb2-b890-493c-bdb3-73257b4de812    156677   \n",
       "Mali      9fa1dfb2-b890-493c-bdb3-73257b4de812    156676   \n",
       "\n",
       "                    event_timestamp  quantity currency  \\\n",
       "location                                                 \n",
       "Mali     2024-03-30 04:03:17.950385         1      USD   \n",
       "Mali     2024-03-30 04:03:17.950385         2      USD   \n",
       "Mali     2024-03-30 04:03:17.950385         3      USD   \n",
       "Mali     2024-03-30 04:03:17.950385         1      USD   \n",
       "Mali     2024-03-30 04:03:17.950385         3      USD   \n",
       "...                             ...       ...      ...   \n",
       "Mali     2024-03-30 04:03:17.950459         4      USD   \n",
       "Mali     2024-03-30 04:03:17.950459         3      USD   \n",
       "Mali     2024-03-30 04:03:17.950460         2      USD   \n",
       "Mali     2024-03-30 04:03:17.950460         2      USD   \n",
       "Mali     2024-03-30 04:03:17.950459         3      USD   \n",
       "\n",
       "                     checked_out_at     status  \n",
       "location                                        \n",
       "Mali     2024-03-30 04:10:17.950468  cancelled  \n",
       "Mali     2024-03-30 04:10:17.950468  cancelled  \n",
       "Mali     2024-03-30 04:10:17.950468  cancelled  \n",
       "Mali     2024-03-30 04:10:17.950468  cancelled  \n",
       "Mali     2024-03-30 04:10:17.950468  cancelled  \n",
       "...                             ...        ...  \n",
       "Mali     2024-03-30 04:10:17.950468  cancelled  \n",
       "Mali     2024-03-30 04:10:17.950468  cancelled  \n",
       "Mali     2024-03-30 04:10:17.950468  cancelled  \n",
       "Mali     2024-03-30 04:10:17.950468  cancelled  \n",
       "Mali     2024-03-30 04:10:17.950468  cancelled  \n",
       "\n",
       "[336 rows x 11 columns]"
      ]
     },
     "execution_count": 38,
     "metadata": {},
     "output_type": "execute_result"
    }
   ],
   "source": [
    "sales1.loc[mask, \"customer_id\":\"status\"]"
   ]
  },
  {
   "cell_type": "code",
   "execution_count": 39,
   "id": "afc95f0d",
   "metadata": {},
   "outputs": [],
   "source": [
    "mask2 = ((sales1['customer_id']== \"eb7dcb88-073d-403e-bdd4-1e5725fe2338\") & (sales1[\"status\"] != \"success\"))"
   ]
  },
  {
   "cell_type": "code",
   "execution_count": 40,
   "id": "6fbd9852",
   "metadata": {},
   "outputs": [],
   "source": [
    "this_customer = sales1.loc[mask]"
   ]
  },
  {
   "cell_type": "code",
   "execution_count": 41,
   "id": "c97fc5bf",
   "metadata": {},
   "outputs": [
    {
     "data": {
      "text/plain": [
       "array(['cancelled'], dtype=object)"
      ]
     },
     "execution_count": 41,
     "metadata": {},
     "output_type": "execute_result"
    }
   ],
   "source": [
    "this_customer[\"status\"].unique()"
   ]
  },
  {
   "cell_type": "code",
   "execution_count": 42,
   "id": "98c64ba7",
   "metadata": {},
   "outputs": [
    {
     "data": {
      "text/plain": [
       "currency\n",
       "USD    336\n",
       "Name: count, dtype: int64"
      ]
     },
     "execution_count": 42,
     "metadata": {},
     "output_type": "execute_result"
    }
   ],
   "source": [
    "this_customer[\"currency\"].value_counts()"
   ]
  },
  {
   "cell_type": "code",
   "execution_count": 43,
   "id": "6c04d1f6",
   "metadata": {},
   "outputs": [
    {
     "data": {
      "text/plain": [
       "status\n",
       "cancelled    336\n",
       "Name: count, dtype: int64"
      ]
     },
     "execution_count": 43,
     "metadata": {},
     "output_type": "execute_result"
    }
   ],
   "source": [
    "this_customer[\"status\"].value_counts()"
   ]
  },
  {
   "cell_type": "code",
   "execution_count": 44,
   "id": "7efabb86",
   "metadata": {},
   "outputs": [],
   "source": [
    "mask_ngn = sales['currency']== \"NGN\"\n",
    "mask_usd = sales['currency']== \"NGN\"\n",
    "mask_ngn = sales['currency']== \"USD\"\n",
    "mask_gbp = sales['currency']== \"GBP\""
   ]
  },
  {
   "cell_type": "code",
   "execution_count": 45,
   "id": "8a4e5093",
   "metadata": {},
   "outputs": [],
   "source": [
    "# customers_ngn = sales1.loc[mask_ngn]\n",
    "# customers_ngn"
   ]
  },
  {
   "cell_type": "code",
   "execution_count": 46,
   "id": "6a3c5139",
   "metadata": {},
   "outputs": [],
   "source": [
    "# customers_ngn = sales1.loc[mask_ngn]\n",
    "# customers_usd = sales1.loc[mask_usd]\n",
    "# customers_gbp = sales1.loc[mask_gbp]"
   ]
  },
  {
   "cell_type": "code",
   "execution_count": null,
   "id": "7f719821",
   "metadata": {},
   "outputs": [],
   "source": []
  }
 ],
 "metadata": {
  "kernelspec": {
   "display_name": "my_venv",
   "language": "python",
   "name": "python3"
  },
  "language_info": {
   "codemirror_mode": {
    "name": "ipython",
    "version": 3
   },
   "file_extension": ".py",
   "mimetype": "text/x-python",
   "name": "python",
   "nbconvert_exporter": "python",
   "pygments_lexer": "ipython3",
   "version": "3.12.1"
  }
 },
 "nbformat": 4,
 "nbformat_minor": 5
}
