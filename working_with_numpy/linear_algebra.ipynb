{
 "cells": [
  {
   "cell_type": "markdown",
   "id": "d8e95833",
   "metadata": {},
   "source": [
    "## **Linear Algebra with Numpy** ##"
   ]
  },
  {
   "cell_type": "markdown",
   "id": "28191e10",
   "metadata": {},
   "source": [
    "**What is Linear Algebra?**\n",
    "Linear Algebra is the branch of mathematics that deals with vectors and matrices — the main tools for handling data in machine learning.\n",
    "\n",
    "- **Why it matters in ML**\n",
    "   - A dataset = matrix (rows = samples, columns = features).\n",
    "\n",
    "   - An image = matrix of pixel values.\n",
    "\n",
    "   - Predictions, weights, activations = all use vectors/matrices"
   ]
  },
  {
   "cell_type": "markdown",
   "id": "fd670204",
   "metadata": {},
   "source": [
    "**Key Applications in ML**\n",
    "\n",
    "- Feature representation (data points as vectors)\n",
    "- Transformations and dimensionality reduction\n",
    "- Neural network operations\n",
    "- Optimization algorithms"
   ]
  },
  {
   "cell_type": "code",
   "execution_count": 1,
   "id": "c53a242f",
   "metadata": {},
   "outputs": [],
   "source": [
    "import numpy as np\n",
    "import matplotlib.pyplot as plt"
   ]
  },
  {
   "cell_type": "markdown",
   "id": "e21e0856",
   "metadata": {},
   "source": [
    "#### Vectors\n"
   ]
  },
  {
   "cell_type": "markdown",
   "id": "788a2f5c",
   "metadata": {},
   "source": [
    "**What is a Vector?**\n",
    " - A vector is simply a list of numbers arranged in order. Think of it like a row of lockers, each holding a value (e.g., age, weight, score, etc.).\n",
    "\n",
    " - Imagine you're holding a shopping list:\n",
    "\n",
    "  - [\"apples\", \"bananas\", \"bread\"] → text list\n",
    "\n",
    "  - [2, 5, 1] → quantities → This is like a vector!\n",
    "\n"
   ]
  },
  {
   "cell_type": "markdown",
   "id": "9c308f60",
   "metadata": {},
   "source": [
    "<!-- **Creating Vectors** -->"
   ]
  },
  {
   "cell_type": "markdown",
   "id": "2a3c2cdf",
   "metadata": {},
   "source": [
    "**Creating Vectors**"
   ]
  },
  {
   "cell_type": "code",
   "execution_count": null,
   "id": "43ad5827",
   "metadata": {},
   "outputs": [
    {
     "name": "stdout",
     "output_type": "stream",
     "text": [
      "Row Vector: [10 20 30]\n"
     ]
    }
   ],
   "source": [
    "# A row vector (1D)\n",
    "v1 = np.array([10, 20, 30])\n",
    "print(\"Row Vector:\", v1)\n",
    "\n",
    "# A column vector (2D with shape 3x1)\n",
    "v2 = np.array([[10], [20], [30]])\n",
    "print(\"Column Vector:\\n\", v2)\n",
    "\n"
   ]
  },
  {
   "cell_type": "markdown",
   "id": "578e9e72",
   "metadata": {},
   "source": [
    "\n",
    "**Vector Addition**\n",
    " - When you add vectors, you add each pair of elements.\n",
    "\n",
    "  - Bag A = [2, 3]\n",
    "  - Bag B = [1, 5]\n",
    "  - Total Items = [2+1, 3+5] = [3, 8]"
   ]
  },
  {
   "cell_type": "code",
   "execution_count": 3,
   "id": "02a19f7b",
   "metadata": {},
   "outputs": [
    {
     "name": "stdout",
     "output_type": "stream",
     "text": [
      "a + b = [3 8]\n"
     ]
    }
   ],
   "source": [
    "a = np.array([2, 3])\n",
    "b= np.array([1, 5])\n",
    "print(\"a + b =\", a + b)"
   ]
  },
  {
   "cell_type": "code",
   "execution_count": null,
   "id": "2887dcc5",
   "metadata": {},
   "outputs": [],
   "source": [
    "# Vector addition\n",
    "a = np.array([1, 2, 3])\n",
    "b = np.array([4, 5, 6])\n",
    "\n",
    "vector_sum = a + b\n",
    "print(f\"Vector a: {a}\")\n",
    "print(f\"Vector b: {b}\")\n",
    "print(f\"a + b: {vector_sum}\")"
   ]
  }
 ],
 "metadata": {
  "kernelspec": {
   "display_name": "my_venv",
   "language": "python",
   "name": "python3"
  },
  "language_info": {
   "codemirror_mode": {
    "name": "ipython",
    "version": 3
   },
   "file_extension": ".py",
   "mimetype": "text/x-python",
   "name": "python",
   "nbconvert_exporter": "python",
   "pygments_lexer": "ipython3",
   "version": "3.12.1"
  }
 },
 "nbformat": 4,
 "nbformat_minor": 5
}
