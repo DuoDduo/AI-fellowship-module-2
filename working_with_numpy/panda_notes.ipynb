{
 "cells": [
  {
   "cell_type": "markdown",
   "id": "4cf90c15",
   "metadata": {},
   "source": [
    "### A. Creating Series and DataFrames\n"
   ]
  },
  {
   "cell_type": "code",
   "execution_count": null,
   "id": "045ec1d4",
   "metadata": {},
   "outputs": [
    {
     "name": "stdout",
     "output_type": "stream",
     "text": [
      "0     1\n",
      "1     2\n",
      "2     3\n",
      "3     4\n",
      "4     5\n",
      "5     6\n",
      "6     7\n",
      "7     8\n",
      "8     9\n",
      "9    10\n",
      "dtype: int64\n"
     ]
    },
    {
     "data": {
      "text/plain": [
       "0     1\n",
       "1     2\n",
       "2     3\n",
       "3     4\n",
       "4     5\n",
       "5     6\n",
       "6     7\n",
       "7     8\n",
       "8     9\n",
       "9    10\n",
       "dtype: int64"
      ]
     },
     "execution_count": 14,
     "metadata": {},
     "output_type": "execute_result"
    }
   ],
   "source": [
    "# step 1: import panda package\n",
    "import pandas as pd\n",
    "\n",
    "# step 2 : Define a list\n",
    "data = [1, 2, 3, 4, 5, 6, 7 ,8, 9, 10]\n",
    "\n",
    "# step 3: create the series\n",
    "series = pd.Series(data)\n",
    "\n",
    "# view the created series\n",
    "series.head(10)\n",
    "\n"
   ]
  },
  {
   "cell_type": "code",
   "execution_count": 15,
   "id": "fb4498f4",
   "metadata": {},
   "outputs": [
    {
     "data": {
      "text/plain": [
       "pandas.core.series.Series"
      ]
     },
     "execution_count": 15,
     "metadata": {},
     "output_type": "execute_result"
    }
   ],
   "source": [
    "# confirming we created a pandas series\n",
    "type(series)"
   ]
  },
  {
   "cell_type": "code",
   "execution_count": null,
   "id": "6f79f73f",
   "metadata": {},
   "outputs": [
    {
     "data": {
      "text/plain": [
       "f     6\n",
       "g     7\n",
       "h     8\n",
       "i     9\n",
       "j    10\n",
       "dtype: int64"
      ]
     },
     "execution_count": 19,
     "metadata": {},
     "output_type": "execute_result"
    }
   ],
   "source": [
    "# creating a series using the same list, but  adding custom serial numbers\n",
    "series2 = pd.Series(data, index= [\"a\", \"b\", \"c\", \"d\", \"e\", \"f\", \"g\", \"h\", \"i\", \"j\"])\n",
    "series2.head()"
   ]
  },
  {
   "cell_type": "code",
   "execution_count": null,
   "id": "2dcbc578",
   "metadata": {},
   "outputs": [
    {
     "data": {
      "text/plain": [
       "Name    Age\n",
       "b        20\n",
       "c        30\n",
       "dtype: object"
      ]
     },
     "execution_count": 23,
     "metadata": {},
     "output_type": "execute_result"
    }
   ],
   "source": [
    "# creating a series using python dictionary \n",
    "data2 = {\"a\": 10, \"b\": 20, \"c\": 30}\n",
    "\n",
    "# creating the series\n",
    "series3= pd.Series(data2)\n",
    "series.head()\n"
   ]
  },
  {
   "cell_type": "markdown",
   "id": "1a692cf6",
   "metadata": {},
   "source": [
    "\n",
    "**Hands on practice**:\n",
    "1. Create a bucket list of 6 items. Convert the list to pandas series and define index for it using alphabets.\n",
    "2. Create a simple python dictionary of your biodata with 5 keys and their corresponding values. Convert the dictionary into a pandas series."
   ]
  },
  {
   "cell_type": "markdown",
   "id": "0f2a118b",
   "metadata": {},
   "source": [
    "Question 1"
   ]
  },
  {
   "cell_type": "code",
   "execution_count": 24,
   "id": "386957e7",
   "metadata": {},
   "outputs": [
    {
     "data": {
      "text/plain": [
       "a      shoe\n",
       "b       bag\n",
       "c     stone\n",
       "d      fish\n",
       "e    cheese\n",
       "f    cherry\n",
       "dtype: object"
      ]
     },
     "execution_count": 24,
     "metadata": {},
     "output_type": "execute_result"
    }
   ],
   "source": [
    "# bucket list of 6 items\n",
    "item_list =[\"shoe\", \"bag\", \"stone\", \"fish\", \"cheese\", \"cherry\"]\n",
    "\n",
    "# converting the bucket list to panda series and defining alphabets as the index\n",
    "items_series = pd.Series(item_list, index= [\"a\", \"b\", \"c\", \"d\", \"e\", \"f\"])\n",
    "\n",
    "items_series.head(6)\n"
   ]
  },
  {
   "cell_type": "markdown",
   "id": "ccc86a2a",
   "metadata": {},
   "source": [
    "Question 2"
   ]
  },
  {
   "cell_type": "code",
   "execution_count": 27,
   "id": "4c98a0ca",
   "metadata": {},
   "outputs": [
    {
     "data": {
      "text/plain": [
       "Name      Dominion James\n",
       "Track     AI Engineering\n",
       "Age                   90\n",
       "Gender            Female\n",
       "School            Aptech\n",
       "dtype: object"
      ]
     },
     "execution_count": 27,
     "metadata": {},
     "output_type": "execute_result"
    }
   ],
   "source": [
    "# creating the python dictionary of  biodta with 5keys\n",
    "bio_data= {\"Name\": \"Dominion James\", \"Track\":\"AI Engineering\", \"Age\": 90, \"Gender\":\"Female\", \"School\": \"Aptech\"}\n",
    "\n",
    "# converting the biodata dictionary to panda series\n",
    "bio_data_series = pd.Series(bio_data)\n",
    "\n",
    "\n",
    "bio_data_series.head()"
   ]
  },
  {
   "cell_type": "markdown",
   "id": "83f70f79",
   "metadata": {},
   "source": [
    "**Creating a DataFrame**\n",
    "\n"
   ]
  },
  {
   "cell_type": "code",
   "execution_count": null,
   "id": "2f5cc1c1",
   "metadata": {},
   "outputs": [],
   "source": [
    "# creating a data frame\n"
   ]
  },
  {
   "cell_type": "markdown",
   "id": "a2924305",
   "metadata": {},
   "source": []
  }
 ],
 "metadata": {
  "kernelspec": {
   "display_name": "new_file",
   "language": "python",
   "name": "python3"
  },
  "language_info": {
   "codemirror_mode": {
    "name": "ipython",
    "version": 3
   },
   "file_extension": ".py",
   "mimetype": "text/x-python",
   "name": "python",
   "nbconvert_exporter": "python",
   "pygments_lexer": "ipython3",
   "version": "3.13.5"
  }
 },
 "nbformat": 4,
 "nbformat_minor": 5
}
