{
 "cells": [
  {
   "cell_type": "markdown",
   "id": "56b9b477",
   "metadata": {},
   "source": [
    "### **Task 18**"
   ]
  },
  {
   "cell_type": "markdown",
   "id": "32549290",
   "metadata": {},
   "source": [
    "Perform statistical analysis using this dataset.\n",
    "\n",
    "- https://www.kaggle.com/datasets/abrambeyer/openintro-possum\n",
    "\n",
    "- Document in detail, the interpretation of your results from all the measures of centre, all measures of spread,  and outlier detection mechanisms.\n",
    "\n",
    "- Do not do anything on Probability distribution.\n",
    "\n",
    "- Be intuitive about the statistical insight and information you can get from your data."
   ]
  },
  {
   "cell_type": "markdown",
   "id": "2b7d2086",
   "metadata": {},
   "source": [
    "## Statistical Analysis for Possums"
   ]
  },
  {
   "cell_type": "code",
   "execution_count": 252,
   "id": "d8a34ef7",
   "metadata": {},
   "outputs": [],
   "source": [
    "#Load libraries \n",
    "import numpy as np\n",
    "import matplotlib.pyplot as plt\n",
    "import pandas as pd\n",
    "import seaborn as sns\n"
   ]
  },
  {
   "cell_type": "markdown",
   "id": "9893ac0f",
   "metadata": {},
   "source": [
    "## Preliminary Data Analysis"
   ]
  },
  {
   "cell_type": "code",
   "execution_count": 253,
   "id": "8b3afde9",
   "metadata": {},
   "outputs": [
    {
     "data": {
      "text/html": [
       "<div>\n",
       "<style scoped>\n",
       "    .dataframe tbody tr th:only-of-type {\n",
       "        vertical-align: middle;\n",
       "    }\n",
       "\n",
       "    .dataframe tbody tr th {\n",
       "        vertical-align: top;\n",
       "    }\n",
       "\n",
       "    .dataframe thead th {\n",
       "        text-align: right;\n",
       "    }\n",
       "</style>\n",
       "<table border=\"1\" class=\"dataframe\">\n",
       "  <thead>\n",
       "    <tr style=\"text-align: right;\">\n",
       "      <th></th>\n",
       "      <th>case</th>\n",
       "      <th>site</th>\n",
       "      <th>Pop</th>\n",
       "      <th>sex</th>\n",
       "      <th>age</th>\n",
       "      <th>hdlngth</th>\n",
       "      <th>skullw</th>\n",
       "      <th>totlngth</th>\n",
       "      <th>taill</th>\n",
       "      <th>footlgth</th>\n",
       "      <th>earconch</th>\n",
       "      <th>eye</th>\n",
       "      <th>chest</th>\n",
       "      <th>belly</th>\n",
       "    </tr>\n",
       "  </thead>\n",
       "  <tbody>\n",
       "    <tr>\n",
       "      <th>0</th>\n",
       "      <td>1</td>\n",
       "      <td>1</td>\n",
       "      <td>Vic</td>\n",
       "      <td>m</td>\n",
       "      <td>8.0</td>\n",
       "      <td>94.1</td>\n",
       "      <td>60.4</td>\n",
       "      <td>89.0</td>\n",
       "      <td>36.0</td>\n",
       "      <td>74.5</td>\n",
       "      <td>54.5</td>\n",
       "      <td>15.2</td>\n",
       "      <td>28.0</td>\n",
       "      <td>36.0</td>\n",
       "    </tr>\n",
       "    <tr>\n",
       "      <th>1</th>\n",
       "      <td>2</td>\n",
       "      <td>1</td>\n",
       "      <td>Vic</td>\n",
       "      <td>f</td>\n",
       "      <td>6.0</td>\n",
       "      <td>92.5</td>\n",
       "      <td>57.6</td>\n",
       "      <td>91.5</td>\n",
       "      <td>36.5</td>\n",
       "      <td>72.5</td>\n",
       "      <td>51.2</td>\n",
       "      <td>16.0</td>\n",
       "      <td>28.5</td>\n",
       "      <td>33.0</td>\n",
       "    </tr>\n",
       "    <tr>\n",
       "      <th>2</th>\n",
       "      <td>3</td>\n",
       "      <td>1</td>\n",
       "      <td>Vic</td>\n",
       "      <td>f</td>\n",
       "      <td>6.0</td>\n",
       "      <td>94.0</td>\n",
       "      <td>60.0</td>\n",
       "      <td>95.5</td>\n",
       "      <td>39.0</td>\n",
       "      <td>75.4</td>\n",
       "      <td>51.9</td>\n",
       "      <td>15.5</td>\n",
       "      <td>30.0</td>\n",
       "      <td>34.0</td>\n",
       "    </tr>\n",
       "    <tr>\n",
       "      <th>3</th>\n",
       "      <td>4</td>\n",
       "      <td>1</td>\n",
       "      <td>Vic</td>\n",
       "      <td>f</td>\n",
       "      <td>6.0</td>\n",
       "      <td>93.2</td>\n",
       "      <td>57.1</td>\n",
       "      <td>92.0</td>\n",
       "      <td>38.0</td>\n",
       "      <td>76.1</td>\n",
       "      <td>52.2</td>\n",
       "      <td>15.2</td>\n",
       "      <td>28.0</td>\n",
       "      <td>34.0</td>\n",
       "    </tr>\n",
       "    <tr>\n",
       "      <th>4</th>\n",
       "      <td>5</td>\n",
       "      <td>1</td>\n",
       "      <td>Vic</td>\n",
       "      <td>f</td>\n",
       "      <td>2.0</td>\n",
       "      <td>91.5</td>\n",
       "      <td>56.3</td>\n",
       "      <td>85.5</td>\n",
       "      <td>36.0</td>\n",
       "      <td>71.0</td>\n",
       "      <td>53.2</td>\n",
       "      <td>15.1</td>\n",
       "      <td>28.5</td>\n",
       "      <td>33.0</td>\n",
       "    </tr>\n",
       "  </tbody>\n",
       "</table>\n",
       "</div>"
      ],
      "text/plain": [
       "   case  site  Pop sex  age  hdlngth  skullw  totlngth  taill  footlgth  \\\n",
       "0     1     1  Vic   m  8.0     94.1    60.4      89.0   36.0      74.5   \n",
       "1     2     1  Vic   f  6.0     92.5    57.6      91.5   36.5      72.5   \n",
       "2     3     1  Vic   f  6.0     94.0    60.0      95.5   39.0      75.4   \n",
       "3     4     1  Vic   f  6.0     93.2    57.1      92.0   38.0      76.1   \n",
       "4     5     1  Vic   f  2.0     91.5    56.3      85.5   36.0      71.0   \n",
       "\n",
       "   earconch   eye  chest  belly  \n",
       "0      54.5  15.2   28.0   36.0  \n",
       "1      51.2  16.0   28.5   33.0  \n",
       "2      51.9  15.5   30.0   34.0  \n",
       "3      52.2  15.2   28.0   34.0  \n",
       "4      53.2  15.1   28.5   33.0  "
      ]
     },
     "execution_count": 253,
     "metadata": {},
     "output_type": "execute_result"
    }
   ],
   "source": [
    "# loading the dataset\n",
    "df = pd.read_csv(\"possum.csv\")\n",
    "\n",
    "# displaying thw first 5 columns of the dataset\n",
    "df.head()"
   ]
  },
  {
   "cell_type": "code",
   "execution_count": 254,
   "id": "e0091553",
   "metadata": {},
   "outputs": [
    {
     "data": {
      "text/plain": [
       "case          int64\n",
       "site          int64\n",
       "Pop          object\n",
       "sex          object\n",
       "age         float64\n",
       "hdlngth     float64\n",
       "skullw      float64\n",
       "totlngth    float64\n",
       "taill       float64\n",
       "footlgth    float64\n",
       "earconch    float64\n",
       "eye         float64\n",
       "chest       float64\n",
       "belly       float64\n",
       "dtype: object"
      ]
     },
     "execution_count": 254,
     "metadata": {},
     "output_type": "execute_result"
    }
   ],
   "source": [
    "# checking the data types\n",
    "df.dtypes"
   ]
  },
  {
   "cell_type": "code",
   "execution_count": 255,
   "id": "4a025542",
   "metadata": {},
   "outputs": [
    {
     "data": {
      "text/html": [
       "<div>\n",
       "<style scoped>\n",
       "    .dataframe tbody tr th:only-of-type {\n",
       "        vertical-align: middle;\n",
       "    }\n",
       "\n",
       "    .dataframe tbody tr th {\n",
       "        vertical-align: top;\n",
       "    }\n",
       "\n",
       "    .dataframe thead th {\n",
       "        text-align: right;\n",
       "    }\n",
       "</style>\n",
       "<table border=\"1\" class=\"dataframe\">\n",
       "  <thead>\n",
       "    <tr style=\"text-align: right;\">\n",
       "      <th></th>\n",
       "      <th>case</th>\n",
       "      <th>site</th>\n",
       "      <th>Pop</th>\n",
       "      <th>sex</th>\n",
       "      <th>age</th>\n",
       "      <th>hdlngth</th>\n",
       "      <th>skullw</th>\n",
       "      <th>totlngth</th>\n",
       "      <th>taill</th>\n",
       "      <th>footlgth</th>\n",
       "      <th>earconch</th>\n",
       "      <th>eye</th>\n",
       "      <th>chest</th>\n",
       "      <th>belly</th>\n",
       "    </tr>\n",
       "  </thead>\n",
       "  <tbody>\n",
       "    <tr>\n",
       "      <th>count</th>\n",
       "      <td>104.000000</td>\n",
       "      <td>104.000000</td>\n",
       "      <td>104</td>\n",
       "      <td>104</td>\n",
       "      <td>102.000000</td>\n",
       "      <td>104.000000</td>\n",
       "      <td>104.000000</td>\n",
       "      <td>104.000000</td>\n",
       "      <td>104.000000</td>\n",
       "      <td>103.000000</td>\n",
       "      <td>104.000000</td>\n",
       "      <td>104.000000</td>\n",
       "      <td>104.000000</td>\n",
       "      <td>104.000000</td>\n",
       "    </tr>\n",
       "    <tr>\n",
       "      <th>unique</th>\n",
       "      <td>NaN</td>\n",
       "      <td>NaN</td>\n",
       "      <td>2</td>\n",
       "      <td>2</td>\n",
       "      <td>NaN</td>\n",
       "      <td>NaN</td>\n",
       "      <td>NaN</td>\n",
       "      <td>NaN</td>\n",
       "      <td>NaN</td>\n",
       "      <td>NaN</td>\n",
       "      <td>NaN</td>\n",
       "      <td>NaN</td>\n",
       "      <td>NaN</td>\n",
       "      <td>NaN</td>\n",
       "    </tr>\n",
       "    <tr>\n",
       "      <th>top</th>\n",
       "      <td>NaN</td>\n",
       "      <td>NaN</td>\n",
       "      <td>other</td>\n",
       "      <td>m</td>\n",
       "      <td>NaN</td>\n",
       "      <td>NaN</td>\n",
       "      <td>NaN</td>\n",
       "      <td>NaN</td>\n",
       "      <td>NaN</td>\n",
       "      <td>NaN</td>\n",
       "      <td>NaN</td>\n",
       "      <td>NaN</td>\n",
       "      <td>NaN</td>\n",
       "      <td>NaN</td>\n",
       "    </tr>\n",
       "    <tr>\n",
       "      <th>freq</th>\n",
       "      <td>NaN</td>\n",
       "      <td>NaN</td>\n",
       "      <td>58</td>\n",
       "      <td>61</td>\n",
       "      <td>NaN</td>\n",
       "      <td>NaN</td>\n",
       "      <td>NaN</td>\n",
       "      <td>NaN</td>\n",
       "      <td>NaN</td>\n",
       "      <td>NaN</td>\n",
       "      <td>NaN</td>\n",
       "      <td>NaN</td>\n",
       "      <td>NaN</td>\n",
       "      <td>NaN</td>\n",
       "    </tr>\n",
       "    <tr>\n",
       "      <th>mean</th>\n",
       "      <td>52.500000</td>\n",
       "      <td>3.625000</td>\n",
       "      <td>NaN</td>\n",
       "      <td>NaN</td>\n",
       "      <td>3.833333</td>\n",
       "      <td>92.602885</td>\n",
       "      <td>56.883654</td>\n",
       "      <td>87.088462</td>\n",
       "      <td>37.009615</td>\n",
       "      <td>68.459223</td>\n",
       "      <td>48.130769</td>\n",
       "      <td>15.046154</td>\n",
       "      <td>27.000000</td>\n",
       "      <td>32.586538</td>\n",
       "    </tr>\n",
       "    <tr>\n",
       "      <th>std</th>\n",
       "      <td>30.166206</td>\n",
       "      <td>2.349086</td>\n",
       "      <td>NaN</td>\n",
       "      <td>NaN</td>\n",
       "      <td>1.909244</td>\n",
       "      <td>3.573349</td>\n",
       "      <td>3.113426</td>\n",
       "      <td>4.310549</td>\n",
       "      <td>1.959518</td>\n",
       "      <td>4.395306</td>\n",
       "      <td>4.109380</td>\n",
       "      <td>1.050374</td>\n",
       "      <td>2.045597</td>\n",
       "      <td>2.761949</td>\n",
       "    </tr>\n",
       "    <tr>\n",
       "      <th>min</th>\n",
       "      <td>1.000000</td>\n",
       "      <td>1.000000</td>\n",
       "      <td>NaN</td>\n",
       "      <td>NaN</td>\n",
       "      <td>1.000000</td>\n",
       "      <td>82.500000</td>\n",
       "      <td>50.000000</td>\n",
       "      <td>75.000000</td>\n",
       "      <td>32.000000</td>\n",
       "      <td>60.300000</td>\n",
       "      <td>40.300000</td>\n",
       "      <td>12.800000</td>\n",
       "      <td>22.000000</td>\n",
       "      <td>25.000000</td>\n",
       "    </tr>\n",
       "    <tr>\n",
       "      <th>25%</th>\n",
       "      <td>26.750000</td>\n",
       "      <td>1.000000</td>\n",
       "      <td>NaN</td>\n",
       "      <td>NaN</td>\n",
       "      <td>2.250000</td>\n",
       "      <td>90.675000</td>\n",
       "      <td>54.975000</td>\n",
       "      <td>84.000000</td>\n",
       "      <td>35.875000</td>\n",
       "      <td>64.600000</td>\n",
       "      <td>44.800000</td>\n",
       "      <td>14.400000</td>\n",
       "      <td>25.500000</td>\n",
       "      <td>31.000000</td>\n",
       "    </tr>\n",
       "    <tr>\n",
       "      <th>50%</th>\n",
       "      <td>52.500000</td>\n",
       "      <td>3.000000</td>\n",
       "      <td>NaN</td>\n",
       "      <td>NaN</td>\n",
       "      <td>3.000000</td>\n",
       "      <td>92.800000</td>\n",
       "      <td>56.350000</td>\n",
       "      <td>88.000000</td>\n",
       "      <td>37.000000</td>\n",
       "      <td>68.000000</td>\n",
       "      <td>46.800000</td>\n",
       "      <td>14.900000</td>\n",
       "      <td>27.000000</td>\n",
       "      <td>32.500000</td>\n",
       "    </tr>\n",
       "    <tr>\n",
       "      <th>75%</th>\n",
       "      <td>78.250000</td>\n",
       "      <td>6.000000</td>\n",
       "      <td>NaN</td>\n",
       "      <td>NaN</td>\n",
       "      <td>5.000000</td>\n",
       "      <td>94.725000</td>\n",
       "      <td>58.100000</td>\n",
       "      <td>90.000000</td>\n",
       "      <td>38.000000</td>\n",
       "      <td>72.500000</td>\n",
       "      <td>52.000000</td>\n",
       "      <td>15.725000</td>\n",
       "      <td>28.000000</td>\n",
       "      <td>34.125000</td>\n",
       "    </tr>\n",
       "    <tr>\n",
       "      <th>max</th>\n",
       "      <td>104.000000</td>\n",
       "      <td>7.000000</td>\n",
       "      <td>NaN</td>\n",
       "      <td>NaN</td>\n",
       "      <td>9.000000</td>\n",
       "      <td>103.100000</td>\n",
       "      <td>68.600000</td>\n",
       "      <td>96.500000</td>\n",
       "      <td>43.000000</td>\n",
       "      <td>77.900000</td>\n",
       "      <td>56.200000</td>\n",
       "      <td>17.800000</td>\n",
       "      <td>32.000000</td>\n",
       "      <td>40.000000</td>\n",
       "    </tr>\n",
       "  </tbody>\n",
       "</table>\n",
       "</div>"
      ],
      "text/plain": [
       "              case        site    Pop  sex         age     hdlngth  \\\n",
       "count   104.000000  104.000000    104  104  102.000000  104.000000   \n",
       "unique         NaN         NaN      2    2         NaN         NaN   \n",
       "top            NaN         NaN  other    m         NaN         NaN   \n",
       "freq           NaN         NaN     58   61         NaN         NaN   \n",
       "mean     52.500000    3.625000    NaN  NaN    3.833333   92.602885   \n",
       "std      30.166206    2.349086    NaN  NaN    1.909244    3.573349   \n",
       "min       1.000000    1.000000    NaN  NaN    1.000000   82.500000   \n",
       "25%      26.750000    1.000000    NaN  NaN    2.250000   90.675000   \n",
       "50%      52.500000    3.000000    NaN  NaN    3.000000   92.800000   \n",
       "75%      78.250000    6.000000    NaN  NaN    5.000000   94.725000   \n",
       "max     104.000000    7.000000    NaN  NaN    9.000000  103.100000   \n",
       "\n",
       "            skullw    totlngth       taill    footlgth    earconch  \\\n",
       "count   104.000000  104.000000  104.000000  103.000000  104.000000   \n",
       "unique         NaN         NaN         NaN         NaN         NaN   \n",
       "top            NaN         NaN         NaN         NaN         NaN   \n",
       "freq           NaN         NaN         NaN         NaN         NaN   \n",
       "mean     56.883654   87.088462   37.009615   68.459223   48.130769   \n",
       "std       3.113426    4.310549    1.959518    4.395306    4.109380   \n",
       "min      50.000000   75.000000   32.000000   60.300000   40.300000   \n",
       "25%      54.975000   84.000000   35.875000   64.600000   44.800000   \n",
       "50%      56.350000   88.000000   37.000000   68.000000   46.800000   \n",
       "75%      58.100000   90.000000   38.000000   72.500000   52.000000   \n",
       "max      68.600000   96.500000   43.000000   77.900000   56.200000   \n",
       "\n",
       "               eye       chest       belly  \n",
       "count   104.000000  104.000000  104.000000  \n",
       "unique         NaN         NaN         NaN  \n",
       "top            NaN         NaN         NaN  \n",
       "freq           NaN         NaN         NaN  \n",
       "mean     15.046154   27.000000   32.586538  \n",
       "std       1.050374    2.045597    2.761949  \n",
       "min      12.800000   22.000000   25.000000  \n",
       "25%      14.400000   25.500000   31.000000  \n",
       "50%      14.900000   27.000000   32.500000  \n",
       "75%      15.725000   28.000000   34.125000  \n",
       "max      17.800000   32.000000   40.000000  "
      ]
     },
     "execution_count": 255,
     "metadata": {},
     "output_type": "execute_result"
    }
   ],
   "source": [
    "# checking the statistica; summary\n",
    "df.describe(include=\"all\")"
   ]
  },
  {
   "cell_type": "markdown",
   "id": "bea59281",
   "metadata": {},
   "source": [
    "### Data Cleaning"
   ]
  },
  {
   "cell_type": "code",
   "execution_count": 256,
   "id": "4c52617d",
   "metadata": {},
   "outputs": [
    {
     "data": {
      "text/plain": [
       "case        0\n",
       "site        0\n",
       "Pop         0\n",
       "sex         0\n",
       "age         2\n",
       "hdlngth     0\n",
       "skullw      0\n",
       "totlngth    0\n",
       "taill       0\n",
       "footlgth    1\n",
       "earconch    0\n",
       "eye         0\n",
       "chest       0\n",
       "belly       0\n",
       "dtype: int64"
      ]
     },
     "execution_count": 256,
     "metadata": {},
     "output_type": "execute_result"
    }
   ],
   "source": [
    "# checking the data for missing and null values\n",
    "df.isna().sum()\n",
    "df.isnull().sum()\n"
   ]
  },
  {
   "cell_type": "code",
   "execution_count": 257,
   "id": "c38d8249",
   "metadata": {},
   "outputs": [
    {
     "data": {
      "text/html": [
       "<div>\n",
       "<style scoped>\n",
       "    .dataframe tbody tr th:only-of-type {\n",
       "        vertical-align: middle;\n",
       "    }\n",
       "\n",
       "    .dataframe tbody tr th {\n",
       "        vertical-align: top;\n",
       "    }\n",
       "\n",
       "    .dataframe thead th {\n",
       "        text-align: right;\n",
       "    }\n",
       "</style>\n",
       "<table border=\"1\" class=\"dataframe\">\n",
       "  <thead>\n",
       "    <tr style=\"text-align: right;\">\n",
       "      <th></th>\n",
       "      <th>case</th>\n",
       "      <th>site</th>\n",
       "      <th>Pop</th>\n",
       "      <th>sex</th>\n",
       "      <th>age</th>\n",
       "      <th>hdlngth</th>\n",
       "      <th>skullw</th>\n",
       "      <th>totlngth</th>\n",
       "      <th>taill</th>\n",
       "      <th>footlgth</th>\n",
       "      <th>earconch</th>\n",
       "      <th>eye</th>\n",
       "      <th>chest</th>\n",
       "      <th>belly</th>\n",
       "    </tr>\n",
       "  </thead>\n",
       "  <tbody>\n",
       "    <tr>\n",
       "      <th>0</th>\n",
       "      <td>1</td>\n",
       "      <td>1</td>\n",
       "      <td>Vic</td>\n",
       "      <td>m</td>\n",
       "      <td>8.0</td>\n",
       "      <td>94.1</td>\n",
       "      <td>60.4</td>\n",
       "      <td>89.0</td>\n",
       "      <td>36.0</td>\n",
       "      <td>74.5</td>\n",
       "      <td>54.5</td>\n",
       "      <td>15.2</td>\n",
       "      <td>28.0</td>\n",
       "      <td>36.0</td>\n",
       "    </tr>\n",
       "    <tr>\n",
       "      <th>1</th>\n",
       "      <td>2</td>\n",
       "      <td>1</td>\n",
       "      <td>Vic</td>\n",
       "      <td>f</td>\n",
       "      <td>6.0</td>\n",
       "      <td>92.5</td>\n",
       "      <td>57.6</td>\n",
       "      <td>91.5</td>\n",
       "      <td>36.5</td>\n",
       "      <td>72.5</td>\n",
       "      <td>51.2</td>\n",
       "      <td>16.0</td>\n",
       "      <td>28.5</td>\n",
       "      <td>33.0</td>\n",
       "    </tr>\n",
       "    <tr>\n",
       "      <th>2</th>\n",
       "      <td>3</td>\n",
       "      <td>1</td>\n",
       "      <td>Vic</td>\n",
       "      <td>f</td>\n",
       "      <td>6.0</td>\n",
       "      <td>94.0</td>\n",
       "      <td>60.0</td>\n",
       "      <td>95.5</td>\n",
       "      <td>39.0</td>\n",
       "      <td>75.4</td>\n",
       "      <td>51.9</td>\n",
       "      <td>15.5</td>\n",
       "      <td>30.0</td>\n",
       "      <td>34.0</td>\n",
       "    </tr>\n",
       "    <tr>\n",
       "      <th>3</th>\n",
       "      <td>4</td>\n",
       "      <td>1</td>\n",
       "      <td>Vic</td>\n",
       "      <td>f</td>\n",
       "      <td>6.0</td>\n",
       "      <td>93.2</td>\n",
       "      <td>57.1</td>\n",
       "      <td>92.0</td>\n",
       "      <td>38.0</td>\n",
       "      <td>76.1</td>\n",
       "      <td>52.2</td>\n",
       "      <td>15.2</td>\n",
       "      <td>28.0</td>\n",
       "      <td>34.0</td>\n",
       "    </tr>\n",
       "    <tr>\n",
       "      <th>4</th>\n",
       "      <td>5</td>\n",
       "      <td>1</td>\n",
       "      <td>Vic</td>\n",
       "      <td>f</td>\n",
       "      <td>2.0</td>\n",
       "      <td>91.5</td>\n",
       "      <td>56.3</td>\n",
       "      <td>85.5</td>\n",
       "      <td>36.0</td>\n",
       "      <td>71.0</td>\n",
       "      <td>53.2</td>\n",
       "      <td>15.1</td>\n",
       "      <td>28.5</td>\n",
       "      <td>33.0</td>\n",
       "    </tr>\n",
       "    <tr>\n",
       "      <th>...</th>\n",
       "      <td>...</td>\n",
       "      <td>...</td>\n",
       "      <td>...</td>\n",
       "      <td>...</td>\n",
       "      <td>...</td>\n",
       "      <td>...</td>\n",
       "      <td>...</td>\n",
       "      <td>...</td>\n",
       "      <td>...</td>\n",
       "      <td>...</td>\n",
       "      <td>...</td>\n",
       "      <td>...</td>\n",
       "      <td>...</td>\n",
       "      <td>...</td>\n",
       "    </tr>\n",
       "    <tr>\n",
       "      <th>99</th>\n",
       "      <td>100</td>\n",
       "      <td>7</td>\n",
       "      <td>other</td>\n",
       "      <td>m</td>\n",
       "      <td>1.0</td>\n",
       "      <td>89.5</td>\n",
       "      <td>56.0</td>\n",
       "      <td>81.5</td>\n",
       "      <td>36.5</td>\n",
       "      <td>66.0</td>\n",
       "      <td>46.8</td>\n",
       "      <td>14.8</td>\n",
       "      <td>23.0</td>\n",
       "      <td>27.0</td>\n",
       "    </tr>\n",
       "    <tr>\n",
       "      <th>100</th>\n",
       "      <td>101</td>\n",
       "      <td>7</td>\n",
       "      <td>other</td>\n",
       "      <td>m</td>\n",
       "      <td>1.0</td>\n",
       "      <td>88.6</td>\n",
       "      <td>54.7</td>\n",
       "      <td>82.5</td>\n",
       "      <td>39.0</td>\n",
       "      <td>64.4</td>\n",
       "      <td>48.0</td>\n",
       "      <td>14.0</td>\n",
       "      <td>25.0</td>\n",
       "      <td>33.0</td>\n",
       "    </tr>\n",
       "    <tr>\n",
       "      <th>101</th>\n",
       "      <td>102</td>\n",
       "      <td>7</td>\n",
       "      <td>other</td>\n",
       "      <td>f</td>\n",
       "      <td>6.0</td>\n",
       "      <td>92.4</td>\n",
       "      <td>55.0</td>\n",
       "      <td>89.0</td>\n",
       "      <td>38.0</td>\n",
       "      <td>63.5</td>\n",
       "      <td>45.4</td>\n",
       "      <td>13.0</td>\n",
       "      <td>25.0</td>\n",
       "      <td>30.0</td>\n",
       "    </tr>\n",
       "    <tr>\n",
       "      <th>102</th>\n",
       "      <td>103</td>\n",
       "      <td>7</td>\n",
       "      <td>other</td>\n",
       "      <td>m</td>\n",
       "      <td>4.0</td>\n",
       "      <td>91.5</td>\n",
       "      <td>55.2</td>\n",
       "      <td>82.5</td>\n",
       "      <td>36.5</td>\n",
       "      <td>62.9</td>\n",
       "      <td>45.9</td>\n",
       "      <td>15.4</td>\n",
       "      <td>25.0</td>\n",
       "      <td>29.0</td>\n",
       "    </tr>\n",
       "    <tr>\n",
       "      <th>103</th>\n",
       "      <td>104</td>\n",
       "      <td>7</td>\n",
       "      <td>other</td>\n",
       "      <td>f</td>\n",
       "      <td>3.0</td>\n",
       "      <td>93.6</td>\n",
       "      <td>59.9</td>\n",
       "      <td>89.0</td>\n",
       "      <td>40.0</td>\n",
       "      <td>67.6</td>\n",
       "      <td>46.0</td>\n",
       "      <td>14.8</td>\n",
       "      <td>28.5</td>\n",
       "      <td>33.5</td>\n",
       "    </tr>\n",
       "  </tbody>\n",
       "</table>\n",
       "<p>101 rows × 14 columns</p>\n",
       "</div>"
      ],
      "text/plain": [
       "     case  site    Pop sex  age  hdlngth  skullw  totlngth  taill  footlgth  \\\n",
       "0       1     1    Vic   m  8.0     94.1    60.4      89.0   36.0      74.5   \n",
       "1       2     1    Vic   f  6.0     92.5    57.6      91.5   36.5      72.5   \n",
       "2       3     1    Vic   f  6.0     94.0    60.0      95.5   39.0      75.4   \n",
       "3       4     1    Vic   f  6.0     93.2    57.1      92.0   38.0      76.1   \n",
       "4       5     1    Vic   f  2.0     91.5    56.3      85.5   36.0      71.0   \n",
       "..    ...   ...    ...  ..  ...      ...     ...       ...    ...       ...   \n",
       "99    100     7  other   m  1.0     89.5    56.0      81.5   36.5      66.0   \n",
       "100   101     7  other   m  1.0     88.6    54.7      82.5   39.0      64.4   \n",
       "101   102     7  other   f  6.0     92.4    55.0      89.0   38.0      63.5   \n",
       "102   103     7  other   m  4.0     91.5    55.2      82.5   36.5      62.9   \n",
       "103   104     7  other   f  3.0     93.6    59.9      89.0   40.0      67.6   \n",
       "\n",
       "     earconch   eye  chest  belly  \n",
       "0        54.5  15.2   28.0   36.0  \n",
       "1        51.2  16.0   28.5   33.0  \n",
       "2        51.9  15.5   30.0   34.0  \n",
       "3        52.2  15.2   28.0   34.0  \n",
       "4        53.2  15.1   28.5   33.0  \n",
       "..        ...   ...    ...    ...  \n",
       "99       46.8  14.8   23.0   27.0  \n",
       "100      48.0  14.0   25.0   33.0  \n",
       "101      45.4  13.0   25.0   30.0  \n",
       "102      45.9  15.4   25.0   29.0  \n",
       "103      46.0  14.8   28.5   33.5  \n",
       "\n",
       "[101 rows x 14 columns]"
      ]
     },
     "execution_count": 257,
     "metadata": {},
     "output_type": "execute_result"
    }
   ],
   "source": [
    "# dropping the columns with missing valus\n",
    "possums = df.dropna()\n",
    "possums\n",
    "# df"
   ]
  },
  {
   "cell_type": "code",
   "execution_count": 258,
   "id": "963dcd72",
   "metadata": {},
   "outputs": [
    {
     "data": {
      "text/plain": [
       "np.int64(0)"
      ]
     },
     "execution_count": 258,
     "metadata": {},
     "output_type": "execute_result"
    }
   ],
   "source": [
    "# df.nunique()\n",
    "# checking for duplicate values\n",
    "possums.duplicated().sum()\n"
   ]
  },
  {
   "cell_type": "code",
   "execution_count": 259,
   "id": "adda0656",
   "metadata": {},
   "outputs": [
    {
     "data": {
      "text/plain": [
       "site\n",
       "1    33\n",
       "7    18\n",
       "5    13\n",
       "6    13\n",
       "2    10\n",
       "3     7\n",
       "4     7\n",
       "Name: count, dtype: int64"
      ]
     },
     "execution_count": 259,
     "metadata": {},
     "output_type": "execute_result"
    }
   ],
   "source": [
    "# checking the locations were the possums were trapped\n",
    "trapped_location =possums[\"site\"].value_counts()\n",
    "trapped_location"
   ]
  },
  {
   "cell_type": "code",
   "execution_count": 260,
   "id": "e6c55339",
   "metadata": {},
   "outputs": [
    {
     "data": {
      "text/plain": [
       "Pop\n",
       "other    58\n",
       "Vic      43\n",
       "Name: count, dtype: int64"
      ]
     },
     "execution_count": 260,
     "metadata": {},
     "output_type": "execute_result"
    }
   ],
   "source": [
    "# checking the population of the possums in each locations\n",
    "possum_population = possums[\"Pop\"].value_counts()\n",
    "possum_population"
   ]
  },
  {
   "cell_type": "markdown",
   "id": "f19dadeb",
   "metadata": {},
   "source": [
    "## Measures of Centre"
   ]
  },
  {
   "cell_type": "code",
   "execution_count": 261,
   "id": "a62a729c",
   "metadata": {},
   "outputs": [
    {
     "data": {
      "text/html": [
       "<div>\n",
       "<style scoped>\n",
       "    .dataframe tbody tr th:only-of-type {\n",
       "        vertical-align: middle;\n",
       "    }\n",
       "\n",
       "    .dataframe tbody tr th {\n",
       "        vertical-align: top;\n",
       "    }\n",
       "\n",
       "    .dataframe thead th {\n",
       "        text-align: right;\n",
       "    }\n",
       "</style>\n",
       "<table border=\"1\" class=\"dataframe\">\n",
       "  <thead>\n",
       "    <tr style=\"text-align: right;\">\n",
       "      <th></th>\n",
       "      <th>case</th>\n",
       "      <th>site</th>\n",
       "      <th>Pop</th>\n",
       "      <th>sex</th>\n",
       "      <th>age</th>\n",
       "      <th>hdlngth</th>\n",
       "      <th>skullw</th>\n",
       "      <th>totlngth</th>\n",
       "      <th>taill</th>\n",
       "      <th>footlgth</th>\n",
       "      <th>earconch</th>\n",
       "      <th>eye</th>\n",
       "      <th>chest</th>\n",
       "      <th>belly</th>\n",
       "    </tr>\n",
       "  </thead>\n",
       "  <tbody>\n",
       "    <tr>\n",
       "      <th>1</th>\n",
       "      <td>2</td>\n",
       "      <td>1</td>\n",
       "      <td>Vic</td>\n",
       "      <td>f</td>\n",
       "      <td>6.0</td>\n",
       "      <td>92.5</td>\n",
       "      <td>57.6</td>\n",
       "      <td>91.5</td>\n",
       "      <td>36.5</td>\n",
       "      <td>72.5</td>\n",
       "      <td>51.2</td>\n",
       "      <td>16.0</td>\n",
       "      <td>28.5</td>\n",
       "      <td>33.0</td>\n",
       "    </tr>\n",
       "    <tr>\n",
       "      <th>2</th>\n",
       "      <td>3</td>\n",
       "      <td>1</td>\n",
       "      <td>Vic</td>\n",
       "      <td>f</td>\n",
       "      <td>6.0</td>\n",
       "      <td>94.0</td>\n",
       "      <td>60.0</td>\n",
       "      <td>95.5</td>\n",
       "      <td>39.0</td>\n",
       "      <td>75.4</td>\n",
       "      <td>51.9</td>\n",
       "      <td>15.5</td>\n",
       "      <td>30.0</td>\n",
       "      <td>34.0</td>\n",
       "    </tr>\n",
       "    <tr>\n",
       "      <th>3</th>\n",
       "      <td>4</td>\n",
       "      <td>1</td>\n",
       "      <td>Vic</td>\n",
       "      <td>f</td>\n",
       "      <td>6.0</td>\n",
       "      <td>93.2</td>\n",
       "      <td>57.1</td>\n",
       "      <td>92.0</td>\n",
       "      <td>38.0</td>\n",
       "      <td>76.1</td>\n",
       "      <td>52.2</td>\n",
       "      <td>15.2</td>\n",
       "      <td>28.0</td>\n",
       "      <td>34.0</td>\n",
       "    </tr>\n",
       "    <tr>\n",
       "      <th>4</th>\n",
       "      <td>5</td>\n",
       "      <td>1</td>\n",
       "      <td>Vic</td>\n",
       "      <td>f</td>\n",
       "      <td>2.0</td>\n",
       "      <td>91.5</td>\n",
       "      <td>56.3</td>\n",
       "      <td>85.5</td>\n",
       "      <td>36.0</td>\n",
       "      <td>71.0</td>\n",
       "      <td>53.2</td>\n",
       "      <td>15.1</td>\n",
       "      <td>28.5</td>\n",
       "      <td>33.0</td>\n",
       "    </tr>\n",
       "    <tr>\n",
       "      <th>5</th>\n",
       "      <td>6</td>\n",
       "      <td>1</td>\n",
       "      <td>Vic</td>\n",
       "      <td>f</td>\n",
       "      <td>1.0</td>\n",
       "      <td>93.1</td>\n",
       "      <td>54.8</td>\n",
       "      <td>90.5</td>\n",
       "      <td>35.5</td>\n",
       "      <td>73.2</td>\n",
       "      <td>53.6</td>\n",
       "      <td>14.2</td>\n",
       "      <td>30.0</td>\n",
       "      <td>32.0</td>\n",
       "    </tr>\n",
       "  </tbody>\n",
       "</table>\n",
       "</div>"
      ],
      "text/plain": [
       "   case  site  Pop sex  age  hdlngth  skullw  totlngth  taill  footlgth  \\\n",
       "1     2     1  Vic   f  6.0     92.5    57.6      91.5   36.5      72.5   \n",
       "2     3     1  Vic   f  6.0     94.0    60.0      95.5   39.0      75.4   \n",
       "3     4     1  Vic   f  6.0     93.2    57.1      92.0   38.0      76.1   \n",
       "4     5     1  Vic   f  2.0     91.5    56.3      85.5   36.0      71.0   \n",
       "5     6     1  Vic   f  1.0     93.1    54.8      90.5   35.5      73.2   \n",
       "\n",
       "   earconch   eye  chest  belly  \n",
       "1      51.2  16.0   28.5   33.0  \n",
       "2      51.9  15.5   30.0   34.0  \n",
       "3      52.2  15.2   28.0   34.0  \n",
       "4      53.2  15.1   28.5   33.0  \n",
       "5      53.6  14.2   30.0   32.0  "
      ]
     },
     "execution_count": 261,
     "metadata": {},
     "output_type": "execute_result"
    }
   ],
   "source": [
    "# filtering the possums by sex\n",
    "female = possums[possums[\"sex\"] == \"f\"]\n",
    "female.head()"
   ]
  },
  {
   "cell_type": "code",
   "execution_count": 262,
   "id": "f01cc425",
   "metadata": {},
   "outputs": [
    {
     "name": "stdout",
     "output_type": "stream",
     "text": [
      "The total number of female possum is:  42\n",
      "The medianage of all the female possums is:3.9523809523809526\n"
     ]
    }
   ],
   "source": [
    "\n",
    "# getting the total number of female possums \n",
    "no_of_females= female.value_counts().sum()\n",
    "\n",
    "# calculating the mean of the ages of the female possum\n",
    "female_possum  = female[\"age\"]\n",
    "female_possum_mean = np.mean(female_possum)\n",
    "print(f\"The total number of female possum is:  {no_of_females}\")\n",
    "print(f\"The medianage of all the female possums is:{female_possum_mean}\")"
   ]
  },
  {
   "cell_type": "code",
   "execution_count": 263,
   "id": "6b776e1c",
   "metadata": {},
   "outputs": [
    {
     "name": "stdout",
     "output_type": "stream",
     "text": [
      "The median of all female possums is:  3.5\n"
     ]
    }
   ],
   "source": [
    "# calculating the median of the ages of the female possum\n",
    "female_possum_median = np.median(female_possum)\n",
    "print('The median of all female possums is: ', female_possum_median)"
   ]
  },
  {
   "cell_type": "code",
   "execution_count": 264,
   "id": "39cac921",
   "metadata": {},
   "outputs": [
    {
     "name": "stdout",
     "output_type": "stream",
     "text": [
      "The most frequent age of the female possums is:  3.0\n"
     ]
    }
   ],
   "source": [
    "# calculating the mode of all the female possum, filtering by age\n",
    "female_possum_mode = female_possum.mode().sum()\n",
    "print('The most frequent age of the female possums is: ', female_possum_mode)\n"
   ]
  },
  {
   "cell_type": "code",
   "execution_count": 265,
   "id": "c45caa64",
   "metadata": {},
   "outputs": [
    {
     "data": {
      "text/html": [
       "<div>\n",
       "<style scoped>\n",
       "    .dataframe tbody tr th:only-of-type {\n",
       "        vertical-align: middle;\n",
       "    }\n",
       "\n",
       "    .dataframe tbody tr th {\n",
       "        vertical-align: top;\n",
       "    }\n",
       "\n",
       "    .dataframe thead th {\n",
       "        text-align: right;\n",
       "    }\n",
       "</style>\n",
       "<table border=\"1\" class=\"dataframe\">\n",
       "  <thead>\n",
       "    <tr style=\"text-align: right;\">\n",
       "      <th></th>\n",
       "      <th>case</th>\n",
       "      <th>site</th>\n",
       "      <th>Pop</th>\n",
       "      <th>sex</th>\n",
       "      <th>age</th>\n",
       "      <th>hdlngth</th>\n",
       "      <th>skullw</th>\n",
       "      <th>totlngth</th>\n",
       "      <th>taill</th>\n",
       "      <th>footlgth</th>\n",
       "      <th>earconch</th>\n",
       "      <th>eye</th>\n",
       "      <th>chest</th>\n",
       "      <th>belly</th>\n",
       "    </tr>\n",
       "  </thead>\n",
       "  <tbody>\n",
       "    <tr>\n",
       "      <th>0</th>\n",
       "      <td>1</td>\n",
       "      <td>1</td>\n",
       "      <td>Vic</td>\n",
       "      <td>m</td>\n",
       "      <td>8.0</td>\n",
       "      <td>94.1</td>\n",
       "      <td>60.4</td>\n",
       "      <td>89.0</td>\n",
       "      <td>36.0</td>\n",
       "      <td>74.5</td>\n",
       "      <td>54.5</td>\n",
       "      <td>15.2</td>\n",
       "      <td>28.0</td>\n",
       "      <td>36.0</td>\n",
       "    </tr>\n",
       "    <tr>\n",
       "      <th>6</th>\n",
       "      <td>7</td>\n",
       "      <td>1</td>\n",
       "      <td>Vic</td>\n",
       "      <td>m</td>\n",
       "      <td>2.0</td>\n",
       "      <td>95.3</td>\n",
       "      <td>58.2</td>\n",
       "      <td>89.5</td>\n",
       "      <td>36.0</td>\n",
       "      <td>71.5</td>\n",
       "      <td>52.0</td>\n",
       "      <td>14.2</td>\n",
       "      <td>30.0</td>\n",
       "      <td>34.5</td>\n",
       "    </tr>\n",
       "    <tr>\n",
       "      <th>12</th>\n",
       "      <td>13</td>\n",
       "      <td>1</td>\n",
       "      <td>Vic</td>\n",
       "      <td>m</td>\n",
       "      <td>5.0</td>\n",
       "      <td>95.1</td>\n",
       "      <td>59.9</td>\n",
       "      <td>89.5</td>\n",
       "      <td>36.0</td>\n",
       "      <td>71.0</td>\n",
       "      <td>49.8</td>\n",
       "      <td>15.8</td>\n",
       "      <td>27.0</td>\n",
       "      <td>32.0</td>\n",
       "    </tr>\n",
       "    <tr>\n",
       "      <th>13</th>\n",
       "      <td>14</td>\n",
       "      <td>1</td>\n",
       "      <td>Vic</td>\n",
       "      <td>m</td>\n",
       "      <td>3.0</td>\n",
       "      <td>95.4</td>\n",
       "      <td>57.6</td>\n",
       "      <td>91.5</td>\n",
       "      <td>36.0</td>\n",
       "      <td>74.3</td>\n",
       "      <td>53.7</td>\n",
       "      <td>15.1</td>\n",
       "      <td>28.0</td>\n",
       "      <td>31.5</td>\n",
       "    </tr>\n",
       "    <tr>\n",
       "      <th>14</th>\n",
       "      <td>15</td>\n",
       "      <td>1</td>\n",
       "      <td>Vic</td>\n",
       "      <td>m</td>\n",
       "      <td>5.0</td>\n",
       "      <td>92.9</td>\n",
       "      <td>57.6</td>\n",
       "      <td>85.5</td>\n",
       "      <td>34.0</td>\n",
       "      <td>69.7</td>\n",
       "      <td>51.8</td>\n",
       "      <td>15.7</td>\n",
       "      <td>28.0</td>\n",
       "      <td>35.0</td>\n",
       "    </tr>\n",
       "  </tbody>\n",
       "</table>\n",
       "</div>"
      ],
      "text/plain": [
       "    case  site  Pop sex  age  hdlngth  skullw  totlngth  taill  footlgth  \\\n",
       "0      1     1  Vic   m  8.0     94.1    60.4      89.0   36.0      74.5   \n",
       "6      7     1  Vic   m  2.0     95.3    58.2      89.5   36.0      71.5   \n",
       "12    13     1  Vic   m  5.0     95.1    59.9      89.5   36.0      71.0   \n",
       "13    14     1  Vic   m  3.0     95.4    57.6      91.5   36.0      74.3   \n",
       "14    15     1  Vic   m  5.0     92.9    57.6      85.5   34.0      69.7   \n",
       "\n",
       "    earconch   eye  chest  belly  \n",
       "0       54.5  15.2   28.0   36.0  \n",
       "6       52.0  14.2   30.0   34.5  \n",
       "12      49.8  15.8   27.0   32.0  \n",
       "13      53.7  15.1   28.0   31.5  \n",
       "14      51.8  15.7   28.0   35.0  "
      ]
     },
     "execution_count": 265,
     "metadata": {},
     "output_type": "execute_result"
    }
   ],
   "source": [
    "# filtering the data by sex\n",
    "male = possums[possums[\"sex\"] == \"m\"]\n",
    "male.head()"
   ]
  },
  {
   "cell_type": "code",
   "execution_count": 266,
   "id": "24cad493",
   "metadata": {},
   "outputs": [
    {
     "name": "stdout",
     "output_type": "stream",
     "text": [
      "The total number of male possum is: 59\n",
      "The average age of all the male possums is: 3.7288135593220337\n"
     ]
    }
   ],
   "source": [
    "# calculating the mean of all the male possum filtering by age\n",
    "\n",
    "# getting the total number of female possums \n",
    "no_of_males= male.value_counts().sum()\n",
    "\n",
    "# calculating the mean of the ages of the female possum\n",
    "male_possum  = male[\"age\"]\n",
    "male_possum_mean = np.mean(male_possum)\n",
    "\n",
    "print(f\"The total number of male possum is: {no_of_males}\")\n",
    "print(f\"The average age of all the male possums is: {male_possum_mean}\")\n"
   ]
  },
  {
   "cell_type": "code",
   "execution_count": 267,
   "id": "7403434e",
   "metadata": {},
   "outputs": [
    {
     "name": "stdout",
     "output_type": "stream",
     "text": [
      "The median of all male possums is:  3.0\n"
     ]
    }
   ],
   "source": [
    "# calculating the median of the ages of the male possum\n",
    "male_possum_median  = male[\"age\"]\n",
    "print('The median of all male possums is: ',np.median(male_possum_median))"
   ]
  },
  {
   "cell_type": "code",
   "execution_count": 268,
   "id": "059d3fb2",
   "metadata": {},
   "outputs": [
    {
     "name": "stdout",
     "output_type": "stream",
     "text": [
      "The most frequent age of the male possums is:  0    3.0\n",
      "Name: age, dtype: float64\n"
     ]
    }
   ],
   "source": [
    "# calculating the mode of all the male possum, filtering by age\n",
    "male_possum_mode = male_possum.mode()\n",
    "print('The most frequent age of the male possums is: ', male_possum_mode)\n"
   ]
  },
  {
   "cell_type": "markdown",
   "id": "22da15f2",
   "metadata": {},
   "source": [
    "### `Data Visualization for the sexes by age of the possums`"
   ]
  },
  {
   "cell_type": "code",
   "execution_count": 269,
   "id": "cc1d8c83",
   "metadata": {},
   "outputs": [
    {
     "data": {
      "text/plain": [
       "sex  age\n",
       "m    8.0     1\n",
       "     6.0     5\n",
       "     7.0     6\n",
       "     1.0     7\n",
       "     5.0     7\n",
       "     4.0     8\n",
       "     2.0     9\n",
       "     3.0    16\n",
       "Name: count, dtype: int64"
      ]
     },
     "execution_count": 269,
     "metadata": {},
     "output_type": "execute_result"
    }
   ],
   "source": [
    "# grouping male possums by sex and age\n",
    "total_male = male.groupby(\"sex\")[\"age\"].value_counts(ascending= True)\n",
    "total_male"
   ]
  },
  {
   "cell_type": "code",
   "execution_count": 299,
   "id": "64f2c8db",
   "metadata": {},
   "outputs": [
    {
     "data": {
      "text/plain": [
       "<Axes: title={'center': 'Male Possums by Age'}, xlabel='sex,age', ylabel='frequency'>"
      ]
     },
     "execution_count": 299,
     "metadata": {},
     "output_type": "execute_result"
    },
    {
     "data": {
      "image/png": "[encoded data removed]",
      "text/plain": [
       "<Figure size 640x480 with 1 Axes>"
      ]
     },
     "metadata": {},
     "output_type": "display_data"
    }
   ],
   "source": [
    "# plotting the mchart for total male\n",
    "total_male.plot(kind='bar', ylabel=\"frequency\", title=\"Male Possums by Age\", color= \"blue\")"
   ]
  },
  {
   "cell_type": "code",
   "execution_count": 271,
   "id": "d55e8f9e",
   "metadata": {},
   "outputs": [
    {
     "data": {
      "text/plain": [
       "sex  age\n",
       "f    7.0     1\n",
       "     9.0     2\n",
       "     1.0     3\n",
       "     5.0     5\n",
       "     4.0     6\n",
       "     2.0     7\n",
       "     6.0     7\n",
       "     3.0    11\n",
       "Name: count, dtype: int64"
      ]
     },
     "execution_count": 271,
     "metadata": {},
     "output_type": "execute_result"
    }
   ],
   "source": [
    "# grouping male possums by sex and age\n",
    "total_female = female.groupby(\"sex\")[\"age\"].value_counts(ascending= True)\n",
    "total_female"
   ]
  },
  {
   "cell_type": "code",
   "execution_count": 272,
   "id": "7aab9895",
   "metadata": {},
   "outputs": [
    {
     "data": {
      "text/plain": [
       "<Axes: title={'center': 'Female Possums by Age'}, xlabel='sex,age', ylabel='frequency'>"
      ]
     },
     "execution_count": 272,
     "metadata": {},
     "output_type": "execute_result"
    },
    {
     "data": {
      "image/png": "[encoded data removed]",
      "text/plain": [
       "<Figure size 640x480 with 1 Axes>"
      ]
     },
     "metadata": {},
     "output_type": "display_data"
    }
   ],
   "source": [
    "# plotting the chart of the female possums\n",
    "total_female.plot(kind='bar', ylabel=\"frequency\", title=\"Female Possums by Age\", color= \"pink\")"
   ]
  },
  {
   "cell_type": "markdown",
   "id": "04e60a6a",
   "metadata": {},
   "source": [
    " **Interpretation of Findings Using the Sex VS Age of the Possums**\n",
    " - There are 11 female possums and 16 male possums aged 3 which infers that the most of the possums are aged 3.\n",
    " - The possums with empty age data was dropped.\n",
    " - The oldest male possums are aged 8 and the oldest female possum are aged 9\n",
    " \n",
    "\n",
    "\n"
   ]
  },
  {
   "cell_type": "code",
   "execution_count": 273,
   "id": "e37d26db",
   "metadata": {},
   "outputs": [
    {
     "data": {
      "image/png": "[encoded data removed]",
      "text/plain": [
       "<Figure size 640x480 with 1 Axes>"
      ]
     },
     "metadata": {},
     "output_type": "display_data"
    }
   ],
   "source": [
    "# plotting the chart of total number of fmale possums against female possums\n",
    "total_sex = possums.groupby(\"sex\")[\"sex\"].value_counts(ascending= True)\n",
    "labels = [\"Female\", \"Male\"]\n",
    "plt.pie(total_sex, labels = labels, autopct= \"%1.1f%%\")\n",
    "plt.legend(title=\"Gender\", loc = \"lower right\", fontsize = 7)\n",
    "plt.title(\"Male Vs Female Possums\")\n",
    "plt.show()"
   ]
  },
  {
   "cell_type": "markdown",
   "id": "99a33c3f",
   "metadata": {},
   "source": [
    "**Insights Using Gender**\n",
    "- There are `42` Female Possums which makes `41.6%` of the total population of possums \n",
    "- There are `59` Male Possums which makes `58.4%` of the total population of possums"
   ]
  },
  {
   "cell_type": "markdown",
   "id": "70913832",
   "metadata": {},
   "source": [
    "### `Data Visualization of the Possums by their Trapped site  and gender` "
   ]
  },
  {
   "cell_type": "code",
   "execution_count": 274,
   "id": "ab960c81",
   "metadata": {},
   "outputs": [
    {
     "data": {
      "text/plain": [
       "sex  site\n",
       "m    3        4\n",
       "     4        5\n",
       "     2        6\n",
       "     5        7\n",
       "     6        9\n",
       "     1       14\n",
       "     7       14\n",
       "Name: count, dtype: int64"
      ]
     },
     "execution_count": 274,
     "metadata": {},
     "output_type": "execute_result"
    }
   ],
   "source": [
    "# grouping the male possums by their trapped site location\n",
    "total_trapped_male = male.groupby(\"sex\")[\"site\"].value_counts(ascending=True)\n",
    "total_trapped_male"
   ]
  },
  {
   "cell_type": "code",
   "execution_count": null,
   "id": "8350d15d",
   "metadata": {},
   "outputs": [
    {
     "data": {
      "image/png": "[encoded data removed]",
      "text/plain": [
       "<Figure size 640x480 with 1 Axes>"
      ]
     },
     "metadata": {},
     "output_type": "display_data"
    }
   ],
   "source": [
    "# data visualization of the male possums by their trapped site location\n",
    "labels = total_trapped_male\n",
    "plt.pie(total_trapped_male, labels = labels, autopct= \"%1.1f%%\")\n",
    "plt.legend(title=\"Site vs Male Possums\", loc = \"lower left\", fontsize = 4)\n",
    "plt.title(\"Trapped Male Possums by Site\")\n",
    "plt.show()"
   ]
  },
  {
   "cell_type": "code",
   "execution_count": 276,
   "id": "0235160b",
   "metadata": {},
   "outputs": [
    {
     "data": {
      "text/plain": [
       "sex  site\n",
       "f    4        2\n",
       "     3        3\n",
       "     2        4\n",
       "     6        4\n",
       "     7        4\n",
       "     5        6\n",
       "     1       19\n",
       "Name: count, dtype: int64"
      ]
     },
     "execution_count": 276,
     "metadata": {},
     "output_type": "execute_result"
    }
   ],
   "source": [
    "# grouping the female possums by their trapped site location\n",
    "total_trapped_female = female.groupby(\"sex\")[\"site\"].value_counts(ascending=True)\n",
    "total_trapped_female"
   ]
  },
  {
   "cell_type": "code",
   "execution_count": 277,
   "id": "06a1218c",
   "metadata": {},
   "outputs": [
    {
     "data": {
      "image/png": "[encoded data removed]",
      "text/plain": [
       "<Figure size 640x480 with 1 Axes>"
      ]
     },
     "metadata": {},
     "output_type": "display_data"
    }
   ],
   "source": [
    "# data visualization of the female possums by their trapped site location\n",
    "labels = total_trapped_female\n",
    "plt.pie(total_trapped_female, labels = labels, autopct= \"%1.1f%%\")\n",
    "plt.legend(title=\"Sites Vs Possums\", loc = \"lower left\", fontsize = 5)\n",
    "plt.title(\"Trapped Female Possums by Site\")\n",
    "plt.show()"
   ]
  },
  {
   "cell_type": "markdown",
   "id": "44a3c144",
   "metadata": {},
   "source": [
    "**Insights Using Gender Vs Trapped Locations**\n",
    "- 45.2% of the female possums were trapped from site 1\n",
    "- 23.7% of the male possums were trapped from site 1 \n",
    "- 23.7% of the male possums were trapped from site 7"
   ]
  },
  {
   "cell_type": "markdown",
   "id": "a484d23c",
   "metadata": {},
   "source": [
    "**Calculating the measures of Center using the features of the possum by columns**"
   ]
  },
  {
   "cell_type": "code",
   "execution_count": null,
   "id": "77d04e21",
   "metadata": {},
   "outputs": [
    {
     "name": "stdout",
     "output_type": "stream",
     "text": [
      " The average headlength of the female possums is: 92.23809523809524\n",
      " The average Skull width of the female possums is: 56.57857142857142\n",
      " The average total length of the female possums is: 88.02380952380952\n",
      " The average tail length of the female possums is: 37.11904761904762\n",
      " The average foot length of the female possums is: 69.11190476190475\n",
      " The average foot length of the female possums is: 14.785714285714286\n",
      " The average length of the female possums chest is: 27.345238095238095\n",
      " The average length of the female possums belly is: 32.94047619047619\n",
      " TThe y length of the female possums earconch is: 48.773809523809526\n"
     ]
    }
   ],
   "source": [
    "# calculating the mean of each features of a female possum\n",
    "female_features_mean = female.mean(axis=0, numeric_only= True) \n",
    "\n",
    "print(f\" The average headlength of the female possums is: {female_features_mean[\"hdlngth\"]}\")\n",
    "print(f\" The average Skull width of the female possums is: {female_features_mean[\"skullw\"]}\")\n",
    "print(f\" The average total length of the female possums is: {female_features_mean[\"totlngth\"]}\")\n",
    "print(f\" The average tail length of the female possums is: {female_features_mean[\"taill\"]}\")\n",
    "print(f\" The average foot length of the female possums is: {female_features_mean[\"footlgth\"]}\")\n",
    "print(f\" The average foot length of the female possums is: {female_features_mean[\"eye\"]}\")\n",
    "print(f\" The average length of the female possums chest is: {female_features_mean[\"chest\"]}\")\n",
    "print(f\" The average length of the female possums belly is: {female_features_mean[\"belly\"]}\")\n",
    "print(f\" TThe y length of the female possums earconch is: {female_features_mean[\"earconch\"]}\")\n",
    "\n"
   ]
  },
  {
   "cell_type": "code",
   "execution_count": null,
   "id": "0ecdb69b",
   "metadata": {},
   "outputs": [
    {
     "name": "stdout",
     "output_type": "stream",
     "text": [
      " The average headlength of the male possums is: 93.0813559322034\n",
      " The average Skull width of the male possums is: 57.2322033898305\n",
      " The average total length of the male possums is: 86.7322033898305\n",
      " The average tail length of the male possums is: 37.0\n",
      " The average foot length of the male possums is: 67.88983050847457\n",
      " The average foot length of the male possums is: 15.238983050847455\n",
      " The average length of the male possums chest is: 26.864406779661017\n",
      " The average length of the male possums belly is: 32.42372881355932\n",
      " TThe y length of the male possums earconch is: 47.67796610169491\n"
     ]
    }
   ],
   "source": [
    "# calculating the mean of each features of a male possum\n",
    "male_features_mean = male.mean(axis=0, numeric_only= True) \n",
    "\n",
    "print(f\" The average headlength of the male possums is: {male_features_mean[\"hdlngth\"]}\")\n",
    "print(f\" The average Skull width of the male possums is: {male_features_mean[\"skullw\"]}\")\n",
    "print(f\" The average total length of the male possums is: {male_features_mean[\"totlngth\"]}\")\n",
    "print(f\" The average tail length of the male possums is: {male_features_mean[\"taill\"]}\")\n",
    "print(f\" The average foot length of the male possums is: {male_features_mean[\"footlgth\"]}\")\n",
    "print(f\" The average foot length of the male possums is: {male_features_mean[\"eye\"]}\")\n",
    "print(f\" The average length of the male possums chest is: {male_features_mean[\"chest\"]}\")\n",
    "print(f\" The average length of the male possums belly is: {male_features_mean[\"belly\"]}\")\n",
    "print(f\" TThe y length of the male possums earconch is: {male_features_mean[\"earconch\"]}\")\n",
    "\n"
   ]
  },
  {
   "cell_type": "code",
   "execution_count": 280,
   "id": "4cf521c3",
   "metadata": {},
   "outputs": [
    {
     "name": "stdout",
     "output_type": "stream",
     "text": [
      " The headlength mode of the male possums is: 89.5\n",
      " The Skull width mode of the male possums is: 56.0\n",
      " The total length mode of the male possums is: 85.0\n",
      " The tail length mode of the male possums is: 38.0\n",
      " The foot length mode of the male possums is: 65.6\n",
      " The foot length mode of the male possums is: 15.0\n",
      " The modal length of the male possums chest is: 27.0\n",
      " The modal length of the male possums belly is: 32.0\n",
      " TThe modal length of the male possums earconch is: 44.9\n"
     ]
    }
   ],
   "source": [
    "# calculating the mode of each features of a male possum\n",
    "male_features_mode = male.mode().iloc[0] \n",
    "# print(f\"This is the mode of each female features\\n{female_features_mode}\")\n",
    "\n",
    "print(f\" The headlength mode of the male possums is: {male_features_mode[\"hdlngth\"]}\")\n",
    "print(f\" The Skull width mode of the male possums is: {male_features_mode[\"skullw\"]}\")\n",
    "print(f\" The total length mode of the male possums is: {male_features_mode[\"totlngth\"]}\")\n",
    "print(f\" The tail length mode of the male possums is: {male_features_mode[\"taill\"]}\")\n",
    "print(f\" The foot length mode of the male possums is: {male_features_mode[\"footlgth\"]}\")\n",
    "print(f\" The foot length mode of the male possums is: {male_features_mode[\"eye\"]}\")\n",
    "print(f\" The modal length of the male possums chest is: {male_features_mode[\"chest\"]}\")\n",
    "print(f\" The modal length of the male possums belly is: {male_features_mode[\"belly\"]}\")\n",
    "print(f\" TThe modal length of the male possums earconch is: {male_features_mode[\"earconch\"]}\")\n",
    "\n"
   ]
  },
  {
   "cell_type": "code",
   "execution_count": 281,
   "id": "6ba487c8",
   "metadata": {},
   "outputs": [
    {
     "name": "stdout",
     "output_type": "stream",
     "text": [
      " The headlength mode of the female possums is: 90.0\n",
      " The Skull width mode of the female possums is: 56.3\n",
      " The total length mode of the female possums is: 89.0\n",
      " The tail length mode of the female possums is: 38.0\n",
      " The foot length mode of the female possums is: 72.8\n",
      " The foot length mode of the female possums is: 14.0\n",
      " The modal length of the female possums chest is: 28.0\n",
      " The modal length of the female possums belly is: 34.0\n",
      " TThe modal length of the female possums earconch is: 46.0\n"
     ]
    }
   ],
   "source": [
    "# calculating the mode of each features of a female possum\n",
    "female_features_mode = female.mode().iloc[0] \n",
    "# print(f\"This is the mode of each female features\\n{female_features_mode}\")\n",
    "\n",
    "print(f\" The headlength mode of the female possums is: {female_features_mode[\"hdlngth\"]}\")\n",
    "print(f\" The Skull width mode of the female possums is: {female_features_mode[\"skullw\"]}\")\n",
    "print(f\" The total length mode of the female possums is: {female_features_mode[\"totlngth\"]}\")\n",
    "print(f\" The tail length mode of the female possums is: {female_features_mode[\"taill\"]}\")\n",
    "print(f\" The foot length mode of the female possums is: {female_features_mode[\"footlgth\"]}\")\n",
    "print(f\" The foot length mode of the female possums is: {female_features_mode[\"eye\"]}\")\n",
    "print(f\" The modal length of the female possums chest is: {female_features_mode[\"chest\"]}\")\n",
    "print(f\" The modal length of the female possums belly is: {female_features_mode[\"belly\"]}\")\n",
    "print(f\" TThe modal length of the female possums earconch is: {female_features_mode[\"earconch\"]}\")\n",
    "\n"
   ]
  },
  {
   "cell_type": "code",
   "execution_count": 282,
   "id": "88e84142",
   "metadata": {},
   "outputs": [
    {
     "name": "stdout",
     "output_type": "stream",
     "text": [
      " The headlength median of the female possums is: 92.5\n",
      " The Skull width median of the female possums is: 56.349999999999994\n",
      " The total length median of the female possums is: 88.75\n",
      " The tail length median of the female possums is: 37.75\n",
      " The foot length median of the female possums is: 70.44999999999999\n",
      " The foot length median of the female possums is: 14.75\n",
      " The median length of the female possums chest is: 28.0\n",
      " The median length of the female possums belly is: 33.0\n",
      " TThe median length of the female possums earconch is: 50.8\n"
     ]
    }
   ],
   "source": [
    "# calculating the mode of each features of a female possum\n",
    "female_features_median = female.median(numeric_only= True)\n",
    "# print(f\"This is the mode of each female features\\n{female_features_mode}\")\n",
    "\n",
    "print(f\" The headlength median of the female possums is: {female_features_median[\"hdlngth\"]}\")\n",
    "print(f\" The Skull width median of the female possums is: {female_features_median[\"skullw\"]}\")\n",
    "print(f\" The total length median of the female possums is: {female_features_median[\"totlngth\"]}\")\n",
    "print(f\" The tail length median of the female possums is: {female_features_median[\"taill\"]}\")\n",
    "print(f\" The foot length median of the female possums is: {female_features_median[\"footlgth\"]}\")\n",
    "print(f\" The foot length median of the female possums is: {female_features_median[\"eye\"]}\")\n",
    "print(f\" The median length of the female possums chest is: {female_features_median[\"chest\"]}\")\n",
    "print(f\" The median length of the female possums belly is: {female_features_median[\"belly\"]}\")\n",
    "print(f\" TThe median length of the female possums earconch is: {female_features_median[\"earconch\"]}\")\n",
    "\n"
   ]
  },
  {
   "cell_type": "code",
   "execution_count": null,
   "id": "ec04d2ac",
   "metadata": {},
   "outputs": [
    {
     "name": "stdout",
     "output_type": "stream",
     "text": [
      " The headlength median of the male possums is: 92.5\n",
      " The Skull width median of the male possums is: 56.349999999999994\n",
      " The total length median of the male possums is: 88.75\n",
      " The tail length median of the male possums is: 37.75\n",
      " The foot length median of the male possums is: 70.44999999999999\n",
      " The foot length median of the male possums is: 14.75\n",
      " The median length of the male possums chest is: 28.0\n",
      " The median length of the male possums belly is: 33.0\n",
      " TThe median length of the male possums earconch is: 50.8\n"
     ]
    }
   ],
   "source": [
    "# calculating the mode of each features of a male possum\n",
    "male_features_median = female.median(numeric_only= True)\n",
    "# print(f\"This is the mode of each female features\\n{female_features_mode}\")\n",
    "\n",
    "print(f\" The headlength median of the male possums is: {male_features_median[\"hdlngth\"]}\")\n",
    "print(f\" The Skull width median of the male possums is: {male_features_median[\"skullw\"]}\")\n",
    "print(f\" The total length median of the male possums is: {male_features_median[\"totlngth\"]}\")\n",
    "print(f\" The tail length median of the male possums is: {male_features_median[\"taill\"]}\")\n",
    "print(f\" The foot length median of the male possums is: {male_features_median[\"footlgth\"]}\")\n",
    "print(f\" The foot length median of the male possums is: {male_features_median[\"eye\"]}\")\n",
    "print(f\" The median length of the male possums chest is: {male_features_median[\"chest\"]}\")\n",
    "print(f\" The median length of the male possums belly is: {male_features_median[\"belly\"]}\")\n",
    "print(f\" TThe median length of the male possums earconch is: {male_features_median[\"earconch\"]}\")\n",
    "\n"
   ]
  },
  {
   "cell_type": "code",
   "execution_count": 284,
   "id": "40d47285",
   "metadata": {},
   "outputs": [
    {
     "name": "stdout",
     "output_type": "stream",
     "text": [
      "case        52.762376\n",
      "site         3.673267\n",
      "age          3.821782\n",
      "hdlngth     92.730693\n",
      "skullw      56.960396\n",
      "totlngth    87.269307\n",
      "taill       37.049505\n",
      "footlgth    68.398020\n",
      "earconch    48.133663\n",
      "eye         15.050495\n",
      "chest       27.064356\n",
      "belly       32.638614\n",
      "dtype: float64\n"
     ]
    }
   ],
   "source": [
    "# calculating the mean of each features of a possum\n",
    "features_mean = possums.mean(axis=0, numeric_only= True) \n",
    "print(features_mean)"
   ]
  },
  {
   "cell_type": "code",
   "execution_count": 285,
   "id": "420440c3",
   "metadata": {},
   "outputs": [
    {
     "name": "stdout",
     "output_type": "stream",
     "text": [
      "case        54.0\n",
      "site         4.0\n",
      "age          3.0\n",
      "hdlngth     92.9\n",
      "skullw      56.4\n",
      "totlngth    88.0\n",
      "taill       37.0\n",
      "footlgth    67.9\n",
      "earconch    46.8\n",
      "eye         14.9\n",
      "chest       27.0\n",
      "belly       32.5\n",
      "dtype: float64\n"
     ]
    }
   ],
   "source": [
    "# calculating the median of each features of a possum\n",
    "features_median = possums.median(axis=0, numeric_only= True) \n",
    "print(features_median)"
   ]
  },
  {
   "cell_type": "code",
   "execution_count": 286,
   "id": "9fee950e",
   "metadata": {},
   "outputs": [
    {
     "name": "stdout",
     "output_type": "stream",
     "text": [
      "case            1\n",
      "site          1.0\n",
      "Pop         other\n",
      "sex             m\n",
      "age           3.0\n",
      "hdlngth      93.3\n",
      "skullw       57.6\n",
      "totlngth     89.0\n",
      "taill        38.0\n",
      "footlgth     73.2\n",
      "earconch     44.9\n",
      "eye          14.5\n",
      "chest        28.0\n",
      "belly        32.0\n",
      "Name: 0, dtype: object\n"
     ]
    }
   ],
   "source": [
    "# calculating the mode of each features of a possum\n",
    "features_mode = possums.mode().iloc[0] \n",
    "print(features_mode)"
   ]
  },
  {
   "cell_type": "code",
   "execution_count": 298,
   "id": "efbe7d1a",
   "metadata": {},
   "outputs": [
    {
     "data": {
      "text/plain": [
       "Text(0, 0.5, 'Frequency')"
      ]
     },
     "execution_count": 298,
     "metadata": {},
     "output_type": "execute_result"
    },
    {
     "data": {
      "image/png": "[encoded data removed]",
      "text/plain": [
       "<Figure size 1000x600 with 1 Axes>"
      ]
     },
     "metadata": {},
     "output_type": "display_data"
    }
   ],
   "source": [
    "# Plot histogram with KDE\n",
    "plt.figure(figsize=(10,6))\n",
    "sns.histplot(possums, bins=30, kde=True, color=\"purple\")\n",
    "# Add vertical lines\n",
    "plt.axvline(features_mean['totlngth'], color='green', linestyle='--', linewidth=2, label=f'Mean = {features_mean}')\n",
    "plt.axvline(features_median['totlngth'], color='grey', linestyle='-', linewidth=2, label=f'Median = {features_median}')\n",
    "plt.axvline(features_mode['totlngth'], color='red', linestyle=':', linewidth=2, label=f'Mode = {features_mode}')\n",
    "# Add title and skewness\n",
    "plt.title(f\"Total length of the Possums\", fontsize=14)\n",
    "plt.xlabel(\"Length\")\n",
    "plt.ylabel(\"Frequency\")"
   ]
  },
  {
   "cell_type": "markdown",
   "id": "fd56c3e0",
   "metadata": {},
   "source": [
    "### **Measure of Spread**"
   ]
  },
  {
   "cell_type": "code",
   "execution_count": 289,
   "id": "d1f4e1ee",
   "metadata": {},
   "outputs": [
    {
     "data": {
      "text/plain": [
       "np.float64(9.0)"
      ]
     },
     "execution_count": 289,
     "metadata": {},
     "output_type": "execute_result"
    }
   ],
   "source": [
    "# calculating the minimum age for all the possums irrespective of gender\n",
    "min_age = possums[\"age\"].min()\n",
    "min_age\n",
    "\n",
    "# calculating the maximum age for all the possums irrespective of gender\n",
    "max_age = possums[\"age\"].max()\n",
    "max_age\n",
    "\n"
   ]
  },
  {
   "cell_type": "code",
   "execution_count": 290,
   "id": "7ea6df0a",
   "metadata": {},
   "outputs": [
    {
     "data": {
      "text/plain": [
       "np.float64(9.0)"
      ]
     },
     "execution_count": 290,
     "metadata": {},
     "output_type": "execute_result"
    }
   ],
   "source": [
    "# calculating the minimum age for all the female possums\n",
    "female_min_age = female[\"age\"].min()\n",
    "female_min_age\n",
    "\n",
    "\n",
    "# calculating the maximum age for all the female possums\n",
    "female_max_age = female[\"age\"].max()\n",
    "female_max_age\n",
    "\n"
   ]
  },
  {
   "cell_type": "code",
   "execution_count": 291,
   "id": "fca6db0e",
   "metadata": {},
   "outputs": [
    {
     "data": {
      "text/plain": [
       "np.float64(8.0)"
      ]
     },
     "execution_count": 291,
     "metadata": {},
     "output_type": "execute_result"
    }
   ],
   "source": [
    "# calculating the minimum age for all the male possums\n",
    "male_min_age = male[\"age\"].min()\n",
    "male_min_age\n",
    "\n",
    "# calculating the maximum age for all the male possums\n",
    "male_max_age = male[\"age\"].max()\n",
    "male_max_age"
   ]
  },
  {
   "cell_type": "code",
   "execution_count": 292,
   "id": "18a02cf5",
   "metadata": {},
   "outputs": [
    {
     "name": "stdout",
     "output_type": "stream",
     "text": [
      "The age range for all the possums irrespective of gender is  8.0\n"
     ]
    }
   ],
   "source": [
    "# calculating the age range for all female possums \n",
    "age_range = max_age - min_age\n",
    "age_range\n",
    "print(\"The age range for all the possums irrespective of gender is \", age_range)"
   ]
  },
  {
   "cell_type": "code",
   "execution_count": 293,
   "id": "de21e993",
   "metadata": {},
   "outputs": [
    {
     "name": "stdout",
     "output_type": "stream",
     "text": [
      "The age range for all the female possums is:  8.0\n"
     ]
    }
   ],
   "source": [
    "# calculating the age range for all female possums \n",
    "female_age_range = female_max_age - female_min_age\n",
    "female_age_range\n",
    "print(\"The age range for all the female possums is: \", female_age_range)"
   ]
  },
  {
   "cell_type": "code",
   "execution_count": 294,
   "id": "581db3d2",
   "metadata": {},
   "outputs": [
    {
     "name": "stdout",
     "output_type": "stream",
     "text": [
      "The age range for all the male possums is:  7.0\n"
     ]
    }
   ],
   "source": [
    "# calculating the age range for all female possums \n",
    "male_age_range = male_max_age - male_min_age\n",
    "male_age_range\n",
    "print(\"The age range for all the male possums is: \", male_age_range)"
   ]
  },
  {
   "cell_type": "markdown",
   "id": "44c76109",
   "metadata": {},
   "source": [
    "**Insights Using the Range of the possum ages**\n",
    "- "
   ]
  }
 ],
 "metadata": {
  "kernelspec": {
   "display_name": "my_venv (3.13.5)",
   "language": "python",
   "name": "python3"
  },
  "language_info": {
   "codemirror_mode": {
    "name": "ipython",
    "version": 3
   },
   "file_extension": ".py",
   "mimetype": "text/x-python",
   "name": "python",
   "nbconvert_exporter": "python",
   "pygments_lexer": "ipython3",
   "version": "3.13.5"
  }
 },
 "nbformat": 4,
 "nbformat_minor": 5
}
